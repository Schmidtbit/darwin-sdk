{
 "cells": [
  {
   "cell_type": "markdown",
   "metadata": {},
   "source": [
    "<img src=\"https://cybersecurity-excellence-awards.com/wp-content/uploads/2017/06/366812.png\">"
   ]
  },
  {
   "cell_type": "markdown",
   "metadata": {},
   "source": [
    "<h1><center>Darwin Supervised Classification Model Building </center></h1>"
   ]
  },
  {
   "cell_type": "markdown",
   "metadata": {},
   "source": [
    "# Prior to getting started:"
   ]
  },
  {
   "cell_type": "markdown",
   "metadata": {},
   "source": [
    "Darwin notebook will no longer support 'Register User' starting from 2.0. As a user, you must have credentials ready before using this notebook. \n",
    "\n",
    "In order to proceed, in the Environment Variables cell: \n",
    "1. Set your username and password to ensure that you're able to log in successfully\n",
    "2. Set the path to the location of your datasets if you are using your own data.  The path is set for the examples.\n",
    "3. Set the dataset names accordingly\n",
    "\n",
    "Here are a few things to be mindful of:\n",
    "1. For every run, check the job status (i.e. requested, failed, running, completed) and wait for job to complete before proceeding. \n",
    "2. If you're not satisfied with your model and think that Darwin can benefit from extra training, use the resume function."
   ]
  },
  {
   "cell_type": "markdown",
   "metadata": {},
   "source": [
    "##  Import necessary libraries"
   ]
  },
  {
   "cell_type": "code",
   "execution_count": 45,
   "metadata": {},
   "outputs": [],
   "source": [
    "%matplotlib inline\n",
    "import matplotlib.pyplot as plt\n",
    "import pandas as pd\n",
    "import os\n",
    "import numpy as np\n",
    "import datetime\n",
    "from IPython.display import Image\n",
    "from time import sleep\n",
    "from sklearn.metrics import classification_report\n",
    "from amb_sdk.sdk import DarwinSdk"
   ]
  },
  {
   "cell_type": "markdown",
   "metadata": {},
   "source": [
    "## Set Darwin SDK"
   ]
  },
  {
   "cell_type": "code",
   "execution_count": 46,
   "metadata": {},
   "outputs": [
    {
     "data": {
      "text/plain": [
       "(True, 'https://amb-api.sparkcognition.com/v1/')"
      ]
     },
     "execution_count": 46,
     "metadata": {},
     "output_type": "execute_result"
    }
   ],
   "source": [
    "ds = DarwinSdk()\n",
    "ds.set_url('https://darwin-api.sparkcognition.com/v1/')"
   ]
  },
  {
   "cell_type": "markdown",
   "metadata": {},
   "source": [
    "## Environment Variables"
   ]
  },
  {
   "cell_type": "code",
   "execution_count": 47,
   "metadata": {},
   "outputs": [],
   "source": [
    "#Set your user id and password accordingly\n",
    "USER=\"[your Darwin user id]\"\n",
    "PW=\"[your Darwin password]\"\n",
    "\n",
    "# Set path to datasets - The default below assumes Jupyter was started from amb-sdk/examples/Enterprise/\n",
    "# Modify accordingly if you wish to use your own data\n",
    "PATH_TO_DATASET='../../sets/'\n",
    "TRAIN_DATASET='cancer_train.csv'\n",
    "TEST_DATASET='cancer_test.csv'\n",
    "\n",
    "# A timestamp is used to create a unique name in the event you execute the workflow multiple times or with \n",
    "# different datasets.  File names must be unique in Darwin.\n",
    "ts = '{:%Y%m%d%H%M%S}'.format(datetime.datetime.now())"
   ]
  },
  {
   "cell_type": "markdown",
   "metadata": {},
   "source": [
    "# User Login "
   ]
  },
  {
   "cell_type": "code",
   "execution_count": 49,
   "metadata": {},
   "outputs": [
    {
     "name": "stdout",
     "output_type": "stream",
     "text": [
      "Login Successfully!\n"
     ]
    }
   ],
   "source": [
    "status, msg = ds.auth_login_user(USER, PW)\n",
    "if not status:\n",
    "    print(msg)\n",
    "else:\n",
    "    print(\"Login Successfully!\")"
   ]
  },
  {
   "cell_type": "markdown",
   "metadata": {},
   "source": [
    "# Data Upload and Clean"
   ]
  },
  {
   "cell_type": "markdown",
   "metadata": {},
   "source": [
    "**Read dataset and view a file snippet**"
   ]
  },
  {
   "cell_type": "code",
   "execution_count": 50,
   "metadata": {},
   "outputs": [
    {
     "data": {
      "text/html": [
       "<div>\n",
       "<style scoped>\n",
       "    .dataframe tbody tr th:only-of-type {\n",
       "        vertical-align: middle;\n",
       "    }\n",
       "\n",
       "    .dataframe tbody tr th {\n",
       "        vertical-align: top;\n",
       "    }\n",
       "\n",
       "    .dataframe thead th {\n",
       "        text-align: right;\n",
       "    }\n",
       "</style>\n",
       "<table border=\"1\" class=\"dataframe\">\n",
       "  <thead>\n",
       "    <tr style=\"text-align: right;\">\n",
       "      <th></th>\n",
       "      <th>Code</th>\n",
       "      <th>Clump Thickness</th>\n",
       "      <th>Uniformity of Cell Size</th>\n",
       "      <th>Uniformity of Cell Shape</th>\n",
       "      <th>Marginal Adhesion</th>\n",
       "      <th>Single Epithelial Cell Size</th>\n",
       "      <th>Bare Nuclei</th>\n",
       "      <th>Bland Chromatin</th>\n",
       "      <th>Normal Nucleoli</th>\n",
       "      <th>Mitoses</th>\n",
       "      <th>Diagnosis</th>\n",
       "    </tr>\n",
       "  </thead>\n",
       "  <tbody>\n",
       "    <tr>\n",
       "      <th>0</th>\n",
       "      <td>1000025</td>\n",
       "      <td>5</td>\n",
       "      <td>1</td>\n",
       "      <td>1</td>\n",
       "      <td>1</td>\n",
       "      <td>2</td>\n",
       "      <td>1</td>\n",
       "      <td>3</td>\n",
       "      <td>1</td>\n",
       "      <td>1</td>\n",
       "      <td>BENIGN</td>\n",
       "    </tr>\n",
       "    <tr>\n",
       "      <th>1</th>\n",
       "      <td>1002945</td>\n",
       "      <td>5</td>\n",
       "      <td>4</td>\n",
       "      <td>4</td>\n",
       "      <td>5</td>\n",
       "      <td>7</td>\n",
       "      <td>10</td>\n",
       "      <td>3</td>\n",
       "      <td>2</td>\n",
       "      <td>1</td>\n",
       "      <td>BENIGN</td>\n",
       "    </tr>\n",
       "    <tr>\n",
       "      <th>2</th>\n",
       "      <td>1015425</td>\n",
       "      <td>3</td>\n",
       "      <td>1</td>\n",
       "      <td>1</td>\n",
       "      <td>1</td>\n",
       "      <td>2</td>\n",
       "      <td>2</td>\n",
       "      <td>3</td>\n",
       "      <td>1</td>\n",
       "      <td>1</td>\n",
       "      <td>BENIGN</td>\n",
       "    </tr>\n",
       "    <tr>\n",
       "      <th>3</th>\n",
       "      <td>1016277</td>\n",
       "      <td>6</td>\n",
       "      <td>8</td>\n",
       "      <td>8</td>\n",
       "      <td>1</td>\n",
       "      <td>3</td>\n",
       "      <td>4</td>\n",
       "      <td>3</td>\n",
       "      <td>7</td>\n",
       "      <td>1</td>\n",
       "      <td>BENIGN</td>\n",
       "    </tr>\n",
       "    <tr>\n",
       "      <th>4</th>\n",
       "      <td>1017023</td>\n",
       "      <td>4</td>\n",
       "      <td>1</td>\n",
       "      <td>1</td>\n",
       "      <td>3</td>\n",
       "      <td>2</td>\n",
       "      <td>1</td>\n",
       "      <td>3</td>\n",
       "      <td>1</td>\n",
       "      <td>1</td>\n",
       "      <td>BENIGN</td>\n",
       "    </tr>\n",
       "  </tbody>\n",
       "</table>\n",
       "</div>"
      ],
      "text/plain": [
       "      Code   Clump Thickness   Uniformity of Cell Size  \\\n",
       "0  1000025                 5                         1   \n",
       "1  1002945                 5                         4   \n",
       "2  1015425                 3                         1   \n",
       "3  1016277                 6                         8   \n",
       "4  1017023                 4                         1   \n",
       "\n",
       "    Uniformity of Cell Shape   Marginal Adhesion  \\\n",
       "0                          1                   1   \n",
       "1                          4                   5   \n",
       "2                          1                   1   \n",
       "3                          8                   1   \n",
       "4                          1                   3   \n",
       "\n",
       "    Single Epithelial Cell Size   Bare Nuclei   Bland Chromatin  \\\n",
       "0                             2             1                 3   \n",
       "1                             7            10                 3   \n",
       "2                             2             2                 3   \n",
       "3                             3             4                 3   \n",
       "4                             2             1                 3   \n",
       "\n",
       "    Normal Nucleoli   Mitoses Diagnosis  \n",
       "0                 1         1    BENIGN  \n",
       "1                 2         1    BENIGN  \n",
       "2                 1         1    BENIGN  \n",
       "3                 7         1    BENIGN  \n",
       "4                 1         1    BENIGN  "
      ]
     },
     "execution_count": 50,
     "metadata": {},
     "output_type": "execute_result"
    }
   ],
   "source": [
    "# Preview dataset\n",
    "df = pd.read_csv(os.path.join(PATH_TO_DATASET, TRAIN_DATASET))\n",
    "df.head()"
   ]
  },
  {
   "cell_type": "markdown",
   "metadata": {},
   "source": [
    "**Upload dataset to Darwin**"
   ]
  },
  {
   "cell_type": "code",
   "execution_count": 51,
   "metadata": {
    "scrolled": true
   },
   "outputs": [
    {
     "name": "stdout",
     "output_type": "stream",
     "text": [
      "Upload data successfully!\n"
     ]
    }
   ],
   "source": [
    "# Upload dataset\n",
    "status, dataset = ds.upload_dataset(os.path.join(PATH_TO_DATASET, TRAIN_DATASET))\n",
    "if not status:\n",
    "    print(dataset)\n",
    "else:\n",
    "    print(\"Upload data successfully!\")"
   ]
  },
  {
   "cell_type": "markdown",
   "metadata": {},
   "source": [
    "## Analyze Data\n",
    "Analyze data is a necessary step before cleaning data and creating model. "
   ]
  },
  {
   "cell_type": "code",
   "execution_count": 72,
   "metadata": {},
   "outputs": [
    {
     "name": "stdout",
     "output_type": "stream",
     "text": [
      "400: BAD REQUEST - {\"message\": \"A raw profile (name:Darwin_analyze_data_artifact-20190719114052) already exists for this dataset\"}\n",
      "\n"
     ]
    }
   ],
   "source": [
    "status, analyze_id = ds.analyze_data(TRAIN_DATASET, \n",
    "                                     job_name = 'Darwin_analyze_data_job' + \"-\" + ts, \n",
    "                                     artifact_name = 'Darwin_analyze_data_artifact' + \"-\" + ts)\n",
    "sleep(1)\n",
    "if status:\n",
    "    ds.wait_for_job('Darwin_analyze_data_job' + \"-\" + ts)\n",
    "else:\n",
    "    print(analyze_id)"
   ]
  },
  {
   "cell_type": "markdown",
   "metadata": {},
   "source": [
    "## Clean dataset"
   ]
  },
  {
   "cell_type": "code",
   "execution_count": 124,
   "metadata": {},
   "outputs": [
    {
     "name": "stdout",
     "output_type": "stream",
     "text": [
      "{'status': 'Complete', 'starttime': '2019-07-19T13:06:04.060133', 'endtime': None, 'percent_complete': 100, 'job_type': 'CleanData', 'loss': None, 'generations': None, 'dataset_names': ['cancer_train.csv'], 'artifact_names': None, 'model_name': None, 'job_error': None}\n"
     ]
    }
   ],
   "source": [
    "# clean dataset\n",
    "target = \"Diagnosis\"\n",
    "status, job_id = ds.clean_data(TRAIN_DATASET, target = target)\n",
    "\n",
    "if status:\n",
    "    ds.wait_for_job(job_id['job_name'])\n",
    "else:\n",
    "    print(job_id)"
   ]
  },
  {
   "cell_type": "markdown",
   "metadata": {},
   "source": [
    "# Create and Train Model "
   ]
  },
  {
   "cell_type": "markdown",
   "metadata": {},
   "source": [
    "We will now build a model that will learn the class labels in the target column.<br> In the default cancer dataset, the target column is \"Diagnosis\". <br> You will have to specify your own target name for your custom dataset. <br> You can also increase max_train_time for longer training.\n"
   ]
  },
  {
   "cell_type": "markdown",
   "metadata": {},
   "source": [
    "#### NOTE (New Feature in Darwin 2.0):\n",
    "The user may specify weights to each class. For example, in the cancer dataset, we may wish to focus more on detecting malignancy. To do this, we can simply change the `class_weights` parameter as follows:"
   ]
  },
  {
   "cell_type": "code",
   "execution_count": 125,
   "metadata": {},
   "outputs": [],
   "source": [
    "class_weights = '{\"BENIGN\": 1, \"MALIGNANT\": 10}'"
   ]
  },
  {
   "cell_type": "markdown",
   "metadata": {},
   "source": [
    "User can now apply cross-validation in Darwin. Simply specify cv_kfold for the number of folds you wish to run on each candidate model."
   ]
  },
  {
   "cell_type": "code",
   "execution_count": 126,
   "metadata": {},
   "outputs": [],
   "source": [
    "cv_kfold = 3"
   ]
  },
  {
   "cell_type": "code",
   "execution_count": 127,
   "metadata": {
    "scrolled": true
   },
   "outputs": [
    {
     "name": "stdout",
     "output_type": "stream",
     "text": [
      "{'status': 'Requested', 'starttime': '2019-07-19T13:06:17.199001', 'endtime': None, 'percent_complete': 0, 'job_type': 'TrainModel', 'loss': None, 'generations': 0, 'dataset_names': ['cancer_train.csv'], 'artifact_names': None, 'model_name': 'Diagnosis_model20190719114052', 'job_error': None}\n",
      "{'status': 'Running', 'starttime': '2019-07-19T13:06:17.199001', 'endtime': None, 'percent_complete': 1, 'job_type': 'TrainModel', 'loss': 0.39221543073654175, 'generations': 1, 'dataset_names': ['cancer_train.csv'], 'artifact_names': None, 'model_name': 'Diagnosis_model20190719114052', 'job_error': ''}\n",
      "{'status': 'Running', 'starttime': '2019-07-19T13:06:17.199001', 'endtime': None, 'percent_complete': 21, 'job_type': 'TrainModel', 'loss': 0.38952288031578064, 'generations': 10, 'dataset_names': ['cancer_train.csv'], 'artifact_names': None, 'model_name': 'Diagnosis_model20190719114052', 'job_error': ''}\n",
      "{'status': 'Running', 'starttime': '2019-07-19T13:06:17.199001', 'endtime': None, 'percent_complete': 44, 'job_type': 'TrainModel', 'loss': 0.38952288031578064, 'generations': 13, 'dataset_names': ['cancer_train.csv'], 'artifact_names': None, 'model_name': 'Diagnosis_model20190719114052', 'job_error': ''}\n",
      "{'status': 'Running', 'starttime': '2019-07-19T13:06:17.199001', 'endtime': None, 'percent_complete': 66, 'job_type': 'TrainModel', 'loss': 0.38952288031578064, 'generations': 16, 'dataset_names': ['cancer_train.csv'], 'artifact_names': None, 'model_name': 'Diagnosis_model20190719114052', 'job_error': ''}\n",
      "{'status': 'Running', 'starttime': '2019-07-19T13:06:17.199001', 'endtime': None, 'percent_complete': 86, 'job_type': 'TrainModel', 'loss': 0.4438042938709259, 'generations': 19, 'dataset_names': ['cancer_train.csv'], 'artifact_names': None, 'model_name': 'Diagnosis_model20190719114052', 'job_error': ''}\n",
      "{'status': 'Running', 'starttime': '2019-07-19T13:06:17.199001', 'endtime': None, 'percent_complete': 95, 'job_type': 'TrainModel', 'loss': 0.4438042938709259, 'generations': 20, 'dataset_names': ['cancer_train.csv'], 'artifact_names': None, 'model_name': 'Diagnosis_model20190719114052', 'job_error': ''}\n",
      "{'status': 'Running', 'starttime': '2019-07-19T13:06:17.199001', 'endtime': None, 'percent_complete': 95, 'job_type': 'TrainModel', 'loss': 0.4438042938709259, 'generations': 20, 'dataset_names': ['cancer_train.csv'], 'artifact_names': None, 'model_name': 'Diagnosis_model20190719114052', 'job_error': ''}\n",
      "{'status': 'Running', 'starttime': '2019-07-19T13:06:17.199001', 'endtime': None, 'percent_complete': 95, 'job_type': 'TrainModel', 'loss': 0.4438042938709259, 'generations': 20, 'dataset_names': ['cancer_train.csv'], 'artifact_names': None, 'model_name': 'Diagnosis_model20190719114052', 'job_error': ''}\n",
      "{'status': 'Running', 'starttime': '2019-07-19T13:06:17.199001', 'endtime': None, 'percent_complete': 95, 'job_type': 'TrainModel', 'loss': 0.4438042938709259, 'generations': 20, 'dataset_names': ['cancer_train.csv'], 'artifact_names': None, 'model_name': 'Diagnosis_model20190719114052', 'job_error': ''}\n",
      "{'status': 'Complete', 'starttime': '2019-07-19T13:06:17.199001', 'endtime': '2019-07-19T13:08:39.431299', 'percent_complete': 100, 'job_type': 'TrainModel', 'loss': 0.4438042938709259, 'generations': 20, 'dataset_names': ['cancer_train.csv'], 'artifact_names': None, 'model_name': 'Diagnosis_model20190719114052', 'job_error': ''}\n"
     ]
    }
   ],
   "source": [
    "model = target + \"_model\" + ts\n",
    "max_train_time = '00:01'\n",
    "status, job_id = ds.create_model(dataset_names = TRAIN_DATASET, \n",
    "                                 model_name =  model, \n",
    "                                 max_train_time = max_train_time,\n",
    "                                 fit_profile_name = job_id['profile_name'],\n",
    "                                 class_weights = class_weights,\n",
    "                                 cv_kfold=cv_kfold)\n",
    "if status:\n",
    "    ds.wait_for_job(job_id['job_name'])\n",
    "else:\n",
    "    print(job_id)"
   ]
  },
  {
   "cell_type": "markdown",
   "metadata": {},
   "source": [
    "# Extra Training (Optional)\n",
    "Run the following cell for extra training, no need to specify parameters"
   ]
  },
  {
   "cell_type": "code",
   "execution_count": 128,
   "metadata": {},
   "outputs": [
    {
     "name": "stdout",
     "output_type": "stream",
     "text": [
      "{'status': 'Requested', 'starttime': '2019-07-19T13:09:00.187614', 'endtime': None, 'percent_complete': 0, 'job_type': 'UpdateModel', 'loss': 0.4438042938709259, 'generations': 20, 'dataset_names': ['cancer_train.csv'], 'artifact_names': None, 'model_name': 'Diagnosis_model20190719114052', 'job_error': None}\n",
      "{'status': 'Running', 'starttime': '2019-07-19T13:09:00.187614', 'endtime': None, 'percent_complete': 14, 'job_type': 'UpdateModel', 'loss': 0.4438042938709259, 'generations': 29, 'dataset_names': ['cancer_train.csv'], 'artifact_names': None, 'model_name': 'Diagnosis_model20190719114052', 'job_error': ''}\n",
      "{'status': 'Running', 'starttime': '2019-07-19T13:09:00.187614', 'endtime': None, 'percent_complete': 37, 'job_type': 'UpdateModel', 'loss': 0.4438042938709259, 'generations': 32, 'dataset_names': ['cancer_train.csv'], 'artifact_names': None, 'model_name': 'Diagnosis_model20190719114052', 'job_error': ''}\n",
      "{'status': 'Running', 'starttime': '2019-07-19T13:09:00.187614', 'endtime': None, 'percent_complete': 62, 'job_type': 'UpdateModel', 'loss': 0.4438042938709259, 'generations': 35, 'dataset_names': ['cancer_train.csv'], 'artifact_names': None, 'model_name': 'Diagnosis_model20190719114052', 'job_error': ''}\n",
      "{'status': 'Running', 'starttime': '2019-07-19T13:09:00.187614', 'endtime': None, 'percent_complete': 85, 'job_type': 'UpdateModel', 'loss': 0.4438042938709259, 'generations': 38, 'dataset_names': ['cancer_train.csv'], 'artifact_names': None, 'model_name': 'Diagnosis_model20190719114052', 'job_error': ''}\n",
      "{'status': 'Complete', 'starttime': '2019-07-19T13:09:00.187614', 'endtime': '2019-07-19T13:10:10.950856', 'percent_complete': 100, 'job_type': 'UpdateModel', 'loss': 0.4438042938709259, 'generations': 40, 'dataset_names': ['cancer_train.csv'], 'artifact_names': None, 'model_name': 'Diagnosis_model20190719114052', 'job_error': ''}\n"
     ]
    }
   ],
   "source": [
    "# Train some more\n",
    "status, job_id = ds.resume_training_model(dataset_names = TRAIN_DATASET,\n",
    "                                          model_name = model,\n",
    "                                          max_train_time = '00:01')\n",
    "                                          \n",
    "if status:\n",
    "    ds.wait_for_job(job_id['job_name'])\n",
    "else:\n",
    "    print(job_id)"
   ]
  },
  {
   "cell_type": "markdown",
   "metadata": {},
   "source": [
    "# Analyze Model\n",
    "Analyze model provides feature importance ranked by the model. <br> It indicates a general view of which features pose a bigger impact on the model"
   ]
  },
  {
   "cell_type": "code",
   "execution_count": 129,
   "metadata": {
    "scrolled": true
   },
   "outputs": [
    {
     "name": "stdout",
     "output_type": "stream",
     "text": [
      "{'status': 'Running', 'starttime': '2019-07-19T13:10:58.046455', 'endtime': None, 'percent_complete': 0, 'job_type': 'AnalyzeModel', 'loss': 0.4438042938709259, 'generations': 40, 'dataset_names': None, 'artifact_names': ['5d73441dede848c0b35500f582aea543'], 'model_name': 'Diagnosis_model20190719114052', 'job_error': ''}\n",
      "{'status': 'Complete', 'starttime': '2019-07-19T13:10:58.046455', 'endtime': '2019-07-19T13:10:59.339014', 'percent_complete': 100, 'job_type': 'AnalyzeModel', 'loss': 0.4438042938709259, 'generations': 40, 'dataset_names': None, 'artifact_names': ['5d73441dede848c0b35500f582aea543'], 'model_name': 'Diagnosis_model20190719114052', 'job_error': ''}\n"
     ]
    }
   ],
   "source": [
    "# Retrieve feature importance of built model\n",
    "status, artifact = ds.analyze_model(model)\n",
    "sleep(1)\n",
    "if status:\n",
    "    ds.wait_for_job(artifact['job_name'])\n",
    "else:\n",
    "    print(artifact)\n",
    "status, feature_importance = ds.download_artifact(artifact['artifact_name'])"
   ]
  },
  {
   "cell_type": "markdown",
   "metadata": {},
   "source": [
    "Show the 10 most important features of the model."
   ]
  },
  {
   "cell_type": "code",
   "execution_count": 130,
   "metadata": {},
   "outputs": [
    {
     "data": {
      "text/plain": [
       "Code                           0.290637\n",
       "Single Epithelial Cell Size    0.131482\n",
       "Bland Chromatin                0.097813\n",
       "Uniformity of Cell Size        0.092315\n",
       "Normal Nucleoli                0.077422\n",
       "Marginal Adhesion              0.076655\n",
       "Uniformity of Cell Shape       0.075939\n",
       "Mitoses                        0.075395\n",
       "Clump Thickness                0.071371\n",
       "Bare Nuclei                    0.010970\n",
       "dtype: float64"
      ]
     },
     "execution_count": 130,
     "metadata": {},
     "output_type": "execute_result"
    }
   ],
   "source": [
    "feature_importance[:10]"
   ]
  },
  {
   "cell_type": "markdown",
   "metadata": {},
   "source": [
    "# Predictions\n",
    "**Perform model prediction on the the training dataset.**"
   ]
  },
  {
   "cell_type": "code",
   "execution_count": 131,
   "metadata": {
    "scrolled": true
   },
   "outputs": [
    {
     "name": "stdout",
     "output_type": "stream",
     "text": [
      "{'status': 'Running', 'starttime': '2019-07-19T13:11:22.994076', 'endtime': None, 'percent_complete': 0, 'job_type': 'RunModel', 'loss': 0.4438042938709259, 'generations': 40, 'dataset_names': ['cancer_train.csv'], 'artifact_names': ['7e8b1767fedb4e70bea9e8643d03408c'], 'model_name': 'Diagnosis_model20190719114052', 'job_error': ''}\n",
      "{'status': 'Complete', 'starttime': '2019-07-19T13:11:22.994076', 'endtime': '2019-07-19T13:11:34.674041', 'percent_complete': 100, 'job_type': 'RunModel', 'loss': 0.4438042938709259, 'generations': 40, 'dataset_names': ['cancer_train.csv'], 'artifact_names': ['7e8b1767fedb4e70bea9e8643d03408c'], 'model_name': 'Diagnosis_model20190719114052', 'job_error': ''}\n"
     ]
    },
    {
     "data": {
      "text/plain": [
       "(True, 'Job completed')"
      ]
     },
     "execution_count": 131,
     "metadata": {},
     "output_type": "execute_result"
    }
   ],
   "source": [
    "status, artifact = ds.run_model(TRAIN_DATASET, model)\n",
    "sleep(1)\n",
    "ds.wait_for_job(artifact['job_name'])"
   ]
  },
  {
   "cell_type": "markdown",
   "metadata": {},
   "source": [
    "Download predictions from Darwin's server."
   ]
  },
  {
   "cell_type": "code",
   "execution_count": 132,
   "metadata": {
    "scrolled": true
   },
   "outputs": [
    {
     "data": {
      "text/html": [
       "<div>\n",
       "<style scoped>\n",
       "    .dataframe tbody tr th:only-of-type {\n",
       "        vertical-align: middle;\n",
       "    }\n",
       "\n",
       "    .dataframe tbody tr th {\n",
       "        vertical-align: top;\n",
       "    }\n",
       "\n",
       "    .dataframe thead th {\n",
       "        text-align: right;\n",
       "    }\n",
       "</style>\n",
       "<table border=\"1\" class=\"dataframe\">\n",
       "  <thead>\n",
       "    <tr style=\"text-align: right;\">\n",
       "      <th></th>\n",
       "      <th>Diagnosis</th>\n",
       "      <th>prob_BENIGN</th>\n",
       "      <th>prob_MALIGNANT</th>\n",
       "    </tr>\n",
       "  </thead>\n",
       "  <tbody>\n",
       "    <tr>\n",
       "      <th>0</th>\n",
       "      <td>BENIGN</td>\n",
       "      <td>0.997842</td>\n",
       "      <td>0.002158</td>\n",
       "    </tr>\n",
       "    <tr>\n",
       "      <th>1</th>\n",
       "      <td>BENIGN</td>\n",
       "      <td>0.912937</td>\n",
       "      <td>0.087063</td>\n",
       "    </tr>\n",
       "    <tr>\n",
       "      <th>2</th>\n",
       "      <td>BENIGN</td>\n",
       "      <td>0.998693</td>\n",
       "      <td>0.001307</td>\n",
       "    </tr>\n",
       "    <tr>\n",
       "      <th>3</th>\n",
       "      <td>BENIGN</td>\n",
       "      <td>0.530830</td>\n",
       "      <td>0.469170</td>\n",
       "    </tr>\n",
       "    <tr>\n",
       "      <th>4</th>\n",
       "      <td>BENIGN</td>\n",
       "      <td>0.997520</td>\n",
       "      <td>0.002480</td>\n",
       "    </tr>\n",
       "  </tbody>\n",
       "</table>\n",
       "</div>"
      ],
      "text/plain": [
       "  Diagnosis  prob_BENIGN  prob_MALIGNANT\n",
       "0    BENIGN     0.997842        0.002158\n",
       "1    BENIGN     0.912937        0.087063\n",
       "2    BENIGN     0.998693        0.001307\n",
       "3    BENIGN     0.530830        0.469170\n",
       "4    BENIGN     0.997520        0.002480"
      ]
     },
     "execution_count": 132,
     "metadata": {},
     "output_type": "execute_result"
    }
   ],
   "source": [
    "status, prediction = ds.download_artifact(artifact['artifact_name'])\n",
    "prediction.head()"
   ]
  },
  {
   "cell_type": "markdown",
   "metadata": {},
   "source": [
    "Create plots comparing predictions with actual target"
   ]
  },
  {
   "cell_type": "code",
   "execution_count": 135,
   "metadata": {
    "scrolled": true
   },
   "outputs": [
    {
     "name": "stdout",
     "output_type": "stream",
     "text": [
      "             precision    recall  f1-score   support\n",
      "\n",
      "     BENIGN       0.99      0.98      0.98       379\n",
      "  MALIGNANT       0.97      0.98      0.97       220\n",
      "\n",
      "avg / total       0.98      0.98      0.98       599\n",
      "\n"
     ]
    },
    {
     "data": {
      "image/png": "[encoded data removed]",
      "text/plain": [
       "<Figure size 432x288 with 1 Axes>"
      ]
     },
     "metadata": {},
     "output_type": "display_data"
    }
   ],
   "source": [
    "df = pd.read_csv(os.path.join(PATH_TO_DATASET, TRAIN_DATASET))\n",
    "unq = prediction[target].unique()[::-1]\n",
    "p = np.zeros((len(prediction),))\n",
    "a = np.zeros((len(prediction),))\n",
    "for i,q in enumerate(unq):\n",
    "    p += i*(prediction[target] == q).values\n",
    "    a += i*(df[target] == q).values\n",
    "#Plot predictions vs actual\n",
    "plt.plot(a)\n",
    "plt.plot(p)\n",
    "plt.legend(['Actual','Predicted'])\n",
    "plt.yticks([i for i in range(len(unq))],[q for q in unq]);\n",
    "print(classification_report(df[target], prediction[target]))"
   ]
  },
  {
   "cell_type": "markdown",
   "metadata": {},
   "source": [
    "**Perform model prediction on a test dataset that wasn't used in training.** <br>\n",
    "Upload test dataset"
   ]
  },
  {
   "cell_type": "code",
   "execution_count": 136,
   "metadata": {
    "scrolled": true
   },
   "outputs": [
    {
     "name": "stdout",
     "output_type": "stream",
     "text": [
      "400: BAD REQUEST - {\"message\": \"Dataset already exists\"}\n",
      "\n"
     ]
    }
   ],
   "source": [
    "status, dataset = ds.upload_dataset(os.path.join(PATH_TO_DATASET, TEST_DATASET))\n",
    "if not status:\n",
    "    print(dataset)\n",
    "else:\n",
    "    print(\"Upload data successfully!\")"
   ]
  },
  {
   "cell_type": "markdown",
   "metadata": {},
   "source": [
    "Clean test dataset"
   ]
  },
  {
   "cell_type": "code",
   "execution_count": 137,
   "metadata": {},
   "outputs": [
    {
     "name": "stdout",
     "output_type": "stream",
     "text": [
      "{'status': 'Complete', 'starttime': '2019-07-19T13:13:27.900283', 'endtime': None, 'percent_complete': 100, 'job_type': 'CleanData', 'loss': None, 'generations': None, 'dataset_names': ['cancer_test.csv'], 'artifact_names': None, 'model_name': None, 'job_error': None}\n"
     ]
    }
   ],
   "source": [
    "# clean test dataset\n",
    "status, job_id = ds.clean_data(TEST_DATASET, model_name = model)\n",
    "\n",
    "if status:\n",
    "    ds.wait_for_job(job_id['job_name'])\n",
    "else:\n",
    "    print(job_id)"
   ]
  },
  {
   "cell_type": "markdown",
   "metadata": {},
   "source": [
    "Run model on test dataset."
   ]
  },
  {
   "cell_type": "code",
   "execution_count": 138,
   "metadata": {
    "scrolled": true
   },
   "outputs": [
    {
     "name": "stdout",
     "output_type": "stream",
     "text": [
      "{'status': 'Running', 'starttime': '2019-07-19T13:13:35.371557', 'endtime': None, 'percent_complete': 0, 'job_type': 'RunModel', 'loss': 0.4438042938709259, 'generations': 40, 'dataset_names': ['cancer_test.csv'], 'artifact_names': ['5f6cfe57fd674f2c9084a98e2e130cd0'], 'model_name': 'Diagnosis_model20190719114052', 'job_error': ''}\n",
      "{'status': 'Complete', 'starttime': '2019-07-19T13:13:35.371557', 'endtime': '2019-07-19T13:13:38.97678', 'percent_complete': 100, 'job_type': 'RunModel', 'loss': 0.4438042938709259, 'generations': 40, 'dataset_names': ['cancer_test.csv'], 'artifact_names': ['5f6cfe57fd674f2c9084a98e2e130cd0'], 'model_name': 'Diagnosis_model20190719114052', 'job_error': ''}\n"
     ]
    },
    {
     "data": {
      "text/plain": [
       "(True, 'Job completed')"
      ]
     },
     "execution_count": 138,
     "metadata": {},
     "output_type": "execute_result"
    }
   ],
   "source": [
    "status, artifact = ds.run_model(TEST_DATASET, model)\n",
    "sleep(1)\n",
    "ds.wait_for_job(artifact['job_name'])"
   ]
  },
  {
   "cell_type": "markdown",
   "metadata": {},
   "source": [
    "Create plots comparing predictions with actual target"
   ]
  },
  {
   "cell_type": "code",
   "execution_count": 139,
   "metadata": {},
   "outputs": [
    {
     "name": "stdout",
     "output_type": "stream",
     "text": [
      "             precision    recall  f1-score   support\n",
      "\n",
      "     BENIGN       1.00      1.00      1.00        79\n",
      "  MALIGNANT       1.00      1.00      1.00        21\n",
      "\n",
      "avg / total       1.00      1.00      1.00       100\n",
      "\n"
     ]
    },
    {
     "data": {
      "image/png": "[encoded data removed]",
      "text/plain": [
       "<Figure size 432x288 with 1 Axes>"
      ]
     },
     "metadata": {},
     "output_type": "display_data"
    }
   ],
   "source": [
    "# Create plots comparing predictions with actual target\n",
    "status, prediction = ds.download_artifact(artifact['artifact_name'])\n",
    "df = pd.read_csv(os.path.join(PATH_TO_DATASET, TEST_DATASET))\n",
    "unq = prediction[target].unique()[::-1]\n",
    "p = np.zeros((len(prediction),))\n",
    "a = np.zeros((len(prediction),))\n",
    "for i,q in enumerate(unq):\n",
    "    p += i*(prediction[target] == q).values\n",
    "    a += i*(df[target] == q).values\n",
    "#Plot predictions vs actual\n",
    "plt.plot(a)\n",
    "plt.plot(p)\n",
    "plt.legend(['Actual','Predicted'])\n",
    "plt.yticks([i for i in range(len(unq))],[q for q in unq]);\n",
    "print(classification_report(df[target], prediction[target]))"
   ]
  },
  {
   "cell_type": "markdown",
   "metadata": {},
   "source": [
    "## Find out which machine learning model did Darwin use:"
   ]
  },
  {
   "cell_type": "code",
   "execution_count": 140,
   "metadata": {},
   "outputs": [
    {
     "name": "stdout",
     "output_type": "stream",
     "text": [
      "{'parameters': {'bootstrap': False, 'criterion': 'entropy', 'max_depth': 1, 'max_features': 0.3990622019350465, 'max_leaf_nodes': None, 'min_impurity_decrease': 0.0, 'min_samples_leaf': 20, 'min_samples_split': 20, 'n_jobs': -1, 'min_weight_fraction_leaf': 0.0, 'n_estimators': 50}, 'type': 'RandomForestClassifier'}\n"
     ]
    }
   ],
   "source": [
    "status, model_type = ds.lookup_model_name(model)\n",
    "print(model_type['description']['best_genome'])"
   ]
  },
  {
   "cell_type": "code",
   "execution_count": null,
   "metadata": {},
   "outputs": [],
   "source": []
  }
 ],
 "metadata": {
  "anaconda-cloud": {},
  "kernelspec": {
   "display_name": "Python 3",
   "language": "python",
   "name": "python3"
  },
  "language_info": {
   "codemirror_mode": {
    "name": "ipython",
    "version": 3
   },
   "file_extension": ".py",
   "mimetype": "text/x-python",
   "name": "python",
   "nbconvert_exporter": "python",
   "pygments_lexer": "ipython3",
   "version": "3.6.7"
  }
 },
 "nbformat": 4,
 "nbformat_minor": 2
}
