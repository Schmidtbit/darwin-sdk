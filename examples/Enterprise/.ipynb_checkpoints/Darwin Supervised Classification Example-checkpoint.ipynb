{
 "cells": [
  {
   "cell_type": "markdown",
   "metadata": {},
   "source": [
    "<img src=\"https://cybersecurity-excellence-awards.com/wp-content/uploads/2017/06/366812.png\">"
   ]
  },
  {
   "cell_type": "markdown",
   "metadata": {},
   "source": [
    "<h1><center>Darwin Supervised Classification Model Building </center></h1>"
   ]
  },
  {
   "cell_type": "markdown",
   "metadata": {},
   "source": [
    "# Prior to getting started:"
   ]
  },
  {
   "cell_type": "markdown",
   "metadata": {},
   "source": [
    "Darwin notebook will no longer supports 'Register User' starting from 2.0. As a user, you must have credentials ready to login before using this notebook. \n",
    "\n",
    "In order to proceed, in the Environment Variables cell: \n",
    "1. Set your username and password to ensure that you're able to log in successfully\n",
    "2. Set the path to the location of your datasets if you are using your own data.  The path is set for the examples.\n",
    "3. Set the dataset names accordingly\n",
    "\n",
    "Here are a few things to be mindful of:\n",
    "1. For every run, check the job status (i.e. requested, failed, running, completed) and wait for job to complete before proceeding. \n",
    "2. If you're not satisfied with your model and think that Darwin can benefit from extra training, use the resume function."
   ]
  },
  {
   "cell_type": "markdown",
   "metadata": {},
   "source": [
    "##  Import necessary libraries"
   ]
  },
  {
   "cell_type": "code",
   "execution_count": 25,
   "metadata": {},
   "outputs": [],
   "source": [
    "%matplotlib inline\n",
    "import matplotlib.pyplot as plt\n",
    "import pandas as pd\n",
    "import os\n",
    "import numpy as np\n",
    "import datetime\n",
    "from IPython.display import Image\n",
    "from time import sleep\n",
    "from sklearn.metrics import classification_report\n",
    "from amb_sdk.sdk import DarwinSdk"
   ]
  },
  {
   "cell_type": "markdown",
   "metadata": {},
   "source": [
    "## Set Darwin SDK"
   ]
  },
  {
   "cell_type": "code",
   "execution_count": 26,
   "metadata": {},
   "outputs": [
    {
     "data": {
      "text/plain": [
       "(True, 'https://amb-api.sparkcognition.com/v1/')"
      ]
     },
     "execution_count": 26,
     "metadata": {},
     "output_type": "execute_result"
    }
   ],
   "source": [
    "ds = DarwinSdk()\n",
    "ds.set_url('https://amb-api.sparkcognition.com/v1/')"
   ]
  },
  {
   "cell_type": "markdown",
   "metadata": {},
   "source": [
    "## Environment Variables"
   ]
  },
  {
   "cell_type": "code",
   "execution_count": null,
   "metadata": {},
   "outputs": [],
   "source": [
    "#Set your user id and password accordingly\n",
    "USER=\"[your Darwin user id]\"\n",
    "PW=\"[your Darwin password]\"\n",
    "\n",
    "# Set path to datasets - The default below assumes Jupyter was started from amb-sdk/examples/Enterprise/\n",
    "# Modify accordingly if you wish to use your own data\n",
    "PATH_TO_DATASET='../../sets/'\n",
    "TRAIN_DATASET='cancer_train.csv'\n",
    "TEST_DATASET='cancer_test.csv'\n",
    "\n",
    "# A timestamp is used to create a unique name in the event you execute the workflow multiple times or with \n",
    "# different datasets.  File names must be unique in Darwin.\n",
    "ts = '{:%Y%m%d%H%M%S}'.format(datetime.datetime.now())"
   ]
  },
  {
   "cell_type": "markdown",
   "metadata": {},
   "source": [
    "# User Login "
   ]
  },
  {
   "cell_type": "code",
   "execution_count": 28,
   "metadata": {},
   "outputs": [
    {
     "name": "stdout",
     "output_type": "stream",
     "text": [
      "Login Successfully!\n"
     ]
    }
   ],
   "source": [
    "status, msg = ds.auth_login_user(USER, PW)\n",
    "if not status:\n",
    "    print(msg)\n",
    "else:\n",
    "    print(\"Login Successfully!\")"
   ]
  },
  {
   "cell_type": "markdown",
   "metadata": {},
   "source": [
    "# Data Upload and Clean"
   ]
  },
  {
   "cell_type": "markdown",
   "metadata": {},
   "source": [
    "**Read dataset and view a file snippet**"
   ]
  },
  {
   "cell_type": "code",
   "execution_count": 29,
   "metadata": {},
   "outputs": [
    {
     "data": {
      "text/html": [
       "<div>\n",
       "<style scoped>\n",
       "    .dataframe tbody tr th:only-of-type {\n",
       "        vertical-align: middle;\n",
       "    }\n",
       "\n",
       "    .dataframe tbody tr th {\n",
       "        vertical-align: top;\n",
       "    }\n",
       "\n",
       "    .dataframe thead th {\n",
       "        text-align: right;\n",
       "    }\n",
       "</style>\n",
       "<table border=\"1\" class=\"dataframe\">\n",
       "  <thead>\n",
       "    <tr style=\"text-align: right;\">\n",
       "      <th></th>\n",
       "      <th>Code</th>\n",
       "      <th>Clump Thickness</th>\n",
       "      <th>Uniformity of Cell Size</th>\n",
       "      <th>Uniformity of Cell Shape</th>\n",
       "      <th>Marginal Adhesion</th>\n",
       "      <th>Single Epithelial Cell Size</th>\n",
       "      <th>Bare Nuclei</th>\n",
       "      <th>Bland Chromatin</th>\n",
       "      <th>Normal Nucleoli</th>\n",
       "      <th>Mitoses</th>\n",
       "      <th>Diagnosis</th>\n",
       "    </tr>\n",
       "  </thead>\n",
       "  <tbody>\n",
       "    <tr>\n",
       "      <th>0</th>\n",
       "      <td>1000025</td>\n",
       "      <td>5</td>\n",
       "      <td>1</td>\n",
       "      <td>1</td>\n",
       "      <td>1</td>\n",
       "      <td>2</td>\n",
       "      <td>1</td>\n",
       "      <td>3</td>\n",
       "      <td>1</td>\n",
       "      <td>1</td>\n",
       "      <td>BENIGN</td>\n",
       "    </tr>\n",
       "    <tr>\n",
       "      <th>1</th>\n",
       "      <td>1002945</td>\n",
       "      <td>5</td>\n",
       "      <td>4</td>\n",
       "      <td>4</td>\n",
       "      <td>5</td>\n",
       "      <td>7</td>\n",
       "      <td>10</td>\n",
       "      <td>3</td>\n",
       "      <td>2</td>\n",
       "      <td>1</td>\n",
       "      <td>BENIGN</td>\n",
       "    </tr>\n",
       "    <tr>\n",
       "      <th>2</th>\n",
       "      <td>1015425</td>\n",
       "      <td>3</td>\n",
       "      <td>1</td>\n",
       "      <td>1</td>\n",
       "      <td>1</td>\n",
       "      <td>2</td>\n",
       "      <td>2</td>\n",
       "      <td>3</td>\n",
       "      <td>1</td>\n",
       "      <td>1</td>\n",
       "      <td>BENIGN</td>\n",
       "    </tr>\n",
       "    <tr>\n",
       "      <th>3</th>\n",
       "      <td>1016277</td>\n",
       "      <td>6</td>\n",
       "      <td>8</td>\n",
       "      <td>8</td>\n",
       "      <td>1</td>\n",
       "      <td>3</td>\n",
       "      <td>4</td>\n",
       "      <td>3</td>\n",
       "      <td>7</td>\n",
       "      <td>1</td>\n",
       "      <td>BENIGN</td>\n",
       "    </tr>\n",
       "    <tr>\n",
       "      <th>4</th>\n",
       "      <td>1017023</td>\n",
       "      <td>4</td>\n",
       "      <td>1</td>\n",
       "      <td>1</td>\n",
       "      <td>3</td>\n",
       "      <td>2</td>\n",
       "      <td>1</td>\n",
       "      <td>3</td>\n",
       "      <td>1</td>\n",
       "      <td>1</td>\n",
       "      <td>BENIGN</td>\n",
       "    </tr>\n",
       "  </tbody>\n",
       "</table>\n",
       "</div>"
      ],
      "text/plain": [
       "      Code   Clump Thickness   Uniformity of Cell Size  \\\n",
       "0  1000025                 5                         1   \n",
       "1  1002945                 5                         4   \n",
       "2  1015425                 3                         1   \n",
       "3  1016277                 6                         8   \n",
       "4  1017023                 4                         1   \n",
       "\n",
       "    Uniformity of Cell Shape   Marginal Adhesion  \\\n",
       "0                          1                   1   \n",
       "1                          4                   5   \n",
       "2                          1                   1   \n",
       "3                          8                   1   \n",
       "4                          1                   3   \n",
       "\n",
       "    Single Epithelial Cell Size   Bare Nuclei   Bland Chromatin  \\\n",
       "0                             2             1                 3   \n",
       "1                             7            10                 3   \n",
       "2                             2             2                 3   \n",
       "3                             3             4                 3   \n",
       "4                             2             1                 3   \n",
       "\n",
       "    Normal Nucleoli   Mitoses Diagnosis  \n",
       "0                 1         1    BENIGN  \n",
       "1                 2         1    BENIGN  \n",
       "2                 1         1    BENIGN  \n",
       "3                 7         1    BENIGN  \n",
       "4                 1         1    BENIGN  "
      ]
     },
     "execution_count": 29,
     "metadata": {},
     "output_type": "execute_result"
    }
   ],
   "source": [
    "# Preview dataset\n",
    "df = pd.read_csv(os.path.join(PATH_TO_DATASET, TRAIN_DATASET))\n",
    "df.head()"
   ]
  },
  {
   "cell_type": "markdown",
   "metadata": {},
   "source": [
    "**Upload dataset to Darwin**"
   ]
  },
  {
   "cell_type": "code",
   "execution_count": 30,
   "metadata": {
    "scrolled": true
   },
   "outputs": [
    {
     "name": "stdout",
     "output_type": "stream",
     "text": [
      "Upload data successfully!\n"
     ]
    }
   ],
   "source": [
    "# Upload dataset\n",
    "status, dataset = ds.upload_dataset(os.path.join(PATH_TO_DATASET, TRAIN_DATASET))\n",
    "if not status:\n",
    "    print(dataset)\n",
    "else:\n",
    "    print(\"Upload data successfully!\")"
   ]
  },
  {
   "cell_type": "markdown",
   "metadata": {},
   "source": [
    "## Analyze Data\n",
    "Analyze data is a necessary step before cleaning data and creating model. "
   ]
  },
  {
   "cell_type": "code",
   "execution_count": 31,
   "metadata": {},
   "outputs": [
    {
     "name": "stdout",
     "output_type": "stream",
     "text": [
      "{'status': 'Complete', 'starttime': '2019-07-17T15:36:54.623145', 'endtime': None, 'percent_complete': 100, 'job_type': 'AnalyzeData', 'loss': None, 'generations': None, 'dataset_names': ['cancer_train.csv'], 'artifact_names': ['Darwin_analyze_data_artifact-20190717153643'], 'model_name': None, 'job_error': None}\n"
     ]
    }
   ],
   "source": [
    "status, analyze_id = ds.analyze_data(TRAIN_DATASET, \n",
    "                                     job_name = 'Darwin_analyze_data_job' + \"-\" + ts, \n",
    "                                     artifact_name = 'Darwin_analyze_data_artifact' + \"-\" + ts)\n",
    "sleep(1)\n",
    "if status:\n",
    "    ds.wait_for_job('Darwin_analyze_data_job' + \"-\" + ts)\n",
    "else:\n",
    "    print(analyze_id)"
   ]
  },
  {
   "cell_type": "markdown",
   "metadata": {},
   "source": [
    "## Clean dataset"
   ]
  },
  {
   "cell_type": "code",
   "execution_count": 32,
   "metadata": {},
   "outputs": [
    {
     "name": "stdout",
     "output_type": "stream",
     "text": [
      "{'status': 'Complete', 'starttime': '2019-07-17T15:37:02.019181', 'endtime': None, 'percent_complete': 100, 'job_type': 'CleanData', 'loss': None, 'generations': None, 'dataset_names': ['cancer_train.csv'], 'artifact_names': None, 'model_name': None, 'job_error': None}\n"
     ]
    }
   ],
   "source": [
    "# clean dataset\n",
    "target = \"Diagnosis\"\n",
    "status, job_id = ds.clean_data(TRAIN_DATASET, target = target)\n",
    "\n",
    "if status:\n",
    "    ds.wait_for_job(job_id['job_name'])\n",
    "else:\n",
    "    print(job_id)"
   ]
  },
  {
   "cell_type": "markdown",
   "metadata": {},
   "source": [
    "# Create and Train Model "
   ]
  },
  {
   "cell_type": "markdown",
   "metadata": {},
   "source": [
    "We will now build a model that will learn the class labels in the target column.<br> In the default cancer dataset, the target column is \"Diagnosis\". <br> You will have to specify your own target name for your custom dataset. <br> You can also increase max_train_time for longer training.\n"
   ]
  },
  {
   "cell_type": "code",
   "execution_count": 33,
   "metadata": {
    "scrolled": true
   },
   "outputs": [
    {
     "name": "stdout",
     "output_type": "stream",
     "text": [
      "{'status': 'Requested', 'starttime': '2019-07-17T15:37:09.161677', 'endtime': None, 'percent_complete': 0, 'job_type': 'TrainModel', 'loss': None, 'generations': 0, 'dataset_names': ['cancer_train.csv'], 'artifact_names': None, 'model_name': 'Diagnosis_model020190717153643', 'job_error': None}\n",
      "{'status': 'Running', 'starttime': '2019-07-17T15:37:09.161677', 'endtime': None, 'percent_complete': 15, 'job_type': 'TrainModel', 'loss': 0.39648962020874023, 'generations': 9, 'dataset_names': ['cancer_train.csv'], 'artifact_names': None, 'model_name': 'Diagnosis_model020190717153643', 'job_error': ''}\n",
      "{'status': 'Running', 'starttime': '2019-07-17T15:37:09.161677', 'endtime': None, 'percent_complete': 40, 'job_type': 'TrainModel', 'loss': 0.39648962020874023, 'generations': 12, 'dataset_names': ['cancer_train.csv'], 'artifact_names': None, 'model_name': 'Diagnosis_model020190717153643', 'job_error': ''}\n",
      "{'status': 'Running', 'starttime': '2019-07-17T15:37:09.161677', 'endtime': None, 'percent_complete': 62, 'job_type': 'TrainModel', 'loss': 0.39648962020874023, 'generations': 15, 'dataset_names': ['cancer_train.csv'], 'artifact_names': None, 'model_name': 'Diagnosis_model020190717153643', 'job_error': ''}\n",
      "{'status': 'Running', 'starttime': '2019-07-17T15:37:09.161677', 'endtime': None, 'percent_complete': 80, 'job_type': 'TrainModel', 'loss': 0.39648962020874023, 'generations': 17, 'dataset_names': ['cancer_train.csv'], 'artifact_names': None, 'model_name': 'Diagnosis_model020190717153643', 'job_error': ''}\n",
      "{'status': 'Complete', 'starttime': '2019-07-17T15:37:09.161677', 'endtime': '2019-07-17T15:38:18.351251', 'percent_complete': 100, 'job_type': 'TrainModel', 'loss': 0.39648962020874023, 'generations': 19, 'dataset_names': ['cancer_train.csv'], 'artifact_names': None, 'model_name': 'Diagnosis_model020190717153643', 'job_error': ''}\n"
     ]
    }
   ],
   "source": [
    "model = target + \"_model0\" + ts\n",
    "max_train_time = '00:01'\n",
    "status, job_id = ds.create_model(dataset_names = TRAIN_DATASET, \n",
    "                                 model_name =  model, \n",
    "                                 max_train_time = max_train_time,\n",
    "                                 fit_profile_name = job_id['profile_name'])\n",
    "if status:\n",
    "    ds.wait_for_job(job_id['job_name'])\n",
    "else:\n",
    "    print(job_id)"
   ]
  },
  {
   "cell_type": "markdown",
   "metadata": {},
   "source": [
    "# Extra Training (Optional)\n",
    "Run the following cell for extra training, no need to specify parameters"
   ]
  },
  {
   "cell_type": "code",
   "execution_count": 34,
   "metadata": {},
   "outputs": [
    {
     "name": "stdout",
     "output_type": "stream",
     "text": [
      "{'status': 'Requested', 'starttime': '2019-07-17T15:39:12.961503', 'endtime': None, 'percent_complete': 0, 'job_type': 'UpdateModel', 'loss': 0.39648962020874023, 'generations': 19, 'dataset_names': ['cancer_train.csv'], 'artifact_names': None, 'model_name': 'Diagnosis_model020190717153643', 'job_error': None}\n",
      "{'status': 'Running', 'starttime': '2019-07-17T15:39:12.961503', 'endtime': None, 'percent_complete': 14, 'job_type': 'UpdateModel', 'loss': 0.39648962020874023, 'generations': 28, 'dataset_names': ['cancer_train.csv'], 'artifact_names': None, 'model_name': 'Diagnosis_model020190717153643', 'job_error': ''}\n",
      "{'status': 'Running', 'starttime': '2019-07-17T15:39:12.961503', 'endtime': None, 'percent_complete': 31, 'job_type': 'UpdateModel', 'loss': 0.39648962020874023, 'generations': 30, 'dataset_names': ['cancer_train.csv'], 'artifact_names': None, 'model_name': 'Diagnosis_model020190717153643', 'job_error': ''}\n",
      "{'status': 'Running', 'starttime': '2019-07-17T15:39:12.961503', 'endtime': None, 'percent_complete': 58, 'job_type': 'UpdateModel', 'loss': 0.3742992579936981, 'generations': 33, 'dataset_names': ['cancer_train.csv'], 'artifact_names': None, 'model_name': 'Diagnosis_model020190717153643', 'job_error': ''}\n",
      "{'status': 'Running', 'starttime': '2019-07-17T15:39:12.961503', 'endtime': None, 'percent_complete': 80, 'job_type': 'UpdateModel', 'loss': 0.3742992579936981, 'generations': 36, 'dataset_names': ['cancer_train.csv'], 'artifact_names': None, 'model_name': 'Diagnosis_model020190717153643', 'job_error': ''}\n",
      "{'status': 'Complete', 'starttime': '2019-07-17T15:39:12.961503', 'endtime': '2019-07-17T15:40:22.354928', 'percent_complete': 100, 'job_type': 'UpdateModel', 'loss': 0.38421380519866943, 'generations': 38, 'dataset_names': ['cancer_train.csv'], 'artifact_names': None, 'model_name': 'Diagnosis_model020190717153643', 'job_error': ''}\n"
     ]
    }
   ],
   "source": [
    "# Train some more\n",
    "status, job_id = ds.resume_training_model(dataset_names = TRAIN_DATASET,\n",
    "                                          model_name = model,\n",
    "                                          max_train_time = '00:01')\n",
    "                                          \n",
    "if status:\n",
    "    ds.wait_for_job(job_id['job_name'])\n",
    "else:\n",
    "    print(job_id)"
   ]
  },
  {
   "cell_type": "markdown",
   "metadata": {},
   "source": [
    "# Analyze Model\n",
    "Analyze model provides feature importance ranked by the model. <br> It indicates a general view of which features pose a bigger impact on the model"
   ]
  },
  {
   "cell_type": "code",
   "execution_count": 35,
   "metadata": {
    "scrolled": true
   },
   "outputs": [
    {
     "name": "stdout",
     "output_type": "stream",
     "text": [
      "{'status': 'Running', 'starttime': '2019-07-17T15:52:02.758529', 'endtime': None, 'percent_complete': 0, 'job_type': 'AnalyzeModel', 'loss': 0.38421380519866943, 'generations': 38, 'dataset_names': None, 'artifact_names': ['f3a4d5e4446c44f493ed0a2e7db6115f'], 'model_name': 'Diagnosis_model020190717153643', 'job_error': ''}\n",
      "{'status': 'Complete', 'starttime': '2019-07-17T15:52:02.758529', 'endtime': '2019-07-17T15:52:07.631871', 'percent_complete': 100, 'job_type': 'AnalyzeModel', 'loss': 0.38421380519866943, 'generations': 38, 'dataset_names': None, 'artifact_names': ['f3a4d5e4446c44f493ed0a2e7db6115f'], 'model_name': 'Diagnosis_model020190717153643', 'job_error': ''}\n"
     ]
    }
   ],
   "source": [
    "# Retrieve feature importance of built model\n",
    "status, artifact = ds.analyze_model(model)\n",
    "sleep(1)\n",
    "if status:\n",
    "    ds.wait_for_job(artifact['job_name'])\n",
    "else:\n",
    "    print(artifact)\n",
    "status, feature_importance = ds.download_artifact(artifact['artifact_name'])"
   ]
  },
  {
   "cell_type": "markdown",
   "metadata": {},
   "source": [
    "Show the 10 most important features of the model."
   ]
  },
  {
   "cell_type": "code",
   "execution_count": 36,
   "metadata": {},
   "outputs": [
    {
     "data": {
      "text/plain": [
       "Code                           0.281893\n",
       "Uniformity of Cell Size        0.115689\n",
       "Bland Chromatin                0.095395\n",
       "Uniformity of Cell Shape       0.091763\n",
       "Single Epithelial Cell Size    0.087663\n",
       "Marginal Adhesion              0.085454\n",
       "Normal Nucleoli                0.079399\n",
       "Clump Thickness                0.075907\n",
       "Mitoses                        0.075513\n",
       "Bare Nuclei                    0.011325\n",
       "dtype: float64"
      ]
     },
     "execution_count": 36,
     "metadata": {},
     "output_type": "execute_result"
    }
   ],
   "source": [
    "feature_importance[:10]"
   ]
  },
  {
   "cell_type": "markdown",
   "metadata": {},
   "source": [
    "# Predictions\n",
    "**Perform model prediction on the the training dataset.**"
   ]
  },
  {
   "cell_type": "code",
   "execution_count": 37,
   "metadata": {
    "scrolled": true
   },
   "outputs": [
    {
     "name": "stdout",
     "output_type": "stream",
     "text": [
      "{'status': 'Running', 'starttime': '2019-07-17T15:52:45.844213', 'endtime': None, 'percent_complete': 0, 'job_type': 'RunModel', 'loss': 0.38421380519866943, 'generations': 38, 'dataset_names': ['cancer_train.csv'], 'artifact_names': ['8ddeda12b651443b83e85bf808bd2bcf'], 'model_name': 'Diagnosis_model020190717153643', 'job_error': ''}\n",
      "{'status': 'Complete', 'starttime': '2019-07-17T15:52:45.844213', 'endtime': '2019-07-17T15:52:59.826316', 'percent_complete': 100, 'job_type': 'RunModel', 'loss': 0.38421380519866943, 'generations': 38, 'dataset_names': ['cancer_train.csv'], 'artifact_names': ['8ddeda12b651443b83e85bf808bd2bcf'], 'model_name': 'Diagnosis_model020190717153643', 'job_error': ''}\n"
     ]
    },
    {
     "data": {
      "text/plain": [
       "(True, 'Job completed')"
      ]
     },
     "execution_count": 37,
     "metadata": {},
     "output_type": "execute_result"
    }
   ],
   "source": [
    "status, artifact = ds.run_model(TRAIN_DATASET, model)\n",
    "sleep(1)\n",
    "ds.wait_for_job(artifact['job_name'])"
   ]
  },
  {
   "cell_type": "markdown",
   "metadata": {},
   "source": [
    "Download predictions from Darwin's server."
   ]
  },
  {
   "cell_type": "code",
   "execution_count": 38,
   "metadata": {
    "scrolled": true
   },
   "outputs": [
    {
     "data": {
      "text/html": [
       "<div>\n",
       "<style scoped>\n",
       "    .dataframe tbody tr th:only-of-type {\n",
       "        vertical-align: middle;\n",
       "    }\n",
       "\n",
       "    .dataframe tbody tr th {\n",
       "        vertical-align: top;\n",
       "    }\n",
       "\n",
       "    .dataframe thead th {\n",
       "        text-align: right;\n",
       "    }\n",
       "</style>\n",
       "<table border=\"1\" class=\"dataframe\">\n",
       "  <thead>\n",
       "    <tr style=\"text-align: right;\">\n",
       "      <th></th>\n",
       "      <th>Diagnosis</th>\n",
       "      <th>prob_BENIGN</th>\n",
       "      <th>prob_MALIGNANT</th>\n",
       "    </tr>\n",
       "  </thead>\n",
       "  <tbody>\n",
       "    <tr>\n",
       "      <th>0</th>\n",
       "      <td>BENIGN</td>\n",
       "      <td>1.000000</td>\n",
       "      <td>0.000000</td>\n",
       "    </tr>\n",
       "    <tr>\n",
       "      <th>1</th>\n",
       "      <td>BENIGN</td>\n",
       "      <td>0.856000</td>\n",
       "      <td>0.144000</td>\n",
       "    </tr>\n",
       "    <tr>\n",
       "      <th>2</th>\n",
       "      <td>BENIGN</td>\n",
       "      <td>1.000000</td>\n",
       "      <td>0.000000</td>\n",
       "    </tr>\n",
       "    <tr>\n",
       "      <th>3</th>\n",
       "      <td>BENIGN</td>\n",
       "      <td>0.888333</td>\n",
       "      <td>0.111667</td>\n",
       "    </tr>\n",
       "    <tr>\n",
       "      <th>4</th>\n",
       "      <td>BENIGN</td>\n",
       "      <td>0.994286</td>\n",
       "      <td>0.005714</td>\n",
       "    </tr>\n",
       "  </tbody>\n",
       "</table>\n",
       "</div>"
      ],
      "text/plain": [
       "  Diagnosis  prob_BENIGN  prob_MALIGNANT\n",
       "0    BENIGN     1.000000        0.000000\n",
       "1    BENIGN     0.856000        0.144000\n",
       "2    BENIGN     1.000000        0.000000\n",
       "3    BENIGN     0.888333        0.111667\n",
       "4    BENIGN     0.994286        0.005714"
      ]
     },
     "execution_count": 38,
     "metadata": {},
     "output_type": "execute_result"
    }
   ],
   "source": [
    "status, prediction = ds.download_artifact(artifact['artifact_name'])\n",
    "prediction.head()"
   ]
  },
  {
   "cell_type": "markdown",
   "metadata": {},
   "source": [
    "Create plots comparing predictions with actual target"
   ]
  },
  {
   "cell_type": "code",
   "execution_count": 39,
   "metadata": {
    "scrolled": true
   },
   "outputs": [
    {
     "name": "stdout",
     "output_type": "stream",
     "text": [
      "             precision    recall  f1-score   support\n",
      "\n",
      "     BENIGN       1.00      0.99      0.99       379\n",
      "  MALIGNANT       0.98      1.00      0.99       220\n",
      "\n",
      "avg / total       0.99      0.99      0.99       599\n",
      "\n"
     ]
    },
    {
     "data": {
      "image/png": "[encoded data removed]",
      "text/plain": [
       "<Figure size 432x288 with 1 Axes>"
      ]
     },
     "metadata": {},
     "output_type": "display_data"
    }
   ],
   "source": [
    "unq = prediction[target].unique()[::-1]\n",
    "p = np.zeros((len(prediction),))\n",
    "a = np.zeros((len(prediction),))\n",
    "for i,q in enumerate(unq):\n",
    "    p += i*(prediction[target] == q).values\n",
    "    a += i*(df[target] == q).values\n",
    "#Plot predictions vs actual\n",
    "plt.plot(a)\n",
    "plt.plot(p)\n",
    "plt.legend(['Actual','Predicted'])\n",
    "plt.yticks([i for i in range(len(unq))],[q for q in unq]);\n",
    "print(classification_report(df[target], prediction[target]))"
   ]
  },
  {
   "cell_type": "markdown",
   "metadata": {},
   "source": [
    "**Perform model prediction on a test dataset that wasn't used in training.** <br>\n",
    "Upload test dataset"
   ]
  },
  {
   "cell_type": "code",
   "execution_count": 40,
   "metadata": {
    "scrolled": true
   },
   "outputs": [
    {
     "name": "stdout",
     "output_type": "stream",
     "text": [
      "Upload data successfully!\n"
     ]
    }
   ],
   "source": [
    "status, dataset = ds.upload_dataset(os.path.join(PATH_TO_DATASET, TEST_DATASET))\n",
    "if not status:\n",
    "    print(dataset)\n",
    "else:\n",
    "    print(\"Upload data successfully!\")"
   ]
  },
  {
   "cell_type": "markdown",
   "metadata": {},
   "source": [
    "Clean test dataset"
   ]
  },
  {
   "cell_type": "code",
   "execution_count": 41,
   "metadata": {},
   "outputs": [
    {
     "name": "stdout",
     "output_type": "stream",
     "text": [
      "{'status': 'Complete', 'starttime': '2019-07-17T15:53:44.017976', 'endtime': None, 'percent_complete': 100, 'job_type': 'CleanData', 'loss': None, 'generations': None, 'dataset_names': ['cancer_test.csv'], 'artifact_names': None, 'model_name': None, 'job_error': None}\n"
     ]
    }
   ],
   "source": [
    "# clean test dataset\n",
    "status, job_id = ds.clean_data(TEST_DATASET, model_name = model)\n",
    "\n",
    "if status:\n",
    "    ds.wait_for_job(job_id['job_name'])\n",
    "else:\n",
    "    print(job_id)"
   ]
  },
  {
   "cell_type": "markdown",
   "metadata": {},
   "source": [
    "Run model on test dataset."
   ]
  },
  {
   "cell_type": "code",
   "execution_count": 42,
   "metadata": {
    "scrolled": true
   },
   "outputs": [
    {
     "name": "stdout",
     "output_type": "stream",
     "text": [
      "{'status': 'Running', 'starttime': '2019-07-17T15:53:52.109487', 'endtime': None, 'percent_complete': 0, 'job_type': 'RunModel', 'loss': 0.38421380519866943, 'generations': 38, 'dataset_names': ['cancer_test.csv'], 'artifact_names': ['2a88c44683074bd0b369b3a59a0a19de'], 'model_name': 'Diagnosis_model020190717153643', 'job_error': ''}\n",
      "{'status': 'Complete', 'starttime': '2019-07-17T15:53:52.109487', 'endtime': '2019-07-17T15:54:02.654643', 'percent_complete': 100, 'job_type': 'RunModel', 'loss': 0.38421380519866943, 'generations': 38, 'dataset_names': ['cancer_test.csv'], 'artifact_names': ['2a88c44683074bd0b369b3a59a0a19de'], 'model_name': 'Diagnosis_model020190717153643', 'job_error': ''}\n"
     ]
    },
    {
     "data": {
      "text/plain": [
       "(True, 'Job completed')"
      ]
     },
     "execution_count": 42,
     "metadata": {},
     "output_type": "execute_result"
    }
   ],
   "source": [
    "status, artifact = ds.run_model(TEST_DATASET, model)\n",
    "sleep(1)\n",
    "ds.wait_for_job(artifact['job_name'])"
   ]
  },
  {
   "cell_type": "markdown",
   "metadata": {},
   "source": [
    "Create plots comparing predictions with actual target"
   ]
  },
  {
   "cell_type": "code",
   "execution_count": 43,
   "metadata": {},
   "outputs": [
    {
     "name": "stdout",
     "output_type": "stream",
     "text": [
      "             precision    recall  f1-score   support\n",
      "\n",
      "     BENIGN       1.00      0.97      0.99        79\n",
      "  MALIGNANT       0.91      1.00      0.95        21\n",
      "\n",
      "avg / total       0.98      0.98      0.98       100\n",
      "\n"
     ]
    },
    {
     "data": {
      "image/png": "[encoded data removed]",
      "text/plain": [
       "<Figure size 432x288 with 1 Axes>"
      ]
     },
     "metadata": {},
     "output_type": "display_data"
    }
   ],
   "source": [
    "# Create plots comparing predictions with actual target\n",
    "status, prediction = ds.download_artifact(artifact['artifact_name'])\n",
    "df = pd.read_csv(os.path.join(PATH_TO_DATASET, TEST_DATASET))\n",
    "unq = prediction[target].unique()[::-1]\n",
    "p = np.zeros((len(prediction),))\n",
    "a = np.zeros((len(prediction),))\n",
    "for i,q in enumerate(unq):\n",
    "    p += i*(prediction[target] == q).values\n",
    "    a += i*(df[target] == q).values\n",
    "#Plot predictions vs actual\n",
    "plt.plot(a)\n",
    "plt.plot(p)\n",
    "plt.legend(['Actual','Predicted'])\n",
    "plt.yticks([i for i in range(len(unq))],[q for q in unq]);\n",
    "print(classification_report(df[target], prediction[target]))"
   ]
  },
  {
   "cell_type": "markdown",
   "metadata": {},
   "source": [
    "## Find out which machine learning model did Darwin use:"
   ]
  },
  {
   "cell_type": "code",
   "execution_count": 44,
   "metadata": {},
   "outputs": [
    {
     "name": "stdout",
     "output_type": "stream",
     "text": [
      "{'parameters': {'bootstrap': False, 'criterion': 'entropy', 'max_depth': 10, 'max_features': 0.1, 'max_leaf_nodes': None, 'min_impurity_decrease': 0.0, 'min_samples_leaf': 1, 'min_samples_split': 2, 'n_jobs': -1, 'min_weight_fraction_leaf': 0.0, 'n_estimators': 50}, 'type': 'RandomForestClassifier'}\n"
     ]
    }
   ],
   "source": [
    "status, model_type = ds.lookup_model_name(model)\n",
    "print(model_type['description']['best_genome'])"
   ]
  },
  {
   "cell_type": "code",
   "execution_count": null,
   "metadata": {},
   "outputs": [],
   "source": []
  }
 ],
 "metadata": {
  "anaconda-cloud": {},
  "kernelspec": {
   "display_name": "Python 3",
   "language": "python",
   "name": "python3"
  },
  "language_info": {
   "codemirror_mode": {
    "name": "ipython",
    "version": 3
   },
   "file_extension": ".py",
   "mimetype": "text/x-python",
   "name": "python",
   "nbconvert_exporter": "python",
   "pygments_lexer": "ipython3",
   "version": "3.6.7"
  }
 },
 "nbformat": 4,
 "nbformat_minor": 2
}
