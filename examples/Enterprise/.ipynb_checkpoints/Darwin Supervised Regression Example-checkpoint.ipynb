{
 "cells": [
  {
   "cell_type": "markdown",
   "metadata": {},
   "source": [
    "<img src=\"https://cybersecurity-excellence-awards.com/wp-content/uploads/2017/06/366812.png\">"
   ]
  },
  {
   "cell_type": "markdown",
   "metadata": {},
   "source": [
    "<h1><center>Darwin Supervised Regression Model Building </center></h1>"
   ]
  },
  {
   "cell_type": "markdown",
   "metadata": {},
   "source": [
    "# Prior to getting started:"
   ]
  },
  {
   "cell_type": "markdown",
   "metadata": {},
   "source": [
    "Darwin notebook will no longer support 'Register User' starting from 2.0. As a user, you must have credentials ready before using this notebook. \n",
    "\n",
    "In order to proceed, in the Environment Variables cell: \n",
    "1. Set your username and password to ensure that you're able to log in successfully\n",
    "2. Set the path to the location of your datasets if you are using your own data.  The path is set for the examples.\n",
    "3. Set the dataset names accordingly\n",
    "\n",
    "Here are a few things to be mindful of:\n",
    "1. For every run, check the job status (i.e. requested, failed, running, completed) and wait for job to complete before proceeding. \n",
    "2. If you're not satisfied with your model and think that Darwin can benefit from extra training, use the resume function."
   ]
  },
  {
   "cell_type": "markdown",
   "metadata": {},
   "source": [
    "## Import Necessary Libraries"
   ]
  },
  {
   "cell_type": "code",
   "execution_count": 82,
   "metadata": {},
   "outputs": [],
   "source": [
    "%matplotlib inline\n",
    "import matplotlib.pyplot as plt\n",
    "import pandas as pd\n",
    "import os\n",
    "import datetime\n",
    "import numpy as np\n",
    "from IPython.display import Image\n",
    "from time import sleep\n",
    "from sklearn.metrics import r2_score\n",
    "from amb_sdk.sdk import DarwinSdk"
   ]
  },
  {
   "cell_type": "markdown",
   "metadata": {},
   "source": [
    "## Set Darwin SDK"
   ]
  },
  {
   "cell_type": "code",
   "execution_count": 83,
   "metadata": {},
   "outputs": [
    {
     "data": {
      "text/plain": [
       "(True, 'https://amb-api.sparkcognition.com/v1/')"
      ]
     },
     "execution_count": 83,
     "metadata": {},
     "output_type": "execute_result"
    }
   ],
   "source": [
    "ds = DarwinSdk()\n",
    "ds.set_url('https://darwin-api.sparkcognition.com/v1/')"
   ]
  },
  {
   "cell_type": "markdown",
   "metadata": {},
   "source": [
    "## Environment Variables"
   ]
  },
  {
   "cell_type": "code",
   "execution_count": 84,
   "metadata": {},
   "outputs": [],
   "source": [
    "#Set your user id and password accordingly\n",
    "USER=\"[your Darwin user id]\"\n",
    "PW=\"[your Darwin password]\"\n",
    "\n",
    "# Set path to datasets - The default below assumes Jupyter was started from amb-sdk/examples/Enterprise/\n",
    "# Modify accordingly if you wish to use your own data\n",
    "# PATH_TO_DATASET='../../sets/'\n",
    "PATH_TO_DATASET='../../sets/'\n",
    "TRAIN_DATASET='power_train.csv'\n",
    "TEST_DATASET='power_test.csv'\n",
    "\n",
    "# A timestamp is used to create a unique name in the event you execute the workflow multiple times or with \n",
    "# different datasets.  File names must be unique in Darwin.\n",
    "ts = '{:%Y%m%d%H%M%S}'.format(datetime.datetime.now())"
   ]
  },
  {
   "cell_type": "markdown",
   "metadata": {},
   "source": [
    "# User Login "
   ]
  },
  {
   "cell_type": "code",
   "execution_count": 90,
   "metadata": {},
   "outputs": [
    {
     "name": "stdout",
     "output_type": "stream",
     "text": [
      "Login successfully!\n"
     ]
    }
   ],
   "source": [
    "status, msg = ds.auth_login_user(USER,PW)\n",
    "if not status:\n",
    "    print(msg)\n",
    "else:\n",
    "    print(\"Login successfully!\")"
   ]
  },
  {
   "cell_type": "markdown",
   "metadata": {},
   "source": [
    "# Data Upload"
   ]
  },
  {
   "cell_type": "markdown",
   "metadata": {},
   "source": [
    "**Read dataset and view a file snippet**"
   ]
  },
  {
   "cell_type": "code",
   "execution_count": 91,
   "metadata": {},
   "outputs": [
    {
     "data": {
      "text/html": [
       "<div>\n",
       "<style scoped>\n",
       "    .dataframe tbody tr th:only-of-type {\n",
       "        vertical-align: middle;\n",
       "    }\n",
       "\n",
       "    .dataframe tbody tr th {\n",
       "        vertical-align: top;\n",
       "    }\n",
       "\n",
       "    .dataframe thead th {\n",
       "        text-align: right;\n",
       "    }\n",
       "</style>\n",
       "<table border=\"1\" class=\"dataframe\">\n",
       "  <thead>\n",
       "    <tr style=\"text-align: right;\">\n",
       "      <th></th>\n",
       "      <th>AT</th>\n",
       "      <th>V</th>\n",
       "      <th>AP</th>\n",
       "      <th>RH</th>\n",
       "      <th>PE</th>\n",
       "    </tr>\n",
       "  </thead>\n",
       "  <tbody>\n",
       "    <tr>\n",
       "      <th>0</th>\n",
       "      <td>14.96</td>\n",
       "      <td>41.76</td>\n",
       "      <td>1024.07</td>\n",
       "      <td>73.17</td>\n",
       "      <td>463.26</td>\n",
       "    </tr>\n",
       "    <tr>\n",
       "      <th>1</th>\n",
       "      <td>25.18</td>\n",
       "      <td>62.96</td>\n",
       "      <td>1020.04</td>\n",
       "      <td>59.08</td>\n",
       "      <td>444.37</td>\n",
       "    </tr>\n",
       "    <tr>\n",
       "      <th>2</th>\n",
       "      <td>5.11</td>\n",
       "      <td>39.40</td>\n",
       "      <td>1012.16</td>\n",
       "      <td>92.14</td>\n",
       "      <td>488.56</td>\n",
       "    </tr>\n",
       "    <tr>\n",
       "      <th>3</th>\n",
       "      <td>20.86</td>\n",
       "      <td>57.32</td>\n",
       "      <td>1010.24</td>\n",
       "      <td>76.64</td>\n",
       "      <td>446.48</td>\n",
       "    </tr>\n",
       "    <tr>\n",
       "      <th>4</th>\n",
       "      <td>10.82</td>\n",
       "      <td>37.50</td>\n",
       "      <td>1009.23</td>\n",
       "      <td>96.62</td>\n",
       "      <td>473.90</td>\n",
       "    </tr>\n",
       "  </tbody>\n",
       "</table>\n",
       "</div>"
      ],
      "text/plain": [
       "      AT      V       AP     RH      PE\n",
       "0  14.96  41.76  1024.07  73.17  463.26\n",
       "1  25.18  62.96  1020.04  59.08  444.37\n",
       "2   5.11  39.40  1012.16  92.14  488.56\n",
       "3  20.86  57.32  1010.24  76.64  446.48\n",
       "4  10.82  37.50  1009.23  96.62  473.90"
      ]
     },
     "execution_count": 91,
     "metadata": {},
     "output_type": "execute_result"
    }
   ],
   "source": [
    "df = pd.read_csv(os.path.join(PATH_TO_DATASET, TRAIN_DATASET))\n",
    "df.head()"
   ]
  },
  {
   "cell_type": "code",
   "execution_count": 92,
   "metadata": {},
   "outputs": [
    {
     "data": {
      "text/plain": [
       "(9001, 5)"
      ]
     },
     "execution_count": 92,
     "metadata": {},
     "output_type": "execute_result"
    }
   ],
   "source": [
    "df.shape"
   ]
  },
  {
   "cell_type": "markdown",
   "metadata": {},
   "source": [
    "**Upload dataset to Darwin**"
   ]
  },
  {
   "cell_type": "code",
   "execution_count": 93,
   "metadata": {
    "scrolled": true
   },
   "outputs": [
    {
     "name": "stdout",
     "output_type": "stream",
     "text": [
      "Upload dataset successfully!\n"
     ]
    }
   ],
   "source": [
    "# Upload dataset\n",
    "status, dataset = ds.upload_dataset(os.path.join(PATH_TO_DATASET, TRAIN_DATASET))\n",
    "if not status:\n",
    "    print(dataset)\n",
    "else:\n",
    "    print(\"Upload dataset successfully!\")"
   ]
  },
  {
   "cell_type": "markdown",
   "metadata": {},
   "source": [
    "## Analyze Data\n",
    "Analyze data is a necessary step before cleaning data and creating model. "
   ]
  },
  {
   "cell_type": "code",
   "execution_count": 94,
   "metadata": {},
   "outputs": [
    {
     "name": "stdout",
     "output_type": "stream",
     "text": [
      "{'status': 'Complete', 'starttime': '2019-07-19T13:19:22.42972', 'endtime': None, 'percent_complete': 100, 'job_type': 'AnalyzeData', 'loss': None, 'generations': None, 'dataset_names': ['power_train.csv'], 'artifact_names': ['Darwin_analyze_data_artifact-20190719131811'], 'model_name': None, 'job_error': None}\n"
     ]
    }
   ],
   "source": [
    "status, analyze_id = ds.analyze_data(TRAIN_DATASET, \n",
    "                                     job_name = 'Darwin_analyze_data_job' + \"-\" + ts, \n",
    "                                     artifact_name = 'Darwin_analyze_data_artifact' + \"-\" + ts)\n",
    "sleep(1)\n",
    "if status:\n",
    "    ds.wait_for_job('Darwin_analyze_data_job' + \"-\" + ts)\n",
    "else:\n",
    "    print(analyze_id)"
   ]
  },
  {
   "cell_type": "markdown",
   "metadata": {},
   "source": [
    "## **Clean dataset**"
   ]
  },
  {
   "cell_type": "code",
   "execution_count": 95,
   "metadata": {},
   "outputs": [
    {
     "name": "stdout",
     "output_type": "stream",
     "text": [
      "{'status': 'Complete', 'starttime': '2019-07-19T13:19:28.321422', 'endtime': None, 'percent_complete': 100, 'job_type': 'CleanData', 'loss': None, 'generations': None, 'dataset_names': ['power_train.csv'], 'artifact_names': None, 'model_name': None, 'job_error': None}\n"
     ]
    }
   ],
   "source": [
    "# clean dataset\n",
    "target = \"PE\"\n",
    "status, job_id = ds.clean_data(TRAIN_DATASET, target = target)\n",
    "\n",
    "if status:\n",
    "    ds.wait_for_job(job_id['job_name'])\n",
    "else:\n",
    "    print(job_id)"
   ]
  },
  {
   "cell_type": "markdown",
   "metadata": {},
   "source": [
    "# Create and Train Model "
   ]
  },
  {
   "cell_type": "markdown",
   "metadata": {},
   "source": [
    "We will now build a model that will learn the class labels in the target column.<br> In the default boston dataset, the target column is \"Assessed_Value\". <br> You will have to specify your own target name for your custom dataset. <br> You can also increase max_train_time for longer training.\n"
   ]
  },
  {
   "cell_type": "markdown",
   "metadata": {},
   "source": [
    "#### NOTE (New Feature in Darwin 2.0):\n",
    "User can applies cross-validation in Darwin now. Simply specify k for the number of cross-validaiton to be ran."
   ]
  },
  {
   "cell_type": "code",
   "execution_count": 96,
   "metadata": {},
   "outputs": [],
   "source": [
    "cv_kfold = 3"
   ]
  },
  {
   "cell_type": "code",
   "execution_count": 97,
   "metadata": {
    "scrolled": true
   },
   "outputs": [
    {
     "name": "stdout",
     "output_type": "stream",
     "text": [
      "{'status': 'Requested', 'starttime': '2019-07-19T13:19:52.110699', 'endtime': None, 'percent_complete': 0, 'job_type': 'TrainModel', 'loss': None, 'generations': 0, 'dataset_names': ['power_train.csv'], 'artifact_names': None, 'model_name': 'PE_model320190719131811', 'job_error': None}\n",
      "{'status': 'Running', 'starttime': '2019-07-19T13:19:52.110699', 'endtime': None, 'percent_complete': 0, 'job_type': 'TrainModel', 'loss': None, 'generations': 0, 'dataset_names': ['power_train.csv'], 'artifact_names': None, 'model_name': 'PE_model320190719131811', 'job_error': ''}\n",
      "{'status': 'Running', 'starttime': '2019-07-19T13:19:52.110699', 'endtime': None, 'percent_complete': 0, 'job_type': 'TrainModel', 'loss': None, 'generations': 0, 'dataset_names': ['power_train.csv'], 'artifact_names': None, 'model_name': 'PE_model320190719131811', 'job_error': ''}\n",
      "{'status': 'Running', 'starttime': '2019-07-19T13:19:52.110699', 'endtime': None, 'percent_complete': 0, 'job_type': 'TrainModel', 'loss': None, 'generations': 0, 'dataset_names': ['power_train.csv'], 'artifact_names': None, 'model_name': 'PE_model320190719131811', 'job_error': ''}\n",
      "{'status': 'Running', 'starttime': '2019-07-19T13:19:52.110699', 'endtime': None, 'percent_complete': 0, 'job_type': 'TrainModel', 'loss': None, 'generations': 0, 'dataset_names': ['power_train.csv'], 'artifact_names': None, 'model_name': 'PE_model320190719131811', 'job_error': ''}\n",
      "{'status': 'Running', 'starttime': '2019-07-19T13:19:52.110699', 'endtime': None, 'percent_complete': 0, 'job_type': 'TrainModel', 'loss': None, 'generations': 0, 'dataset_names': ['power_train.csv'], 'artifact_names': None, 'model_name': 'PE_model320190719131811', 'job_error': ''}\n",
      "{'status': 'Running', 'starttime': '2019-07-19T13:19:52.110699', 'endtime': None, 'percent_complete': 50, 'job_type': 'TrainModel', 'loss': 0.03736050799489021, 'generations': 6, 'dataset_names': ['power_train.csv'], 'artifact_names': None, 'model_name': 'PE_model320190719131811', 'job_error': ''}\n",
      "{'status': 'Running', 'starttime': '2019-07-19T13:19:52.110699', 'endtime': None, 'percent_complete': 50, 'job_type': 'TrainModel', 'loss': 0.03736050799489021, 'generations': 9, 'dataset_names': ['power_train.csv'], 'artifact_names': None, 'model_name': 'PE_model320190719131811', 'job_error': ''}\n",
      "{'status': 'Running', 'starttime': '2019-07-19T13:19:52.110699', 'endtime': None, 'percent_complete': 52, 'job_type': 'TrainModel', 'loss': 0.03736050799489021, 'generations': 11, 'dataset_names': ['power_train.csv'], 'artifact_names': None, 'model_name': 'PE_model320190719131811', 'job_error': ''}\n",
      "{'status': 'Running', 'starttime': '2019-07-19T13:19:52.110699', 'endtime': None, 'percent_complete': 70, 'job_type': 'TrainModel', 'loss': 0.03736050799489021, 'generations': 12, 'dataset_names': ['power_train.csv'], 'artifact_names': None, 'model_name': 'PE_model320190719131811', 'job_error': ''}\n",
      "{'status': 'Running', 'starttime': '2019-07-19T13:19:52.110699', 'endtime': None, 'percent_complete': 86, 'job_type': 'TrainModel', 'loss': 0.03736050799489021, 'generations': 13, 'dataset_names': ['power_train.csv'], 'artifact_names': None, 'model_name': 'PE_model320190719131811', 'job_error': ''}\n",
      "{'status': 'Complete', 'starttime': '2019-07-19T13:19:52.110699', 'endtime': '2019-07-19T13:22:29.758398', 'percent_complete': 100, 'job_type': 'TrainModel', 'loss': 0.03736050799489021, 'generations': 14, 'dataset_names': ['power_train.csv'], 'artifact_names': None, 'model_name': 'PE_model320190719131811', 'job_error': ''}\n"
     ]
    }
   ],
   "source": [
    "model = target + \"_model3\" + ts\n",
    "max_train_time = '00:01'\n",
    "status, job_id = ds.create_model(dataset_names = TRAIN_DATASET,\n",
    "                                 model_name =  model,\n",
    "                                 max_train_time = max_train_time,\n",
    "                                 fit_profile_name = job_id['profile_name'],\n",
    "                                 cv_kfold = cv_kfold)\n",
    "if status:\n",
    "    ds.wait_for_job(job_id['job_name'])\n",
    "else:\n",
    "    print(job_id)"
   ]
  },
  {
   "cell_type": "code",
   "execution_count": 98,
   "metadata": {},
   "outputs": [
    {
     "data": {
      "text/plain": [
       "(True,\n",
       " {'status': 'Complete',\n",
       "  'starttime': '2019-07-19T13:19:52.110699',\n",
       "  'endtime': '2019-07-19T13:22:29.758398',\n",
       "  'percent_complete': 100,\n",
       "  'job_type': 'TrainModel',\n",
       "  'loss': 0.03736050799489021,\n",
       "  'generations': 14,\n",
       "  'dataset_names': ['power_train.csv'],\n",
       "  'artifact_names': None,\n",
       "  'model_name': 'PE_model320190719131811',\n",
       "  'job_error': ''})"
      ]
     },
     "execution_count": 98,
     "metadata": {},
     "output_type": "execute_result"
    }
   ],
   "source": [
    "ds.lookup_job_status_name(job_id['job_name'])"
   ]
  },
  {
   "cell_type": "markdown",
   "metadata": {},
   "source": [
    "# Extra Training (Optional)\n",
    "Run the following cell for extra training, no need to specify parameters"
   ]
  },
  {
   "cell_type": "code",
   "execution_count": 99,
   "metadata": {},
   "outputs": [
    {
     "name": "stdout",
     "output_type": "stream",
     "text": [
      "{'status': 'Requested', 'starttime': '2019-07-19T13:23:43.470222', 'endtime': None, 'percent_complete': 0, 'job_type': 'UpdateModel', 'loss': 0.03736050799489021, 'generations': 14, 'dataset_names': ['power_train.csv'], 'artifact_names': None, 'model_name': 'PE_model320190719131811', 'job_error': None}\n",
      "{'status': 'Running', 'starttime': '2019-07-19T13:23:43.470222', 'endtime': None, 'percent_complete': 0, 'job_type': 'UpdateModel', 'loss': 0.03736050799489021, 'generations': 14, 'dataset_names': ['power_train.csv'], 'artifact_names': None, 'model_name': 'PE_model320190719131811', 'job_error': ''}\n",
      "{'status': 'Running', 'starttime': '2019-07-19T13:23:43.470222', 'endtime': None, 'percent_complete': 16, 'job_type': 'UpdateModel', 'loss': 0.03736050799489021, 'generations': 22, 'dataset_names': ['power_train.csv'], 'artifact_names': None, 'model_name': 'PE_model320190719131811', 'job_error': ''}\n",
      "{'status': 'Running', 'starttime': '2019-07-19T13:23:43.470222', 'endtime': None, 'percent_complete': 35, 'job_type': 'UpdateModel', 'loss': 0.03736050799489021, 'generations': 24, 'dataset_names': ['power_train.csv'], 'artifact_names': None, 'model_name': 'PE_model320190719131811', 'job_error': ''}\n",
      "{'status': 'Running', 'starttime': '2019-07-19T13:23:43.470222', 'endtime': None, 'percent_complete': 63, 'job_type': 'UpdateModel', 'loss': 0.03736050799489021, 'generations': 26, 'dataset_names': ['power_train.csv'], 'artifact_names': None, 'model_name': 'PE_model320190719131811', 'job_error': ''}\n",
      "{'status': 'Running', 'starttime': '2019-07-19T13:23:43.470222', 'endtime': None, 'percent_complete': 82, 'job_type': 'UpdateModel', 'loss': 0.03736050799489021, 'generations': 28, 'dataset_names': ['power_train.csv'], 'artifact_names': None, 'model_name': 'PE_model320190719131811', 'job_error': ''}\n",
      "{'status': 'Running', 'starttime': '2019-07-19T13:23:43.470222', 'endtime': None, 'percent_complete': 93, 'job_type': 'UpdateModel', 'loss': 0.03736050799489021, 'generations': 29, 'dataset_names': ['power_train.csv'], 'artifact_names': None, 'model_name': 'PE_model320190719131811', 'job_error': ''}\n",
      "{'status': 'Running', 'starttime': '2019-07-19T13:23:43.470222', 'endtime': None, 'percent_complete': 93, 'job_type': 'UpdateModel', 'loss': 0.03736050799489021, 'generations': 29, 'dataset_names': ['power_train.csv'], 'artifact_names': None, 'model_name': 'PE_model320190719131811', 'job_error': ''}\n",
      "{'status': 'Running', 'starttime': '2019-07-19T13:23:43.470222', 'endtime': None, 'percent_complete': 93, 'job_type': 'UpdateModel', 'loss': 0.03736050799489021, 'generations': 29, 'dataset_names': ['power_train.csv'], 'artifact_names': None, 'model_name': 'PE_model320190719131811', 'job_error': ''}\n",
      "{'status': 'Running', 'starttime': '2019-07-19T13:23:43.470222', 'endtime': None, 'percent_complete': 93, 'job_type': 'UpdateModel', 'loss': 0.03736050799489021, 'generations': 29, 'dataset_names': ['power_train.csv'], 'artifact_names': None, 'model_name': 'PE_model320190719131811', 'job_error': ''}\n",
      "{'status': 'Complete', 'starttime': '2019-07-19T13:23:43.470222', 'endtime': '2019-07-19T13:26:00.227376', 'percent_complete': 100, 'job_type': 'UpdateModel', 'loss': 0.03736050799489021, 'generations': 29, 'dataset_names': ['power_train.csv'], 'artifact_names': None, 'model_name': 'PE_model320190719131811', 'job_error': ''}\n"
     ]
    }
   ],
   "source": [
    "status, job_id = ds.resume_training_model(dataset_names = TRAIN_DATASET,\n",
    "                                          model_name = model,\n",
    "                                          max_train_time = '00:01')\n",
    "                                          \n",
    "if status:\n",
    "    ds.wait_for_job(job_id['job_name'])\n",
    "else:\n",
    "    print(job_id)"
   ]
  },
  {
   "cell_type": "markdown",
   "metadata": {},
   "source": [
    "# Analyze Model\n",
    "Analyze model provides feature importance ranked by the model. <br> It indicates a general view of which features pose a bigger impact on the model"
   ]
  },
  {
   "cell_type": "code",
   "execution_count": 100,
   "metadata": {
    "scrolled": true
   },
   "outputs": [
    {
     "name": "stdout",
     "output_type": "stream",
     "text": [
      "{'status': 'Running', 'starttime': '2019-07-19T13:26:23.291245', 'endtime': None, 'percent_complete': 0, 'job_type': 'AnalyzeModel', 'loss': 0.03736050799489021, 'generations': 29, 'dataset_names': None, 'artifact_names': ['8d10dfd726854052831d7d4fc98dee74'], 'model_name': 'PE_model320190719131811', 'job_error': ''}\n",
      "{'status': 'Complete', 'starttime': '2019-07-19T13:26:23.291245', 'endtime': '2019-07-19T13:26:24.788321', 'percent_complete': 100, 'job_type': 'AnalyzeModel', 'loss': 0.03736050799489021, 'generations': 29, 'dataset_names': None, 'artifact_names': ['8d10dfd726854052831d7d4fc98dee74'], 'model_name': 'PE_model320190719131811', 'job_error': ''}\n"
     ]
    }
   ],
   "source": [
    "# Retrieve feature importance of built model\n",
    "status, artifact = ds.analyze_model(model)\n",
    "sleep(1)\n",
    "if status:\n",
    "    ds.wait_for_job(artifact['job_name'])\n",
    "else:\n",
    "    print(artifact)\n",
    "status, feature_importance = ds.download_artifact(artifact['artifact_name'])"
   ]
  },
  {
   "cell_type": "markdown",
   "metadata": {},
   "source": [
    "Show the 10 most important features of the model."
   ]
  },
  {
   "cell_type": "code",
   "execution_count": 101,
   "metadata": {},
   "outputs": [
    {
     "data": {
      "text/plain": [
       "AT    0.473954\n",
       "RH    0.212914\n",
       "AP    0.198111\n",
       "V     0.115022\n",
       "dtype: float64"
      ]
     },
     "execution_count": 101,
     "metadata": {},
     "output_type": "execute_result"
    }
   ],
   "source": [
    "feature_importance[:10]"
   ]
  },
  {
   "cell_type": "markdown",
   "metadata": {},
   "source": [
    "# Predictions\n",
    "**Perform model prediction on the the training dataset.**"
   ]
  },
  {
   "cell_type": "code",
   "execution_count": 102,
   "metadata": {},
   "outputs": [
    {
     "data": {
      "text/html": [
       "<div>\n",
       "<style scoped>\n",
       "    .dataframe tbody tr th:only-of-type {\n",
       "        vertical-align: middle;\n",
       "    }\n",
       "\n",
       "    .dataframe tbody tr th {\n",
       "        vertical-align: top;\n",
       "    }\n",
       "\n",
       "    .dataframe thead th {\n",
       "        text-align: right;\n",
       "    }\n",
       "</style>\n",
       "<table border=\"1\" class=\"dataframe\">\n",
       "  <thead>\n",
       "    <tr style=\"text-align: right;\">\n",
       "      <th></th>\n",
       "      <th>year</th>\n",
       "      <th>month</th>\n",
       "      <th>day</th>\n",
       "      <th>hour</th>\n",
       "      <th>pm2.5</th>\n",
       "      <th>DEWP</th>\n",
       "      <th>TEMP</th>\n",
       "      <th>PRES</th>\n",
       "      <th>cbwd</th>\n",
       "      <th>Iws</th>\n",
       "      <th>Is</th>\n",
       "      <th>Ir</th>\n",
       "    </tr>\n",
       "  </thead>\n",
       "  <tbody>\n",
       "    <tr>\n",
       "      <th>0</th>\n",
       "      <td>2014</td>\n",
       "      <td>12</td>\n",
       "      <td>2</td>\n",
       "      <td>0</td>\n",
       "      <td>15.0</td>\n",
       "      <td>-20</td>\n",
       "      <td>-8.0</td>\n",
       "      <td>1033.0</td>\n",
       "      <td>NW</td>\n",
       "      <td>390.27</td>\n",
       "      <td>0</td>\n",
       "      <td>0</td>\n",
       "    </tr>\n",
       "    <tr>\n",
       "      <th>1</th>\n",
       "      <td>2014</td>\n",
       "      <td>12</td>\n",
       "      <td>2</td>\n",
       "      <td>1</td>\n",
       "      <td>11.0</td>\n",
       "      <td>-20</td>\n",
       "      <td>-9.0</td>\n",
       "      <td>1033.0</td>\n",
       "      <td>NW</td>\n",
       "      <td>394.29</td>\n",
       "      <td>0</td>\n",
       "      <td>0</td>\n",
       "    </tr>\n",
       "    <tr>\n",
       "      <th>2</th>\n",
       "      <td>2014</td>\n",
       "      <td>12</td>\n",
       "      <td>2</td>\n",
       "      <td>2</td>\n",
       "      <td>13.0</td>\n",
       "      <td>-21</td>\n",
       "      <td>-7.0</td>\n",
       "      <td>1032.0</td>\n",
       "      <td>NE</td>\n",
       "      <td>3.13</td>\n",
       "      <td>0</td>\n",
       "      <td>0</td>\n",
       "    </tr>\n",
       "    <tr>\n",
       "      <th>3</th>\n",
       "      <td>2014</td>\n",
       "      <td>12</td>\n",
       "      <td>2</td>\n",
       "      <td>3</td>\n",
       "      <td>11.0</td>\n",
       "      <td>-21</td>\n",
       "      <td>-7.0</td>\n",
       "      <td>1031.0</td>\n",
       "      <td>NE</td>\n",
       "      <td>7.15</td>\n",
       "      <td>0</td>\n",
       "      <td>0</td>\n",
       "    </tr>\n",
       "    <tr>\n",
       "      <th>4</th>\n",
       "      <td>2014</td>\n",
       "      <td>12</td>\n",
       "      <td>2</td>\n",
       "      <td>4</td>\n",
       "      <td>13.0</td>\n",
       "      <td>-21</td>\n",
       "      <td>-8.0</td>\n",
       "      <td>1030.0</td>\n",
       "      <td>NE</td>\n",
       "      <td>11.17</td>\n",
       "      <td>0</td>\n",
       "      <td>0</td>\n",
       "    </tr>\n",
       "  </tbody>\n",
       "</table>\n",
       "</div>"
      ],
      "text/plain": [
       "   year  month  day  hour  pm2.5  DEWP  TEMP    PRES cbwd     Iws  Is  Ir\n",
       "0  2014     12    2     0   15.0   -20  -8.0  1033.0   NW  390.27   0   0\n",
       "1  2014     12    2     1   11.0   -20  -9.0  1033.0   NW  394.29   0   0\n",
       "2  2014     12    2     2   13.0   -21  -7.0  1032.0   NE    3.13   0   0\n",
       "3  2014     12    2     3   11.0   -21  -7.0  1031.0   NE    7.15   0   0\n",
       "4  2014     12    2     4   13.0   -21  -8.0  1030.0   NE   11.17   0   0"
      ]
     },
     "execution_count": 102,
     "metadata": {},
     "output_type": "execute_result"
    }
   ],
   "source": [
    "ts = '{:%Y%m%d%H%M%S}'.format(datetime.datetime.now())\n",
    "df = pd.read_csv(os.path.join(PATH_TO_DATASET, TEST_DATASET))\n",
    "df.head()"
   ]
  },
  {
   "cell_type": "code",
   "execution_count": 103,
   "metadata": {},
   "outputs": [
    {
     "name": "stdout",
     "output_type": "stream",
     "text": [
      "Upload successfully!\n"
     ]
    }
   ],
   "source": [
    "# Upload dataset\n",
    "status, dataset = ds.upload_dataset(os.path.join(PATH_TO_DATASET, TEST_DATASET))\n",
    "if not status:\n",
    "    print(dataset)\n",
    "else:\n",
    "    print(\"Upload successfully!\")"
   ]
  },
  {
   "cell_type": "code",
   "execution_count": 104,
   "metadata": {},
   "outputs": [
    {
     "name": "stdout",
     "output_type": "stream",
     "text": [
      "500: INTERNAL SERVER ERROR - {\"message\": \"Internal Server Error\"}\n",
      "\n"
     ]
    }
   ],
   "source": [
    "# clean dataset\n",
    "status, job_id = ds.clean_data(TEST_DATASET, model_name=model)\n",
    "\n",
    "if status:\n",
    "    ds.wait_for_job(job_id['job_name'])\n",
    "else:\n",
    "    print(job_id)"
   ]
  },
  {
   "cell_type": "code",
   "execution_count": 76,
   "metadata": {
    "scrolled": true
   },
   "outputs": [
    {
     "name": "stdout",
     "output_type": "stream",
     "text": [
      "{'status': 'Running', 'starttime': '2019-07-19T11:27:14.859754', 'endtime': None, 'percent_complete': 0, 'job_type': 'RunModel', 'loss': 0.03796868026256561, 'generations': 31, 'dataset_names': ['power_test.csv'], 'artifact_names': ['206daa0a3dad4c5eb167e1276158f938'], 'model_name': 'PE_model320190719111633', 'job_error': ''}\n",
      "{'status': 'Complete', 'starttime': '2019-07-19T11:27:14.859754', 'endtime': '2019-07-19T11:27:17.974223', 'percent_complete': 100, 'job_type': 'RunModel', 'loss': 0.03796868026256561, 'generations': 31, 'dataset_names': ['power_test.csv'], 'artifact_names': ['206daa0a3dad4c5eb167e1276158f938'], 'model_name': 'PE_model320190719111633', 'job_error': ''}\n"
     ]
    },
    {
     "data": {
      "text/plain": [
       "(True, 'Job completed')"
      ]
     },
     "execution_count": 76,
     "metadata": {},
     "output_type": "execute_result"
    }
   ],
   "source": [
    "status, artifact = ds.run_model(TEST_DATASET, model)\n",
    "sleep(1)\n",
    "ds.wait_for_job(artifact['job_name'])"
   ]
  },
  {
   "cell_type": "markdown",
   "metadata": {},
   "source": [
    "Download predictions from Darwin's server."
   ]
  },
  {
   "cell_type": "code",
   "execution_count": 77,
   "metadata": {
    "scrolled": true
   },
   "outputs": [
    {
     "data": {
      "text/html": [
       "<div>\n",
       "<style scoped>\n",
       "    .dataframe tbody tr th:only-of-type {\n",
       "        vertical-align: middle;\n",
       "    }\n",
       "\n",
       "    .dataframe tbody tr th {\n",
       "        vertical-align: top;\n",
       "    }\n",
       "\n",
       "    .dataframe thead th {\n",
       "        text-align: right;\n",
       "    }\n",
       "</style>\n",
       "<table border=\"1\" class=\"dataframe\">\n",
       "  <thead>\n",
       "    <tr style=\"text-align: right;\">\n",
       "      <th></th>\n",
       "      <th>PE</th>\n",
       "    </tr>\n",
       "  </thead>\n",
       "  <tbody>\n",
       "    <tr>\n",
       "      <th>0</th>\n",
       "      <td>438.742967</td>\n",
       "    </tr>\n",
       "    <tr>\n",
       "      <th>1</th>\n",
       "      <td>431.535066</td>\n",
       "    </tr>\n",
       "    <tr>\n",
       "      <th>2</th>\n",
       "      <td>483.876969</td>\n",
       "    </tr>\n",
       "    <tr>\n",
       "      <th>3</th>\n",
       "      <td>438.310265</td>\n",
       "    </tr>\n",
       "    <tr>\n",
       "      <th>4</th>\n",
       "      <td>449.568585</td>\n",
       "    </tr>\n",
       "  </tbody>\n",
       "</table>\n",
       "</div>"
      ],
      "text/plain": [
       "           PE\n",
       "0  438.742967\n",
       "1  431.535066\n",
       "2  483.876969\n",
       "3  438.310265\n",
       "4  449.568585"
      ]
     },
     "execution_count": 77,
     "metadata": {},
     "output_type": "execute_result"
    }
   ],
   "source": [
    "status, prediction = ds.download_artifact(artifact['artifact_name'])\n",
    "prediction.head()"
   ]
  },
  {
   "cell_type": "markdown",
   "metadata": {},
   "source": [
    "Create plots comparing predictions with actual target"
   ]
  },
  {
   "cell_type": "code",
   "execution_count": 78,
   "metadata": {
    "scrolled": true
   },
   "outputs": [
    {
     "name": "stdout",
     "output_type": "stream",
     "text": [
      "R^2 :  0.9720974229182983\n"
     ]
    },
    {
     "data": {
      "image/png": "[encoded data removed]",
      "text/plain": [
       "<Figure size 432x288 with 1 Axes>"
      ]
     },
     "metadata": {},
     "output_type": "display_data"
    }
   ],
   "source": [
    "#Plot predictions vs actual\n",
    "plt.plot(df[target], prediction[target], '.')\n",
    "plt.plot([0,2.3e7],[0,2.3e7],'--k')\n",
    "print('R^2 : ', r2_score(df[target], prediction[target]))"
   ]
  },
  {
   "cell_type": "markdown",
   "metadata": {},
   "source": [
    "## Find out which machine learning model did Darwin use:"
   ]
  },
  {
   "cell_type": "code",
   "execution_count": 79,
   "metadata": {},
   "outputs": [
    {
     "name": "stdout",
     "output_type": "stream",
     "text": [
      "{'type': 'XGBRegressor', 'parameters': {'base_score': 0.5, 'colsample_bylevel': 1, 'colsample_bytree': 1, 'gamma': 0, 'learning_rate': 0.14622890649709844, 'max_delta_step': 0, 'max_depth': 10, 'min_child_weight': 14, 'n_estimators': 231, 'n_jobs': -1, 'reg_alpha': 0, 'reg_lambda': 1, 'scale_pos_weight': 1, 'subsample': 0.6215453923101522}}\n"
     ]
    }
   ],
   "source": [
    "status, model_type = ds.lookup_model_name(model)\n",
    "print(model_type['description']['best_genome'])"
   ]
  },
  {
   "cell_type": "code",
   "execution_count": null,
   "metadata": {},
   "outputs": [],
   "source": []
  }
 ],
 "metadata": {
  "anaconda-cloud": {},
  "kernelspec": {
   "display_name": "Python 3",
   "language": "python",
   "name": "python3"
  },
  "language_info": {
   "codemirror_mode": {
    "name": "ipython",
    "version": 3
   },
   "file_extension": ".py",
   "mimetype": "text/x-python",
   "name": "python",
   "nbconvert_exporter": "python",
   "pygments_lexer": "ipython3",
   "version": "3.6.7"
  }
 },
 "nbformat": 4,
 "nbformat_minor": 2
}
