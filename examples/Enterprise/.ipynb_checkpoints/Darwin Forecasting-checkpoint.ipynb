{
 "cells": [
  {
   "cell_type": "markdown",
   "metadata": {},
   "source": [
    "<img src=\"https://cybersecurity-excellence-awards.com/wp-content/uploads/2017/06/366812.png\">"
   ]
  },
  {
   "cell_type": "markdown",
   "metadata": {},
   "source": [
    "\n",
    "<h1><center>Darwin Forecasting Model Building </center></h1>\n"
   ]
  },
  {
   "cell_type": "markdown",
   "metadata": {},
   "source": [
    "# Prior to getting started:"
   ]
  },
  {
   "cell_type": "markdown",
   "metadata": {},
   "source": [
    "Darwin notebook will no longer supports 'Register User' starting from 2.0. As a user, you must have credentials ready to login before using this notebook. \n",
    "\n",
    "In order to proceed, in the Environment Variables cell: \n",
    "1. Set your username and password to ensure that you're able to log in successfully\n",
    "2. Set the path to the location of your datasets if you are using your own data.  The path is set for the examples.\n",
    "  <br><b>NOTE:</b> We provide two ways to analyze feature importance. One is to use the entire dataset; the other one is to analyze a few samples to understand individual samples. In the latter case, we advise users to use a small dataset (<=500) because it takes long time to process individual samples. \n",
    "\n",
    "Here are a few things to be mindful of:\n",
    "1. For every run, check the job status (i.e. requested, failed, running, completed) and wait for job to complete before proceeding. \n",
    "2. If you're not satisfied with your model and think that Darwin can benefit from extra training, use the resume function."
   ]
  },
  {
   "cell_type": "markdown",
   "metadata": {},
   "source": [
    "## Import Necessary Libraries"
   ]
  },
  {
   "cell_type": "code",
   "execution_count": 8,
   "metadata": {},
   "outputs": [],
   "source": [
    "%matplotlib inline\n",
    "import matplotlib.pyplot as plt\n",
    "import pandas as pd\n",
    "import os\n",
    "import datetime\n",
    "from IPython.display import Image\n",
    "from time import sleep\n",
    "from amb_sdk.sdk import DarwinSdk"
   ]
  },
  {
   "cell_type": "markdown",
   "metadata": {},
   "source": [
    "## Set Darwin SDK"
   ]
  },
  {
   "cell_type": "code",
   "execution_count": 1,
   "metadata": {},
   "outputs": [
    {
     "name": "stderr",
     "output_type": "stream",
     "text": [
      "/Users/ylan/anaconda3/envs/SiameseNet/lib/python3.6/importlib/_bootstrap.py:219: RuntimeWarning: numpy.dtype size changed, may indicate binary incompatibility. Expected 96, got 88\n",
      "  return f(*args, **kwds)\n",
      "/Users/ylan/anaconda3/envs/SiameseNet/lib/python3.6/importlib/_bootstrap.py:219: RuntimeWarning: numpy.dtype size changed, may indicate binary incompatibility. Expected 96, got 88\n",
      "  return f(*args, **kwds)\n"
     ]
    },
    {
     "data": {
      "text/plain": [
       "(True, 'https://darwin-api.sparkcognition.com/v1/')"
      ]
     },
     "execution_count": 1,
     "metadata": {},
     "output_type": "execute_result"
    }
   ],
   "source": [
    "ds = DarwinSdk()\n",
    "ds.set_url('https://amb-api.sparkcognition.com/v1/')"
   ]
  },
  {
   "cell_type": "markdown",
   "metadata": {},
   "source": [
    "## Environment Variables"
   ]
  },
  {
   "cell_type": "code",
   "execution_count": 3,
   "metadata": {},
   "outputs": [],
   "source": [
    "#Set your user id and password accordingly\n",
    "USER=\"lanyiyun\"\n",
    "PW=\"lanyiyun\"\n",
    "\n",
    "# Set path to datasets - The default below assumes Jupyter was started from amb-sdk/examples/Enterprise/\n",
    "# Modify accordingly if you wish to use your own data\n",
    "PATH_TO_DATASET = '/Users/ylan/Misc/SpectralNet/Darwin/sets/'\n",
    "TRAIN_DATASET = 'sine_train.csv'\n",
    "TEST_DATASET = 'sine_test.csv'\n",
    "\n",
    "# A timestamp is used to create a unique name in the event you execute the workflow multiple times or with \n",
    "# different datasets.  File names must be unique in Darwin.\n",
    "ts = '{:%Y%m%d%H%M%S}'.format(datetime.datetime.now())"
   ]
  },
  {
   "cell_type": "markdown",
   "metadata": {},
   "source": [
    "# User Login"
   ]
  },
  {
   "cell_type": "code",
   "execution_count": 4,
   "metadata": {},
   "outputs": [
    {
     "name": "stdout",
     "output_type": "stream",
     "text": [
      "You are logged in.\n"
     ]
    }
   ],
   "source": [
    "status, msg = ds.auth_login_user(USER, PW)\n",
    "if not status:\n",
    "    print(msg)\n",
    "else:\n",
    "    print('You are logged in.')"
   ]
  },
  {
   "cell_type": "markdown",
   "metadata": {},
   "source": [
    "# Data Upload"
   ]
  },
  {
   "cell_type": "markdown",
   "metadata": {},
   "source": [
    "**Read dataset and view a file snippet**"
   ]
  },
  {
   "cell_type": "code",
   "execution_count": 7,
   "metadata": {},
   "outputs": [
    {
     "data": {
      "text/html": [
       "<div>\n",
       "<style scoped>\n",
       "    .dataframe tbody tr th:only-of-type {\n",
       "        vertical-align: middle;\n",
       "    }\n",
       "\n",
       "    .dataframe tbody tr th {\n",
       "        vertical-align: top;\n",
       "    }\n",
       "\n",
       "    .dataframe thead th {\n",
       "        text-align: right;\n",
       "    }\n",
       "</style>\n",
       "<table border=\"1\" class=\"dataframe\">\n",
       "  <thead>\n",
       "    <tr style=\"text-align: right;\">\n",
       "      <th></th>\n",
       "      <th>x</th>\n",
       "      <th>y</th>\n",
       "    </tr>\n",
       "  </thead>\n",
       "  <tbody>\n",
       "    <tr>\n",
       "      <th>0</th>\n",
       "      <td>0.000000</td>\n",
       "      <td>0.000000</td>\n",
       "    </tr>\n",
       "    <tr>\n",
       "      <th>1</th>\n",
       "      <td>0.591959</td>\n",
       "      <td>0.591959</td>\n",
       "    </tr>\n",
       "    <tr>\n",
       "      <th>2</th>\n",
       "      <td>1.130872</td>\n",
       "      <td>1.130872</td>\n",
       "    </tr>\n",
       "    <tr>\n",
       "      <th>3</th>\n",
       "      <td>1.568445</td>\n",
       "      <td>1.568445</td>\n",
       "    </tr>\n",
       "    <tr>\n",
       "      <th>4</th>\n",
       "      <td>1.865468</td>\n",
       "      <td>1.865468</td>\n",
       "    </tr>\n",
       "  </tbody>\n",
       "</table>\n",
       "</div>"
      ],
      "text/plain": [
       "          x         y\n",
       "0  0.000000  0.000000\n",
       "1  0.591959  0.591959\n",
       "2  1.130872  1.130872\n",
       "3  1.568445  1.568445\n",
       "4  1.865468  1.865468"
      ]
     },
     "execution_count": 7,
     "metadata": {},
     "output_type": "execute_result"
    }
   ],
   "source": [
    "df = pd.read_csv(os.path.join(PATH_TO_DATASET, TRAIN_DATASET))\n",
    "df.head()"
   ]
  },
  {
   "cell_type": "markdown",
   "metadata": {},
   "source": [
    "**Upload training dataset to Darwin**"
   ]
  },
  {
   "cell_type": "code",
   "execution_count": 7,
   "metadata": {
    "scrolled": true
   },
   "outputs": [
    {
     "name": "stdout",
     "output_type": "stream",
     "text": [
      "Deleting model-20190715165920\n",
      "Deleting sine_test.csv\n",
      "Deleting sine_train.csv\n",
      "True\n",
      "{'dataset_name': 'sine_train.csv'}\n",
      "True\n",
      "{'dataset_name': 'sine_test.csv'}\n"
     ]
    }
   ],
   "source": [
    "status, dataset = ds.upload_dataset(os.path.join(PATH_TO_DATASET, TRAIN_DATASET))\n",
    "if not status:\n",
    "    print(dataset)\n",
    "else:\n",
    "    print('Data is successfully uploaded!')"
   ]
  },
  {
   "cell_type": "markdown",
   "metadata": {},
   "source": [
    "#### **Upload testing dataset to Darwin**"
   ]
  },
  {
   "cell_type": "code",
   "execution_count": null,
   "metadata": {},
   "outputs": [],
   "source": [
    "status, dataset = ds.upload_dataset(os.path.join(PATH_TO_DATASET, TEST_DATASET))\n",
    "print(status)\n",
    "print(dataset)\n",
    "if not status:\n",
    "    print(dataset)\n",
    "else:\n",
    "    print('Data is successfully uploaded!')"
   ]
  },
  {
   "cell_type": "markdown",
   "metadata": {},
   "source": [
    "# Analyze Data\n",
    "Analyze data is a necessary step before cleaning data and creating model. "
   ]
  },
  {
   "cell_type": "code",
   "execution_count": 8,
   "metadata": {},
   "outputs": [
    {
     "name": "stdout",
     "output_type": "stream",
     "text": [
      "{'status': 'Complete', 'starttime': '2019-07-16T14:29:22.879924', 'endtime': None, 'percent_complete': 100, 'job_type': 'AnalyzeData', 'loss': None, 'generations': None, 'dataset_names': ['sine_train.csv'], 'artifact_names': ['Darwin_analyze_data_artifact-20190716142903'], 'model_name': None, 'job_error': None}\n"
     ]
    }
   ],
   "source": [
    "status, analyze_id = ds.analyze_data(TRAIN_DATASET, \n",
    "                                     job_name = 'Darwin_analyze_data_job' + \"-\" + ts, \n",
    "                                     artifact_name = 'Darwin_analyze_data_artifact' + \"-\" + ts)\n",
    "sleep(1)\n",
    "if status:\n",
    "    ds.wait_for_job('Darwin_analyze_data_job' + \"-\" + ts)\n",
    "else:\n",
    "    print(analyze_id)"
   ]
  },
  {
   "cell_type": "code",
   "execution_count": 9,
   "metadata": {
    "scrolled": true
   },
   "outputs": [
    {
     "data": {
      "text/plain": [
       "(True,\n",
       " {'status': 'Complete',\n",
       "  'starttime': '2019-07-16T14:29:22.879924',\n",
       "  'endtime': None,\n",
       "  'percent_complete': 100,\n",
       "  'job_type': 'AnalyzeData',\n",
       "  'loss': None,\n",
       "  'generations': None,\n",
       "  'dataset_names': ['sine_train.csv'],\n",
       "  'artifact_names': ['Darwin_analyze_data_artifact-20190716142903'],\n",
       "  'model_name': None,\n",
       "  'job_error': None})"
      ]
     },
     "execution_count": 9,
     "metadata": {},
     "output_type": "execute_result"
    }
   ],
   "source": [
    "ds.lookup_job_status_name(analyze_id['job_name'])"
   ]
  },
  {
   "cell_type": "markdown",
   "metadata": {},
   "source": [
    "# Clean Data\n",
    "\n",
    "Starting Version 1.6, Darwin SDK offers a way to clean your data outside of model training. Every dataset needs to be cleaned before creating a model. There is no need to save the cleaned data and upload it, but users need to specify the target name before running."
   ]
  },
  {
   "cell_type": "code",
   "execution_count": 10,
   "metadata": {},
   "outputs": [
    {
     "name": "stdout",
     "output_type": "stream",
     "text": [
      "Data has been successfully cleaned!\n"
     ]
    }
   ],
   "source": [
    "target = 'y'\n",
    "status, job_id = ds.clean_data(dataset_name=TRAIN_DATASET, target=target)\n",
    "if not status:\n",
    "    print(job_id)\n",
    "else:\n",
    "    print('Data has been successfully cleaned!')"
   ]
  },
  {
   "cell_type": "markdown",
   "metadata": {},
   "source": [
    "# Create and Train Model "
   ]
  },
  {
   "cell_type": "markdown",
   "metadata": {},
   "source": [
    "In the cell below, specify the parameters used to create the forecasting model:\n",
    "- model: the name of your model\n",
    "- forecast_horizon: the forecast length, which is how far you need to predict in the future, int type\n",
    "- max_train_time: the amount of time used for training (possibly shorter with early stopping)"
   ]
  },
  {
   "cell_type": "code",
   "execution_count": 11,
   "metadata": {
    "scrolled": false
   },
   "outputs": [
    {
     "name": "stdout",
     "output_type": "stream",
     "text": [
      "{'status': 'Running', 'starttime': '2019-07-16T14:29:45.649993', 'endtime': None, 'percent_complete': 0, 'job_type': 'TrainModel', 'loss': None, 'generations': 0, 'dataset_names': ['sine_train.csv'], 'artifact_names': None, 'model_name': 'model-20190716142903', 'job_error': ''}\n",
      "{'status': 'Running', 'starttime': '2019-07-16T14:29:45.649993', 'endtime': None, 'percent_complete': 0, 'job_type': 'TrainModel', 'loss': None, 'generations': 0, 'dataset_names': ['sine_train.csv'], 'artifact_names': None, 'model_name': 'model-20190716142903', 'job_error': ''}\n",
      "{'status': 'Running', 'starttime': '2019-07-16T14:29:45.649993', 'endtime': None, 'percent_complete': 0, 'job_type': 'TrainModel', 'loss': None, 'generations': 0, 'dataset_names': ['sine_train.csv'], 'artifact_names': None, 'model_name': 'model-20190716142903', 'job_error': ''}\n",
      "{'status': 'Running', 'starttime': '2019-07-16T14:29:45.649993', 'endtime': None, 'percent_complete': 0, 'job_type': 'TrainModel', 'loss': None, 'generations': 0, 'dataset_names': ['sine_train.csv'], 'artifact_names': None, 'model_name': 'model-20190716142903', 'job_error': ''}\n",
      "{'status': 'Running', 'starttime': '2019-07-16T14:29:45.649993', 'endtime': None, 'percent_complete': 0, 'job_type': 'TrainModel', 'loss': None, 'generations': 0, 'dataset_names': ['sine_train.csv'], 'artifact_names': None, 'model_name': 'model-20190716142903', 'job_error': ''}\n",
      "{'status': 'Running', 'starttime': '2019-07-16T14:29:45.649993', 'endtime': None, 'percent_complete': 0, 'job_type': 'TrainModel', 'loss': None, 'generations': 0, 'dataset_names': ['sine_train.csv'], 'artifact_names': None, 'model_name': 'model-20190716142903', 'job_error': ''}\n",
      "{'status': 'Running', 'starttime': '2019-07-16T14:29:45.649993', 'endtime': None, 'percent_complete': 0, 'job_type': 'TrainModel', 'loss': None, 'generations': 0, 'dataset_names': ['sine_train.csv'], 'artifact_names': None, 'model_name': 'model-20190716142903', 'job_error': ''}\n",
      "{'status': 'Running', 'starttime': '2019-07-16T14:29:45.649993', 'endtime': None, 'percent_complete': 0, 'job_type': 'TrainModel', 'loss': None, 'generations': 0, 'dataset_names': ['sine_train.csv'], 'artifact_names': None, 'model_name': 'model-20190716142903', 'job_error': ''}\n",
      "{'status': 'Running', 'starttime': '2019-07-16T14:29:45.649993', 'endtime': None, 'percent_complete': 0, 'job_type': 'TrainModel', 'loss': None, 'generations': 0, 'dataset_names': ['sine_train.csv'], 'artifact_names': None, 'model_name': 'model-20190716142903', 'job_error': ''}\n",
      "{'status': 'Running', 'starttime': '2019-07-16T14:29:45.649993', 'endtime': None, 'percent_complete': 0, 'job_type': 'TrainModel', 'loss': None, 'generations': 0, 'dataset_names': ['sine_train.csv'], 'artifact_names': None, 'model_name': 'model-20190716142903', 'job_error': ''}\n",
      "{'status': 'Running', 'starttime': '2019-07-16T14:29:45.649993', 'endtime': None, 'percent_complete': 0, 'job_type': 'TrainModel', 'loss': None, 'generations': 0, 'dataset_names': ['sine_train.csv'], 'artifact_names': None, 'model_name': 'model-20190716142903', 'job_error': ''}\n",
      "{'status': 'Running', 'starttime': '2019-07-16T14:29:45.649993', 'endtime': None, 'percent_complete': 0, 'job_type': 'TrainModel', 'loss': None, 'generations': 0, 'dataset_names': ['sine_train.csv'], 'artifact_names': None, 'model_name': 'model-20190716142903', 'job_error': ''}\n",
      "{'status': 'Running', 'starttime': '2019-07-16T14:29:45.649993', 'endtime': None, 'percent_complete': 0, 'job_type': 'TrainModel', 'loss': None, 'generations': 0, 'dataset_names': ['sine_train.csv'], 'artifact_names': None, 'model_name': 'model-20190716142903', 'job_error': ''}\n",
      "{'status': 'Running', 'starttime': '2019-07-16T14:29:45.649993', 'endtime': None, 'percent_complete': 0, 'job_type': 'TrainModel', 'loss': None, 'generations': 0, 'dataset_names': ['sine_train.csv'], 'artifact_names': None, 'model_name': 'model-20190716142903', 'job_error': ''}\n",
      "{'status': 'Running', 'starttime': '2019-07-16T14:29:45.649993', 'endtime': None, 'percent_complete': 0, 'job_type': 'TrainModel', 'loss': None, 'generations': 0, 'dataset_names': ['sine_train.csv'], 'artifact_names': None, 'model_name': 'model-20190716142903', 'job_error': ''}\n",
      "{'status': 'Running', 'starttime': '2019-07-16T14:29:45.649993', 'endtime': None, 'percent_complete': 0, 'job_type': 'TrainModel', 'loss': None, 'generations': 0, 'dataset_names': ['sine_train.csv'], 'artifact_names': None, 'model_name': 'model-20190716142903', 'job_error': ''}\n",
      "{'status': 'Running', 'starttime': '2019-07-16T14:29:45.649993', 'endtime': None, 'percent_complete': 0, 'job_type': 'TrainModel', 'loss': None, 'generations': 0, 'dataset_names': ['sine_train.csv'], 'artifact_names': None, 'model_name': 'model-20190716142903', 'job_error': ''}\n",
      "{'status': 'Running', 'starttime': '2019-07-16T14:29:45.649993', 'endtime': None, 'percent_complete': 0, 'job_type': 'TrainModel', 'loss': None, 'generations': 0, 'dataset_names': ['sine_train.csv'], 'artifact_names': None, 'model_name': 'model-20190716142903', 'job_error': ''}\n",
      "{'status': 'Running', 'starttime': '2019-07-16T14:29:45.649993', 'endtime': None, 'percent_complete': 0, 'job_type': 'TrainModel', 'loss': None, 'generations': 0, 'dataset_names': ['sine_train.csv'], 'artifact_names': None, 'model_name': 'model-20190716142903', 'job_error': ''}\n",
      "{'status': 'Running', 'starttime': '2019-07-16T14:29:45.649993', 'endtime': None, 'percent_complete': 0, 'job_type': 'TrainModel', 'loss': None, 'generations': 0, 'dataset_names': ['sine_train.csv'], 'artifact_names': None, 'model_name': 'model-20190716142903', 'job_error': ''}\n",
      "{'status': 'Running', 'starttime': '2019-07-16T14:29:45.649993', 'endtime': None, 'percent_complete': 0, 'job_type': 'TrainModel', 'loss': 1.1481501132948324e-05, 'generations': 8, 'dataset_names': ['sine_train.csv'], 'artifact_names': None, 'model_name': 'model-20190716142903', 'job_error': ''}\n",
      "{'status': 'Running', 'starttime': '2019-07-16T14:29:45.649993', 'endtime': None, 'percent_complete': 1, 'job_type': 'TrainModel', 'loss': 1.1481501132948324e-05, 'generations': 12, 'dataset_names': ['sine_train.csv'], 'artifact_names': None, 'model_name': 'model-20190716142903', 'job_error': ''}\n",
      "{'status': 'Running', 'starttime': '2019-07-16T14:29:45.649993', 'endtime': None, 'percent_complete': 2, 'job_type': 'TrainModel', 'loss': 1.1481501132948324e-05, 'generations': 15, 'dataset_names': ['sine_train.csv'], 'artifact_names': None, 'model_name': 'model-20190716142903', 'job_error': ''}\n",
      "{'status': 'Running', 'starttime': '2019-07-16T14:29:45.649993', 'endtime': None, 'percent_complete': 4, 'job_type': 'TrainModel', 'loss': 4.3384088712628e-06, 'generations': 18, 'dataset_names': ['sine_train.csv'], 'artifact_names': None, 'model_name': 'model-20190716142903', 'job_error': ''}\n",
      "{'status': 'Running', 'starttime': '2019-07-16T14:29:45.649993', 'endtime': None, 'percent_complete': 4, 'job_type': 'TrainModel', 'loss': 4.3384088712628e-06, 'generations': 19, 'dataset_names': ['sine_train.csv'], 'artifact_names': None, 'model_name': 'model-20190716142903', 'job_error': ''}\n",
      "{'status': 'Running', 'starttime': '2019-07-16T14:29:45.649993', 'endtime': None, 'percent_complete': 6, 'job_type': 'TrainModel', 'loss': 4.3384088712628e-06, 'generations': 22, 'dataset_names': ['sine_train.csv'], 'artifact_names': None, 'model_name': 'model-20190716142903', 'job_error': ''}\n",
      "{'status': 'Running', 'starttime': '2019-07-16T14:29:45.649993', 'endtime': None, 'percent_complete': 7, 'job_type': 'TrainModel', 'loss': 4.3384088712628e-06, 'generations': 24, 'dataset_names': ['sine_train.csv'], 'artifact_names': None, 'model_name': 'model-20190716142903', 'job_error': ''}\n",
      "{'status': 'Running', 'starttime': '2019-07-16T14:29:45.649993', 'endtime': None, 'percent_complete': 9, 'job_type': 'TrainModel', 'loss': 4.3384088712628e-06, 'generations': 27, 'dataset_names': ['sine_train.csv'], 'artifact_names': None, 'model_name': 'model-20190716142903', 'job_error': ''}\n",
      "{'status': 'Running', 'starttime': '2019-07-16T14:29:45.649993', 'endtime': None, 'percent_complete': 10, 'job_type': 'TrainModel', 'loss': 1.2480186342145316e-06, 'generations': 29, 'dataset_names': ['sine_train.csv'], 'artifact_names': None, 'model_name': 'model-20190716142903', 'job_error': ''}\n"
     ]
    },
    {
     "name": "stdout",
     "output_type": "stream",
     "text": [
      "{'status': 'Running', 'starttime': '2019-07-16T14:29:45.649993', 'endtime': None, 'percent_complete': 11, 'job_type': 'TrainModel', 'loss': 1.2480186342145316e-06, 'generations': 31, 'dataset_names': ['sine_train.csv'], 'artifact_names': None, 'model_name': 'model-20190716142903', 'job_error': ''}\n",
      "{'status': 'Running', 'starttime': '2019-07-16T14:29:45.649993', 'endtime': None, 'percent_complete': 12, 'job_type': 'TrainModel', 'loss': 1.2480186342145316e-06, 'generations': 33, 'dataset_names': ['sine_train.csv'], 'artifact_names': None, 'model_name': 'model-20190716142903', 'job_error': ''}\n",
      "{'status': 'Running', 'starttime': '2019-07-16T14:29:45.649993', 'endtime': None, 'percent_complete': 14, 'job_type': 'TrainModel', 'loss': 1.2480186342145316e-06, 'generations': 36, 'dataset_names': ['sine_train.csv'], 'artifact_names': None, 'model_name': 'model-20190716142903', 'job_error': ''}\n",
      "{'status': 'Running', 'starttime': '2019-07-16T14:29:45.649993', 'endtime': None, 'percent_complete': 14, 'job_type': 'TrainModel', 'loss': 1.2480186342145316e-06, 'generations': 37, 'dataset_names': ['sine_train.csv'], 'artifact_names': None, 'model_name': 'model-20190716142903', 'job_error': ''}\n",
      "{'status': 'Running', 'starttime': '2019-07-16T14:29:45.649993', 'endtime': None, 'percent_complete': 16, 'job_type': 'TrainModel', 'loss': 1.2480186342145316e-06, 'generations': 39, 'dataset_names': ['sine_train.csv'], 'artifact_names': None, 'model_name': 'model-20190716142903', 'job_error': ''}\n",
      "{'status': 'Running', 'starttime': '2019-07-16T14:29:45.649993', 'endtime': None, 'percent_complete': 17, 'job_type': 'TrainModel', 'loss': 1.2480186342145316e-06, 'generations': 42, 'dataset_names': ['sine_train.csv'], 'artifact_names': None, 'model_name': 'model-20190716142903', 'job_error': ''}\n",
      "{'status': 'Running', 'starttime': '2019-07-16T14:29:45.649993', 'endtime': None, 'percent_complete': 19, 'job_type': 'TrainModel', 'loss': 1.2480186342145316e-06, 'generations': 44, 'dataset_names': ['sine_train.csv'], 'artifact_names': None, 'model_name': 'model-20190716142903', 'job_error': ''}\n",
      "{'status': 'Running', 'starttime': '2019-07-16T14:29:45.649993', 'endtime': None, 'percent_complete': 19, 'job_type': 'TrainModel', 'loss': 1.2480186342145316e-06, 'generations': 45, 'dataset_names': ['sine_train.csv'], 'artifact_names': None, 'model_name': 'model-20190716142903', 'job_error': ''}\n",
      "{'status': 'Running', 'starttime': '2019-07-16T14:29:45.649993', 'endtime': None, 'percent_complete': 21, 'job_type': 'TrainModel', 'loss': 1.2480186342145316e-06, 'generations': 48, 'dataset_names': ['sine_train.csv'], 'artifact_names': None, 'model_name': 'model-20190716142903', 'job_error': ''}\n",
      "{'status': 'Running', 'starttime': '2019-07-16T14:29:45.649993', 'endtime': None, 'percent_complete': 22, 'job_type': 'TrainModel', 'loss': 1.2480186342145316e-06, 'generations': 50, 'dataset_names': ['sine_train.csv'], 'artifact_names': None, 'model_name': 'model-20190716142903', 'job_error': ''}\n",
      "{'status': 'Running', 'starttime': '2019-07-16T14:29:45.649993', 'endtime': None, 'percent_complete': 23, 'job_type': 'TrainModel', 'loss': 1.2480186342145316e-06, 'generations': 52, 'dataset_names': ['sine_train.csv'], 'artifact_names': None, 'model_name': 'model-20190716142903', 'job_error': ''}\n",
      "{'status': 'Running', 'starttime': '2019-07-16T14:29:45.649993', 'endtime': None, 'percent_complete': 24, 'job_type': 'TrainModel', 'loss': 1.2480186342145316e-06, 'generations': 53, 'dataset_names': ['sine_train.csv'], 'artifact_names': None, 'model_name': 'model-20190716142903', 'job_error': ''}\n"
     ]
    }
   ],
   "source": [
    "model = \"model\" + \"-\" + ts\n",
    "forecast_horizon = 2\n",
    "max_train_time = '00:20'\n",
    "status, job_id = ds.create_model(dataset_names=TRAIN_DATASET,\n",
    "                                 model_name=model,\n",
    "                                 forecast_horizon=forecast_horizon,\n",
    "                                 fit_profile_name=job_id['profile_name'],\n",
    "                                 max_train_time=max_train_time)\n",
    "sleep(1)\n",
    "if status:\n",
    "    ds.wait_for_job(job_id['job_name'])\n",
    "else:\n",
    "    print(job_id)"
   ]
  },
  {
   "cell_type": "code",
   "execution_count": 12,
   "metadata": {},
   "outputs": [
    {
     "data": {
      "text/plain": [
       "(True,\n",
       " {'status': 'Complete',\n",
       "  'starttime': '2019-07-16T14:29:45.649993',\n",
       "  'endtime': '2019-07-16T14:54:58.737844',\n",
       "  'percent_complete': 100,\n",
       "  'job_type': 'TrainModel',\n",
       "  'loss': 1.0151908758082584e-09,\n",
       "  'generations': 145,\n",
       "  'dataset_names': ['sine_train.csv'],\n",
       "  'artifact_names': None,\n",
       "  'model_name': 'model-20190716142903',\n",
       "  'job_error': ''})"
      ]
     },
     "execution_count": 12,
     "metadata": {},
     "output_type": "execute_result"
    }
   ],
   "source": [
    "# look up job status\n",
    "ds.lookup_job_status_name(job_id['job_name'])"
   ]
  },
  {
   "cell_type": "code",
   "execution_count": 13,
   "metadata": {},
   "outputs": [
    {
     "data": {
      "text/plain": [
       "(True,\n",
       " {'id': '115fcfa4-a800-11e9-9c2d-5f98d0e68267',\n",
       "  'name': 'model-20190716142903',\n",
       "  'type': 'Supervised',\n",
       "  'problem_type': None,\n",
       "  'updated_at': '2019-07-16T14:54:58.691581',\n",
       "  'trained_on': ['sine_train.csv'],\n",
       "  'trained_on_id': ['00ac11ea-a800-11e9-9c2d-73227e8ef7ae'],\n",
       "  'loss': 1.0151908758082584e-09,\n",
       "  'complete': True,\n",
       "  'generations': 145,\n",
       "  'parameters': {'target': 'y',\n",
       "   'impute': 'mean',\n",
       "   'recurrent': None,\n",
       "   'big_data': False,\n",
       "   'max_unique_values': 50,\n",
       "   'forecast_horizon': 2,\n",
       "   'max_int_uniques': 15,\n",
       "   'train_time': '00:20'},\n",
       "  'description': {'recurrent': None,\n",
       "   'best_genome': [{'layer 1': {'type': 'LinearGene',\n",
       "      'parameters': {'activation': 'relu', 'numunits': 2}}},\n",
       "    {'layer 2': {'type': 'LinearGene',\n",
       "      'parameters': {'activation': 'identity', 'numunits': 1}}}],\n",
       "   'genome_type': 'DeepNet'},\n",
       "  'train_time_seconds': 1513,\n",
       "  'algorithm': None,\n",
       "  'running_job_id': None})"
      ]
     },
     "execution_count": 13,
     "metadata": {},
     "output_type": "execute_result"
    }
   ],
   "source": [
    "# look up the model details\n",
    "ds.lookup_model_name(job_id['model_name'])"
   ]
  },
  {
   "cell_type": "markdown",
   "metadata": {},
   "source": [
    "## Extra Training (Optional)\n",
    "Run the following cell for extra training, specify the amount of time for extra training using `max_train_time` "
   ]
  },
  {
   "cell_type": "code",
   "execution_count": 14,
   "metadata": {},
   "outputs": [
    {
     "name": "stdout",
     "output_type": "stream",
     "text": [
      "{'status': 'Running', 'starttime': '2019-07-15T17:02:56.793773', 'endtime': None, 'percent_complete': 0, 'job_type': 'UpdateModel', 'loss': 2.263362148369197e-06, 'generations': 17, 'dataset_names': ['sine_train.csv'], 'artifact_names': None, 'model_name': 'model-20190715165920', 'job_error': ''}\n",
      "{'status': 'Running', 'starttime': '2019-07-15T17:02:56.793773', 'endtime': None, 'percent_complete': 11, 'job_type': 'UpdateModel', 'loss': 2.263362148369197e-06, 'generations': 26, 'dataset_names': ['sine_train.csv'], 'artifact_names': None, 'model_name': 'model-20190715165920', 'job_error': ''}\n",
      "{'status': 'Running', 'starttime': '2019-07-15T17:02:56.793773', 'endtime': None, 'percent_complete': 37, 'job_type': 'UpdateModel', 'loss': 1.5302066458389163e-06, 'generations': 30, 'dataset_names': ['sine_train.csv'], 'artifact_names': None, 'model_name': 'model-20190715165920', 'job_error': ''}\n",
      "{'status': 'Running', 'starttime': '2019-07-15T17:02:56.793773', 'endtime': None, 'percent_complete': 61, 'job_type': 'UpdateModel', 'loss': 1.5302066458389163e-06, 'generations': 33, 'dataset_names': ['sine_train.csv'], 'artifact_names': None, 'model_name': 'model-20190715165920', 'job_error': ''}\n",
      "{'status': 'Running', 'starttime': '2019-07-15T17:02:56.793773', 'endtime': None, 'percent_complete': 82, 'job_type': 'UpdateModel', 'loss': 1.5302066458389163e-06, 'generations': 36, 'dataset_names': ['sine_train.csv'], 'artifact_names': None, 'model_name': 'model-20190715165920', 'job_error': ''}\n",
      "{'status': 'Running', 'starttime': '2019-07-15T17:02:56.793773', 'endtime': None, 'percent_complete': 90, 'job_type': 'UpdateModel', 'loss': 1.5302066458389163e-06, 'generations': 37, 'dataset_names': ['sine_train.csv'], 'artifact_names': None, 'model_name': 'model-20190715165920', 'job_error': ''}\n",
      "{'status': 'Complete', 'starttime': '2019-07-15T17:02:56.793773', 'endtime': '2019-07-15T17:04:20.908157', 'percent_complete': 100, 'job_type': 'UpdateModel', 'loss': 1.265353489543486e-06, 'generations': 38, 'dataset_names': ['sine_train.csv'], 'artifact_names': None, 'model_name': 'model-20190715165920', 'job_error': ''}\n"
     ]
    }
   ],
   "source": [
    "max_train_time = '00:05'\n",
    "status, job_id = ds.resume_training_model(dataset_names=TRAIN_DATASET,\n",
    "                                          model_name=model,\n",
    "                                          max_train_time=max_train_time)\n",
    "sleep(1)\n",
    "if status:\n",
    "    ds.wait_for_job(job_id['job_name'])\n",
    "else:\n",
    "    print(job_id)"
   ]
  },
  {
   "cell_type": "markdown",
   "metadata": {},
   "source": [
    "## Predict\n",
    "Run the following cell for prediction"
   ]
  },
  {
   "cell_type": "code",
   "execution_count": null,
   "metadata": {},
   "outputs": [],
   "source": [
    "# clean dataset\n",
    "target = \"y\"\n",
    "status, job_id = ds.clean_data(TEST_DATASET, model_name=model)\n",
    "\n",
    "if status:\n",
    "    ds.wait_for_job(job_id['job_name'])\n",
    "else:\n",
    "    print(job_id)"
   ]
  },
  {
   "cell_type": "code",
   "execution_count": 29,
   "metadata": {},
   "outputs": [
    {
     "name": "stdout",
     "output_type": "stream",
     "text": [
      "{'status': 'Complete', 'starttime': '2019-07-16T16:50:13.469606', 'endtime': None, 'percent_complete': 100, 'job_type': 'CleanData', 'loss': None, 'generations': None, 'dataset_names': ['sine_test.csv'], 'artifact_names': None, 'model_name': None, 'job_error': None}\n"
     ]
    }
   ],
   "source": [
    "# Test model\n",
    "status, artifact = ds.run_model(dataset_name=TEST_DATASET, \n",
    "                                model_name=model, \n",
    "                                forecast_horizon=forecast_horizon)\n",
    "sleep(1)\n",
    "if status:\n",
    "    ds.wait_for_job(job_id['job_name'])\n",
    "else:\n",
    "    print(job_id)"
   ]
  },
  {
   "cell_type": "code",
   "execution_count": 31,
   "metadata": {},
   "outputs": [],
   "source": [
    "# Get predictions\n",
    "status, pred_file = ds.download_artifact(artifact['artifact_name'])"
   ]
  },
  {
   "cell_type": "code",
   "execution_count": 15,
   "metadata": {},
   "outputs": [
    {
     "data": {
      "text/html": [
       "<div>\n",
       "<style scoped>\n",
       "    .dataframe tbody tr th:only-of-type {\n",
       "        vertical-align: middle;\n",
       "    }\n",
       "\n",
       "    .dataframe tbody tr th {\n",
       "        vertical-align: top;\n",
       "    }\n",
       "\n",
       "    .dataframe thead th {\n",
       "        text-align: right;\n",
       "    }\n",
       "</style>\n",
       "<table border=\"1\" class=\"dataframe\">\n",
       "  <thead>\n",
       "    <tr style=\"text-align: right;\">\n",
       "      <th></th>\n",
       "      <th>anomaly_score</th>\n",
       "      <th>predict_proba</th>\n",
       "      <th>prediction</th>\n",
       "    </tr>\n",
       "  </thead>\n",
       "  <tbody>\n",
       "    <tr>\n",
       "      <th>0</th>\n",
       "      <td>-16.743278</td>\n",
       "      <td>[0.9989219908860879, 0.0010780091139121865]</td>\n",
       "      <td>0</td>\n",
       "    </tr>\n",
       "    <tr>\n",
       "      <th>1</th>\n",
       "      <td>-16.743278</td>\n",
       "      <td>[0.9997870887479495, 0.0002129112520504335]</td>\n",
       "      <td>0</td>\n",
       "    </tr>\n",
       "    <tr>\n",
       "      <th>2</th>\n",
       "      <td>-16.743278</td>\n",
       "      <td>[0.9954133220147088, 0.004586677985291236]</td>\n",
       "      <td>0</td>\n",
       "    </tr>\n",
       "    <tr>\n",
       "      <th>3</th>\n",
       "      <td>-16.743278</td>\n",
       "      <td>[0.99987644529621, 0.00012355470379009663]</td>\n",
       "      <td>0</td>\n",
       "    </tr>\n",
       "    <tr>\n",
       "      <th>4</th>\n",
       "      <td>-5.883411</td>\n",
       "      <td>[0.3316821039130491, 0.6683178960869509]</td>\n",
       "      <td>1</td>\n",
       "    </tr>\n",
       "  </tbody>\n",
       "</table>\n",
       "</div>"
      ],
      "text/plain": [
       "   anomaly_score                                predict_proba  prediction\n",
       "0     -16.743278  [0.9989219908860879, 0.0010780091139121865]           0\n",
       "1     -16.743278  [0.9997870887479495, 0.0002129112520504335]           0\n",
       "2     -16.743278   [0.9954133220147088, 0.004586677985291236]           0\n",
       "3     -16.743278   [0.99987644529621, 0.00012355470379009663]           0\n",
       "4      -5.883411     [0.3316821039130491, 0.6683178960869509]           1"
      ]
     },
     "execution_count": 15,
     "metadata": {},
     "output_type": "execute_result"
    }
   ],
   "source": [
    "# View prediction\n",
    "df = pd.read_csv(pred_file['filename'])\n",
    "df.head()"
   ]
  },
  {
   "cell_type": "code",
   "execution_count": null,
   "metadata": {},
   "outputs": [],
   "source": []
  }
 ],
 "metadata": {
  "anaconda-cloud": {},
  "kernelspec": {
   "display_name": "Python 3",
   "language": "python",
   "name": "python3"
  },
  "language_info": {
   "codemirror_mode": {
    "name": "ipython",
    "version": 3
   },
   "file_extension": ".py",
   "mimetype": "text/x-python",
   "name": "python",
   "nbconvert_exporter": "python",
   "pygments_lexer": "ipython3",
   "version": "3.6.7"
  }
 },
 "nbformat": 4,
 "nbformat_minor": 2
}
