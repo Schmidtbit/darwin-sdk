{
 "cells": [
  {
   "cell_type": "markdown",
   "metadata": {},
   "source": [
    "<img src=\"https://cybersecurity-excellence-awards.com/wp-content/uploads/2017/06/366812.png\">"
   ]
  },
  {
   "cell_type": "markdown",
   "metadata": {},
   "source": [
    "\n",
    "<h1><center>Darwin Unsupervised Model Building </center></h1>\n"
   ]
  },
  {
   "cell_type": "markdown",
   "metadata": {},
   "source": [
    "# Prior to getting started:"
   ]
  },
  {
   "cell_type": "markdown",
   "metadata": {},
   "source": [
    "Darwin notebook will no longer support 'Register User' starting from 2.0. As a user, you must have credentials ready before using this notebook. \n",
    "\n",
    "In order to proceed, in the Environment Variables cell: \n",
    "1. Set your username and password to ensure that you're able to log in successfully\n",
    "2. Set the path to the location of your datasets if you are using your own data.  The path is set for the examples.\n",
    "  <br><b>NOTE:</b> We provide two ways to analyze feature importance. One is to use the entire dataset; the other one is to analyze a few samples to understand individual samples. In the latter case, we advise users to use a small dataset (<=500) because it takes long time to process individual samples. \n",
    "\n",
    "Here are a few things to be mindful of:\n",
    "1. For every run, check the job status (i.e. requested, failed, running, completed) and wait for job to complete before proceeding. \n",
    "2. If you're not satisfied with your model and think that Darwin can benefit from extra training, use the resume function."
   ]
  },
  {
   "cell_type": "markdown",
   "metadata": {},
   "source": [
    "## Import Necessary Libraries"
   ]
  },
  {
   "cell_type": "code",
   "execution_count": 148,
   "metadata": {},
   "outputs": [],
   "source": [
    "%matplotlib inline\n",
    "import matplotlib.pyplot as plt\n",
    "import pandas as pd\n",
    "import os\n",
    "import datetime\n",
    "from IPython.display import Image\n",
    "from time import sleep\n",
    "from amb_sdk.sdk import DarwinSdk"
   ]
  },
  {
   "cell_type": "markdown",
   "metadata": {},
   "source": [
    "## Set Darwin SDK"
   ]
  },
  {
   "cell_type": "code",
   "execution_count": 149,
   "metadata": {},
   "outputs": [
    {
     "data": {
      "text/plain": [
       "(True, 'https://amb-api.sparkcognition.com/v1/')"
      ]
     },
     "execution_count": 149,
     "metadata": {},
     "output_type": "execute_result"
    }
   ],
   "source": [
    "ds = DarwinSdk()\n",
    "ds.set_url('https://darwin-api.sparkcognition.com/v1/')"
   ]
  },
  {
   "cell_type": "markdown",
   "metadata": {},
   "source": [
    "## Environment Variables"
   ]
  },
  {
   "cell_type": "code",
   "execution_count": 142,
   "metadata": {},
   "outputs": [],
   "source": [
    "#Set your user id and password accordingly\n",
    "USER=\"[your Darwin user id]\"\n",
    "PW=\"[your Darwin password]\"\n",
    "\n",
    "# Set path to datasets - The default below assumes Jupyter was started from amb-sdk/examples/Enterprise/\n",
    "# Modify accordingly if you wish to use your own data\n",
    "PATH_TO_DATASET = '/Users/ylan/Misc/SpectralNet/Darwin/sets/'\n",
    "TRAIN_DATASET = 'pulsars.csv'\n",
    "\n",
    "# PREDICT_DATASET is the data you want to use for feature importance in unsupervised, typically it should be a small\n",
    "# subset of the TRAIN_DATASET\n",
    "PREDICT_DATASET = 'pulsars_predict.csv'"
   ]
  },
  {
   "cell_type": "markdown",
   "metadata": {},
   "source": [
    "# User Login"
   ]
  },
  {
   "cell_type": "code",
   "execution_count": 151,
   "metadata": {},
   "outputs": [
    {
     "name": "stdout",
     "output_type": "stream",
     "text": [
      "You are logged in.\n"
     ]
    }
   ],
   "source": [
    "status, msg = ds.auth_login_user(USER,PW)\n",
    "if not status:\n",
    "    print(msg)\n",
    "else:\n",
    "    print('You are logged in.')"
   ]
  },
  {
   "cell_type": "markdown",
   "metadata": {},
   "source": [
    "# Data Upload"
   ]
  },
  {
   "cell_type": "markdown",
   "metadata": {},
   "source": [
    "**Read dataset and view a file snippet**"
   ]
  },
  {
   "cell_type": "code",
   "execution_count": 152,
   "metadata": {},
   "outputs": [
    {
     "data": {
      "text/html": [
       "<div>\n",
       "<style scoped>\n",
       "    .dataframe tbody tr th:only-of-type {\n",
       "        vertical-align: middle;\n",
       "    }\n",
       "\n",
       "    .dataframe tbody tr th {\n",
       "        vertical-align: top;\n",
       "    }\n",
       "\n",
       "    .dataframe thead th {\n",
       "        text-align: right;\n",
       "    }\n",
       "</style>\n",
       "<table border=\"1\" class=\"dataframe\">\n",
       "  <thead>\n",
       "    <tr style=\"text-align: right;\">\n",
       "      <th></th>\n",
       "      <th>mean_profile</th>\n",
       "      <th>std_profile</th>\n",
       "      <th>kurt_profile</th>\n",
       "      <th>skew_profile</th>\n",
       "      <th>mean_dmsnr</th>\n",
       "      <th>std_dmsnr</th>\n",
       "      <th>kurt_dmsnr</th>\n",
       "      <th>skew_dmsnr</th>\n",
       "      <th>class</th>\n",
       "    </tr>\n",
       "  </thead>\n",
       "  <tbody>\n",
       "    <tr>\n",
       "      <th>0</th>\n",
       "      <td>111.093750</td>\n",
       "      <td>47.341089</td>\n",
       "      <td>0.435469</td>\n",
       "      <td>0.471339</td>\n",
       "      <td>2.386288</td>\n",
       "      <td>15.867173</td>\n",
       "      <td>9.327098</td>\n",
       "      <td>103.545876</td>\n",
       "      <td>0</td>\n",
       "    </tr>\n",
       "    <tr>\n",
       "      <th>1</th>\n",
       "      <td>105.000000</td>\n",
       "      <td>49.203341</td>\n",
       "      <td>0.563215</td>\n",
       "      <td>0.382150</td>\n",
       "      <td>1.601171</td>\n",
       "      <td>14.657767</td>\n",
       "      <td>11.381829</td>\n",
       "      <td>148.334350</td>\n",
       "      <td>0</td>\n",
       "    </tr>\n",
       "    <tr>\n",
       "      <th>2</th>\n",
       "      <td>115.304688</td>\n",
       "      <td>43.653207</td>\n",
       "      <td>0.448319</td>\n",
       "      <td>0.614359</td>\n",
       "      <td>3.158027</td>\n",
       "      <td>21.378754</td>\n",
       "      <td>8.347430</td>\n",
       "      <td>76.310271</td>\n",
       "      <td>0</td>\n",
       "    </tr>\n",
       "    <tr>\n",
       "      <th>3</th>\n",
       "      <td>108.554688</td>\n",
       "      <td>52.559016</td>\n",
       "      <td>0.138068</td>\n",
       "      <td>-0.442340</td>\n",
       "      <td>1.787625</td>\n",
       "      <td>12.108555</td>\n",
       "      <td>11.262459</td>\n",
       "      <td>180.074252</td>\n",
       "      <td>0</td>\n",
       "    </tr>\n",
       "    <tr>\n",
       "      <th>4</th>\n",
       "      <td>136.429688</td>\n",
       "      <td>49.552164</td>\n",
       "      <td>-0.180418</td>\n",
       "      <td>0.370338</td>\n",
       "      <td>9.066054</td>\n",
       "      <td>37.284742</td>\n",
       "      <td>4.270014</td>\n",
       "      <td>17.700441</td>\n",
       "      <td>0</td>\n",
       "    </tr>\n",
       "  </tbody>\n",
       "</table>\n",
       "</div>"
      ],
      "text/plain": [
       "   mean_profile  std_profile  kurt_profile  skew_profile  mean_dmsnr  \\\n",
       "0    111.093750    47.341089      0.435469      0.471339    2.386288   \n",
       "1    105.000000    49.203341      0.563215      0.382150    1.601171   \n",
       "2    115.304688    43.653207      0.448319      0.614359    3.158027   \n",
       "3    108.554688    52.559016      0.138068     -0.442340    1.787625   \n",
       "4    136.429688    49.552164     -0.180418      0.370338    9.066054   \n",
       "\n",
       "   std_dmsnr  kurt_dmsnr  skew_dmsnr  class  \n",
       "0  15.867173    9.327098  103.545876      0  \n",
       "1  14.657767   11.381829  148.334350      0  \n",
       "2  21.378754    8.347430   76.310271      0  \n",
       "3  12.108555   11.262459  180.074252      0  \n",
       "4  37.284742    4.270014   17.700441      0  "
      ]
     },
     "execution_count": 152,
     "metadata": {},
     "output_type": "execute_result"
    }
   ],
   "source": [
    "# Preview dataset\n",
    "df = pd.read_csv(os.path.join(PATH_TO_DATASET, TRAIN_DATASET))\n",
    "df.head()"
   ]
  },
  {
   "cell_type": "markdown",
   "metadata": {},
   "source": [
    "**Upload dataset to Darwin**"
   ]
  },
  {
   "cell_type": "code",
   "execution_count": 155,
   "metadata": {},
   "outputs": [
    {
     "name": "stdout",
     "output_type": "stream",
     "text": [
      "False\n",
      "400: BAD REQUEST - {\"message\": \"Dataset already exists\"}\n",
      "\n",
      "400: BAD REQUEST - {\"message\": \"Dataset already exists\"}\n",
      "\n"
     ]
    }
   ],
   "source": [
    "# Upload dataset\n",
    "status, dataset = ds.upload_dataset(os.path.join(PATH_TO_DATASET, TRAIN_DATASET))\n",
    "print(status)\n",
    "print(dataset)\n",
    "\n",
    "if not status:\n",
    "    print(dataset)"
   ]
  },
  {
   "cell_type": "markdown",
   "metadata": {},
   "source": [
    "# Analyze Data\n",
    "Before creating a model, users need to analyze data and clean data first. "
   ]
  },
  {
   "cell_type": "code",
   "execution_count": 156,
   "metadata": {},
   "outputs": [
    {
     "name": "stdout",
     "output_type": "stream",
     "text": [
      "{'status': 'Complete', 'starttime': '2019-07-19T11:31:39.512506', 'endtime': None, 'percent_complete': 100, 'job_type': 'AnalyzeData', 'loss': None, 'generations': None, 'dataset_names': ['pulsars.csv'], 'artifact_names': ['Darwin_analyze_data_artifact-20190719113139'], 'model_name': None, 'job_error': None}\n"
     ]
    }
   ],
   "source": [
    "ts = '{:%Y%m%d%H%M%S}'.format(datetime.datetime.now())\n",
    "status, analyze_id = ds.analyze_data(TRAIN_DATASET, \n",
    "                                     job_name = 'Darwin_analyze_data_job' + \"-\" + ts, \n",
    "                                     artifact_name = 'Darwin_analyze_data_artifact' + \"-\" + ts)\n",
    "sleep(1)\n",
    "if status:\n",
    "    ds.wait_for_job('Darwin_analyze_data_job' + \"-\" + ts)\n",
    "else:\n",
    "    print(analyze_id)"
   ]
  },
  {
   "cell_type": "code",
   "execution_count": 157,
   "metadata": {
    "scrolled": true
   },
   "outputs": [
    {
     "data": {
      "text/plain": [
       "(True,\n",
       " {'status': 'Complete',\n",
       "  'starttime': '2019-07-19T11:31:39.512506',\n",
       "  'endtime': None,\n",
       "  'percent_complete': 100,\n",
       "  'job_type': 'AnalyzeData',\n",
       "  'loss': None,\n",
       "  'generations': None,\n",
       "  'dataset_names': ['pulsars.csv'],\n",
       "  'artifact_names': ['Darwin_analyze_data_artifact-20190719113139'],\n",
       "  'model_name': None,\n",
       "  'job_error': None})"
      ]
     },
     "execution_count": 157,
     "metadata": {},
     "output_type": "execute_result"
    }
   ],
   "source": [
    "ds.lookup_job_status_name(analyze_id['job_name'])"
   ]
  },
  {
   "cell_type": "markdown",
   "metadata": {},
   "source": [
    "# Clean Data\n",
    "\n",
    "Starting Version 1.6, Darwin SDK offers a way to clean your data outside of model training. Every dataset needs to be cleaned before creating a model. There is no need to save the cleaned data and upload it. "
   ]
  },
  {
   "cell_type": "code",
   "execution_count": 158,
   "metadata": {},
   "outputs": [
    {
     "name": "stdout",
     "output_type": "stream",
     "text": [
      "Data has been successfully cleaned!\n"
     ]
    }
   ],
   "source": [
    "# Clean dataset\n",
    "status, job_id = ds.clean_data(dataset_name=TRAIN_DATASET)\n",
    "if not status:\n",
    "    print(job_id)\n",
    "else:\n",
    "    print('Data has been successfully cleaned!')"
   ]
  },
  {
   "cell_type": "markdown",
   "metadata": {},
   "source": [
    "# Create and Train Model "
   ]
  },
  {
   "cell_type": "markdown",
   "metadata": {},
   "source": [
    "To build unsupervised models, which cluster data and perform anomaly detection, Darwin goes through the following steps:\n",
    "1. Determines an approximate number of clusters to start with using a single pass with a hierarchical method\n",
    "2. Iterates on subsets of the data using a Spectral-Net algorithm to determine the ideal number of clusters\n",
    "3. Proceeds to cluster the data using a Spectral-Net approach\n",
    "\n",
    "In the cell below, specify the parameters used to create the model:\n",
    "- model: the name of your model\n",
    "- max_epochs: the number of epochs to train the model, one epoch indicates one scan of the entire dataset\n",
    "- n_clusters: the number of clusters, either an integer or 'auto', if left with 'auto', the unsupervised algorithm will compute a number for you"
   ]
  },
  {
   "cell_type": "code",
   "execution_count": 159,
   "metadata": {
    "scrolled": false
   },
   "outputs": [
    {
     "name": "stdout",
     "output_type": "stream",
     "text": [
      "{'status': 'Running', 'starttime': '2019-07-19T11:31:53.673678', 'endtime': None, 'percent_complete': 0, 'job_type': 'TrainModel', 'loss': None, 'generations': 0, 'dataset_names': ['pulsars.csv'], 'artifact_names': None, 'model_name': 'model-20190719113152', 'job_error': ''}\n",
      "{'status': 'Running', 'starttime': '2019-07-19T11:31:53.673678', 'endtime': None, 'percent_complete': 0, 'job_type': 'TrainModel', 'loss': None, 'generations': 0, 'dataset_names': ['pulsars.csv'], 'artifact_names': None, 'model_name': 'model-20190719113152', 'job_error': ''}\n",
      "{'status': 'Running', 'starttime': '2019-07-19T11:31:53.673678', 'endtime': None, 'percent_complete': 0, 'job_type': 'TrainModel', 'loss': None, 'generations': 0, 'dataset_names': ['pulsars.csv'], 'artifact_names': None, 'model_name': 'model-20190719113152', 'job_error': ''}\n",
      "{'status': 'Complete', 'starttime': '2019-07-19T11:31:53.673678', 'endtime': '2019-07-19T11:32:34.983102', 'percent_complete': 100, 'job_type': 'TrainModel', 'loss': None, 'generations': 0, 'dataset_names': ['pulsars.csv'], 'artifact_names': None, 'model_name': 'model-20190719113152', 'job_error': ''}\n"
     ]
    }
   ],
   "source": [
    "# Build model\n",
    "ts = '{:%Y%m%d%H%M%S}'.format(datetime.datetime.now())\n",
    "model = \"model\" + \"-\" + ts\n",
    "max_epochs = 2\n",
    "n_clusters = 2\n",
    "status, job_id = ds.create_model(dataset_names=TRAIN_DATASET,\n",
    "                                 model_name=model,\n",
    "                                 max_epochs=max_epochs,\n",
    "                                 fit_profile_name=job_id['profile_name'],\n",
    "                                 n_clusters=n_clusters)\n",
    "sleep(1)\n",
    "if status:\n",
    "    ds.wait_for_job(job_id['job_name'])\n",
    "else:\n",
    "    print(job_id)"
   ]
  },
  {
   "cell_type": "code",
   "execution_count": 160,
   "metadata": {},
   "outputs": [
    {
     "data": {
      "text/plain": [
       "(True,\n",
       " {'status': 'Complete',\n",
       "  'starttime': '2019-07-19T11:31:53.673678',\n",
       "  'endtime': '2019-07-19T11:32:34.983102',\n",
       "  'percent_complete': 100,\n",
       "  'job_type': 'TrainModel',\n",
       "  'loss': None,\n",
       "  'generations': 0,\n",
       "  'dataset_names': ['pulsars.csv'],\n",
       "  'artifact_names': None,\n",
       "  'model_name': 'model-20190719113152',\n",
       "  'job_error': ''})"
      ]
     },
     "execution_count": 160,
     "metadata": {},
     "output_type": "execute_result"
    }
   ],
   "source": [
    "# look up job status\n",
    "ds.lookup_job_status_name(job_id['job_name'])"
   ]
  },
  {
   "cell_type": "code",
   "execution_count": 161,
   "metadata": {},
   "outputs": [
    {
     "data": {
      "text/plain": [
       "(True,\n",
       " {'id': 'b79ea6a8-aa42-11e9-9217-cb1f117ab849',\n",
       "  'name': 'model-20190719113152',\n",
       "  'type': 'Unsupervised',\n",
       "  'problem_type': None,\n",
       "  'updated_at': '2019-07-19T11:32:34.965747',\n",
       "  'trained_on': ['pulsars.csv'],\n",
       "  'trained_on_id': ['53f603de-a8d6-11e9-bd79-c3084e4b6742'],\n",
       "  'loss': None,\n",
       "  'complete': True,\n",
       "  'generations': 0,\n",
       "  'parameters': {'impute': 'mean',\n",
       "   'max_unique_values': 50,\n",
       "   'max_int_uniques': 15,\n",
       "   'train_time': '00:10',\n",
       "   'big_data': False,\n",
       "   'max_generation': 2,\n",
       "   'recurrent': None,\n",
       "   'n_clusters': 2},\n",
       "  'description': {'genome_type': 'Unsupervised',\n",
       "   'model': \"UnsupervisedPipeline(anomaly=False, anomaly_prior=0.0015, auto_save_per=10,\\n           big_data=False, clustering=True,\\n           clustermethod='GaussianMixture', file_path=None,\\n           job_id='b79f56e8-aa42-11e9-9217-c7234b9e6d0f', max_generation=2,\\n           max_time=600,\\n           model_file='models/8cf0c5fa-0ded-11e8-93e3-ebbdceea028c_model-20190719113152',\\n           n_clusters=2, preproc_anomaly=None, recurrent=None, verbose=2)\"},\n",
       "  'train_time_seconds': 41,\n",
       "  'algorithm': None,\n",
       "  'running_job_id': None})"
      ]
     },
     "execution_count": 161,
     "metadata": {},
     "output_type": "execute_result"
    }
   ],
   "source": [
    "# look up the model\n",
    "ds.lookup_model_name(job_id['model_name'])"
   ]
  },
  {
   "cell_type": "markdown",
   "metadata": {},
   "source": [
    "## Extra Training (Optional)\n",
    "Run the following cell for extra training, no need to specify parameters"
   ]
  },
  {
   "cell_type": "code",
   "execution_count": 162,
   "metadata": {},
   "outputs": [
    {
     "name": "stdout",
     "output_type": "stream",
     "text": [
      "{'status': 'Running', 'starttime': '2019-07-19T11:34:11.132371', 'endtime': None, 'percent_complete': 0, 'job_type': 'UpdateModel', 'loss': None, 'generations': 0, 'dataset_names': ['pulsars.csv'], 'artifact_names': None, 'model_name': 'model-20190719113152', 'job_error': ''}\n",
      "{'status': 'Complete', 'starttime': '2019-07-19T11:34:11.132371', 'endtime': '2019-07-19T11:34:18.2635', 'percent_complete': 100, 'job_type': 'UpdateModel', 'loss': None, 'generations': 0, 'dataset_names': ['pulsars.csv'], 'artifact_names': None, 'model_name': 'model-20190719113152', 'job_error': ''}\n"
     ]
    }
   ],
   "source": [
    "# Train some more\n",
    "extra_epochs = 1\n",
    "status, job_id = ds.resume_training_model(dataset_names=TRAIN_DATASET,\n",
    "                                          model_name=model,\n",
    "                                          max_epochs=extra_epochs,\n",
    "                                          n_clusters=n_clusters)\n",
    "sleep(1)\n",
    "if status:\n",
    "    ds.wait_for_job(job_id['job_name'])\n",
    "else:\n",
    "    print(job_id)"
   ]
  },
  {
   "cell_type": "markdown",
   "metadata": {},
   "source": [
    "## Predict\n",
    "Run the following cell for prediction"
   ]
  },
  {
   "cell_type": "code",
   "execution_count": 163,
   "metadata": {},
   "outputs": [
    {
     "name": "stdout",
     "output_type": "stream",
     "text": [
      "{'status': 'Running', 'starttime': '2019-07-19T11:34:48.016251', 'endtime': None, 'percent_complete': 0, 'job_type': 'RunModel', 'loss': None, 'generations': 0, 'dataset_names': ['pulsars.csv'], 'artifact_names': ['a8226823f3e341578daa0acdd8fff46f'], 'model_name': 'model-20190719113152', 'job_error': ''}\n",
      "{'status': 'Complete', 'starttime': '2019-07-19T11:34:48.016251', 'endtime': '2019-07-19T11:34:50.537774', 'percent_complete': 100, 'job_type': 'RunModel', 'loss': None, 'generations': 0, 'dataset_names': ['pulsars.csv'], 'artifact_names': ['a8226823f3e341578daa0acdd8fff46f'], 'model_name': 'model-20190719113152', 'job_error': ''}\n"
     ]
    },
    {
     "data": {
      "text/plain": [
       "(True, 'Job completed')"
      ]
     },
     "execution_count": 163,
     "metadata": {},
     "output_type": "execute_result"
    }
   ],
   "source": [
    "# Test model\n",
    "status, artifact = ds.run_model(TRAIN_DATASET, \n",
    "                                model, \n",
    "                                supervised=False)\n",
    "sleep(1)\n",
    "ds.wait_for_job(artifact['job_name'])"
   ]
  },
  {
   "cell_type": "code",
   "execution_count": 164,
   "metadata": {},
   "outputs": [],
   "source": [
    "# Get predictions\n",
    "status, pred_file = ds.download_artifact(artifact['artifact_name'])"
   ]
  },
  {
   "cell_type": "code",
   "execution_count": 165,
   "metadata": {},
   "outputs": [
    {
     "data": {
      "text/html": [
       "<div>\n",
       "<style scoped>\n",
       "    .dataframe tbody tr th:only-of-type {\n",
       "        vertical-align: middle;\n",
       "    }\n",
       "\n",
       "    .dataframe tbody tr th {\n",
       "        vertical-align: top;\n",
       "    }\n",
       "\n",
       "    .dataframe thead th {\n",
       "        text-align: right;\n",
       "    }\n",
       "</style>\n",
       "<table border=\"1\" class=\"dataframe\">\n",
       "  <thead>\n",
       "    <tr style=\"text-align: right;\">\n",
       "      <th></th>\n",
       "      <th>anomaly_score</th>\n",
       "      <th>predict_proba</th>\n",
       "      <th>prediction</th>\n",
       "    </tr>\n",
       "  </thead>\n",
       "  <tbody>\n",
       "    <tr>\n",
       "      <th>0</th>\n",
       "      <td>-13.880201</td>\n",
       "      <td>[0.02602722538768635, 0.9739727746123138]</td>\n",
       "      <td>0.430858</td>\n",
       "    </tr>\n",
       "    <tr>\n",
       "      <th>1</th>\n",
       "      <td>-13.880201</td>\n",
       "      <td>[0.010041108295157924, 0.9899588917048421]</td>\n",
       "      <td>0.263699</td>\n",
       "    </tr>\n",
       "    <tr>\n",
       "      <th>2</th>\n",
       "      <td>-13.880201</td>\n",
       "      <td>[0.021460673633545826, 0.9785393263664541]</td>\n",
       "      <td>0.546369</td>\n",
       "    </tr>\n",
       "    <tr>\n",
       "      <th>3</th>\n",
       "      <td>-7.874285</td>\n",
       "      <td>[0.046946763257389265, 0.9530532367426107]</td>\n",
       "      <td>0.361209</td>\n",
       "    </tr>\n",
       "    <tr>\n",
       "      <th>4</th>\n",
       "      <td>-7.798066</td>\n",
       "      <td>[0.8069366623140716, 0.19306333768592857]</td>\n",
       "      <td>1.125853</td>\n",
       "    </tr>\n",
       "  </tbody>\n",
       "</table>\n",
       "</div>"
      ],
      "text/plain": [
       "   anomaly_score                               predict_proba  prediction\n",
       "0     -13.880201   [0.02602722538768635, 0.9739727746123138]    0.430858\n",
       "1     -13.880201  [0.010041108295157924, 0.9899588917048421]    0.263699\n",
       "2     -13.880201  [0.021460673633545826, 0.9785393263664541]    0.546369\n",
       "3      -7.874285  [0.046946763257389265, 0.9530532367426107]    0.361209\n",
       "4      -7.798066   [0.8069366623140716, 0.19306333768592857]    1.125853"
      ]
     },
     "execution_count": 165,
     "metadata": {},
     "output_type": "execute_result"
    }
   ],
   "source": [
    "# View prediction\n",
    "df = pd.read_csv(pred_file['filename'])\n",
    "df.head()"
   ]
  },
  {
   "cell_type": "markdown",
   "metadata": {},
   "source": [
    "## Analyze Model\n",
    "Analyze model provides feature importance ranked by the model. It indicates a general view of which features pose a bigger impact on the model"
   ]
  },
  {
   "cell_type": "code",
   "execution_count": 166,
   "metadata": {},
   "outputs": [
    {
     "name": "stdout",
     "output_type": "stream",
     "text": [
      "{'status': 'Requested', 'starttime': '2019-07-19T11:35:19.378853', 'endtime': None, 'percent_complete': 0, 'job_type': 'AnalyzeModel', 'loss': None, 'generations': 0, 'dataset_names': None, 'artifact_names': ['Darwin_analyze_model_artifact-20190719113518'], 'model_name': 'model-20190719113152', 'job_error': None}\n",
      "{'status': 'Complete', 'starttime': '2019-07-19T11:35:19.378853', 'endtime': '2019-07-19T11:35:27.986372', 'percent_complete': 100, 'job_type': 'AnalyzeModel', 'loss': None, 'generations': 0, 'dataset_names': None, 'artifact_names': ['Darwin_analyze_model_artifact-20190719113518'], 'model_name': 'model-20190719113152', 'job_error': ''}\n"
     ]
    }
   ],
   "source": [
    "ts = '{:%Y%m%d%H%M%S}'.format(datetime.datetime.now())\n",
    "status, analyze_id = ds.analyze_model(job_id['model_name'], \n",
    "                                      job_name='Darwin_analyze_model_job-' + ts, \n",
    "                                      artifact_name='Darwin_analyze_model_artifact-' + ts)\n",
    "sleep(1)\n",
    "if status:\n",
    "    ds.wait_for_job('Darwin_analyze_model_job-' + ts)\n",
    "else:\n",
    "    print(analyze_id)"
   ]
  },
  {
   "cell_type": "code",
   "execution_count": 167,
   "metadata": {},
   "outputs": [
    {
     "data": {
      "text/plain": [
       "(True,\n",
       " {'status': 'Complete',\n",
       "  'starttime': '2019-07-19T11:35:19.378853',\n",
       "  'endtime': '2019-07-19T11:35:27.986372',\n",
       "  'percent_complete': 100,\n",
       "  'job_type': 'AnalyzeModel',\n",
       "  'loss': None,\n",
       "  'generations': 0,\n",
       "  'dataset_names': None,\n",
       "  'artifact_names': ['Darwin_analyze_model_artifact-20190719113518'],\n",
       "  'model_name': 'model-20190719113152',\n",
       "  'job_error': ''})"
      ]
     },
     "execution_count": 167,
     "metadata": {},
     "output_type": "execute_result"
    }
   ],
   "source": [
    "ds.lookup_job_status_name('Darwin_analyze_model_job-' + ts)"
   ]
  },
  {
   "cell_type": "markdown",
   "metadata": {},
   "source": [
    "Downloade and print the top 10 features"
   ]
  },
  {
   "cell_type": "code",
   "execution_count": 168,
   "metadata": {},
   "outputs": [
    {
     "data": {
      "text/plain": [
       "std_profile     0.191714\n",
       "mean_dmsnr      0.141063\n",
       "skew_profile    0.111311\n",
       "kurt_profile    0.107637\n",
       "kurt_dmsnr      0.106909\n",
       "mean_profile    0.105243\n",
       "skew_dmsnr      0.095547\n",
       "std_dmsnr       0.080367\n",
       "class           0.060209\n",
       "dtype: float64"
      ]
     },
     "execution_count": 168,
     "metadata": {},
     "output_type": "execute_result"
    }
   ],
   "source": [
    "status, feature_importance = ds.download_artifact('Darwin_analyze_model_artifact-' + ts)\n",
    "feature_importance"
   ]
  },
  {
   "cell_type": "markdown",
   "metadata": {},
   "source": [
    "## Analyze Prediction\n",
    "Different from Analyze Model, the Analyze Prediction provides a way to analyze feature importance for each data point. The output estimates how each feature added or subtracted from a known base-value to result in the overall prediction that was made.  <br>\n",
    "**You need to set the path to the dataset which contains all the samples you want to analyze (max rows = 500)**"
   ]
  },
  {
   "cell_type": "code",
   "execution_count": 169,
   "metadata": {},
   "outputs": [],
   "source": [
    "# Upload the data that you are interested in feature importance (max: 500 rows)\n",
    "status, dataset = ds.upload_dataset(os.path.join(PATH_TO_DATASET, PREDICT_DATASET))\n",
    "if not status:\n",
    "    print(dataset)\n",
    "    \n",
    "if status:\n",
    "    dataset_by_row=dataset['dataset_name']\n",
    "else:\n",
    "    print(\"Upload data failed!\")"
   ]
  },
  {
   "cell_type": "code",
   "execution_count": 174,
   "metadata": {},
   "outputs": [
    {
     "name": "stdout",
     "output_type": "stream",
     "text": [
      "500: INTERNAL SERVER ERROR - {\"message\": \"Internal Server Error\"}\n",
      "\n"
     ]
    }
   ],
   "source": [
    "# Clean dataset\n",
    "status, job_id = ds.clean_data(dataset_name=PREDICT_DATASET, model_name=model)\n",
    "if not status:\n",
    "    print(job_id)\n",
    "else:\n",
    "    print('Data has been successfully cleaned!')"
   ]
  },
  {
   "cell_type": "code",
   "execution_count": 124,
   "metadata": {},
   "outputs": [
    {
     "name": "stdout",
     "output_type": "stream",
     "text": [
      "400: BAD REQUEST - {\"message\": \"Clean dataset not found. Please clean dataset before running model.\"}\n",
      "\n"
     ]
    }
   ],
   "source": [
    "status, analyze_id = ds.analyze_predictions(model, \n",
    "                                            PREDICT_DATASET, \n",
    "                                            job_name='Analyze_prediction_job-' + ts, \n",
    "                                            artifact_name='Analyze_prediction_artifact-' + ts)\n",
    "sleep(1)\n",
    "if status:\n",
    "    ds.wait_for_job('Analyze_prediction_job-' + ts)\n",
    "else:\n",
    "    print(analyze_id)"
   ]
  },
  {
   "cell_type": "code",
   "execution_count": null,
   "metadata": {},
   "outputs": [],
   "source": [
    "ds.lookup_job_status_name('Analyze_prediction_job-' + ts)"
   ]
  },
  {
   "cell_type": "markdown",
   "metadata": {},
   "source": [
    "Download and print the top 10 features"
   ]
  },
  {
   "cell_type": "code",
   "execution_count": null,
   "metadata": {},
   "outputs": [],
   "source": [
    "status, feature_importance = ds.download_artifact('Analyze_prediction_artifact-' + ts)\n",
    "feature_importance.head()"
   ]
  },
  {
   "cell_type": "code",
   "execution_count": null,
   "metadata": {},
   "outputs": [],
   "source": []
  }
 ],
 "metadata": {
  "anaconda-cloud": {},
  "kernelspec": {
   "display_name": "Python 3",
   "language": "python",
   "name": "python3"
  },
  "language_info": {
   "codemirror_mode": {
    "name": "ipython",
    "version": 3
   },
   "file_extension": ".py",
   "mimetype": "text/x-python",
   "name": "python",
   "nbconvert_exporter": "python",
   "pygments_lexer": "ipython3",
   "version": "3.6.7"
  }
 },
 "nbformat": 4,
 "nbformat_minor": 2
}
