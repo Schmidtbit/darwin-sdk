{
 "cells": [
  {
   "cell_type": "markdown",
   "metadata": {},
   "source": [
    "<img src=\"https://www.sparkcognition.com/wp-content/uploads/2019/11/SparkCognition-Logo-Color-e1573238635285.png\">"
   ]
  },
  {
   "cell_type": "markdown",
   "metadata": {},
   "source": [
    "\n",
    "<h1><center>DARWIN Forecasting SDK Example</center></h1>\n"
   ]
  },
  {
   "cell_type": "markdown",
   "metadata": {},
   "source": [
    "\n",
    "<h3><center>Use Case - SineWave </center></h3>"
   ]
  },
  {
   "cell_type": "markdown",
   "metadata": {},
   "source": [
    "### Prior to getting started:"
   ]
  },
  {
   "cell_type": "markdown",
   "metadata": {},
   "source": [
    "Darwin notebook will no longer support 'Register User' starting from 2.0. As a user, you must have credentials ready before using this notebook. \n",
    "\n",
    "In order to proceed, in the Environment Variables cell: \n",
    "1. Set your username and password to ensure that you're able to log in successfully\n",
    "2. Set the path to the location of your datasets if you are using your own data.  The path is set for examples.\n",
    "  <br><b>NOTE:</b> We provide two ways to analyze feature importance. One is to use the entire dataset; the other one is to analyze a few samples to understand individual samples. In the latter case, we advise users to use a small dataset (<=500) because it takes long time to process individual samples. \n",
    "\n",
    "Here are a few things to be mindful of:\n",
    "1. For every run, check the job status (i.e. requested, failed, running, completed) and wait for job to complete before proceeding. \n",
    "2. If you're not satisfied with your model and think that Darwin can benefit from extra training, use the resume function."
   ]
  },
  {
   "cell_type": "markdown",
   "metadata": {},
   "source": [
    "### Forecasting with DARWIN"
   ]
  },
  {
   "cell_type": "markdown",
   "metadata": {},
   "source": [
    "- DARWIN uses a state-of-art performance model employing **seq-2-seq based architecture with dual stage attention mechanism**. \n",
    "- It can handle both univariate as well as multivariate time series. \n",
    "- Also in case of multivariate time series, unlike ARIMAX/SARIMAX or other conventional auto-regressive model, you don't need the exogenous variable while making future forecasts\n",
    "\n",
    "Some of the important things to note while using DARWIN forecasting-sdk are - \n",
    "\n",
    "1). Choosing an appropriate **forecast_horizon** (depends on the data and the user's requirement)\n",
    "\n",
    "2). Model **max_train_time** should be selected keeping in mind the **forecast_horizon** specified. Higher the **forecast_horizon**, proportionally higher time is required to train the model"
   ]
  },
  {
   "cell_type": "markdown",
   "metadata": {},
   "source": [
    "### Import Necessary Libraries"
   ]
  },
  {
   "cell_type": "code",
   "execution_count": 1,
   "metadata": {},
   "outputs": [],
   "source": [
    "%matplotlib inline\n",
    "import matplotlib.pyplot as plt\n",
    "import pandas as pd\n",
    "import numpy as np\n",
    "import os\n",
    "import datetime\n",
    "from IPython.display import Image\n",
    "from time import sleep\n",
    "from amb_sdk.sdk import DarwinSdk\n",
    "from sklearn.metrics import r2_score, mean_squared_error\n",
    "from pandas.plotting import register_matplotlib_converters\n",
    "register_matplotlib_converters()"
   ]
  },
  {
   "cell_type": "markdown",
   "metadata": {},
   "source": [
    "### Set Darwin SDK"
   ]
  },
  {
   "cell_type": "code",
   "execution_count": 2,
   "metadata": {},
   "outputs": [
    {
     "data": {
      "text/plain": [
       "(True, 'http://localhost:5000/v1/')"
      ]
     },
     "execution_count": 2,
     "metadata": {},
     "output_type": "execute_result"
    }
   ],
   "source": [
    "from amb_sdk.sdk import DarwinSdk\n",
    "ds = DarwinSdk()\n",
    "ds.set_url('https://darwin-api.sparkcognition.com/v1/')"
   ]
  },
  {
   "cell_type": "markdown",
   "metadata": {},
   "source": [
    "### Environment Variables"
   ]
  },
  {
   "cell_type": "code",
   "execution_count": 3,
   "metadata": {},
   "outputs": [],
   "source": [
    "PATH_TO_DATASET = '../../sets/'\n",
    "TRAIN_DATASET = 'sine_train.csv'\n",
    "TEST_DATASET = 'sine_test.csv'\n",
    "\n",
    "ts = '{:%Y%m%d%H%M%S}'.format(datetime.datetime.now())"
   ]
  },
  {
   "cell_type": "code",
   "execution_count": 5,
   "metadata": {},
   "outputs": [],
   "source": [
    "# Set your user id and password accordingly\n",
    "USER=\"[your Darwin user id]\"\n",
    "PW=\"[your Darwin password]\"\n",
    "\n",
    "status, msg = ds.auth_login_user(USER, PW)\n",
    "if not status:\n",
    "    print(msg)\n",
    "else:\n",
    "    print('You are logged in.')"
   ]
  },
  {
   "cell_type": "markdown",
   "metadata": {},
   "source": [
    "### Data Upload"
   ]
  },
  {
   "cell_type": "markdown",
   "metadata": {},
   "source": [
    "**Read dataset and view a file snippet**"
   ]
  },
  {
   "cell_type": "code",
   "execution_count": 6,
   "metadata": {},
   "outputs": [
    {
     "data": {
      "text/html": [
       "<div>\n",
       "<style scoped>\n",
       "    .dataframe tbody tr th:only-of-type {\n",
       "        vertical-align: middle;\n",
       "    }\n",
       "\n",
       "    .dataframe tbody tr th {\n",
       "        vertical-align: top;\n",
       "    }\n",
       "\n",
       "    .dataframe thead th {\n",
       "        text-align: right;\n",
       "    }\n",
       "</style>\n",
       "<table border=\"1\" class=\"dataframe\">\n",
       "  <thead>\n",
       "    <tr style=\"text-align: right;\">\n",
       "      <th></th>\n",
       "      <th>x</th>\n",
       "      <th>y</th>\n",
       "    </tr>\n",
       "  </thead>\n",
       "  <tbody>\n",
       "    <tr>\n",
       "      <th>0</th>\n",
       "      <td>0.000000</td>\n",
       "      <td>0.000000</td>\n",
       "    </tr>\n",
       "    <tr>\n",
       "      <th>1</th>\n",
       "      <td>0.591959</td>\n",
       "      <td>0.591959</td>\n",
       "    </tr>\n",
       "    <tr>\n",
       "      <th>2</th>\n",
       "      <td>1.130872</td>\n",
       "      <td>1.130872</td>\n",
       "    </tr>\n",
       "    <tr>\n",
       "      <th>3</th>\n",
       "      <td>1.568445</td>\n",
       "      <td>1.568445</td>\n",
       "    </tr>\n",
       "    <tr>\n",
       "      <th>4</th>\n",
       "      <td>1.865468</td>\n",
       "      <td>1.865468</td>\n",
       "    </tr>\n",
       "  </tbody>\n",
       "</table>\n",
       "</div>"
      ],
      "text/plain": [
       "          x         y\n",
       "0  0.000000  0.000000\n",
       "1  0.591959  0.591959\n",
       "2  1.130872  1.130872\n",
       "3  1.568445  1.568445\n",
       "4  1.865468  1.865468"
      ]
     },
     "execution_count": 6,
     "metadata": {},
     "output_type": "execute_result"
    }
   ],
   "source": [
    "df = pd.read_csv(os.path.join(PATH_TO_DATASET, TRAIN_DATASET))\n",
    "df.head()"
   ]
  },
  {
   "cell_type": "markdown",
   "metadata": {},
   "source": [
    "**Upload training dataset to Darwin**"
   ]
  },
  {
   "cell_type": "code",
   "execution_count": 7,
   "metadata": {
    "scrolled": false
   },
   "outputs": [
    {
     "name": "stdout",
     "output_type": "stream",
     "text": [
      "400: BAD REQUEST - {\"message\": \"Dataset already exists\"}\n",
      "\n"
     ]
    }
   ],
   "source": [
    "status, dataset = ds.upload_dataset(os.path.join(PATH_TO_DATASET, TRAIN_DATASET))\n",
    "if not status:\n",
    "    print(dataset)\n",
    "else:\n",
    "    print('Data is successfully uploaded!')"
   ]
  },
  {
   "cell_type": "markdown",
   "metadata": {},
   "source": [
    "#### **Upload testing dataset to Darwin**"
   ]
  },
  {
   "cell_type": "code",
   "execution_count": 8,
   "metadata": {},
   "outputs": [
    {
     "name": "stdout",
     "output_type": "stream",
     "text": [
      "400: BAD REQUEST - {\"message\": \"Dataset already exists\"}\n",
      "\n"
     ]
    }
   ],
   "source": [
    "status, dataset = ds.upload_dataset(os.path.join(PATH_TO_DATASET, TEST_DATASET))\n",
    "if not status:\n",
    "    print(dataset)\n",
    "else:\n",
    "    print('Data is successfully uploaded!')"
   ]
  },
  {
   "cell_type": "markdown",
   "metadata": {},
   "source": [
    "### Analyze Data\n",
    "Analyze data is a necessary step before cleaning data and creating model. "
   ]
  },
  {
   "cell_type": "code",
   "execution_count": 9,
   "metadata": {},
   "outputs": [
    {
     "name": "stdout",
     "output_type": "stream",
     "text": [
      "400: BAD REQUEST - {\"message\": \"A raw profile (name:Darwin_analyze_data_artifact-20200114154612) already exists for this dataset\"}\n",
      "\n"
     ]
    }
   ],
   "source": [
    "status, analyze_id = ds.analyze_data(TRAIN_DATASET, \n",
    "                                     job_name = 'Darwin_analyze_data_job' + \"-\" + ts, \n",
    "                                     artifact_name = 'Darwin_analyze_data_artifact' + \"-\" + ts)\n",
    "sleep(1)\n",
    "if status:\n",
    "    ds.wait_for_job('Darwin_analyze_data_job' + \"-\" + ts)\n",
    "else:\n",
    "    print(analyze_id)"
   ]
  },
  {
   "cell_type": "markdown",
   "metadata": {},
   "source": [
    "### Clean Data\n",
    "Every dataset needs to be cleaned before creating a model. There is no need to save the cleaned data and upload it, but users need to specify the target name before running."
   ]
  },
  {
   "cell_type": "code",
   "execution_count": 11,
   "metadata": {},
   "outputs": [
    {
     "name": "stdout",
     "output_type": "stream",
     "text": [
      "{'status': 'Running', 'starttime': '2020-01-17T20:42:28.820273', 'endtime': None, 'percent_complete': 0, 'job_type': 'CleanData', 'loss': None, 'generations': None, 'dataset_names': ['sine_train.csv'], 'artifact_names': None, 'model_name': None, 'job_error': None}\n",
      "{'status': 'Complete', 'starttime': '2020-01-17T20:42:28.820273', 'endtime': '2020-01-17T20:42:31.385008', 'percent_complete': 100, 'job_type': 'CleanData', 'loss': None, 'generations': None, 'dataset_names': ['sine_train.csv'], 'artifact_names': None, 'model_name': None, 'job_error': None}\n",
      "Data is being cleaned.\n"
     ]
    }
   ],
   "source": [
    "target = 'y'\n",
    "status, job_id_clean = ds.clean_data(dataset_name=TRAIN_DATASET, target=target)\n",
    "if not status:\n",
    "    print(job_id_clean)\n",
    "else:\n",
    "    ds.wait_for_job(job_id_clean['job_name'])\n",
    "    print('Data is being cleaned.')"
   ]
  },
  {
   "cell_type": "code",
   "execution_count": 12,
   "metadata": {},
   "outputs": [
    {
     "data": {
      "text/plain": [
       "{'job_name': '86bd432018e74aa3b8f59bcfd44a5e42',\n",
       " 'job_id': 'e07325d5-3969-11ea-88dc-537b3082b432',\n",
       " 'profile_name': '6afed512ec00473fb293fb065bbe1f6e',\n",
       " 'profile_id': 'e07325d6-3969-11ea-88dc-bb77cd2baacd'}"
      ]
     },
     "execution_count": 12,
     "metadata": {},
     "output_type": "execute_result"
    }
   ],
   "source": [
    "job_id_clean"
   ]
  },
  {
   "cell_type": "markdown",
   "metadata": {},
   "source": [
    "**for downloading the cleaned dataset/artifact**<br>\n",
    "Prior to running the cell below, fastparquet and python-snappy needs to be installed."
   ]
  },
  {
   "cell_type": "code",
   "execution_count": 13,
   "metadata": {},
   "outputs": [],
   "source": [
    "# status, download = ds.download_dataset(job_id_clean['profile_name'])\n",
    "# dat = pd.read_parquet(download['filename'], engine='fastparquet', )\n",
    "# dat.head(2)"
   ]
  },
  {
   "cell_type": "markdown",
   "metadata": {},
   "source": [
    "### Create and Train Model "
   ]
  },
  {
   "cell_type": "markdown",
   "metadata": {},
   "source": [
    "In the cell below, specify the parameters used to create the forecasting model:\n",
    "- `model`: the name of your model\n",
    "- `forecast_horizon`: the forecast length, which is how far you need to predict in the future, int type\n",
    "- `max_train_time`: the amount of time used for training (possibly shorter with early stopping)\n",
    "\n",
    "**NOTE : max_train_time should be carefully selected depending upon the given forecast_horizon. Longer forecast_horizon needs proportionally longer training time**"
   ]
  },
  {
   "cell_type": "code",
   "execution_count": 13,
   "metadata": {
    "scrolled": true
   },
   "outputs": [
    {
     "name": "stdout",
     "output_type": "stream",
     "text": [
      "{'status': 'Running', 'starttime': '2020-01-17T20:42:45.663191', 'endtime': None, 'percent_complete': 0, 'job_type': 'TrainModel', 'loss': None, 'generations': 0, 'dataset_names': ['sine_train.csv'], 'artifact_names': None, 'model_name': 'model-20200117144244', 'job_error': ''}\n",
      "{'status': 'Running', 'starttime': '2020-01-17T20:42:45.663191', 'endtime': None, 'percent_complete': 0, 'job_type': 'TrainModel', 'loss': None, 'generations': 0, 'dataset_names': ['sine_train.csv'], 'artifact_names': None, 'model_name': 'model-20200117144244', 'job_error': ''}\n",
      "{'status': 'Running', 'starttime': '2020-01-17T20:42:45.663191', 'endtime': None, 'percent_complete': 0, 'job_type': 'TrainModel', 'loss': None, 'generations': 0, 'dataset_names': ['sine_train.csv'], 'artifact_names': None, 'model_name': 'model-20200117144244', 'job_error': ''}\n",
      "{'status': 'Running', 'starttime': '2020-01-17T20:42:45.663191', 'endtime': None, 'percent_complete': 0, 'job_type': 'TrainModel', 'loss': None, 'generations': 0, 'dataset_names': ['sine_train.csv'], 'artifact_names': None, 'model_name': 'model-20200117144244', 'job_error': ''}\n",
      "{'status': 'Running', 'starttime': '2020-01-17T20:42:45.663191', 'endtime': None, 'percent_complete': 0, 'job_type': 'TrainModel', 'loss': None, 'generations': 0, 'dataset_names': ['sine_train.csv'], 'artifact_names': None, 'model_name': 'model-20200117144244', 'job_error': ''}\n",
      "{'status': 'Running', 'starttime': '2020-01-17T20:42:45.663191', 'endtime': None, 'percent_complete': 0, 'job_type': 'TrainModel', 'loss': None, 'generations': 0, 'dataset_names': ['sine_train.csv'], 'artifact_names': None, 'model_name': 'model-20200117144244', 'job_error': ''}\n",
      "{'status': 'Running', 'starttime': '2020-01-17T20:42:45.663191', 'endtime': None, 'percent_complete': 0, 'job_type': 'TrainModel', 'loss': None, 'generations': 0, 'dataset_names': ['sine_train.csv'], 'artifact_names': None, 'model_name': 'model-20200117144244', 'job_error': ''}\n",
      "{'status': 'Running', 'starttime': '2020-01-17T20:42:45.663191', 'endtime': None, 'percent_complete': 0, 'job_type': 'TrainModel', 'loss': None, 'generations': 0, 'dataset_names': ['sine_train.csv'], 'artifact_names': None, 'model_name': 'model-20200117144244', 'job_error': ''}\n",
      "{'status': 'Running', 'starttime': '2020-01-17T20:42:45.663191', 'endtime': None, 'percent_complete': 0, 'job_type': 'TrainModel', 'loss': None, 'generations': 0, 'dataset_names': ['sine_train.csv'], 'artifact_names': None, 'model_name': 'model-20200117144244', 'job_error': ''}\n",
      "{'status': 'Running', 'starttime': '2020-01-17T20:42:45.663191', 'endtime': None, 'percent_complete': 0, 'job_type': 'TrainModel', 'loss': None, 'generations': 0, 'dataset_names': ['sine_train.csv'], 'artifact_names': None, 'model_name': 'model-20200117144244', 'job_error': ''}\n",
      "{'status': 'Complete', 'starttime': '2020-01-17T20:42:45.663191', 'endtime': '2020-01-17T20:45:08.662455', 'percent_complete': 100, 'job_type': 'TrainModel', 'loss': 0.00013760064030066133, 'generations': 1, 'dataset_names': ['sine_train.csv'], 'artifact_names': None, 'model_name': 'model-20200117144244', 'job_error': ''}\n"
     ]
    }
   ],
   "source": [
    "ts = '{:%Y%m%d%H%M%S}'.format(datetime.datetime.now())\n",
    "model = \"model\" + \"-\" + ts\n",
    "forecast_horizon = 3\n",
    "max_train_time = '00:02'\n",
    "status, job_id_create = ds.create_model(dataset_names=TRAIN_DATASET,\n",
    "                                 model_name=model,\n",
    "                                 forecast_horizon=forecast_horizon,\n",
    "                                 fit_profile_name=job_id_clean['profile_name'],\n",
    "                                 max_train_time=max_train_time)\n",
    "sleep(1)\n",
    "if status:\n",
    "    ds.wait_for_job(job_id_create['job_name'])\n",
    "else:\n",
    "    print(job_id_create)"
   ]
  },
  {
   "cell_type": "markdown",
   "metadata": {},
   "source": [
    "**In case of stopping the running job**\n",
    "\n",
    "uncomment the following & run"
   ]
  },
  {
   "cell_type": "code",
   "execution_count": 14,
   "metadata": {},
   "outputs": [],
   "source": [
    "#ds.stop_job(job_id_create['job_name'])"
   ]
  },
  {
   "cell_type": "code",
   "execution_count": 15,
   "metadata": {},
   "outputs": [
    {
     "data": {
      "text/plain": [
       "(True,\n",
       " {'status': 'Complete',\n",
       "  'starttime': '2020-01-17T20:42:45.663191',\n",
       "  'endtime': '2020-01-17T20:45:08.662455',\n",
       "  'percent_complete': 100,\n",
       "  'job_type': 'TrainModel',\n",
       "  'loss': 0.00013760064030066133,\n",
       "  'generations': 1,\n",
       "  'dataset_names': ['sine_train.csv'],\n",
       "  'artifact_names': None,\n",
       "  'model_name': 'model-20200117144244',\n",
       "  'job_error': ''})"
      ]
     },
     "execution_count": 15,
     "metadata": {},
     "output_type": "execute_result"
    }
   ],
   "source": [
    "# look up job status\n",
    "ds.lookup_job_status_name(job_id_create['job_name'])"
   ]
  },
  {
   "cell_type": "code",
   "execution_count": 16,
   "metadata": {},
   "outputs": [
    {
     "data": {
      "text/plain": [
       "(True,\n",
       " {'id': 'ea7cb5ea-3969-11ea-88dc-dfb01d747cd8',\n",
       "  'name': 'model-20200117144244',\n",
       "  'type': 'Supervised',\n",
       "  'problem_type': None,\n",
       "  'updated_at': '2020-01-17T20:45:08.658088',\n",
       "  'trained_on': ['sine_train.csv'],\n",
       "  'trained_on_id': ['523dc17e-3717-11ea-88dc-d3785e59cdb6'],\n",
       "  'loss': 0.00013760064030066133,\n",
       "  'complete': True,\n",
       "  'generations': 1,\n",
       "  'parameters': {'forecast_horizon': 3,\n",
       "   'train_time': '00:02',\n",
       "   'target': 'y',\n",
       "   'recurrent': False,\n",
       "   'max_unique_values': 50,\n",
       "   'max_int_uniques': 15,\n",
       "   'impute': 'mean',\n",
       "   'big_data': False},\n",
       "  'description': {'best_genome': [{'layer 1': {'type': 'DualAttentionRecurrentNeuralNet',\n",
       "      'parameters': {'encoder_hidden_size': 37,\n",
       "       'decoder_hidden_size': 53,\n",
       "       'seqlength': 18}}},\n",
       "    {'layer 2': {'type': 'LinearGene',\n",
       "      'parameters': {'activation': 'identity', 'numunits': 3}}}],\n",
       "   'recurrent': True,\n",
       "   'genome_type': 'DeepNet'},\n",
       "  'train_time_seconds': 143,\n",
       "  'algorithm': None,\n",
       "  'running_job_id': None})"
      ]
     },
     "execution_count": 16,
     "metadata": {},
     "output_type": "execute_result"
    }
   ],
   "source": [
    "# look up the model details\n",
    "model_info = ds.lookup_model_name(job_id_create['model_name'])\n",
    "model_info"
   ]
  },
  {
   "cell_type": "code",
   "execution_count": 17,
   "metadata": {},
   "outputs": [
    {
     "data": {
      "text/plain": [
       "{'job_name': '023c4152e1ee4b83b40a8eeb8c0a6455',\n",
       " 'job_id': 'ea7cb5ec-3969-11ea-88dc-7f6511350ac0',\n",
       " 'model_name': 'model-20200117144244'}"
      ]
     },
     "execution_count": 17,
     "metadata": {},
     "output_type": "execute_result"
    }
   ],
   "source": [
    "job_id_create"
   ]
  },
  {
   "cell_type": "markdown",
   "metadata": {},
   "source": [
    "#### Extra Training (Optional)"
   ]
  },
  {
   "cell_type": "code",
   "execution_count": 18,
   "metadata": {},
   "outputs": [],
   "source": [
    "# max_train_time = '00:30'\n",
    "# status, job_id_resume = ds.resume_training_model(dataset_names=TRAIN_DATASET,\n",
    "#                                          model_name=model,\n",
    "#                                          max_train_time=max_train_time)\n",
    "# sleep(1)\n",
    "# if status:\n",
    "#     ds.wait_for_job(job_id_resume['job_name'], 2000)\n",
    "# else:\n",
    "#     print(job_id_resume)"
   ]
  },
  {
   "cell_type": "markdown",
   "metadata": {},
   "source": [
    "### Predict"
   ]
  },
  {
   "cell_type": "markdown",
   "metadata": {},
   "source": [
    "Analyze data is a necessary step before cleaning the test dataset and making predictions."
   ]
  },
  {
   "cell_type": "code",
   "execution_count": null,
   "metadata": {},
   "outputs": [],
   "source": [
    "status, analyze_id = ds.analyze_data(TEST_DATASET, \n",
    "                                     job_name = 'Darwin_analyze_test_job' + \"-\" + ts, \n",
    "                                     artifact_name = 'Darwin_analyze_test_artifact' + \"-\" + ts)\n",
    "sleep(1)\n",
    "if status:\n",
    "    ds.wait_for_job('Darwin_analyze_test_job' + \"-\" + ts)\n",
    "else:\n",
    "    print(analyze_id)"
   ]
  },
  {
   "cell_type": "code",
   "execution_count": 19,
   "metadata": {},
   "outputs": [
    {
     "name": "stdout",
     "output_type": "stream",
     "text": [
      "{'status': 'Running', 'starttime': '2020-01-17T20:45:16.958131', 'endtime': None, 'percent_complete': 0, 'job_type': 'CleanData', 'loss': None, 'generations': None, 'dataset_names': ['sine_test.csv'], 'artifact_names': None, 'model_name': None, 'job_error': None}\n",
      "{'status': 'Complete', 'starttime': '2020-01-17T20:45:16.958131', 'endtime': '2020-01-17T20:45:20.250858', 'percent_complete': 100, 'job_type': 'CleanData', 'loss': None, 'generations': None, 'dataset_names': ['sine_test.csv'], 'artifact_names': None, 'model_name': None, 'job_error': None}\n"
     ]
    }
   ],
   "source": [
    "# clean dataset\n",
    "status, job_id_clean = ds.clean_data(TEST_DATASET, model_name=model)\n",
    "\n",
    "if status:\n",
    "    ds.wait_for_job(job_id_clean['job_name'])\n",
    "else:\n",
    "    print(job_id_clean)"
   ]
  },
  {
   "cell_type": "code",
   "execution_count": 20,
   "metadata": {},
   "outputs": [
    {
     "data": {
      "text/plain": [
       "{'job_name': '2bf3e4ad9f804998a21d61b675f362f2',\n",
       " 'job_id': '44aae817-396a-11ea-88dc-e304b5c0e7cf',\n",
       " 'profile_name': '28f79dd56c3d4d5a8accb16ca598058a',\n",
       " 'profile_id': '44aae818-396a-11ea-88dc-af2c0e507105'}"
      ]
     },
     "execution_count": 20,
     "metadata": {},
     "output_type": "execute_result"
    }
   ],
   "source": [
    "job_id_clean"
   ]
  },
  {
   "cell_type": "code",
   "execution_count": 21,
   "metadata": {
    "scrolled": true
   },
   "outputs": [
    {
     "name": "stdout",
     "output_type": "stream",
     "text": [
      "{'status': 'Running', 'starttime': '2020-01-17T20:45:35.597038', 'endtime': None, 'percent_complete': 0, 'job_type': 'RunModel', 'loss': 0.00013760064030066133, 'generations': 1, 'dataset_names': ['sine_test.csv'], 'artifact_names': ['06cb68b5d5834a69b48f54bf026f58d1'], 'model_name': 'model-20200117144244', 'job_error': ''}\n",
      "{'status': 'Complete', 'starttime': '2020-01-17T20:45:35.597038', 'endtime': '2020-01-17T20:45:44.45348', 'percent_complete': 100, 'job_type': 'RunModel', 'loss': 0.00013760064030066133, 'generations': 1, 'dataset_names': ['sine_test.csv'], 'artifact_names': ['06cb68b5d5834a69b48f54bf026f58d1'], 'model_name': 'model-20200117144244', 'job_error': ''}\n"
     ]
    }
   ],
   "source": [
    "# Test model\n",
    "status, artifact = ds.run_model(dataset_name=TEST_DATASET, \n",
    "                                model_name=model)\n",
    "sleep(1)\n",
    "if status:\n",
    "    ds.wait_for_job(artifact['job_name'])\n",
    "else:\n",
    "    print(artifact)"
   ]
  },
  {
   "cell_type": "code",
   "execution_count": 22,
   "metadata": {},
   "outputs": [
    {
     "data": {
      "text/plain": [
       "{'job_name': '617654736ac14b14930a47c9ada9307b',\n",
       " 'job_id': '4fc70a41-396a-11ea-88dc-d73c24f2b16a',\n",
       " 'artifact_name': '06cb68b5d5834a69b48f54bf026f58d1'}"
      ]
     },
     "execution_count": 22,
     "metadata": {},
     "output_type": "execute_result"
    }
   ],
   "source": [
    "artifact"
   ]
  },
  {
   "cell_type": "code",
   "execution_count": 23,
   "metadata": {},
   "outputs": [],
   "source": [
    "# Get predictions\n",
    "status, prediction = ds.download_artifact(artifact['artifact_name'])"
   ]
  },
  {
   "cell_type": "code",
   "execution_count": 24,
   "metadata": {},
   "outputs": [
    {
     "name": "stdout",
     "output_type": "stream",
     "text": [
      "          x         y\n",
      "0  1.990951  1.990951\n",
      "1  1.957992  1.957992\n",
      "2  1.749574  1.749574\n",
      "3  1.384374  1.384374\n",
      "4  0.895119  0.895119\n"
     ]
    }
   ],
   "source": [
    "# read in test dataset\n",
    "df = pd.read_csv(os.path.join(PATH_TO_DATASET, TEST_DATASET))\n",
    "# If TS has a datetime column \"timestamp\"\n",
    "try :\n",
    "    df['timestamp'] = pd.to_datetime(df['timestamp'])\n",
    "    df.set_index('timestamp', inplace=True)\n",
    "    print(df.head())\n",
    "except:\n",
    "    print(df.head())"
   ]
  },
  {
   "cell_type": "markdown",
   "metadata": {},
   "source": [
    "**aligning & re-structuring forecasting predictions**"
   ]
  },
  {
   "cell_type": "code",
   "execution_count": 25,
   "metadata": {},
   "outputs": [],
   "source": [
    "trues, preds = ds.align_forecasting_predictions(model_name=model, true_values=df, predictions=prediction)"
   ]
  },
  {
   "cell_type": "markdown",
   "metadata": {},
   "source": [
    "### Visualization the forecasting results"
   ]
  },
  {
   "cell_type": "code",
   "execution_count": 26,
   "metadata": {},
   "outputs": [
    {
     "data": {
      "text/plain": [
       "<matplotlib.legend.Legend at 0x7f5389a779e8>"
      ]
     },
     "execution_count": 26,
     "metadata": {},
     "output_type": "execute_result"
    },
    {
     "data": {
      "image/png": "[encoded data removed]",
      "text/plain": [
       "<Figure size 1440x720 with 1 Axes>"
      ]
     },
     "metadata": {
      "needs_background": "light"
     },
     "output_type": "display_data"
    }
   ],
   "source": [
    "# plot against predictions\n",
    "\n",
    "seq_len = model_info[1]['description']['best_genome'][0]['layer 1']['parameters']['seqlength']\n",
    "\n",
    "plt.rcParams['figure.figsize']= 20,10\n",
    "plt.plot(trues[target], color='b', label='True')\n",
    "plt.plot(preds, color='r', label='Prediction')\n",
    "plt.title(\"Forecasting results on SineWave dataset\", fontsize=15)\n",
    "plt.legend(fontsize=15)"
   ]
  },
  {
   "cell_type": "markdown",
   "metadata": {},
   "source": [
    "#### Test Metrics "
   ]
  },
  {
   "cell_type": "code",
   "execution_count": 27,
   "metadata": {},
   "outputs": [
    {
     "data": {
      "text/plain": [
       "0.9998489993292052"
      ]
     },
     "execution_count": 27,
     "metadata": {},
     "output_type": "execute_result"
    }
   ],
   "source": [
    "r2_score(trues[target], preds)"
   ]
  },
  {
   "cell_type": "code",
   "execution_count": 28,
   "metadata": {},
   "outputs": [
    {
     "data": {
      "text/plain": [
       "0.00030138155115037803"
      ]
     },
     "execution_count": 28,
     "metadata": {},
     "output_type": "execute_result"
    }
   ],
   "source": [
    "mean_squared_error(trues[target], preds)"
   ]
  },
  {
   "cell_type": "code",
   "execution_count": null,
   "metadata": {},
   "outputs": [],
   "source": []
  }
 ],
 "metadata": {
  "anaconda-cloud": {},
  "celltoolbar": "Raw Cell Format",
  "kernelspec": {
   "display_name": "Python 3",
   "language": "python",
   "name": "python3"
  },
  "language_info": {
   "codemirror_mode": {
    "name": "ipython",
    "version": 3
   },
   "file_extension": ".py",
   "mimetype": "text/x-python",
   "name": "python",
   "nbconvert_exporter": "python",
   "pygments_lexer": "ipython3",
   "version": "3.6.6"
  }
 },
 "nbformat": 4,
 "nbformat_minor": 2
}
