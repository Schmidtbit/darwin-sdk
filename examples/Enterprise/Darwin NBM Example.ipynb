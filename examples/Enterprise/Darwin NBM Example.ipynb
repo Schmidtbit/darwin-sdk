{
 "cells": [
  {
   "cell_type": "markdown",
   "metadata": {},
   "source": [
    "<img src=\"https://cybersecurity-excellence-awards.com/wp-content/uploads/2017/06/366812.png\">"
   ]
  },
  {
   "cell_type": "markdown",
   "metadata": {},
   "source": [
    "<h1><center>Darwin Normal Behavior Modeling (NBM) Example </center></h1>"
   ]
  },
  {
   "cell_type": "markdown",
   "metadata": {},
   "source": [
    "# Prior to getting started:"
   ]
  },
  {
   "cell_type": "markdown",
   "metadata": {},
   "source": [
    "Darwin notebook will no longer support 'Register User' starting from 2.0. As a user, you must have credentials ready before using this notebook. \n",
    "\n",
    "In order to proceed, in the Environment Variables cell: \n",
    "1. Set your username and password to ensure that you're able to log in successfully\n",
    "2. Set the path to the location of your datasets if you are using your own data.  The path is set for the examples.\n",
    "\n",
    "Here are a few things to be mindful of:\n",
    "1. For every run, check the job status (i.e. requested, failed, running, completed) and wait for job to complete before proceeding. \n",
    "2. If you're not satisfied with your model and think that Darwin can do better by exploring a larger search space, use the resume function."
   ]
  },
  {
   "cell_type": "markdown",
   "metadata": {},
   "source": [
    "## Import necessary libraries"
   ]
  },
  {
   "cell_type": "code",
   "execution_count": 47,
   "metadata": {},
   "outputs": [],
   "source": [
    "%matplotlib inline\n",
    "import matplotlib.pyplot as plt\n",
    "import pandas as pd\n",
    "import os\n",
    "import numpy as np\n",
    "import datetime\n",
    "from sklearn.metrics import r2_score\n",
    "from amb_sdk.sdk import DarwinSdk\n",
    "from IPython.display import Image\n",
    "from time import sleep"
   ]
  },
  {
   "cell_type": "markdown",
   "metadata": {},
   "source": [
    "## Set Darwin SDK"
   ]
  },
  {
   "cell_type": "code",
   "execution_count": 48,
   "metadata": {},
   "outputs": [
    {
     "data": {
      "text/plain": [
       "(True, 'https://amb-api.sparkcognition.com/v1/')"
      ]
     },
     "execution_count": 48,
     "metadata": {},
     "output_type": "execute_result"
    }
   ],
   "source": [
    "ds = DarwinSdk()\n",
    "ds.set_url('https://darwin-api.sparkcognition.com/v1/')"
   ]
  },
  {
   "cell_type": "markdown",
   "metadata": {},
   "source": [
    "## Environment Variables"
   ]
  },
  {
   "cell_type": "code",
   "execution_count": null,
   "metadata": {},
   "outputs": [],
   "source": [
    "#Set your user id and password accordingly\n",
    "USER=\"[your Darwin user id]\"\n",
    "PW=\"[your Darwin password]\"\n",
    "\n",
    "# Set path to datasets - The default below assumes Jupyter was started from amb-sdk/examples/Enterprise/\n",
    "# Modify accordingly if you wish to use your own data\n",
    "PATH_TO_DATASET = '../../sets/'\n",
    "TRAIN_DATASET = 'wind_turbine.csv'\n",
    "\n",
    "# A timestamp is used to create a unique name in the event you execute the workflow multiple times or with \n",
    "# different datasets.  File names must be unique in Darwin.\n",
    "import datetime\n",
    "ts = '{:%Y%m%d%H%M%S}'.format(datetime.datetime.now())"
   ]
  },
  {
   "cell_type": "markdown",
   "metadata": {},
   "source": [
    "# User Login"
   ]
  },
  {
   "cell_type": "code",
   "execution_count": 6,
   "metadata": {},
   "outputs": [
    {
     "name": "stdout",
     "output_type": "stream",
     "text": [
      "Login successfully!\n"
     ]
    }
   ],
   "source": [
    "status, msg = ds.auth_login_user(USER,PW)\n",
    "if not status:\n",
    "    print(msg)\n",
    "else:\n",
    "    print(\"Login successfully!\")"
   ]
  },
  {
   "cell_type": "markdown",
   "metadata": {},
   "source": [
    "# Data Upload"
   ]
  },
  {
   "cell_type": "markdown",
   "metadata": {
    "scrolled": true
   },
   "source": [
    "**Read dataset and view a file snippet**\n",
    "<br>After setting up the dataset path, the next step is to upload the dataset from your local device to the server."
   ]
  },
  {
   "cell_type": "code",
   "execution_count": 20,
   "metadata": {},
   "outputs": [
    {
     "data": {
      "text/html": [
       "<div>\n",
       "<style scoped>\n",
       "    .dataframe tbody tr th:only-of-type {\n",
       "        vertical-align: middle;\n",
       "    }\n",
       "\n",
       "    .dataframe tbody tr th {\n",
       "        vertical-align: top;\n",
       "    }\n",
       "\n",
       "    .dataframe thead th {\n",
       "        text-align: right;\n",
       "    }\n",
       "</style>\n",
       "<table border=\"1\" class=\"dataframe\">\n",
       "  <thead>\n",
       "    <tr style=\"text-align: right;\">\n",
       "      <th></th>\n",
       "      <th>timestamp</th>\n",
       "      <th>YAWDIRDEG</th>\n",
       "      <th>TMPCTRLTOPDEGC</th>\n",
       "      <th>VCNV</th>\n",
       "      <th>XFMRTMPPHADEGC</th>\n",
       "      <th>P10MACTKW</th>\n",
       "      <th>GENTMPPHCDEGC</th>\n",
       "      <th>FREQHZ</th>\n",
       "      <th>BRGTMPGENNDEDEGC</th>\n",
       "      <th>GENTMPSLIPDEGC</th>\n",
       "      <th>...</th>\n",
       "      <th>WSMPS</th>\n",
       "      <th>HYDRTMPDEGC</th>\n",
       "      <th>BRGTMPGBXADEGC</th>\n",
       "      <th>BLDANGDEG</th>\n",
       "      <th>AMBTMPDEGC</th>\n",
       "      <th>ICA</th>\n",
       "      <th>PSETKW</th>\n",
       "      <th>GENTMPPHBDEGC</th>\n",
       "      <th>PEXPKW</th>\n",
       "      <th>TMPCTRLHUBDEGC</th>\n",
       "    </tr>\n",
       "  </thead>\n",
       "  <tbody>\n",
       "    <tr>\n",
       "      <th>51401</th>\n",
       "      <td>8/23/15 23:10</td>\n",
       "      <td>1000.0</td>\n",
       "      <td>35.0</td>\n",
       "      <td>408.8</td>\n",
       "      <td>48.0</td>\n",
       "      <td>-1.6</td>\n",
       "      <td>26.0</td>\n",
       "      <td>60.00</td>\n",
       "      <td>26.0</td>\n",
       "      <td>999.0</td>\n",
       "      <td>...</td>\n",
       "      <td>1.8</td>\n",
       "      <td>35.0</td>\n",
       "      <td>29.0</td>\n",
       "      <td>86.0</td>\n",
       "      <td>22.0</td>\n",
       "      <td>0.4</td>\n",
       "      <td>0.0</td>\n",
       "      <td>26.0</td>\n",
       "      <td>0.0</td>\n",
       "      <td>26.0</td>\n",
       "    </tr>\n",
       "    <tr>\n",
       "      <th>51402</th>\n",
       "      <td>8/23/15 23:20</td>\n",
       "      <td>1000.0</td>\n",
       "      <td>35.0</td>\n",
       "      <td>409.1</td>\n",
       "      <td>48.0</td>\n",
       "      <td>-1.6</td>\n",
       "      <td>26.0</td>\n",
       "      <td>60.00</td>\n",
       "      <td>26.0</td>\n",
       "      <td>999.0</td>\n",
       "      <td>...</td>\n",
       "      <td>1.7</td>\n",
       "      <td>35.0</td>\n",
       "      <td>29.0</td>\n",
       "      <td>86.0</td>\n",
       "      <td>22.0</td>\n",
       "      <td>0.4</td>\n",
       "      <td>0.0</td>\n",
       "      <td>26.0</td>\n",
       "      <td>0.0</td>\n",
       "      <td>25.0</td>\n",
       "    </tr>\n",
       "    <tr>\n",
       "      <th>51403</th>\n",
       "      <td>8/23/15 23:30</td>\n",
       "      <td>1000.0</td>\n",
       "      <td>35.0</td>\n",
       "      <td>408.1</td>\n",
       "      <td>49.0</td>\n",
       "      <td>-1.5</td>\n",
       "      <td>26.0</td>\n",
       "      <td>60.00</td>\n",
       "      <td>26.0</td>\n",
       "      <td>999.0</td>\n",
       "      <td>...</td>\n",
       "      <td>1.5</td>\n",
       "      <td>35.0</td>\n",
       "      <td>29.0</td>\n",
       "      <td>86.0</td>\n",
       "      <td>22.0</td>\n",
       "      <td>0.3</td>\n",
       "      <td>0.0</td>\n",
       "      <td>26.0</td>\n",
       "      <td>0.0</td>\n",
       "      <td>25.0</td>\n",
       "    </tr>\n",
       "    <tr>\n",
       "      <th>51404</th>\n",
       "      <td>8/23/15 23:40</td>\n",
       "      <td>1000.0</td>\n",
       "      <td>35.0</td>\n",
       "      <td>407.9</td>\n",
       "      <td>49.0</td>\n",
       "      <td>-1.6</td>\n",
       "      <td>26.0</td>\n",
       "      <td>60.00</td>\n",
       "      <td>26.0</td>\n",
       "      <td>999.0</td>\n",
       "      <td>...</td>\n",
       "      <td>1.6</td>\n",
       "      <td>35.0</td>\n",
       "      <td>29.0</td>\n",
       "      <td>86.0</td>\n",
       "      <td>22.0</td>\n",
       "      <td>0.4</td>\n",
       "      <td>0.0</td>\n",
       "      <td>26.0</td>\n",
       "      <td>0.0</td>\n",
       "      <td>25.0</td>\n",
       "    </tr>\n",
       "    <tr>\n",
       "      <th>51405</th>\n",
       "      <td>8/23/15 23:50</td>\n",
       "      <td>1000.0</td>\n",
       "      <td>35.0</td>\n",
       "      <td>407.6</td>\n",
       "      <td>49.0</td>\n",
       "      <td>-1.5</td>\n",
       "      <td>26.0</td>\n",
       "      <td>60.02</td>\n",
       "      <td>26.0</td>\n",
       "      <td>999.0</td>\n",
       "      <td>...</td>\n",
       "      <td>2.1</td>\n",
       "      <td>35.0</td>\n",
       "      <td>29.0</td>\n",
       "      <td>86.0</td>\n",
       "      <td>22.0</td>\n",
       "      <td>0.3</td>\n",
       "      <td>0.0</td>\n",
       "      <td>26.0</td>\n",
       "      <td>0.0</td>\n",
       "      <td>25.0</td>\n",
       "    </tr>\n",
       "  </tbody>\n",
       "</table>\n",
       "<p>5 rows × 38 columns</p>\n",
       "</div>"
      ],
      "text/plain": [
       "           timestamp  YAWDIRDEG  TMPCTRLTOPDEGC   VCNV  XFMRTMPPHADEGC  \\\n",
       "51401  8/23/15 23:10     1000.0            35.0  408.8            48.0   \n",
       "51402  8/23/15 23:20     1000.0            35.0  409.1            48.0   \n",
       "51403  8/23/15 23:30     1000.0            35.0  408.1            49.0   \n",
       "51404  8/23/15 23:40     1000.0            35.0  407.9            49.0   \n",
       "51405  8/23/15 23:50     1000.0            35.0  407.6            49.0   \n",
       "\n",
       "       P10MACTKW  GENTMPPHCDEGC  FREQHZ  BRGTMPGENNDEDEGC  GENTMPSLIPDEGC  \\\n",
       "51401       -1.6           26.0   60.00              26.0           999.0   \n",
       "51402       -1.6           26.0   60.00              26.0           999.0   \n",
       "51403       -1.5           26.0   60.00              26.0           999.0   \n",
       "51404       -1.6           26.0   60.00              26.0           999.0   \n",
       "51405       -1.5           26.0   60.02              26.0           999.0   \n",
       "\n",
       "            ...        WSMPS  HYDRTMPDEGC  BRGTMPGBXADEGC  BLDANGDEG  \\\n",
       "51401       ...          1.8         35.0            29.0       86.0   \n",
       "51402       ...          1.7         35.0            29.0       86.0   \n",
       "51403       ...          1.5         35.0            29.0       86.0   \n",
       "51404       ...          1.6         35.0            29.0       86.0   \n",
       "51405       ...          2.1         35.0            29.0       86.0   \n",
       "\n",
       "       AMBTMPDEGC  ICA  PSETKW  GENTMPPHBDEGC  PEXPKW  TMPCTRLHUBDEGC  \n",
       "51401        22.0  0.4     0.0           26.0     0.0            26.0  \n",
       "51402        22.0  0.4     0.0           26.0     0.0            25.0  \n",
       "51403        22.0  0.3     0.0           26.0     0.0            25.0  \n",
       "51404        22.0  0.4     0.0           26.0     0.0            25.0  \n",
       "51405        22.0  0.3     0.0           26.0     0.0            25.0  \n",
       "\n",
       "[5 rows x 38 columns]"
      ]
     },
     "execution_count": 20,
     "metadata": {},
     "output_type": "execute_result"
    }
   ],
   "source": [
    "# Preview dataset\n",
    "df = pd.read_csv(os.path.join(PATH_TO_DATASET, TRAIN_DATASET))\n",
    "df.tail()"
   ]
  },
  {
   "cell_type": "markdown",
   "metadata": {},
   "source": [
    "**Upload dataset to Darwin**"
   ]
  },
  {
   "cell_type": "code",
   "execution_count": 8,
   "metadata": {
    "scrolled": true
   },
   "outputs": [
    {
     "name": "stdout",
     "output_type": "stream",
     "text": [
      "True\n",
      "{'dataset_name': 'SmokyT025_full_raw.csv'}\n",
      "Upload successfully!\n"
     ]
    }
   ],
   "source": [
    "# Upload dataset\n",
    "status, dataset = ds.upload_dataset(os.path.join(PATH_TO_DATASET, TRAIN_DATASET))\n",
    "print(status)\n",
    "print(dataset)\n",
    "\n",
    "if not status:\n",
    "    print(dataset)\n",
    "else:\n",
    "    print(\"Upload successfully!\")"
   ]
  },
  {
   "cell_type": "markdown",
   "metadata": {},
   "source": [
    "## Analyze Data\n",
    "Analyze data is a necessary step before cleaning data and creating model. "
   ]
  },
  {
   "cell_type": "code",
   "execution_count": 9,
   "metadata": {},
   "outputs": [
    {
     "name": "stdout",
     "output_type": "stream",
     "text": [
      "{'status': 'Complete', 'starttime': '2019-07-17T16:20:32.264496', 'endtime': None, 'percent_complete': 100, 'job_type': 'AnalyzeData', 'loss': None, 'generations': None, 'dataset_names': ['SmokyT025_full_raw.csv'], 'artifact_names': ['Darwin_analyze_data_artifact-20190717161916'], 'model_name': None, 'job_error': None}\n"
     ]
    }
   ],
   "source": [
    "status, analyze_id = ds.analyze_data(TRAIN_DATASET, \n",
    "                                     job_name = 'Darwin_analyze_data_job' + \"-\" + ts, \n",
    "                                     artifact_name = 'Darwin_analyze_data_artifact' + \"-\" + ts)\n",
    "sleep(1)\n",
    "if status:\n",
    "    ds.wait_for_job('Darwin_analyze_data_job' + \"-\" + ts)\n",
    "else:\n",
    "    print(analyze_id)"
   ]
  },
  {
   "cell_type": "markdown",
   "metadata": {},
   "source": [
    "## **Clean dataset**"
   ]
  },
  {
   "cell_type": "code",
   "execution_count": 27,
   "metadata": {},
   "outputs": [
    {
     "name": "stdout",
     "output_type": "stream",
     "text": [
      "{'status': 'Complete', 'starttime': '2019-07-17T16:29:27.005176', 'endtime': None, 'percent_complete': 100, 'job_type': 'CleanData', 'loss': None, 'generations': None, 'dataset_names': ['SmokyT025_full_raw.csv'], 'artifact_names': None, 'model_name': None, 'job_error': None}\n"
     ]
    }
   ],
   "source": [
    "# clean dataset\n",
    "status, job_id = ds.clean_data(TRAIN_DATASET, index='timestamp')\n",
    "\n",
    "if status:\n",
    "    ds.wait_for_job(job_id['job_name'])\n",
    "else:\n",
    "    print(job_id)"
   ]
  },
  {
   "cell_type": "markdown",
   "metadata": {},
   "source": [
    "# Create and Train Model "
   ]
  },
  {
   "cell_type": "markdown",
   "metadata": {},
   "source": [
    "We will now build a model that will learn the normal behavior of an asset based on a failure date.<br> The failure date in our example dataset is 8/24/15. <br> You will have to specify a different failure date for your custom dataset. <br> You can also specify a recovery_dates when the asset comes back online.\n"
   ]
  },
  {
   "cell_type": "code",
   "execution_count": 28,
   "metadata": {
    "scrolled": true
   },
   "outputs": [
    {
     "name": "stdout",
     "output_type": "stream",
     "text": [
      "{'status': 'Requested', 'starttime': '2019-07-17T16:29:42.748509', 'endtime': None, 'percent_complete': 0, 'job_type': 'TrainModel', 'loss': None, 'generations': 0, 'dataset_names': ['SmokyT025_full_raw.csv'], 'artifact_names': None, 'model_name': 'model103-20190717161916', 'job_error': None}\n",
      "{'status': 'Running', 'starttime': '2019-07-17T16:29:42.748509', 'endtime': None, 'percent_complete': 0, 'job_type': 'TrainModel', 'loss': None, 'generations': 0, 'dataset_names': ['SmokyT025_full_raw.csv'], 'artifact_names': None, 'model_name': 'model103-20190717161916', 'job_error': ''}\n",
      "{'status': 'Running', 'starttime': '2019-07-17T16:29:42.748509', 'endtime': None, 'percent_complete': 0, 'job_type': 'TrainModel', 'loss': None, 'generations': 0, 'dataset_names': ['SmokyT025_full_raw.csv'], 'artifact_names': None, 'model_name': 'model103-20190717161916', 'job_error': ''}\n",
      "{'status': 'Running', 'starttime': '2019-07-17T16:29:42.748509', 'endtime': None, 'percent_complete': 0, 'job_type': 'TrainModel', 'loss': None, 'generations': 0, 'dataset_names': ['SmokyT025_full_raw.csv'], 'artifact_names': None, 'model_name': 'model103-20190717161916', 'job_error': ''}\n",
      "{'status': 'Running', 'starttime': '2019-07-17T16:29:42.748509', 'endtime': None, 'percent_complete': 0, 'job_type': 'TrainModel', 'loss': None, 'generations': 0, 'dataset_names': ['SmokyT025_full_raw.csv'], 'artifact_names': None, 'model_name': 'model103-20190717161916', 'job_error': ''}\n",
      "{'status': 'Running', 'starttime': '2019-07-17T16:29:42.748509', 'endtime': None, 'percent_complete': 0, 'job_type': 'TrainModel', 'loss': None, 'generations': 0, 'dataset_names': ['SmokyT025_full_raw.csv'], 'artifact_names': None, 'model_name': 'model103-20190717161916', 'job_error': ''}\n",
      "{'status': 'Complete', 'starttime': '2019-07-17T16:29:42.748509', 'endtime': '2019-07-17T16:31:05.626353', 'percent_complete': 100, 'job_type': 'TrainModel', 'loss': 0.1257348135816601, 'generations': 1, 'dataset_names': ['SmokyT025_full_raw.csv'], 'artifact_names': None, 'model_name': 'model103-20190717161916', 'job_error': ''}\n"
     ]
    }
   ],
   "source": [
    "model = \"model103\" + \"-\" + ts\n",
    "status, job_id = ds.create_model(dataset_names = TRAIN_DATASET, \n",
    "                                 failure_dates = ['08/23/15'], \n",
    "                                 model_name =  model, \n",
    "                                 nbm = True, \n",
    "                                 max_train_time = '00:01',\n",
    "                                 recurrent = False,\n",
    "                                 fit_profile_name = job_id['profile_name'])\n",
    "if status:\n",
    "    ds.wait_for_job(job_id['job_name'], time_limit=720)\n",
    "else:\n",
    "    print(job_id)"
   ]
  },
  {
   "cell_type": "markdown",
   "metadata": {},
   "source": [
    "## Extra Training (Optional)\n",
    "Run the following cell for extra training, no need to specify parameters"
   ]
  },
  {
   "cell_type": "code",
   "execution_count": 29,
   "metadata": {},
   "outputs": [
    {
     "name": "stdout",
     "output_type": "stream",
     "text": [
      "{'status': 'Running', 'starttime': '2019-07-17T16:31:32.908941', 'endtime': None, 'percent_complete': 0, 'job_type': 'UpdateModel', 'loss': 0.1257348135816601, 'generations': 1, 'dataset_names': ['SmokyT025_full_raw.csv'], 'artifact_names': None, 'model_name': 'model103-20190717161916', 'job_error': ''}\n",
      "{'status': 'Running', 'starttime': '2019-07-17T16:31:32.908941', 'endtime': None, 'percent_complete': 0, 'job_type': 'UpdateModel', 'loss': 0.1257348135816601, 'generations': 1, 'dataset_names': ['SmokyT025_full_raw.csv'], 'artifact_names': None, 'model_name': 'model103-20190717161916', 'job_error': ''}\n",
      "{'status': 'Running', 'starttime': '2019-07-17T16:31:32.908941', 'endtime': None, 'percent_complete': 0, 'job_type': 'UpdateModel', 'loss': 0.1257348135816601, 'generations': 1, 'dataset_names': ['SmokyT025_full_raw.csv'], 'artifact_names': None, 'model_name': 'model103-20190717161916', 'job_error': ''}\n",
      "{'status': 'Running', 'starttime': '2019-07-17T16:31:32.908941', 'endtime': None, 'percent_complete': 0, 'job_type': 'UpdateModel', 'loss': 0.1257348135816601, 'generations': 1, 'dataset_names': ['SmokyT025_full_raw.csv'], 'artifact_names': None, 'model_name': 'model103-20190717161916', 'job_error': ''}\n",
      "{'status': 'Running', 'starttime': '2019-07-17T16:31:32.908941', 'endtime': None, 'percent_complete': 0, 'job_type': 'UpdateModel', 'loss': 0.1257348135816601, 'generations': 1, 'dataset_names': ['SmokyT025_full_raw.csv'], 'artifact_names': None, 'model_name': 'model103-20190717161916', 'job_error': ''}\n",
      "{'status': 'Running', 'starttime': '2019-07-17T16:31:32.908941', 'endtime': None, 'percent_complete': 50, 'job_type': 'UpdateModel', 'loss': 0.1257348135816601, 'generations': 2, 'dataset_names': ['SmokyT025_full_raw.csv'], 'artifact_names': None, 'model_name': 'model103-20190717161916', 'job_error': ''}\n",
      "{'status': 'Complete', 'starttime': '2019-07-17T16:31:32.908941', 'endtime': '2019-07-17T16:32:49.369529', 'percent_complete': 100, 'job_type': 'UpdateModel', 'loss': 0.1257348135816601, 'generations': 2, 'dataset_names': ['SmokyT025_full_raw.csv'], 'artifact_names': None, 'model_name': 'model103-20190717161916', 'job_error': ''}\n"
     ]
    }
   ],
   "source": [
    "# Train some more\n",
    "status, job_id = ds.resume_training_model(dataset_names = TRAIN_DATASET,\n",
    "                                          model_name = model,\n",
    "                                          max_train_time = '00:01')\n",
    "                                          \n",
    "if status:\n",
    "    ds.wait_for_job(job_id['job_name'], time_limit=720)\n",
    "else:\n",
    "    print(job_id)"
   ]
  },
  {
   "cell_type": "markdown",
   "metadata": {},
   "source": [
    "## Analyze Model\n",
    "Analyze model provides feature importance ranked by the model. <br> It indicates a general view of which features pose a bigger impact on the model"
   ]
  },
  {
   "cell_type": "code",
   "execution_count": 31,
   "metadata": {
    "scrolled": true
   },
   "outputs": [
    {
     "name": "stdout",
     "output_type": "stream",
     "text": [
      "400: BAD REQUEST - {\"message\": \"A job with this name already exists\"}\n",
      "\n"
     ]
    },
    {
     "ename": "TypeError",
     "evalue": "string indices must be integers",
     "output_type": "error",
     "traceback": [
      "\u001b[0;31m---------------------------------------------------------------------------\u001b[0m",
      "\u001b[0;31mTypeError\u001b[0m                                 Traceback (most recent call last)",
      "\u001b[0;32m<ipython-input-31-b5b3ced61c5a>\u001b[0m in \u001b[0;36m<module>\u001b[0;34m()\u001b[0m\n\u001b[1;32m      9\u001b[0m \u001b[0;32melse\u001b[0m\u001b[0;34m:\u001b[0m\u001b[0;34m\u001b[0m\u001b[0;34m\u001b[0m\u001b[0m\n\u001b[1;32m     10\u001b[0m     \u001b[0mprint\u001b[0m\u001b[0;34m(\u001b[0m\u001b[0manalyze_id\u001b[0m\u001b[0;34m)\u001b[0m\u001b[0;34m\u001b[0m\u001b[0;34m\u001b[0m\u001b[0m\n\u001b[0;32m---> 11\u001b[0;31m \u001b[0mstatus\u001b[0m\u001b[0;34m,\u001b[0m \u001b[0mfeature_importance\u001b[0m \u001b[0;34m=\u001b[0m \u001b[0mds\u001b[0m\u001b[0;34m.\u001b[0m\u001b[0mdownload_artifact\u001b[0m\u001b[0;34m(\u001b[0m\u001b[0manalyze_id\u001b[0m\u001b[0;34m[\u001b[0m\u001b[0;34m'artifact_name'\u001b[0m\u001b[0;34m]\u001b[0m\u001b[0;34m)\u001b[0m\u001b[0;34m\u001b[0m\u001b[0;34m\u001b[0m\u001b[0m\n\u001b[0m",
      "\u001b[0;31mTypeError\u001b[0m: string indices must be integers"
     ]
    }
   ],
   "source": [
    "# Retrieve feature importance of built model\n",
    "#status, artifact = ds.analyze_model(model)\n",
    "status, analyze_id = ds.analyze_model(job_id['model_name'], \n",
    "                                      job_name='Darwin_analyze_model_job-' + ts, \n",
    "                                      artifact_name='Darwin_analyze_model_artifact-' + ts)\n",
    "sleep(1)\n",
    "if status:\n",
    "    ds.wait_for_job(analyze_id['job_name'])\n",
    "else:\n",
    "    print(analyze_id)\n",
    "status, feature_importance = ds.download_artifact(analyze_id['artifact_name'])"
   ]
  },
  {
   "cell_type": "code",
   "execution_count": null,
   "metadata": {},
   "outputs": [],
   "source": [
    "status, feature_importance = ds.download_artifact(analyze_id['artifact_name'])"
   ]
  },
  {
   "cell_type": "code",
   "execution_count": null,
   "metadata": {},
   "outputs": [],
   "source": [
    "feature_importance[:10]"
   ]
  },
  {
   "cell_type": "markdown",
   "metadata": {},
   "source": [
    "## Predictions\n",
    "**Perform model prediction on the the training dataset.**"
   ]
  },
  {
   "cell_type": "code",
   "execution_count": 33,
   "metadata": {},
   "outputs": [
    {
     "name": "stdout",
     "output_type": "stream",
     "text": [
      "Upload data successfully!\n"
     ]
    }
   ],
   "source": [
    "status, dataset = ds.upload_dataset(os.path.join(PATH_TO_DATASET, TEST_DATASET))\n",
    "if not status:\n",
    "    print(dataset)\n",
    "else:\n",
    "    print(\"Upload data successfully!\")"
   ]
  },
  {
   "cell_type": "code",
   "execution_count": 34,
   "metadata": {},
   "outputs": [
    {
     "name": "stdout",
     "output_type": "stream",
     "text": [
      "{'status': 'Complete', 'starttime': '2019-07-17T16:34:52.312005', 'endtime': None, 'percent_complete': 100, 'job_type': 'CleanData', 'loss': None, 'generations': None, 'dataset_names': ['SmokyT025_test_raw.csv'], 'artifact_names': None, 'model_name': None, 'job_error': None}\n"
     ]
    }
   ],
   "source": [
    "# clean test dataset\n",
    "status, job_id = ds.clean_data(TEST_DATASET, model_name = model)\n",
    "\n",
    "if status:\n",
    "    ds.wait_for_job(job_id['job_name'])\n",
    "else:\n",
    "    print(job_id)"
   ]
  },
  {
   "cell_type": "code",
   "execution_count": 35,
   "metadata": {
    "scrolled": true
   },
   "outputs": [
    {
     "name": "stdout",
     "output_type": "stream",
     "text": [
      "{'status': 'Running', 'starttime': '2019-07-17T16:35:06.389628', 'endtime': None, 'percent_complete': 0, 'job_type': 'RunModel', 'loss': 0.1257348135816601, 'generations': 2, 'dataset_names': ['SmokyT025_test_raw.csv'], 'artifact_names': ['4fe64553f4194e178d382dd8da115b2f'], 'model_name': 'model103-20190717161916', 'job_error': ''}\n",
      "{'status': 'Running', 'starttime': '2019-07-17T16:35:06.389628', 'endtime': None, 'percent_complete': 0, 'job_type': 'RunModel', 'loss': 0.1257348135816601, 'generations': 2, 'dataset_names': ['SmokyT025_test_raw.csv'], 'artifact_names': ['4fe64553f4194e178d382dd8da115b2f'], 'model_name': 'model103-20190717161916', 'job_error': ''}\n",
      "{'status': 'Complete', 'starttime': '2019-07-17T16:35:06.389628', 'endtime': '2019-07-17T16:35:23.154563', 'percent_complete': 100, 'job_type': 'RunModel', 'loss': 0.1257348135816601, 'generations': 2, 'dataset_names': ['SmokyT025_test_raw.csv'], 'artifact_names': ['4fe64553f4194e178d382dd8da115b2f'], 'model_name': 'model103-20190717161916', 'job_error': ''}\n"
     ]
    },
    {
     "data": {
      "text/plain": [
       "(True, 'Job completed')"
      ]
     },
     "execution_count": 35,
     "metadata": {},
     "output_type": "execute_result"
    }
   ],
   "source": [
    "status, artifact = ds.run_model(TEST_DATASET, model)\n",
    "sleep(1)\n",
    "ds.wait_for_job(artifact['job_name'])"
   ]
  },
  {
   "cell_type": "markdown",
   "metadata": {},
   "source": [
    "**Download predictions from Darwin's server.**"
   ]
  },
  {
   "cell_type": "code",
   "execution_count": 36,
   "metadata": {
    "scrolled": true
   },
   "outputs": [],
   "source": [
    "status, prediction = ds.download_artifact(artifact['artifact_name'])"
   ]
  },
  {
   "cell_type": "markdown",
   "metadata": {},
   "source": [
    "Create plots showing the risk index prediction of the model"
   ]
  },
  {
   "cell_type": "code",
   "execution_count": 45,
   "metadata": {
    "scrolled": true
   },
   "outputs": [
    {
     "data": {
      "text/plain": [
       "<matplotlib.axes._subplots.AxesSubplot at 0x1a1d503ac8>"
      ]
     },
     "execution_count": 45,
     "metadata": {},
     "output_type": "execute_result"
    },
    {
     "data": {
      "image/png": "[encoded data removed]",
      "text/plain": [
       "<Figure size 432x288 with 1 Axes>"
      ]
     },
     "metadata": {},
     "output_type": "display_data"
    }
   ],
   "source": [
    "#Plot the risk predictions\n",
    "df = pd.read_csv(os.path.join(PATH_TO_DATASET, TEST_DATASET))\n",
    "prediction.set_index(pd.to_datetime(df['timestamp']), inplace=True)\n",
    "prediction.plot()"
   ]
  },
  {
   "cell_type": "markdown",
   "metadata": {},
   "source": [
    "## Find out which machine learning model did Darwin use:"
   ]
  },
  {
   "cell_type": "code",
   "execution_count": 46,
   "metadata": {},
   "outputs": [
    {
     "name": "stdout",
     "output_type": "stream",
     "text": [
      "[{'layer 1': {'type': 'LinearGene', 'parameters': {'activation': 'relu', 'numunits': 10}}}, {'layer 2': {'type': 'LinearGene', 'parameters': {'activation': 'identity', 'numunits': 37}}}]\n"
     ]
    }
   ],
   "source": [
    "status, model_type = ds.lookup_model_name(model)\n",
    "print(model_type['description']['best_genome'])"
   ]
  },
  {
   "cell_type": "code",
   "execution_count": null,
   "metadata": {},
   "outputs": [],
   "source": []
  }
 ],
 "metadata": {
  "anaconda-cloud": {},
  "kernelspec": {
   "display_name": "Python 3",
   "language": "python",
   "name": "python3"
  },
  "language_info": {
   "codemirror_mode": {
    "name": "ipython",
    "version": 3
   },
   "file_extension": ".py",
   "mimetype": "text/x-python",
   "name": "python",
   "nbconvert_exporter": "python",
   "pygments_lexer": "ipython3",
   "version": "3.6.7"
  }
 },
 "nbformat": 4,
 "nbformat_minor": 2
}
