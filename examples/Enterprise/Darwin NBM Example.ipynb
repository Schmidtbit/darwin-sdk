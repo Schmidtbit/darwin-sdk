{
 "cells": [
  {
   "cell_type": "markdown",
   "metadata": {},
   "source": [
    "<img src=\"https://cybersecurity-excellence-awards.com/wp-content/uploads/2017/06/366812.png\">"
   ]
  },
  {
   "cell_type": "markdown",
   "metadata": {},
   "source": [
    "<h1><center>Darwin Normal Behavior Modeling (NBM) Example </center></h1>"
   ]
  },
  {
   "cell_type": "markdown",
   "metadata": {},
   "source": [
    "Prior to getting started, there are a few things you want to do:\n",
    "1. Set the dataset path.\n",
    "2. Enter your username and password to ensure that you're able to log in successfully\n",
    "\n",
    "Once you're up and running, here are a few things to be mindful of:\n",
    "1. For every run, look up the job status (i.e. requested, failed, running, completed) and wait for job to complete before proceeding. \n",
    "2. If you're not satisfied with your model and think that Darwin can do better by exploring a larger search space, use the resume function."
   ]
  },
  {
   "cell_type": "markdown",
   "metadata": {},
   "source": [
    "## Import libraries"
   ]
  },
  {
   "cell_type": "code",
   "execution_count": 58,
   "metadata": {
    "scrolled": true
   },
   "outputs": [],
   "source": [
    "# Import necessary libraries\n",
    "%matplotlib inline\n",
    "import matplotlib.pyplot as plt\n",
    "import pandas as pd\n",
    "from IPython.display import Image\n",
    "from time import sleep\n",
    "import os\n",
    "import numpy as np\n",
    "from sklearn.metrics import r2_score\n",
    "\n",
    "from amb_sdk.sdk import DarwinSdk"
   ]
  },
  {
   "cell_type": "markdown",
   "metadata": {},
   "source": [
    "## Setup"
   ]
  },
  {
   "cell_type": "markdown",
   "metadata": {},
   "source": [
    "Register a username and password with Darwin using your API key. <br>**You will have to do this only once.**<br> Fill in api_key, api_password, username, password & email"
   ]
  },
  {
   "cell_type": "code",
   "execution_count": null,
   "metadata": {},
   "outputs": [],
   "source": [
    "# Only run if username is not registered\n",
    "api_key = ''\n",
    "api_password = ''\n",
    "ds = DarwinSdk()\n",
    "status, msg = ds.auth_login(api_password, api_key)\n",
    "if not status:\n",
    "    print(msg)\n",
    "status, msg = ds.auth_register_user('username', 'password', 'email')\n",
    "if not status:\n",
    "    print(msg)"
   ]
  },
  {
   "cell_type": "markdown",
   "metadata": {},
   "source": [
    "**Login to Darwin**<br>\n",
    "Enter your registered username and password below to login to Darwin."
   ]
  },
  {
   "cell_type": "code",
   "execution_count": 59,
   "metadata": {},
   "outputs": [],
   "source": [
    "# Login\n",
    "ds = DarwinSdk()\n",
    "ds.set_url('https://darwin-api.sparkcognition.com/v1/')\n",
    "status, msg = ds.auth_login_user('username', 'password')\n",
    "if not status:\n",
    "    print(msg)"
   ]
  },
  {
   "cell_type": "markdown",
   "metadata": {},
   "source": [
    "**Data Path** <br>\n",
    "In the cell below, set the path to your dataset, the default is Darwin's example datasets"
   ]
  },
  {
   "cell_type": "code",
   "execution_count": 60,
   "metadata": {
    "scrolled": true
   },
   "outputs": [],
   "source": [
    "path = '.'"
   ]
  },
  {
   "cell_type": "markdown",
   "metadata": {},
   "source": [
    "## Data Upload"
   ]
  },
  {
   "cell_type": "markdown",
   "metadata": {},
   "source": [
    "**Read dataset and view a file snippet**"
   ]
  },
  {
   "cell_type": "markdown",
   "metadata": {},
   "source": [
    "After setting up the dataset path, the next step is to upload the dataset from your local device to the server. <br> In the cell below, you need to specify the dataset_name if you want to use your own data."
   ]
  },
  {
   "cell_type": "code",
   "execution_count": 61,
   "metadata": {},
   "outputs": [
    {
     "data": {
      "text/html": [
       "<div>\n",
       "<style scoped>\n",
       "    .dataframe tbody tr th:only-of-type {\n",
       "        vertical-align: middle;\n",
       "    }\n",
       "\n",
       "    .dataframe tbody tr th {\n",
       "        vertical-align: top;\n",
       "    }\n",
       "\n",
       "    .dataframe thead th {\n",
       "        text-align: right;\n",
       "    }\n",
       "</style>\n",
       "<table border=\"1\" class=\"dataframe\">\n",
       "  <thead>\n",
       "    <tr style=\"text-align: right;\">\n",
       "      <th></th>\n",
       "      <th>timestamp</th>\n",
       "      <th>yaw_direction</th>\n",
       "      <th>ctrl_top_temp</th>\n",
       "      <th>vcn</th>\n",
       "      <th>transformer_a_tmp</th>\n",
       "      <th>power</th>\n",
       "      <th>gen_phc_temp</th>\n",
       "      <th>freq</th>\n",
       "      <th>gen_bearing_temp</th>\n",
       "      <th>gen_slip_temp</th>\n",
       "      <th>...</th>\n",
       "      <th>wind_speed</th>\n",
       "      <th>hydro_temp</th>\n",
       "      <th>gbx_bearing_temp</th>\n",
       "      <th>blade_angle</th>\n",
       "      <th>ambient_temp</th>\n",
       "      <th>ica</th>\n",
       "      <th>set_power</th>\n",
       "      <th>gen_phb_temp</th>\n",
       "      <th>pex</th>\n",
       "      <th>ctrl_hub_temp</th>\n",
       "    </tr>\n",
       "  </thead>\n",
       "  <tbody>\n",
       "    <tr>\n",
       "      <th>0</th>\n",
       "      <td>9/1/14 0:10</td>\n",
       "      <td>274.7</td>\n",
       "      <td>26.0</td>\n",
       "      <td>399.5</td>\n",
       "      <td>75.0</td>\n",
       "      <td>1782.8</td>\n",
       "      <td>86.0</td>\n",
       "      <td>59.99</td>\n",
       "      <td>57.0</td>\n",
       "      <td>999.0</td>\n",
       "      <td>...</td>\n",
       "      <td>12.9</td>\n",
       "      <td>47.0</td>\n",
       "      <td>66.0</td>\n",
       "      <td>4.2</td>\n",
       "      <td>20.0</td>\n",
       "      <td>1510.6</td>\n",
       "      <td>1800.0</td>\n",
       "      <td>86.0</td>\n",
       "      <td>1773.0</td>\n",
       "      <td>27.0</td>\n",
       "    </tr>\n",
       "    <tr>\n",
       "      <th>1</th>\n",
       "      <td>9/1/14 0:20</td>\n",
       "      <td>269.9</td>\n",
       "      <td>26.0</td>\n",
       "      <td>402.2</td>\n",
       "      <td>70.0</td>\n",
       "      <td>1527.1</td>\n",
       "      <td>86.0</td>\n",
       "      <td>59.99</td>\n",
       "      <td>58.0</td>\n",
       "      <td>999.0</td>\n",
       "      <td>...</td>\n",
       "      <td>11.2</td>\n",
       "      <td>47.0</td>\n",
       "      <td>66.0</td>\n",
       "      <td>-1.3</td>\n",
       "      <td>19.0</td>\n",
       "      <td>1278.5</td>\n",
       "      <td>1800.0</td>\n",
       "      <td>86.0</td>\n",
       "      <td>1446.0</td>\n",
       "      <td>27.0</td>\n",
       "    </tr>\n",
       "    <tr>\n",
       "      <th>2</th>\n",
       "      <td>9/1/14 0:30</td>\n",
       "      <td>271.8</td>\n",
       "      <td>26.0</td>\n",
       "      <td>400.6</td>\n",
       "      <td>66.0</td>\n",
       "      <td>1664.7</td>\n",
       "      <td>85.0</td>\n",
       "      <td>59.99</td>\n",
       "      <td>58.0</td>\n",
       "      <td>999.0</td>\n",
       "      <td>...</td>\n",
       "      <td>12.1</td>\n",
       "      <td>47.0</td>\n",
       "      <td>66.0</td>\n",
       "      <td>1.9</td>\n",
       "      <td>20.0</td>\n",
       "      <td>1404.8</td>\n",
       "      <td>1800.0</td>\n",
       "      <td>85.0</td>\n",
       "      <td>1644.0</td>\n",
       "      <td>27.0</td>\n",
       "    </tr>\n",
       "    <tr>\n",
       "      <th>3</th>\n",
       "      <td>9/1/14 0:40</td>\n",
       "      <td>278.7</td>\n",
       "      <td>27.0</td>\n",
       "      <td>402.8</td>\n",
       "      <td>66.0</td>\n",
       "      <td>1570.2</td>\n",
       "      <td>87.0</td>\n",
       "      <td>59.99</td>\n",
       "      <td>59.0</td>\n",
       "      <td>999.0</td>\n",
       "      <td>...</td>\n",
       "      <td>11.4</td>\n",
       "      <td>47.0</td>\n",
       "      <td>66.0</td>\n",
       "      <td>0.2</td>\n",
       "      <td>21.0</td>\n",
       "      <td>1315.9</td>\n",
       "      <td>1800.0</td>\n",
       "      <td>87.0</td>\n",
       "      <td>1558.0</td>\n",
       "      <td>27.0</td>\n",
       "    </tr>\n",
       "    <tr>\n",
       "      <th>4</th>\n",
       "      <td>9/1/14 0:50</td>\n",
       "      <td>289.3</td>\n",
       "      <td>27.0</td>\n",
       "      <td>404.4</td>\n",
       "      <td>63.0</td>\n",
       "      <td>1242.5</td>\n",
       "      <td>82.0</td>\n",
       "      <td>59.99</td>\n",
       "      <td>60.0</td>\n",
       "      <td>999.0</td>\n",
       "      <td>...</td>\n",
       "      <td>10.4</td>\n",
       "      <td>47.0</td>\n",
       "      <td>66.0</td>\n",
       "      <td>-1.9</td>\n",
       "      <td>22.0</td>\n",
       "      <td>1029.9</td>\n",
       "      <td>1800.0</td>\n",
       "      <td>82.0</td>\n",
       "      <td>1244.0</td>\n",
       "      <td>27.0</td>\n",
       "    </tr>\n",
       "  </tbody>\n",
       "</table>\n",
       "<p>5 rows × 38 columns</p>\n",
       "</div>"
      ],
      "text/plain": [
       "     timestamp  yaw_direction  ctrl_top_temp    vcn  transformer_a_tmp  \\\n",
       "0  9/1/14 0:10          274.7           26.0  399.5               75.0   \n",
       "1  9/1/14 0:20          269.9           26.0  402.2               70.0   \n",
       "2  9/1/14 0:30          271.8           26.0  400.6               66.0   \n",
       "3  9/1/14 0:40          278.7           27.0  402.8               66.0   \n",
       "4  9/1/14 0:50          289.3           27.0  404.4               63.0   \n",
       "\n",
       "    power  gen_phc_temp   freq  gen_bearing_temp  gen_slip_temp  \\\n",
       "0  1782.8          86.0  59.99              57.0          999.0   \n",
       "1  1527.1          86.0  59.99              58.0          999.0   \n",
       "2  1664.7          85.0  59.99              58.0          999.0   \n",
       "3  1570.2          87.0  59.99              59.0          999.0   \n",
       "4  1242.5          82.0  59.99              60.0          999.0   \n",
       "\n",
       "       ...        wind_speed  hydro_temp  gbx_bearing_temp  blade_angle  \\\n",
       "0      ...              12.9        47.0              66.0          4.2   \n",
       "1      ...              11.2        47.0              66.0         -1.3   \n",
       "2      ...              12.1        47.0              66.0          1.9   \n",
       "3      ...              11.4        47.0              66.0          0.2   \n",
       "4      ...              10.4        47.0              66.0         -1.9   \n",
       "\n",
       "   ambient_temp     ica  set_power  gen_phb_temp     pex  ctrl_hub_temp  \n",
       "0          20.0  1510.6     1800.0          86.0  1773.0           27.0  \n",
       "1          19.0  1278.5     1800.0          86.0  1446.0           27.0  \n",
       "2          20.0  1404.8     1800.0          85.0  1644.0           27.0  \n",
       "3          21.0  1315.9     1800.0          87.0  1558.0           27.0  \n",
       "4          22.0  1029.9     1800.0          82.0  1244.0           27.0  \n",
       "\n",
       "[5 rows x 38 columns]"
      ]
     },
     "execution_count": 61,
     "metadata": {},
     "output_type": "execute_result"
    }
   ],
   "source": [
    "dataset_name = 'wind_turbine.csv'\n",
    "df = pd.read_csv(os.path.join(path, dataset_name))\n",
    "df.head()"
   ]
  },
  {
   "cell_type": "markdown",
   "metadata": {},
   "source": [
    "**Upload dataset to Darwin**"
   ]
  },
  {
   "cell_type": "code",
   "execution_count": 62,
   "metadata": {
    "scrolled": true
   },
   "outputs": [],
   "source": [
    "# Upload dataset\n",
    "status, dataset = ds.upload_dataset(os.path.join(path, dataset_name))\n",
    "if not status:\n",
    "    print(dataset)"
   ]
  },
  {
   "cell_type": "markdown",
   "metadata": {},
   "source": [
    "## Create and Train Model "
   ]
  },
  {
   "cell_type": "markdown",
   "metadata": {},
   "source": [
    "We will now build a model that will learn the normal behavior of an asset based on a failure date.<br> The failure date in our example dataset is 8/24/15. <br> You will have to specify a different failure date for your custom dataset. <br> You can also specify a recovery_dates when the asset comes back online.\n"
   ]
  },
  {
   "cell_type": "code",
   "execution_count": 63,
   "metadata": {
    "scrolled": true
   },
   "outputs": [
    {
     "name": "stdout",
     "output_type": "stream",
     "text": [
      "{'status': 'Requested', 'starttime': '2018-10-15T11:08:56.040499', 'endtime': None, 'percent_complete': 0, 'job_type': 'TrainModel', 'loss': None, 'generations': 0, 'dataset_names': ['wind_turbine.csv'], 'artifact_names': None, 'model_name': 'nbm_model', 'job_error': None}\n",
      "{'status': 'Running', 'starttime': '2018-10-15T11:08:56.040499', 'endtime': None, 'percent_complete': 0, 'job_type': 'TrainModel', 'loss': None, 'generations': 0, 'dataset_names': ['wind_turbine.csv'], 'artifact_names': None, 'model_name': 'nbm_model', 'job_error': ''}\n",
      "{'status': 'Running', 'starttime': '2018-10-15T11:08:56.040499', 'endtime': None, 'percent_complete': 0, 'job_type': 'TrainModel', 'loss': None, 'generations': 0, 'dataset_names': ['wind_turbine.csv'], 'artifact_names': None, 'model_name': 'nbm_model', 'job_error': ''}\n",
      "{'status': 'Running', 'starttime': '2018-10-15T11:08:56.040499', 'endtime': None, 'percent_complete': 0, 'job_type': 'TrainModel', 'loss': None, 'generations': 0, 'dataset_names': ['wind_turbine.csv'], 'artifact_names': None, 'model_name': 'nbm_model', 'job_error': ''}\n",
      "{'status': 'Running', 'starttime': '2018-10-15T11:08:56.040499', 'endtime': None, 'percent_complete': 0, 'job_type': 'TrainModel', 'loss': None, 'generations': 0, 'dataset_names': ['wind_turbine.csv'], 'artifact_names': None, 'model_name': 'nbm_model', 'job_error': ''}\n",
      "{'status': 'Running', 'starttime': '2018-10-15T11:08:56.040499', 'endtime': None, 'percent_complete': 0, 'job_type': 'TrainModel', 'loss': None, 'generations': 0, 'dataset_names': ['wind_turbine.csv'], 'artifact_names': None, 'model_name': 'nbm_model', 'job_error': ''}\n",
      "{'status': 'Running', 'starttime': '2018-10-15T11:08:56.040499', 'endtime': None, 'percent_complete': 0, 'job_type': 'TrainModel', 'loss': None, 'generations': 0, 'dataset_names': ['wind_turbine.csv'], 'artifact_names': None, 'model_name': 'nbm_model', 'job_error': ''}\n",
      "{'status': 'Running', 'starttime': '2018-10-15T11:08:56.040499', 'endtime': None, 'percent_complete': 0, 'job_type': 'TrainModel', 'loss': None, 'generations': 0, 'dataset_names': ['wind_turbine.csv'], 'artifact_names': None, 'model_name': 'nbm_model', 'job_error': ''}\n",
      "{'status': 'Running', 'starttime': '2018-10-15T11:08:56.040499', 'endtime': None, 'percent_complete': 0, 'job_type': 'TrainModel', 'loss': None, 'generations': 0, 'dataset_names': ['wind_turbine.csv'], 'artifact_names': None, 'model_name': 'nbm_model', 'job_error': ''}\n",
      "{'status': 'Running', 'starttime': '2018-10-15T11:08:56.040499', 'endtime': None, 'percent_complete': 0, 'job_type': 'TrainModel', 'loss': None, 'generations': 0, 'dataset_names': ['wind_turbine.csv'], 'artifact_names': None, 'model_name': 'nbm_model', 'job_error': ''}\n",
      "{'status': 'Running', 'starttime': '2018-10-15T11:08:56.040499', 'endtime': None, 'percent_complete': 0, 'job_type': 'TrainModel', 'loss': None, 'generations': 0, 'dataset_names': ['wind_turbine.csv'], 'artifact_names': None, 'model_name': 'nbm_model', 'job_error': ''}\n",
      "{'status': 'Running', 'starttime': '2018-10-15T11:08:56.040499', 'endtime': None, 'percent_complete': 0, 'job_type': 'TrainModel', 'loss': None, 'generations': 0, 'dataset_names': ['wind_turbine.csv'], 'artifact_names': None, 'model_name': 'nbm_model', 'job_error': ''}\n",
      "{'status': 'Running', 'starttime': '2018-10-15T11:08:56.040499', 'endtime': None, 'percent_complete': 0, 'job_type': 'TrainModel', 'loss': None, 'generations': 0, 'dataset_names': ['wind_turbine.csv'], 'artifact_names': None, 'model_name': 'nbm_model', 'job_error': ''}\n",
      "{'status': 'Running', 'starttime': '2018-10-15T11:08:56.040499', 'endtime': None, 'percent_complete': 0, 'job_type': 'TrainModel', 'loss': None, 'generations': 0, 'dataset_names': ['wind_turbine.csv'], 'artifact_names': None, 'model_name': 'nbm_model', 'job_error': ''}\n",
      "{'status': 'Running', 'starttime': '2018-10-15T11:08:56.040499', 'endtime': None, 'percent_complete': 0, 'job_type': 'TrainModel', 'loss': None, 'generations': 0, 'dataset_names': ['wind_turbine.csv'], 'artifact_names': None, 'model_name': 'nbm_model', 'job_error': ''}\n",
      "{'status': 'Running', 'starttime': '2018-10-15T11:08:56.040499', 'endtime': None, 'percent_complete': 0, 'job_type': 'TrainModel', 'loss': None, 'generations': 0, 'dataset_names': ['wind_turbine.csv'], 'artifact_names': None, 'model_name': 'nbm_model', 'job_error': ''}\n",
      "{'status': 'Running', 'starttime': '2018-10-15T11:08:56.040499', 'endtime': None, 'percent_complete': 0, 'job_type': 'TrainModel', 'loss': None, 'generations': 0, 'dataset_names': ['wind_turbine.csv'], 'artifact_names': None, 'model_name': 'nbm_model', 'job_error': ''}\n",
      "{'status': 'Running', 'starttime': '2018-10-15T11:08:56.040499', 'endtime': None, 'percent_complete': 0, 'job_type': 'TrainModel', 'loss': None, 'generations': 0, 'dataset_names': ['wind_turbine.csv'], 'artifact_names': None, 'model_name': 'nbm_model', 'job_error': ''}\n",
      "{'status': 'Running', 'starttime': '2018-10-15T11:08:56.040499', 'endtime': None, 'percent_complete': 0, 'job_type': 'TrainModel', 'loss': None, 'generations': 0, 'dataset_names': ['wind_turbine.csv'], 'artifact_names': None, 'model_name': 'nbm_model', 'job_error': ''}\n",
      "{'status': 'Running', 'starttime': '2018-10-15T11:08:56.040499', 'endtime': None, 'percent_complete': 25, 'job_type': 'TrainModel', 'loss': 0.10883557872894482, 'generations': 0, 'dataset_names': ['wind_turbine.csv'], 'artifact_names': None, 'model_name': 'nbm_model', 'job_error': ''}\n",
      "{'status': 'Running', 'starttime': '2018-10-15T11:08:56.040499', 'endtime': None, 'percent_complete': 25, 'job_type': 'TrainModel', 'loss': 0.10883557872894482, 'generations': 0, 'dataset_names': ['wind_turbine.csv'], 'artifact_names': None, 'model_name': 'nbm_model', 'job_error': ''}\n",
      "{'status': 'Running', 'starttime': '2018-10-15T11:08:56.040499', 'endtime': None, 'percent_complete': 25, 'job_type': 'TrainModel', 'loss': 0.10883557872894482, 'generations': 0, 'dataset_names': ['wind_turbine.csv'], 'artifact_names': None, 'model_name': 'nbm_model', 'job_error': ''}\n",
      "{'status': 'Running', 'starttime': '2018-10-15T11:08:56.040499', 'endtime': None, 'percent_complete': 25, 'job_type': 'TrainModel', 'loss': 0.10883557872894482, 'generations': 0, 'dataset_names': ['wind_turbine.csv'], 'artifact_names': None, 'model_name': 'nbm_model', 'job_error': ''}\n",
      "{'status': 'Running', 'starttime': '2018-10-15T11:08:56.040499', 'endtime': None, 'percent_complete': 25, 'job_type': 'TrainModel', 'loss': 0.10883557872894482, 'generations': 0, 'dataset_names': ['wind_turbine.csv'], 'artifact_names': None, 'model_name': 'nbm_model', 'job_error': ''}\n",
      "{'status': 'Running', 'starttime': '2018-10-15T11:08:56.040499', 'endtime': None, 'percent_complete': 25, 'job_type': 'TrainModel', 'loss': 0.10883557872894482, 'generations': 0, 'dataset_names': ['wind_turbine.csv'], 'artifact_names': None, 'model_name': 'nbm_model', 'job_error': ''}\n",
      "{'status': 'Running', 'starttime': '2018-10-15T11:08:56.040499', 'endtime': None, 'percent_complete': 25, 'job_type': 'TrainModel', 'loss': 0.10883557872894482, 'generations': 0, 'dataset_names': ['wind_turbine.csv'], 'artifact_names': None, 'model_name': 'nbm_model', 'job_error': ''}\n",
      "{'status': 'Running', 'starttime': '2018-10-15T11:08:56.040499', 'endtime': None, 'percent_complete': 25, 'job_type': 'TrainModel', 'loss': 0.10883557872894482, 'generations': 0, 'dataset_names': ['wind_turbine.csv'], 'artifact_names': None, 'model_name': 'nbm_model', 'job_error': ''}\n",
      "{'status': 'Running', 'starttime': '2018-10-15T11:08:56.040499', 'endtime': None, 'percent_complete': 40, 'job_type': 'TrainModel', 'loss': 0.10883557872894482, 'generations': 1, 'dataset_names': ['wind_turbine.csv'], 'artifact_names': None, 'model_name': 'nbm_model', 'job_error': ''}\n",
      "{'status': 'Running', 'starttime': '2018-10-15T11:08:56.040499', 'endtime': None, 'percent_complete': 40, 'job_type': 'TrainModel', 'loss': 0.10883557872894482, 'generations': 1, 'dataset_names': ['wind_turbine.csv'], 'artifact_names': None, 'model_name': 'nbm_model', 'job_error': ''}\n",
      "{'status': 'Running', 'starttime': '2018-10-15T11:08:56.040499', 'endtime': None, 'percent_complete': 40, 'job_type': 'TrainModel', 'loss': 0.10883557872894482, 'generations': 1, 'dataset_names': ['wind_turbine.csv'], 'artifact_names': None, 'model_name': 'nbm_model', 'job_error': ''}\n"
     ]
    },
    {
     "name": "stdout",
     "output_type": "stream",
     "text": [
      "{'status': 'Running', 'starttime': '2018-10-15T11:08:56.040499', 'endtime': None, 'percent_complete': 40, 'job_type': 'TrainModel', 'loss': 0.10883557872894482, 'generations': 1, 'dataset_names': ['wind_turbine.csv'], 'artifact_names': None, 'model_name': 'nbm_model', 'job_error': ''}\n",
      "{'status': 'Running', 'starttime': '2018-10-15T11:08:56.040499', 'endtime': None, 'percent_complete': 40, 'job_type': 'TrainModel', 'loss': 0.10883557872894482, 'generations': 1, 'dataset_names': ['wind_turbine.csv'], 'artifact_names': None, 'model_name': 'nbm_model', 'job_error': ''}\n",
      "{'status': 'Running', 'starttime': '2018-10-15T11:08:56.040499', 'endtime': None, 'percent_complete': 40, 'job_type': 'TrainModel', 'loss': 0.10883557872894482, 'generations': 1, 'dataset_names': ['wind_turbine.csv'], 'artifact_names': None, 'model_name': 'nbm_model', 'job_error': ''}\n",
      "{'status': 'Running', 'starttime': '2018-10-15T11:08:56.040499', 'endtime': None, 'percent_complete': 40, 'job_type': 'TrainModel', 'loss': 0.10883557872894482, 'generations': 1, 'dataset_names': ['wind_turbine.csv'], 'artifact_names': None, 'model_name': 'nbm_model', 'job_error': ''}\n",
      "{'status': 'Running', 'starttime': '2018-10-15T11:08:56.040499', 'endtime': None, 'percent_complete': 40, 'job_type': 'TrainModel', 'loss': 0.10883557872894482, 'generations': 1, 'dataset_names': ['wind_turbine.csv'], 'artifact_names': None, 'model_name': 'nbm_model', 'job_error': ''}\n",
      "{'status': 'Running', 'starttime': '2018-10-15T11:08:56.040499', 'endtime': None, 'percent_complete': 40, 'job_type': 'TrainModel', 'loss': 0.10883557872894482, 'generations': 1, 'dataset_names': ['wind_turbine.csv'], 'artifact_names': None, 'model_name': 'nbm_model', 'job_error': ''}\n",
      "{'status': 'Running', 'starttime': '2018-10-15T11:08:56.040499', 'endtime': None, 'percent_complete': 60, 'job_type': 'TrainModel', 'loss': 0.10883557872894482, 'generations': 2, 'dataset_names': ['wind_turbine.csv'], 'artifact_names': None, 'model_name': 'nbm_model', 'job_error': ''}\n",
      "{'status': 'Running', 'starttime': '2018-10-15T11:08:56.040499', 'endtime': None, 'percent_complete': 60, 'job_type': 'TrainModel', 'loss': 0.10883557872894482, 'generations': 2, 'dataset_names': ['wind_turbine.csv'], 'artifact_names': None, 'model_name': 'nbm_model', 'job_error': ''}\n",
      "{'status': 'Running', 'starttime': '2018-10-15T11:08:56.040499', 'endtime': None, 'percent_complete': 60, 'job_type': 'TrainModel', 'loss': 0.10883557872894482, 'generations': 2, 'dataset_names': ['wind_turbine.csv'], 'artifact_names': None, 'model_name': 'nbm_model', 'job_error': ''}\n",
      "{'status': 'Running', 'starttime': '2018-10-15T11:08:56.040499', 'endtime': None, 'percent_complete': 60, 'job_type': 'TrainModel', 'loss': 0.10883557872894482, 'generations': 2, 'dataset_names': ['wind_turbine.csv'], 'artifact_names': None, 'model_name': 'nbm_model', 'job_error': ''}\n",
      "{'status': 'Running', 'starttime': '2018-10-15T11:08:56.040499', 'endtime': None, 'percent_complete': 60, 'job_type': 'TrainModel', 'loss': 0.10883557872894482, 'generations': 2, 'dataset_names': ['wind_turbine.csv'], 'artifact_names': None, 'model_name': 'nbm_model', 'job_error': ''}\n"
     ]
    }
   ],
   "source": [
    "model = 'nbm_model'\n",
    "status, job_id = ds.create_model(dataset_names = dataset_name, \\\n",
    "                                 failure_dates = ['08/24/15'], \\\n",
    "                                 model_name =  model, \\\n",
    "                                 nbm = True, \\\n",
    "                                 max_train_time = '00:10')\n",
    "if status:\n",
    "    ds.wait_for_job(job_id['job_name'])\n",
    "else:\n",
    "    print(job_id)"
   ]
  },
  {
   "cell_type": "markdown",
   "metadata": {},
   "source": [
    "## Extra Training (Optional)\n",
    "Run the following cell for extra training, no need to specify parameters"
   ]
  },
  {
   "cell_type": "code",
   "execution_count": 65,
   "metadata": {},
   "outputs": [
    {
     "name": "stdout",
     "output_type": "stream",
     "text": [
      "{'status': 'Requested', 'starttime': '2018-10-15T11:22:45.647269', 'endtime': None, 'percent_complete': 0, 'job_type': 'UpdateModel', 'loss': 0.10883557872894482, 'generations': 2, 'dataset_names': ['wind_turbine.csv'], 'artifact_names': None, 'model_name': 'nbm_model', 'job_error': None}\n",
      "{'status': 'Running', 'starttime': '2018-10-15T11:22:45.647269', 'endtime': None, 'percent_complete': 0, 'job_type': 'UpdateModel', 'loss': 0.10883557872894482, 'generations': 2, 'dataset_names': ['wind_turbine.csv'], 'artifact_names': None, 'model_name': 'nbm_model', 'job_error': ''}\n",
      "{'status': 'Running', 'starttime': '2018-10-15T11:22:45.647269', 'endtime': None, 'percent_complete': 0, 'job_type': 'UpdateModel', 'loss': 0.10883557872894482, 'generations': 2, 'dataset_names': ['wind_turbine.csv'], 'artifact_names': None, 'model_name': 'nbm_model', 'job_error': ''}\n",
      "{'status': 'Running', 'starttime': '2018-10-15T11:22:45.647269', 'endtime': None, 'percent_complete': 0, 'job_type': 'UpdateModel', 'loss': 0.10883557872894482, 'generations': 2, 'dataset_names': ['wind_turbine.csv'], 'artifact_names': None, 'model_name': 'nbm_model', 'job_error': ''}\n",
      "{'status': 'Running', 'starttime': '2018-10-15T11:22:45.647269', 'endtime': None, 'percent_complete': 0, 'job_type': 'UpdateModel', 'loss': 0.10883557872894482, 'generations': 2, 'dataset_names': ['wind_turbine.csv'], 'artifact_names': None, 'model_name': 'nbm_model', 'job_error': ''}\n",
      "{'status': 'Running', 'starttime': '2018-10-15T11:22:45.647269', 'endtime': None, 'percent_complete': 0, 'job_type': 'UpdateModel', 'loss': 0.10883557872894482, 'generations': 2, 'dataset_names': ['wind_turbine.csv'], 'artifact_names': None, 'model_name': 'nbm_model', 'job_error': ''}\n",
      "{'status': 'Running', 'starttime': '2018-10-15T11:22:45.647269', 'endtime': None, 'percent_complete': 0, 'job_type': 'UpdateModel', 'loss': 0.10883557872894482, 'generations': 2, 'dataset_names': ['wind_turbine.csv'], 'artifact_names': None, 'model_name': 'nbm_model', 'job_error': ''}\n",
      "{'status': 'Running', 'starttime': '2018-10-15T11:22:45.647269', 'endtime': None, 'percent_complete': 0, 'job_type': 'UpdateModel', 'loss': 0.10883557872894482, 'generations': 2, 'dataset_names': ['wind_turbine.csv'], 'artifact_names': None, 'model_name': 'nbm_model', 'job_error': ''}\n",
      "{'status': 'Running', 'starttime': '2018-10-15T11:22:45.647269', 'endtime': None, 'percent_complete': 0, 'job_type': 'UpdateModel', 'loss': 0.10883557872894482, 'generations': 2, 'dataset_names': ['wind_turbine.csv'], 'artifact_names': None, 'model_name': 'nbm_model', 'job_error': ''}\n",
      "{'status': 'Running', 'starttime': '2018-10-15T11:22:45.647269', 'endtime': None, 'percent_complete': 0, 'job_type': 'UpdateModel', 'loss': 0.10883557872894482, 'generations': 2, 'dataset_names': ['wind_turbine.csv'], 'artifact_names': None, 'model_name': 'nbm_model', 'job_error': ''}\n",
      "{'status': 'Running', 'starttime': '2018-10-15T11:22:45.647269', 'endtime': None, 'percent_complete': 0, 'job_type': 'UpdateModel', 'loss': 0.10883557872894482, 'generations': 2, 'dataset_names': ['wind_turbine.csv'], 'artifact_names': None, 'model_name': 'nbm_model', 'job_error': ''}\n",
      "{'status': 'Running', 'starttime': '2018-10-15T11:22:45.647269', 'endtime': None, 'percent_complete': 0, 'job_type': 'UpdateModel', 'loss': 0.10883557872894482, 'generations': 2, 'dataset_names': ['wind_turbine.csv'], 'artifact_names': None, 'model_name': 'nbm_model', 'job_error': ''}\n",
      "{'status': 'Running', 'starttime': '2018-10-15T11:22:45.647269', 'endtime': None, 'percent_complete': 0, 'job_type': 'UpdateModel', 'loss': 0.10883557872894482, 'generations': 2, 'dataset_names': ['wind_turbine.csv'], 'artifact_names': None, 'model_name': 'nbm_model', 'job_error': ''}\n",
      "{'status': 'Running', 'starttime': '2018-10-15T11:22:45.647269', 'endtime': None, 'percent_complete': 0, 'job_type': 'UpdateModel', 'loss': 0.10883557872894482, 'generations': 2, 'dataset_names': ['wind_turbine.csv'], 'artifact_names': None, 'model_name': 'nbm_model', 'job_error': ''}\n",
      "{'status': 'Running', 'starttime': '2018-10-15T11:22:45.647269', 'endtime': None, 'percent_complete': 0, 'job_type': 'UpdateModel', 'loss': 0.10883557872894482, 'generations': 2, 'dataset_names': ['wind_turbine.csv'], 'artifact_names': None, 'model_name': 'nbm_model', 'job_error': ''}\n",
      "{'status': 'Running', 'starttime': '2018-10-15T11:22:45.647269', 'endtime': None, 'percent_complete': 0, 'job_type': 'UpdateModel', 'loss': 0.10883557872894482, 'generations': 2, 'dataset_names': ['wind_turbine.csv'], 'artifact_names': None, 'model_name': 'nbm_model', 'job_error': ''}\n",
      "{'status': 'Running', 'starttime': '2018-10-15T11:22:45.647269', 'endtime': None, 'percent_complete': 0, 'job_type': 'UpdateModel', 'loss': 0.10883557872894482, 'generations': 2, 'dataset_names': ['wind_turbine.csv'], 'artifact_names': None, 'model_name': 'nbm_model', 'job_error': ''}\n",
      "{'status': 'Running', 'starttime': '2018-10-15T11:22:45.647269', 'endtime': None, 'percent_complete': 0, 'job_type': 'UpdateModel', 'loss': 0.10883557872894482, 'generations': 2, 'dataset_names': ['wind_turbine.csv'], 'artifact_names': None, 'model_name': 'nbm_model', 'job_error': ''}\n",
      "{'status': 'Running', 'starttime': '2018-10-15T11:22:45.647269', 'endtime': None, 'percent_complete': 0, 'job_type': 'UpdateModel', 'loss': 0.10883557872894482, 'generations': 2, 'dataset_names': ['wind_turbine.csv'], 'artifact_names': None, 'model_name': 'nbm_model', 'job_error': ''}\n",
      "{'status': 'Running', 'starttime': '2018-10-15T11:22:45.647269', 'endtime': None, 'percent_complete': 25, 'job_type': 'UpdateModel', 'loss': 0.10883557872894482, 'generations': 4, 'dataset_names': ['wind_turbine.csv'], 'artifact_names': None, 'model_name': 'nbm_model', 'job_error': ''}\n",
      "{'status': 'Running', 'starttime': '2018-10-15T11:22:45.647269', 'endtime': None, 'percent_complete': 25, 'job_type': 'UpdateModel', 'loss': 0.10883557872894482, 'generations': 4, 'dataset_names': ['wind_turbine.csv'], 'artifact_names': None, 'model_name': 'nbm_model', 'job_error': ''}\n",
      "{'status': 'Running', 'starttime': '2018-10-15T11:22:45.647269', 'endtime': None, 'percent_complete': 25, 'job_type': 'UpdateModel', 'loss': 0.10883557872894482, 'generations': 4, 'dataset_names': ['wind_turbine.csv'], 'artifact_names': None, 'model_name': 'nbm_model', 'job_error': ''}\n",
      "{'status': 'Running', 'starttime': '2018-10-15T11:22:45.647269', 'endtime': None, 'percent_complete': 25, 'job_type': 'UpdateModel', 'loss': 0.10883557872894482, 'generations': 4, 'dataset_names': ['wind_turbine.csv'], 'artifact_names': None, 'model_name': 'nbm_model', 'job_error': ''}\n",
      "{'status': 'Running', 'starttime': '2018-10-15T11:22:45.647269', 'endtime': None, 'percent_complete': 25, 'job_type': 'UpdateModel', 'loss': 0.10883557872894482, 'generations': 4, 'dataset_names': ['wind_turbine.csv'], 'artifact_names': None, 'model_name': 'nbm_model', 'job_error': ''}\n",
      "{'status': 'Running', 'starttime': '2018-10-15T11:22:45.647269', 'endtime': None, 'percent_complete': 25, 'job_type': 'UpdateModel', 'loss': 0.10883557872894482, 'generations': 4, 'dataset_names': ['wind_turbine.csv'], 'artifact_names': None, 'model_name': 'nbm_model', 'job_error': ''}\n",
      "{'status': 'Running', 'starttime': '2018-10-15T11:22:45.647269', 'endtime': None, 'percent_complete': 25, 'job_type': 'UpdateModel', 'loss': 0.10883557872894482, 'generations': 4, 'dataset_names': ['wind_turbine.csv'], 'artifact_names': None, 'model_name': 'nbm_model', 'job_error': ''}\n",
      "{'status': 'Running', 'starttime': '2018-10-15T11:22:45.647269', 'endtime': None, 'percent_complete': 25, 'job_type': 'UpdateModel', 'loss': 0.10883557872894482, 'generations': 4, 'dataset_names': ['wind_turbine.csv'], 'artifact_names': None, 'model_name': 'nbm_model', 'job_error': ''}\n",
      "{'status': 'Running', 'starttime': '2018-10-15T11:22:45.647269', 'endtime': None, 'percent_complete': 40, 'job_type': 'UpdateModel', 'loss': 0.10883557872894482, 'generations': 5, 'dataset_names': ['wind_turbine.csv'], 'artifact_names': None, 'model_name': 'nbm_model', 'job_error': ''}\n",
      "{'status': 'Running', 'starttime': '2018-10-15T11:22:45.647269', 'endtime': None, 'percent_complete': 40, 'job_type': 'UpdateModel', 'loss': 0.10883557872894482, 'generations': 5, 'dataset_names': ['wind_turbine.csv'], 'artifact_names': None, 'model_name': 'nbm_model', 'job_error': ''}\n"
     ]
    },
    {
     "name": "stdout",
     "output_type": "stream",
     "text": [
      "{'status': 'Running', 'starttime': '2018-10-15T11:22:45.647269', 'endtime': None, 'percent_complete': 40, 'job_type': 'UpdateModel', 'loss': 0.10883557872894482, 'generations': 5, 'dataset_names': ['wind_turbine.csv'], 'artifact_names': None, 'model_name': 'nbm_model', 'job_error': ''}\n",
      "{'status': 'Running', 'starttime': '2018-10-15T11:22:45.647269', 'endtime': None, 'percent_complete': 40, 'job_type': 'UpdateModel', 'loss': 0.10883557872894482, 'generations': 5, 'dataset_names': ['wind_turbine.csv'], 'artifact_names': None, 'model_name': 'nbm_model', 'job_error': ''}\n",
      "{'status': 'Running', 'starttime': '2018-10-15T11:22:45.647269', 'endtime': None, 'percent_complete': 40, 'job_type': 'UpdateModel', 'loss': 0.10883557872894482, 'generations': 5, 'dataset_names': ['wind_turbine.csv'], 'artifact_names': None, 'model_name': 'nbm_model', 'job_error': ''}\n",
      "{'status': 'Running', 'starttime': '2018-10-15T11:22:45.647269', 'endtime': None, 'percent_complete': 40, 'job_type': 'UpdateModel', 'loss': 0.10883557872894482, 'generations': 5, 'dataset_names': ['wind_turbine.csv'], 'artifact_names': None, 'model_name': 'nbm_model', 'job_error': ''}\n",
      "{'status': 'Running', 'starttime': '2018-10-15T11:22:45.647269', 'endtime': None, 'percent_complete': 40, 'job_type': 'UpdateModel', 'loss': 0.10883557872894482, 'generations': 5, 'dataset_names': ['wind_turbine.csv'], 'artifact_names': None, 'model_name': 'nbm_model', 'job_error': ''}\n",
      "{'status': 'Running', 'starttime': '2018-10-15T11:22:45.647269', 'endtime': None, 'percent_complete': 40, 'job_type': 'UpdateModel', 'loss': 0.10883557872894482, 'generations': 5, 'dataset_names': ['wind_turbine.csv'], 'artifact_names': None, 'model_name': 'nbm_model', 'job_error': ''}\n",
      "{'status': 'Running', 'starttime': '2018-10-15T11:22:45.647269', 'endtime': None, 'percent_complete': 60, 'job_type': 'UpdateModel', 'loss': 0.10883557872894482, 'generations': 6, 'dataset_names': ['wind_turbine.csv'], 'artifact_names': None, 'model_name': 'nbm_model', 'job_error': ''}\n",
      "{'status': 'Running', 'starttime': '2018-10-15T11:22:45.647269', 'endtime': None, 'percent_complete': 60, 'job_type': 'UpdateModel', 'loss': 0.10883557872894482, 'generations': 6, 'dataset_names': ['wind_turbine.csv'], 'artifact_names': None, 'model_name': 'nbm_model', 'job_error': ''}\n",
      "{'status': 'Running', 'starttime': '2018-10-15T11:22:45.647269', 'endtime': None, 'percent_complete': 60, 'job_type': 'UpdateModel', 'loss': 0.10883557872894482, 'generations': 6, 'dataset_names': ['wind_turbine.csv'], 'artifact_names': None, 'model_name': 'nbm_model', 'job_error': ''}\n",
      "{'status': 'Running', 'starttime': '2018-10-15T11:22:45.647269', 'endtime': None, 'percent_complete': 60, 'job_type': 'UpdateModel', 'loss': 0.10883557872894482, 'generations': 6, 'dataset_names': ['wind_turbine.csv'], 'artifact_names': None, 'model_name': 'nbm_model', 'job_error': ''}\n",
      "{'status': 'Running', 'starttime': '2018-10-15T11:22:45.647269', 'endtime': None, 'percent_complete': 60, 'job_type': 'UpdateModel', 'loss': 0.10883557872894482, 'generations': 6, 'dataset_names': ['wind_turbine.csv'], 'artifact_names': None, 'model_name': 'nbm_model', 'job_error': ''}\n",
      "{'status': 'Running', 'starttime': '2018-10-15T11:22:45.647269', 'endtime': None, 'percent_complete': 60, 'job_type': 'UpdateModel', 'loss': 0.10883557872894482, 'generations': 6, 'dataset_names': ['wind_turbine.csv'], 'artifact_names': None, 'model_name': 'nbm_model', 'job_error': ''}\n"
     ]
    }
   ],
   "source": [
    "# Train some more\n",
    "status, job_id = ds.resume_training_model(dataset_names = dataset_name,\n",
    "                                          model_name = model,\n",
    "                                          max_train_time = '00:10')\n",
    "                                          \n",
    "if status:\n",
    "    ds.wait_for_job(job_id['job_name'])\n",
    "else:\n",
    "    print(job_id)"
   ]
  },
  {
   "cell_type": "markdown",
   "metadata": {},
   "source": [
    "## Analyze Model\n",
    "Analyze model provides feature importance ranked by the model. <br> It indicates a general view of which features pose a bigger impact on the model"
   ]
  },
  {
   "cell_type": "code",
   "execution_count": 67,
   "metadata": {
    "scrolled": true
   },
   "outputs": [
    {
     "name": "stdout",
     "output_type": "stream",
     "text": [
      "{'status': 'Running', 'starttime': '2018-10-15T11:37:15.993886', 'endtime': None, 'percent_complete': 0, 'job_type': 'AnalyzeModel', 'loss': 0.10883557872894482, 'generations': 6, 'dataset_names': None, 'artifact_names': ['5c706dd17b8043cfb0f7d09009a4320b'], 'model_name': 'nbm_model', 'job_error': ''}\n",
      "{'status': 'Running', 'starttime': '2018-10-15T11:37:15.993886', 'endtime': None, 'percent_complete': 0, 'job_type': 'AnalyzeModel', 'loss': 0.10883557872894482, 'generations': 6, 'dataset_names': None, 'artifact_names': ['5c706dd17b8043cfb0f7d09009a4320b'], 'model_name': 'nbm_model', 'job_error': ''}\n",
      "{'status': 'Complete', 'starttime': '2018-10-15T11:37:15.993886', 'endtime': '2018-10-15T11:37:42.857308', 'percent_complete': 100, 'job_type': 'AnalyzeModel', 'loss': 0.10883557872894482, 'generations': 6, 'dataset_names': None, 'artifact_names': ['5c706dd17b8043cfb0f7d09009a4320b'], 'model_name': 'nbm_model', 'job_error': ''}\n"
     ]
    }
   ],
   "source": [
    "# Retrieve feature importance of built model\n",
    "status, artifact = ds.analyze_model(model)\n",
    "sleep(1)\n",
    "if status:\n",
    "    ds.wait_for_job(artifact['job_name'])\n",
    "else:\n",
    "    print(artifact)\n",
    "status, feature_importance = ds.download_artifact(artifact['artifact_name'])"
   ]
  },
  {
   "cell_type": "markdown",
   "metadata": {},
   "source": [
    "Show the 10 most important features of the model."
   ]
  },
  {
   "cell_type": "code",
   "execution_count": 68,
   "metadata": {},
   "outputs": [
    {
     "data": {
      "text/plain": [
       "yaw_direction       0.099424\n",
       "gbx_bearing_temp    0.089337\n",
       "ctrl_top_temp       0.076369\n",
       "hydro_temp          0.076369\n",
       "gbx_oil_temp        0.066282\n",
       "ambient_temp        0.064842\n",
       "spinner_temp        0.059078\n",
       "nac_temp            0.041787\n",
       "ctrl_hub_temp       0.040346\n",
       "wind_direction      0.034582\n",
       "dtype: float64"
      ]
     },
     "execution_count": 68,
     "metadata": {},
     "output_type": "execute_result"
    }
   ],
   "source": [
    "feature_importance[:10]"
   ]
  },
  {
   "cell_type": "markdown",
   "metadata": {},
   "source": [
    "## Predictions\n",
    "**Perform model prediction on the the training dataset.**"
   ]
  },
  {
   "cell_type": "code",
   "execution_count": 69,
   "metadata": {
    "scrolled": true
   },
   "outputs": [
    {
     "name": "stdout",
     "output_type": "stream",
     "text": [
      "{'status': 'Running', 'starttime': '2018-10-15T11:40:50.185599', 'endtime': None, 'percent_complete': 0, 'job_type': 'RunModel', 'loss': 0.10883557872894482, 'generations': 6, 'dataset_names': ['wind_turbine.csv'], 'artifact_names': ['ee746c8870da47a0b85604eb2c5add31'], 'model_name': 'nbm_model', 'job_error': ''}\n",
      "{'status': 'Running', 'starttime': '2018-10-15T11:40:50.185599', 'endtime': None, 'percent_complete': 0, 'job_type': 'RunModel', 'loss': 0.10883557872894482, 'generations': 6, 'dataset_names': ['wind_turbine.csv'], 'artifact_names': ['ee746c8870da47a0b85604eb2c5add31'], 'model_name': 'nbm_model', 'job_error': ''}\n",
      "{'status': 'Complete', 'starttime': '2018-10-15T11:40:50.185599', 'endtime': '2018-10-15T11:41:10.459713', 'percent_complete': 100, 'job_type': 'RunModel', 'loss': 0.10883557872894482, 'generations': 6, 'dataset_names': ['wind_turbine.csv'], 'artifact_names': ['ee746c8870da47a0b85604eb2c5add31'], 'model_name': 'nbm_model', 'job_error': ''}\n"
     ]
    },
    {
     "data": {
      "text/plain": [
       "(True, 'Job completed')"
      ]
     },
     "execution_count": 69,
     "metadata": {},
     "output_type": "execute_result"
    }
   ],
   "source": [
    "status, artifact = ds.run_model(dataset_name, model)\n",
    "sleep(1)\n",
    "ds.wait_for_job(artifact['job_name'])"
   ]
  },
  {
   "cell_type": "markdown",
   "metadata": {},
   "source": [
    "Download predictions from Darwin's server."
   ]
  },
  {
   "cell_type": "code",
   "execution_count": 70,
   "metadata": {
    "scrolled": true
   },
   "outputs": [],
   "source": [
    "status, prediction = ds.download_artifact(artifact['artifact_name'])"
   ]
  },
  {
   "cell_type": "markdown",
   "metadata": {},
   "source": [
    "Create plots showing the risk index prediction of the model"
   ]
  },
  {
   "cell_type": "code",
   "execution_count": 71,
   "metadata": {
    "scrolled": true
   },
   "outputs": [
    {
     "data": {
      "text/plain": [
       "<matplotlib.axes._subplots.AxesSubplot at 0x1a28546978>"
      ]
     },
     "execution_count": 71,
     "metadata": {},
     "output_type": "execute_result"
    },
    {
     "data": {
      "image/png": "[encoded data removed]",
      "text/plain": [
       "<Figure size 432x288 with 1 Axes>"
      ]
     },
     "metadata": {},
     "output_type": "display_data"
    }
   ],
   "source": [
    "#Plot the risk predictions\n",
    "prediction.set_index(pd.to_datetime(df['timestamp']), inplace=True)\n",
    "prediction.plot()"
   ]
  },
  {
   "cell_type": "markdown",
   "metadata": {},
   "source": [
    "## Find out which machine learning model did Darwin use:"
   ]
  },
  {
   "cell_type": "code",
   "execution_count": 72,
   "metadata": {},
   "outputs": [
    {
     "name": "stdout",
     "output_type": "stream",
     "text": [
      "AutoEncoderNet(\n",
      "  (encoder): layer 1: Linear(in_features=45, out_features=11, bias=True, dropout=0.50, activation=relu)\n",
      "  layer 2: Linear(in_features=11, out_features=45, bias=True, dropout=0.50, activation=identity)\n",
      ")\n"
     ]
    }
   ],
   "source": [
    "status, model_type = ds.lookup_model_name(model)\n",
    "print(model_type['description']['best_genome'])"
   ]
  }
 ],
 "metadata": {
  "anaconda-cloud": {},
  "kernelspec": {
   "display_name": "Python 3",
   "language": "python",
   "name": "python3"
  },
  "language_info": {
   "codemirror_mode": {
    "name": "ipython",
    "version": 3
   },
   "file_extension": ".py",
   "mimetype": "text/x-python",
   "name": "python",
   "nbconvert_exporter": "python",
   "pygments_lexer": "ipython3",
   "version": "3.6.5"
  }
 },
 "nbformat": 4,
 "nbformat_minor": 2
}
