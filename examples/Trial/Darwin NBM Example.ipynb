{
 "cells": [
  {
   "cell_type": "markdown",
   "metadata": {},
   "source": [
    "<img src=\"https://cybersecurity-excellence-awards.com/wp-content/uploads/2017/06/366812.png\">"
   ]
  },
  {
   "cell_type": "markdown",
   "metadata": {},
   "source": [
    "<h1><center>Darwin Normal Behavior Modeling (NBM) Example </center></h1>"
   ]
  },
  {
   "cell_type": "markdown",
   "metadata": {},
   "source": [
    "# Prior to getting started:"
   ]
  },
  {
   "cell_type": "markdown",
   "metadata": {},
   "source": [
    "First, \n",
    "<br>if you have just received a new api key from support, you will need to register your key and create a new user (see Register user cell)\n",
    "\n",
    "Second, in the Environment Variables cell: \n",
    "1. Set your username and password to ensure that you're able to log in successfully\n",
    "2. Set the path to the location of your datasets if you are using your own data.  The path is set for the examples.\n",
    "\n",
    "Here are a few things to be mindful of:\n",
    "1. For every run, check the job status (i.e. requested, failed, running, completed) and wait for job to complete before proceeding. \n",
    "2. If you're not satisfied with your model and think that Darwin can do better by exploring a larger search space, use the resume function."
   ]
  },
  {
   "cell_type": "markdown",
   "metadata": {},
   "source": [
    "## Set Darwin SDK"
   ]
  },
  {
   "cell_type": "code",
   "execution_count": 27,
   "metadata": {},
   "outputs": [
    {
     "data": {
      "text/plain": [
       "(True, 'https://amb-trial-api.sparkcognition.com/v1/')"
      ]
     },
     "execution_count": 27,
     "metadata": {},
     "output_type": "execute_result"
    }
   ],
   "source": [
    "from amb_sdk.sdk import DarwinSdk\n",
    "ds = DarwinSdk()\n",
    "ds.set_url('https://amb-trial-api.sparkcognition.com/v1/')"
   ]
  },
  {
   "cell_type": "markdown",
   "metadata": {},
   "source": [
    "## Register user (if needed, read above)"
   ]
  },
  {
   "cell_type": "code",
   "execution_count": null,
   "metadata": {},
   "outputs": [],
   "source": [
    "# Use only if you have a new api-key and \n",
    "# no registered users - fill in the appropriate fields then execute\n",
    "\n",
    "#Enter your support provided api key and api key password below to register/create new users\n",
    "api_key = ''\n",
    "api_key_pw = ''\n",
    "status, msg = ds.auth_login(api_key_pw, api_key)\n",
    "if not status:\n",
    "    print(msg)\n",
    "\n",
    "#Create a new user\n",
    "status, msg = ds.auth_register_user('username', 'password','email@emailaddress.com')\n",
    "if not status:\n",
    "    print(msg)"
   ]
  },
  {
   "cell_type": "markdown",
   "metadata": {},
   "source": [
    "## Environment Variables"
   ]
  },
  {
   "cell_type": "code",
   "execution_count": 13,
   "metadata": {},
   "outputs": [],
   "source": [
    "#Set your user id and password accordingly\n",
    "USER=\"[your Darwin user id]\"\n",
    "PW=\"[your Darwin password]\"\n",
    "\n",
    "# Set path to datasets - The default below assumes Jupyter was started from amb-sdk/examples/Enterprise/\n",
    "# Modify accordingly if you wish to use your own data\n",
    "PATH_TO_DATASET = '../../sets/'\n",
    "TRAIN_DATASET = 'wind_turbine.csv'\n",
    "\n",
    "# A timestamp is used to create a unique name in the event you execute the workflow multiple times or with \n",
    "# different datasets.  File names must be unique in Darwin.\n",
    "import datetime\n",
    "ts = '{:%Y%m%d%H%M%S}'.format(datetime.datetime.now())"
   ]
  },
  {
   "cell_type": "markdown",
   "metadata": {},
   "source": [
    "## Import necessary libraries"
   ]
  },
  {
   "cell_type": "code",
   "execution_count": 14,
   "metadata": {
    "scrolled": true
   },
   "outputs": [],
   "source": [
    "# Import necessary libraries\n",
    "%matplotlib inline\n",
    "import matplotlib.pyplot as plt\n",
    "import pandas as pd\n",
    "from IPython.display import Image\n",
    "from time import sleep\n",
    "import os\n",
    "import numpy as np\n",
    "from sklearn.metrics import r2_score"
   ]
  },
  {
   "cell_type": "markdown",
   "metadata": {},
   "source": [
    "# User Login"
   ]
  },
  {
   "cell_type": "code",
   "execution_count": 15,
   "metadata": {},
   "outputs": [],
   "source": [
    "status, msg = ds.auth_login_user(USER,PW)\n",
    "if not status:\n",
    "    print(msg)"
   ]
  },
  {
   "cell_type": "markdown",
   "metadata": {},
   "source": [
    "# Data Upload"
   ]
  },
  {
   "cell_type": "markdown",
   "metadata": {
    "scrolled": true
   },
   "source": [
    "**Read dataset and view a file snippet**\n",
    "<br>After setting up the dataset path, the next step is to upload the dataset from your local device to the server."
   ]
  },
  {
   "cell_type": "code",
   "execution_count": 16,
   "metadata": {},
   "outputs": [
    {
     "data": {
      "text/html": [
       "<div>\n",
       "<style scoped>\n",
       "    .dataframe tbody tr th:only-of-type {\n",
       "        vertical-align: middle;\n",
       "    }\n",
       "\n",
       "    .dataframe tbody tr th {\n",
       "        vertical-align: top;\n",
       "    }\n",
       "\n",
       "    .dataframe thead th {\n",
       "        text-align: right;\n",
       "    }\n",
       "</style>\n",
       "<table border=\"1\" class=\"dataframe\">\n",
       "  <thead>\n",
       "    <tr style=\"text-align: right;\">\n",
       "      <th></th>\n",
       "      <th>timestamp</th>\n",
       "      <th>yaw_direction</th>\n",
       "      <th>ctrl_top_temp</th>\n",
       "      <th>vcn</th>\n",
       "      <th>transformer_a_tmp</th>\n",
       "      <th>power</th>\n",
       "      <th>gen_phc_temp</th>\n",
       "      <th>freq</th>\n",
       "      <th>gen_bearing_temp</th>\n",
       "      <th>gen_slip_temp</th>\n",
       "      <th>...</th>\n",
       "      <th>wind_speed</th>\n",
       "      <th>hydro_temp</th>\n",
       "      <th>gbx_bearing_temp</th>\n",
       "      <th>blade_angle</th>\n",
       "      <th>ambient_temp</th>\n",
       "      <th>ica</th>\n",
       "      <th>set_power</th>\n",
       "      <th>gen_phb_temp</th>\n",
       "      <th>pex</th>\n",
       "      <th>ctrl_hub_temp</th>\n",
       "    </tr>\n",
       "  </thead>\n",
       "  <tbody>\n",
       "    <tr>\n",
       "      <th>0</th>\n",
       "      <td>9/1/14 0:10</td>\n",
       "      <td>274.7</td>\n",
       "      <td>26.0</td>\n",
       "      <td>399.5</td>\n",
       "      <td>75.0</td>\n",
       "      <td>1782.8</td>\n",
       "      <td>86.0</td>\n",
       "      <td>59.99</td>\n",
       "      <td>57.0</td>\n",
       "      <td>999.0</td>\n",
       "      <td>...</td>\n",
       "      <td>12.9</td>\n",
       "      <td>47.0</td>\n",
       "      <td>66.0</td>\n",
       "      <td>4.2</td>\n",
       "      <td>20.0</td>\n",
       "      <td>1510.6</td>\n",
       "      <td>1800.0</td>\n",
       "      <td>86.0</td>\n",
       "      <td>1773.0</td>\n",
       "      <td>27.0</td>\n",
       "    </tr>\n",
       "    <tr>\n",
       "      <th>1</th>\n",
       "      <td>9/1/14 0:20</td>\n",
       "      <td>269.9</td>\n",
       "      <td>26.0</td>\n",
       "      <td>402.2</td>\n",
       "      <td>70.0</td>\n",
       "      <td>1527.1</td>\n",
       "      <td>86.0</td>\n",
       "      <td>59.99</td>\n",
       "      <td>58.0</td>\n",
       "      <td>999.0</td>\n",
       "      <td>...</td>\n",
       "      <td>11.2</td>\n",
       "      <td>47.0</td>\n",
       "      <td>66.0</td>\n",
       "      <td>-1.3</td>\n",
       "      <td>19.0</td>\n",
       "      <td>1278.5</td>\n",
       "      <td>1800.0</td>\n",
       "      <td>86.0</td>\n",
       "      <td>1446.0</td>\n",
       "      <td>27.0</td>\n",
       "    </tr>\n",
       "    <tr>\n",
       "      <th>2</th>\n",
       "      <td>9/1/14 0:30</td>\n",
       "      <td>271.8</td>\n",
       "      <td>26.0</td>\n",
       "      <td>400.6</td>\n",
       "      <td>66.0</td>\n",
       "      <td>1664.7</td>\n",
       "      <td>85.0</td>\n",
       "      <td>59.99</td>\n",
       "      <td>58.0</td>\n",
       "      <td>999.0</td>\n",
       "      <td>...</td>\n",
       "      <td>12.1</td>\n",
       "      <td>47.0</td>\n",
       "      <td>66.0</td>\n",
       "      <td>1.9</td>\n",
       "      <td>20.0</td>\n",
       "      <td>1404.8</td>\n",
       "      <td>1800.0</td>\n",
       "      <td>85.0</td>\n",
       "      <td>1644.0</td>\n",
       "      <td>27.0</td>\n",
       "    </tr>\n",
       "    <tr>\n",
       "      <th>3</th>\n",
       "      <td>9/1/14 0:40</td>\n",
       "      <td>278.7</td>\n",
       "      <td>27.0</td>\n",
       "      <td>402.8</td>\n",
       "      <td>66.0</td>\n",
       "      <td>1570.2</td>\n",
       "      <td>87.0</td>\n",
       "      <td>59.99</td>\n",
       "      <td>59.0</td>\n",
       "      <td>999.0</td>\n",
       "      <td>...</td>\n",
       "      <td>11.4</td>\n",
       "      <td>47.0</td>\n",
       "      <td>66.0</td>\n",
       "      <td>0.2</td>\n",
       "      <td>21.0</td>\n",
       "      <td>1315.9</td>\n",
       "      <td>1800.0</td>\n",
       "      <td>87.0</td>\n",
       "      <td>1558.0</td>\n",
       "      <td>27.0</td>\n",
       "    </tr>\n",
       "    <tr>\n",
       "      <th>4</th>\n",
       "      <td>9/1/14 0:50</td>\n",
       "      <td>289.3</td>\n",
       "      <td>27.0</td>\n",
       "      <td>404.4</td>\n",
       "      <td>63.0</td>\n",
       "      <td>1242.5</td>\n",
       "      <td>82.0</td>\n",
       "      <td>59.99</td>\n",
       "      <td>60.0</td>\n",
       "      <td>999.0</td>\n",
       "      <td>...</td>\n",
       "      <td>10.4</td>\n",
       "      <td>47.0</td>\n",
       "      <td>66.0</td>\n",
       "      <td>-1.9</td>\n",
       "      <td>22.0</td>\n",
       "      <td>1029.9</td>\n",
       "      <td>1800.0</td>\n",
       "      <td>82.0</td>\n",
       "      <td>1244.0</td>\n",
       "      <td>27.0</td>\n",
       "    </tr>\n",
       "  </tbody>\n",
       "</table>\n",
       "<p>5 rows × 38 columns</p>\n",
       "</div>"
      ],
      "text/plain": [
       "     timestamp  yaw_direction  ctrl_top_temp    vcn  transformer_a_tmp  \\\n",
       "0  9/1/14 0:10          274.7           26.0  399.5               75.0   \n",
       "1  9/1/14 0:20          269.9           26.0  402.2               70.0   \n",
       "2  9/1/14 0:30          271.8           26.0  400.6               66.0   \n",
       "3  9/1/14 0:40          278.7           27.0  402.8               66.0   \n",
       "4  9/1/14 0:50          289.3           27.0  404.4               63.0   \n",
       "\n",
       "    power  gen_phc_temp   freq  gen_bearing_temp  gen_slip_temp  \\\n",
       "0  1782.8          86.0  59.99              57.0          999.0   \n",
       "1  1527.1          86.0  59.99              58.0          999.0   \n",
       "2  1664.7          85.0  59.99              58.0          999.0   \n",
       "3  1570.2          87.0  59.99              59.0          999.0   \n",
       "4  1242.5          82.0  59.99              60.0          999.0   \n",
       "\n",
       "       ...        wind_speed  hydro_temp  gbx_bearing_temp  blade_angle  \\\n",
       "0      ...              12.9        47.0              66.0          4.2   \n",
       "1      ...              11.2        47.0              66.0         -1.3   \n",
       "2      ...              12.1        47.0              66.0          1.9   \n",
       "3      ...              11.4        47.0              66.0          0.2   \n",
       "4      ...              10.4        47.0              66.0         -1.9   \n",
       "\n",
       "   ambient_temp     ica  set_power  gen_phb_temp     pex  ctrl_hub_temp  \n",
       "0          20.0  1510.6     1800.0          86.0  1773.0           27.0  \n",
       "1          19.0  1278.5     1800.0          86.0  1446.0           27.0  \n",
       "2          20.0  1404.8     1800.0          85.0  1644.0           27.0  \n",
       "3          21.0  1315.9     1800.0          87.0  1558.0           27.0  \n",
       "4          22.0  1029.9     1800.0          82.0  1244.0           27.0  \n",
       "\n",
       "[5 rows x 38 columns]"
      ]
     },
     "execution_count": 16,
     "metadata": {},
     "output_type": "execute_result"
    }
   ],
   "source": [
    "# Preview dataset\n",
    "df = pd.read_csv(os.path.join(PATH_TO_DATASET, TRAIN_DATASET))\n",
    "df.head()"
   ]
  },
  {
   "cell_type": "markdown",
   "metadata": {},
   "source": [
    "**Upload dataset to Darwin**"
   ]
  },
  {
   "cell_type": "code",
   "execution_count": null,
   "metadata": {
    "scrolled": true
   },
   "outputs": [],
   "source": [
    "# Upload dataset\n",
    "status, dataset = ds.upload_dataset(os.path.join(PATH_TO_DATASET, TRAIN_DATASET))\n",
    "print(status)\n",
    "print(dataset)\n",
    "\n",
    "if not status:\n",
    "    print(dataset)"
   ]
  },
  {
   "cell_type": "markdown",
   "metadata": {},
   "source": [
    "# Create and Train Model "
   ]
  },
  {
   "cell_type": "markdown",
   "metadata": {},
   "source": [
    "We will now build a model that will learn the normal behavior of an asset based on a failure date.<br> The failure date in our example dataset is 8/24/15. <br> You will have to specify a different failure date for your custom dataset. <br> You can also specify a recovery_dates when the asset comes back online.\n"
   ]
  },
  {
   "cell_type": "code",
   "execution_count": 18,
   "metadata": {
    "scrolled": true
   },
   "outputs": [
    {
     "name": "stdout",
     "output_type": "stream",
     "text": [
      "{'status': 'Requested', 'starttime': '2018-10-22T12:01:55.189249', 'endtime': None, 'percent_complete': 0, 'job_type': 'TrainModel', 'loss': None, 'generations': 0, 'dataset_names': ['wind_turbine.csv'], 'artifact_names': None, 'model_name': 'model-20181022120143', 'job_error': None}\n",
      "{'status': 'Running', 'starttime': '2018-10-22T12:01:55.189249', 'endtime': None, 'percent_complete': 0, 'job_type': 'TrainModel', 'loss': None, 'generations': 0, 'dataset_names': ['wind_turbine.csv'], 'artifact_names': None, 'model_name': 'model-20181022120143', 'job_error': ''}\n",
      "{'status': 'Running', 'starttime': '2018-10-22T12:01:55.189249', 'endtime': None, 'percent_complete': 0, 'job_type': 'TrainModel', 'loss': None, 'generations': 0, 'dataset_names': ['wind_turbine.csv'], 'artifact_names': None, 'model_name': 'model-20181022120143', 'job_error': ''}\n",
      "{'status': 'Running', 'starttime': '2018-10-22T12:01:55.189249', 'endtime': None, 'percent_complete': 0, 'job_type': 'TrainModel', 'loss': None, 'generations': 0, 'dataset_names': ['wind_turbine.csv'], 'artifact_names': None, 'model_name': 'model-20181022120143', 'job_error': ''}\n",
      "{'status': 'Running', 'starttime': '2018-10-22T12:01:55.189249', 'endtime': None, 'percent_complete': 0, 'job_type': 'TrainModel', 'loss': None, 'generations': 0, 'dataset_names': ['wind_turbine.csv'], 'artifact_names': None, 'model_name': 'model-20181022120143', 'job_error': ''}\n",
      "{'status': 'Running', 'starttime': '2018-10-22T12:01:55.189249', 'endtime': None, 'percent_complete': 0, 'job_type': 'TrainModel', 'loss': None, 'generations': 0, 'dataset_names': ['wind_turbine.csv'], 'artifact_names': None, 'model_name': 'model-20181022120143', 'job_error': ''}\n",
      "{'status': 'Running', 'starttime': '2018-10-22T12:01:55.189249', 'endtime': None, 'percent_complete': 0, 'job_type': 'TrainModel', 'loss': None, 'generations': 0, 'dataset_names': ['wind_turbine.csv'], 'artifact_names': None, 'model_name': 'model-20181022120143', 'job_error': ''}\n",
      "{'status': 'Running', 'starttime': '2018-10-22T12:01:55.189249', 'endtime': None, 'percent_complete': 0, 'job_type': 'TrainModel', 'loss': None, 'generations': 0, 'dataset_names': ['wind_turbine.csv'], 'artifact_names': None, 'model_name': 'model-20181022120143', 'job_error': ''}\n",
      "{'status': 'Running', 'starttime': '2018-10-22T12:01:55.189249', 'endtime': None, 'percent_complete': 0, 'job_type': 'TrainModel', 'loss': None, 'generations': 0, 'dataset_names': ['wind_turbine.csv'], 'artifact_names': None, 'model_name': 'model-20181022120143', 'job_error': ''}\n",
      "{'status': 'Running', 'starttime': '2018-10-22T12:01:55.189249', 'endtime': None, 'percent_complete': 0, 'job_type': 'TrainModel', 'loss': None, 'generations': 0, 'dataset_names': ['wind_turbine.csv'], 'artifact_names': None, 'model_name': 'model-20181022120143', 'job_error': ''}\n",
      "{'status': 'Running', 'starttime': '2018-10-22T12:01:55.189249', 'endtime': None, 'percent_complete': 0, 'job_type': 'TrainModel', 'loss': None, 'generations': 0, 'dataset_names': ['wind_turbine.csv'], 'artifact_names': None, 'model_name': 'model-20181022120143', 'job_error': ''}\n",
      "{'status': 'Running', 'starttime': '2018-10-22T12:01:55.189249', 'endtime': None, 'percent_complete': 0, 'job_type': 'TrainModel', 'loss': None, 'generations': 0, 'dataset_names': ['wind_turbine.csv'], 'artifact_names': None, 'model_name': 'model-20181022120143', 'job_error': ''}\n",
      "{'status': 'Running', 'starttime': '2018-10-22T12:01:55.189249', 'endtime': None, 'percent_complete': 0, 'job_type': 'TrainModel', 'loss': None, 'generations': 0, 'dataset_names': ['wind_turbine.csv'], 'artifact_names': None, 'model_name': 'model-20181022120143', 'job_error': ''}\n",
      "{'status': 'Running', 'starttime': '2018-10-22T12:01:55.189249', 'endtime': None, 'percent_complete': 0, 'job_type': 'TrainModel', 'loss': None, 'generations': 0, 'dataset_names': ['wind_turbine.csv'], 'artifact_names': None, 'model_name': 'model-20181022120143', 'job_error': ''}\n",
      "{'status': 'Running', 'starttime': '2018-10-22T12:01:55.189249', 'endtime': None, 'percent_complete': 0, 'job_type': 'TrainModel', 'loss': None, 'generations': 0, 'dataset_names': ['wind_turbine.csv'], 'artifact_names': None, 'model_name': 'model-20181022120143', 'job_error': ''}\n",
      "{'status': 'Running', 'starttime': '2018-10-22T12:01:55.189249', 'endtime': None, 'percent_complete': 0, 'job_type': 'TrainModel', 'loss': None, 'generations': 0, 'dataset_names': ['wind_turbine.csv'], 'artifact_names': None, 'model_name': 'model-20181022120143', 'job_error': ''}\n",
      "{'status': 'Running', 'starttime': '2018-10-22T12:01:55.189249', 'endtime': None, 'percent_complete': 0, 'job_type': 'TrainModel', 'loss': None, 'generations': 0, 'dataset_names': ['wind_turbine.csv'], 'artifact_names': None, 'model_name': 'model-20181022120143', 'job_error': ''}\n",
      "{'status': 'Running', 'starttime': '2018-10-22T12:01:55.189249', 'endtime': None, 'percent_complete': 0, 'job_type': 'TrainModel', 'loss': None, 'generations': 0, 'dataset_names': ['wind_turbine.csv'], 'artifact_names': None, 'model_name': 'model-20181022120143', 'job_error': ''}\n",
      "{'status': 'Running', 'starttime': '2018-10-22T12:01:55.189249', 'endtime': None, 'percent_complete': 0, 'job_type': 'TrainModel', 'loss': None, 'generations': 0, 'dataset_names': ['wind_turbine.csv'], 'artifact_names': None, 'model_name': 'model-20181022120143', 'job_error': ''}\n",
      "{'status': 'Running', 'starttime': '2018-10-22T12:01:55.189249', 'endtime': None, 'percent_complete': 25, 'job_type': 'TrainModel', 'loss': 0.10808754317526124, 'generations': 0, 'dataset_names': ['wind_turbine.csv'], 'artifact_names': None, 'model_name': 'model-20181022120143', 'job_error': ''}\n",
      "{'status': 'Running', 'starttime': '2018-10-22T12:01:55.189249', 'endtime': None, 'percent_complete': 25, 'job_type': 'TrainModel', 'loss': 0.10808754317526124, 'generations': 0, 'dataset_names': ['wind_turbine.csv'], 'artifact_names': None, 'model_name': 'model-20181022120143', 'job_error': ''}\n",
      "{'status': 'Running', 'starttime': '2018-10-22T12:01:55.189249', 'endtime': None, 'percent_complete': 25, 'job_type': 'TrainModel', 'loss': 0.10808754317526124, 'generations': 0, 'dataset_names': ['wind_turbine.csv'], 'artifact_names': None, 'model_name': 'model-20181022120143', 'job_error': ''}\n",
      "{'status': 'Running', 'starttime': '2018-10-22T12:01:55.189249', 'endtime': None, 'percent_complete': 25, 'job_type': 'TrainModel', 'loss': 0.10808754317526124, 'generations': 0, 'dataset_names': ['wind_turbine.csv'], 'artifact_names': None, 'model_name': 'model-20181022120143', 'job_error': ''}\n",
      "{'status': 'Running', 'starttime': '2018-10-22T12:01:55.189249', 'endtime': None, 'percent_complete': 25, 'job_type': 'TrainModel', 'loss': 0.10808754317526124, 'generations': 0, 'dataset_names': ['wind_turbine.csv'], 'artifact_names': None, 'model_name': 'model-20181022120143', 'job_error': ''}\n",
      "{'status': 'Running', 'starttime': '2018-10-22T12:01:55.189249', 'endtime': None, 'percent_complete': 25, 'job_type': 'TrainModel', 'loss': 0.10808754317526124, 'generations': 0, 'dataset_names': ['wind_turbine.csv'], 'artifact_names': None, 'model_name': 'model-20181022120143', 'job_error': ''}\n",
      "{'status': 'Running', 'starttime': '2018-10-22T12:01:55.189249', 'endtime': None, 'percent_complete': 25, 'job_type': 'TrainModel', 'loss': 0.10808754317526124, 'generations': 0, 'dataset_names': ['wind_turbine.csv'], 'artifact_names': None, 'model_name': 'model-20181022120143', 'job_error': ''}\n",
      "{'status': 'Running', 'starttime': '2018-10-22T12:01:55.189249', 'endtime': None, 'percent_complete': 25, 'job_type': 'TrainModel', 'loss': 0.10808754317526124, 'generations': 0, 'dataset_names': ['wind_turbine.csv'], 'artifact_names': None, 'model_name': 'model-20181022120143', 'job_error': ''}\n",
      "{'status': 'Running', 'starttime': '2018-10-22T12:01:55.189249', 'endtime': None, 'percent_complete': 40, 'job_type': 'TrainModel', 'loss': 0.10808754317526124, 'generations': 1, 'dataset_names': ['wind_turbine.csv'], 'artifact_names': None, 'model_name': 'model-20181022120143', 'job_error': ''}\n",
      "{'status': 'Running', 'starttime': '2018-10-22T12:01:55.189249', 'endtime': None, 'percent_complete': 40, 'job_type': 'TrainModel', 'loss': 0.10808754317526124, 'generations': 1, 'dataset_names': ['wind_turbine.csv'], 'artifact_names': None, 'model_name': 'model-20181022120143', 'job_error': ''}\n"
     ]
    },
    {
     "name": "stdout",
     "output_type": "stream",
     "text": [
      "{'status': 'Running', 'starttime': '2018-10-22T12:01:55.189249', 'endtime': None, 'percent_complete': 40, 'job_type': 'TrainModel', 'loss': 0.10808754317526124, 'generations': 1, 'dataset_names': ['wind_turbine.csv'], 'artifact_names': None, 'model_name': 'model-20181022120143', 'job_error': ''}\n",
      "{'status': 'Running', 'starttime': '2018-10-22T12:01:55.189249', 'endtime': None, 'percent_complete': 40, 'job_type': 'TrainModel', 'loss': 0.10808754317526124, 'generations': 1, 'dataset_names': ['wind_turbine.csv'], 'artifact_names': None, 'model_name': 'model-20181022120143', 'job_error': ''}\n",
      "{'status': 'Running', 'starttime': '2018-10-22T12:01:55.189249', 'endtime': None, 'percent_complete': 40, 'job_type': 'TrainModel', 'loss': 0.10808754317526124, 'generations': 1, 'dataset_names': ['wind_turbine.csv'], 'artifact_names': None, 'model_name': 'model-20181022120143', 'job_error': ''}\n",
      "{'status': 'Running', 'starttime': '2018-10-22T12:01:55.189249', 'endtime': None, 'percent_complete': 40, 'job_type': 'TrainModel', 'loss': 0.10808754317526124, 'generations': 1, 'dataset_names': ['wind_turbine.csv'], 'artifact_names': None, 'model_name': 'model-20181022120143', 'job_error': ''}\n",
      "{'status': 'Running', 'starttime': '2018-10-22T12:01:55.189249', 'endtime': None, 'percent_complete': 40, 'job_type': 'TrainModel', 'loss': 0.10808754317526124, 'generations': 1, 'dataset_names': ['wind_turbine.csv'], 'artifact_names': None, 'model_name': 'model-20181022120143', 'job_error': ''}\n",
      "{'status': 'Running', 'starttime': '2018-10-22T12:01:55.189249', 'endtime': None, 'percent_complete': 40, 'job_type': 'TrainModel', 'loss': 0.10808754317526124, 'generations': 1, 'dataset_names': ['wind_turbine.csv'], 'artifact_names': None, 'model_name': 'model-20181022120143', 'job_error': ''}\n",
      "{'status': 'Running', 'starttime': '2018-10-22T12:01:55.189249', 'endtime': None, 'percent_complete': 60, 'job_type': 'TrainModel', 'loss': 0.10808754317526124, 'generations': 2, 'dataset_names': ['wind_turbine.csv'], 'artifact_names': None, 'model_name': 'model-20181022120143', 'job_error': ''}\n",
      "{'status': 'Running', 'starttime': '2018-10-22T12:01:55.189249', 'endtime': None, 'percent_complete': 60, 'job_type': 'TrainModel', 'loss': 0.10808754317526124, 'generations': 2, 'dataset_names': ['wind_turbine.csv'], 'artifact_names': None, 'model_name': 'model-20181022120143', 'job_error': ''}\n",
      "{'status': 'Running', 'starttime': '2018-10-22T12:01:55.189249', 'endtime': None, 'percent_complete': 60, 'job_type': 'TrainModel', 'loss': 0.10808754317526124, 'generations': 2, 'dataset_names': ['wind_turbine.csv'], 'artifact_names': None, 'model_name': 'model-20181022120143', 'job_error': ''}\n",
      "{'status': 'Running', 'starttime': '2018-10-22T12:01:55.189249', 'endtime': None, 'percent_complete': 60, 'job_type': 'TrainModel', 'loss': 0.10808754317526124, 'generations': 2, 'dataset_names': ['wind_turbine.csv'], 'artifact_names': None, 'model_name': 'model-20181022120143', 'job_error': ''}\n",
      "{'status': 'Running', 'starttime': '2018-10-22T12:01:55.189249', 'endtime': None, 'percent_complete': 60, 'job_type': 'TrainModel', 'loss': 0.10808754317526124, 'generations': 2, 'dataset_names': ['wind_turbine.csv'], 'artifact_names': None, 'model_name': 'model-20181022120143', 'job_error': ''}\n",
      "{'status': 'Running', 'starttime': '2018-10-22T12:01:55.189249', 'endtime': None, 'percent_complete': 60, 'job_type': 'TrainModel', 'loss': 0.10808754317526124, 'generations': 2, 'dataset_names': ['wind_turbine.csv'], 'artifact_names': None, 'model_name': 'model-20181022120143', 'job_error': ''}\n",
      "{'status': 'Running', 'starttime': '2018-10-22T12:01:55.189249', 'endtime': None, 'percent_complete': 60, 'job_type': 'TrainModel', 'loss': 0.10808754317526124, 'generations': 2, 'dataset_names': ['wind_turbine.csv'], 'artifact_names': None, 'model_name': 'model-20181022120143', 'job_error': ''}\n",
      "{'status': 'Complete', 'starttime': '2018-10-22T12:01:55.189249', 'endtime': '2018-10-22T12:12:20.732406', 'percent_complete': 100, 'job_type': 'TrainModel', 'loss': 0.10808754317526124, 'generations': 2, 'dataset_names': ['wind_turbine.csv'], 'artifact_names': None, 'model_name': 'model-20181022120143', 'job_error': ''}\n"
     ]
    }
   ],
   "source": [
    "model = \"model\" + \"-\" + ts\n",
    "status, job_id = ds.create_model(dataset_names = TRAIN_DATASET, \\\n",
    "                                 failure_dates = ['08/24/15'], \\\n",
    "                                 model_name =  model, \\\n",
    "                                 nbm = True, \\\n",
    "                                 max_train_time = '00:10')\n",
    "if status:\n",
    "    ds.wait_for_job(job_id['job_name'],time_limit=720)\n",
    "else:\n",
    "    print(job_id)"
   ]
  },
  {
   "cell_type": "markdown",
   "metadata": {},
   "source": [
    "## Extra Training (Optional)\n",
    "Run the following cell for extra training, no need to specify parameters"
   ]
  },
  {
   "cell_type": "code",
   "execution_count": 19,
   "metadata": {},
   "outputs": [
    {
     "name": "stdout",
     "output_type": "stream",
     "text": [
      "{'status': 'Requested', 'starttime': '2018-10-22T12:12:29.206538', 'endtime': None, 'percent_complete': 0, 'job_type': 'UpdateModel', 'loss': 0.10808754317526124, 'generations': 2, 'dataset_names': ['wind_turbine.csv'], 'artifact_names': None, 'model_name': 'model-20181022120143', 'job_error': None}\n",
      "{'status': 'Running', 'starttime': '2018-10-22T12:12:29.206538', 'endtime': None, 'percent_complete': 0, 'job_type': 'UpdateModel', 'loss': 0.10808754317526124, 'generations': 2, 'dataset_names': ['wind_turbine.csv'], 'artifact_names': None, 'model_name': 'model-20181022120143', 'job_error': ''}\n",
      "{'status': 'Running', 'starttime': '2018-10-22T12:12:29.206538', 'endtime': None, 'percent_complete': 0, 'job_type': 'UpdateModel', 'loss': 0.10808754317526124, 'generations': 2, 'dataset_names': ['wind_turbine.csv'], 'artifact_names': None, 'model_name': 'model-20181022120143', 'job_error': ''}\n",
      "{'status': 'Running', 'starttime': '2018-10-22T12:12:29.206538', 'endtime': None, 'percent_complete': 0, 'job_type': 'UpdateModel', 'loss': 0.10808754317526124, 'generations': 2, 'dataset_names': ['wind_turbine.csv'], 'artifact_names': None, 'model_name': 'model-20181022120143', 'job_error': ''}\n",
      "{'status': 'Running', 'starttime': '2018-10-22T12:12:29.206538', 'endtime': None, 'percent_complete': 0, 'job_type': 'UpdateModel', 'loss': 0.10808754317526124, 'generations': 2, 'dataset_names': ['wind_turbine.csv'], 'artifact_names': None, 'model_name': 'model-20181022120143', 'job_error': ''}\n",
      "{'status': 'Running', 'starttime': '2018-10-22T12:12:29.206538', 'endtime': None, 'percent_complete': 0, 'job_type': 'UpdateModel', 'loss': 0.10808754317526124, 'generations': 2, 'dataset_names': ['wind_turbine.csv'], 'artifact_names': None, 'model_name': 'model-20181022120143', 'job_error': ''}\n",
      "{'status': 'Running', 'starttime': '2018-10-22T12:12:29.206538', 'endtime': None, 'percent_complete': 0, 'job_type': 'UpdateModel', 'loss': 0.10808754317526124, 'generations': 2, 'dataset_names': ['wind_turbine.csv'], 'artifact_names': None, 'model_name': 'model-20181022120143', 'job_error': ''}\n",
      "{'status': 'Running', 'starttime': '2018-10-22T12:12:29.206538', 'endtime': None, 'percent_complete': 0, 'job_type': 'UpdateModel', 'loss': 0.10808754317526124, 'generations': 2, 'dataset_names': ['wind_turbine.csv'], 'artifact_names': None, 'model_name': 'model-20181022120143', 'job_error': ''}\n",
      "{'status': 'Running', 'starttime': '2018-10-22T12:12:29.206538', 'endtime': None, 'percent_complete': 0, 'job_type': 'UpdateModel', 'loss': 0.10808754317526124, 'generations': 2, 'dataset_names': ['wind_turbine.csv'], 'artifact_names': None, 'model_name': 'model-20181022120143', 'job_error': ''}\n",
      "{'status': 'Running', 'starttime': '2018-10-22T12:12:29.206538', 'endtime': None, 'percent_complete': 0, 'job_type': 'UpdateModel', 'loss': 0.10808754317526124, 'generations': 2, 'dataset_names': ['wind_turbine.csv'], 'artifact_names': None, 'model_name': 'model-20181022120143', 'job_error': ''}\n",
      "{'status': 'Running', 'starttime': '2018-10-22T12:12:29.206538', 'endtime': None, 'percent_complete': 0, 'job_type': 'UpdateModel', 'loss': 0.10808754317526124, 'generations': 2, 'dataset_names': ['wind_turbine.csv'], 'artifact_names': None, 'model_name': 'model-20181022120143', 'job_error': ''}\n",
      "{'status': 'Running', 'starttime': '2018-10-22T12:12:29.206538', 'endtime': None, 'percent_complete': 0, 'job_type': 'UpdateModel', 'loss': 0.10808754317526124, 'generations': 2, 'dataset_names': ['wind_turbine.csv'], 'artifact_names': None, 'model_name': 'model-20181022120143', 'job_error': ''}\n",
      "{'status': 'Running', 'starttime': '2018-10-22T12:12:29.206538', 'endtime': None, 'percent_complete': 0, 'job_type': 'UpdateModel', 'loss': 0.10808754317526124, 'generations': 2, 'dataset_names': ['wind_turbine.csv'], 'artifact_names': None, 'model_name': 'model-20181022120143', 'job_error': ''}\n",
      "{'status': 'Running', 'starttime': '2018-10-22T12:12:29.206538', 'endtime': None, 'percent_complete': 0, 'job_type': 'UpdateModel', 'loss': 0.10808754317526124, 'generations': 2, 'dataset_names': ['wind_turbine.csv'], 'artifact_names': None, 'model_name': 'model-20181022120143', 'job_error': ''}\n",
      "{'status': 'Running', 'starttime': '2018-10-22T12:12:29.206538', 'endtime': None, 'percent_complete': 0, 'job_type': 'UpdateModel', 'loss': 0.10808754317526124, 'generations': 2, 'dataset_names': ['wind_turbine.csv'], 'artifact_names': None, 'model_name': 'model-20181022120143', 'job_error': ''}\n",
      "{'status': 'Running', 'starttime': '2018-10-22T12:12:29.206538', 'endtime': None, 'percent_complete': 0, 'job_type': 'UpdateModel', 'loss': 0.10808754317526124, 'generations': 2, 'dataset_names': ['wind_turbine.csv'], 'artifact_names': None, 'model_name': 'model-20181022120143', 'job_error': ''}\n",
      "{'status': 'Running', 'starttime': '2018-10-22T12:12:29.206538', 'endtime': None, 'percent_complete': 0, 'job_type': 'UpdateModel', 'loss': 0.10808754317526124, 'generations': 2, 'dataset_names': ['wind_turbine.csv'], 'artifact_names': None, 'model_name': 'model-20181022120143', 'job_error': ''}\n",
      "{'status': 'Running', 'starttime': '2018-10-22T12:12:29.206538', 'endtime': None, 'percent_complete': 0, 'job_type': 'UpdateModel', 'loss': 0.10808754317526124, 'generations': 2, 'dataset_names': ['wind_turbine.csv'], 'artifact_names': None, 'model_name': 'model-20181022120143', 'job_error': ''}\n",
      "{'status': 'Running', 'starttime': '2018-10-22T12:12:29.206538', 'endtime': None, 'percent_complete': 0, 'job_type': 'UpdateModel', 'loss': 0.10808754317526124, 'generations': 2, 'dataset_names': ['wind_turbine.csv'], 'artifact_names': None, 'model_name': 'model-20181022120143', 'job_error': ''}\n",
      "{'status': 'Running', 'starttime': '2018-10-22T12:12:29.206538', 'endtime': None, 'percent_complete': 25, 'job_type': 'UpdateModel', 'loss': 0.10808754317526124, 'generations': 4, 'dataset_names': ['wind_turbine.csv'], 'artifact_names': None, 'model_name': 'model-20181022120143', 'job_error': ''}\n",
      "{'status': 'Running', 'starttime': '2018-10-22T12:12:29.206538', 'endtime': None, 'percent_complete': 25, 'job_type': 'UpdateModel', 'loss': 0.10808754317526124, 'generations': 4, 'dataset_names': ['wind_turbine.csv'], 'artifact_names': None, 'model_name': 'model-20181022120143', 'job_error': ''}\n",
      "{'status': 'Running', 'starttime': '2018-10-22T12:12:29.206538', 'endtime': None, 'percent_complete': 25, 'job_type': 'UpdateModel', 'loss': 0.10808754317526124, 'generations': 4, 'dataset_names': ['wind_turbine.csv'], 'artifact_names': None, 'model_name': 'model-20181022120143', 'job_error': ''}\n",
      "{'status': 'Running', 'starttime': '2018-10-22T12:12:29.206538', 'endtime': None, 'percent_complete': 25, 'job_type': 'UpdateModel', 'loss': 0.10808754317526124, 'generations': 4, 'dataset_names': ['wind_turbine.csv'], 'artifact_names': None, 'model_name': 'model-20181022120143', 'job_error': ''}\n",
      "{'status': 'Running', 'starttime': '2018-10-22T12:12:29.206538', 'endtime': None, 'percent_complete': 25, 'job_type': 'UpdateModel', 'loss': 0.10808754317526124, 'generations': 4, 'dataset_names': ['wind_turbine.csv'], 'artifact_names': None, 'model_name': 'model-20181022120143', 'job_error': ''}\n",
      "{'status': 'Running', 'starttime': '2018-10-22T12:12:29.206538', 'endtime': None, 'percent_complete': 25, 'job_type': 'UpdateModel', 'loss': 0.10808754317526124, 'generations': 4, 'dataset_names': ['wind_turbine.csv'], 'artifact_names': None, 'model_name': 'model-20181022120143', 'job_error': ''}\n",
      "{'status': 'Running', 'starttime': '2018-10-22T12:12:29.206538', 'endtime': None, 'percent_complete': 25, 'job_type': 'UpdateModel', 'loss': 0.10808754317526124, 'generations': 4, 'dataset_names': ['wind_turbine.csv'], 'artifact_names': None, 'model_name': 'model-20181022120143', 'job_error': ''}\n",
      "{'status': 'Running', 'starttime': '2018-10-22T12:12:29.206538', 'endtime': None, 'percent_complete': 25, 'job_type': 'UpdateModel', 'loss': 0.10808754317526124, 'generations': 4, 'dataset_names': ['wind_turbine.csv'], 'artifact_names': None, 'model_name': 'model-20181022120143', 'job_error': ''}\n",
      "{'status': 'Running', 'starttime': '2018-10-22T12:12:29.206538', 'endtime': None, 'percent_complete': 40, 'job_type': 'UpdateModel', 'loss': 0.10808754317526124, 'generations': 5, 'dataset_names': ['wind_turbine.csv'], 'artifact_names': None, 'model_name': 'model-20181022120143', 'job_error': ''}\n"
     ]
    },
    {
     "name": "stdout",
     "output_type": "stream",
     "text": [
      "{'status': 'Running', 'starttime': '2018-10-22T12:12:29.206538', 'endtime': None, 'percent_complete': 40, 'job_type': 'UpdateModel', 'loss': 0.10808754317526124, 'generations': 5, 'dataset_names': ['wind_turbine.csv'], 'artifact_names': None, 'model_name': 'model-20181022120143', 'job_error': ''}\n",
      "{'status': 'Running', 'starttime': '2018-10-22T12:12:29.206538', 'endtime': None, 'percent_complete': 40, 'job_type': 'UpdateModel', 'loss': 0.10808754317526124, 'generations': 5, 'dataset_names': ['wind_turbine.csv'], 'artifact_names': None, 'model_name': 'model-20181022120143', 'job_error': ''}\n",
      "{'status': 'Running', 'starttime': '2018-10-22T12:12:29.206538', 'endtime': None, 'percent_complete': 40, 'job_type': 'UpdateModel', 'loss': 0.10808754317526124, 'generations': 5, 'dataset_names': ['wind_turbine.csv'], 'artifact_names': None, 'model_name': 'model-20181022120143', 'job_error': ''}\n",
      "{'status': 'Running', 'starttime': '2018-10-22T12:12:29.206538', 'endtime': None, 'percent_complete': 40, 'job_type': 'UpdateModel', 'loss': 0.10808754317526124, 'generations': 5, 'dataset_names': ['wind_turbine.csv'], 'artifact_names': None, 'model_name': 'model-20181022120143', 'job_error': ''}\n",
      "{'status': 'Running', 'starttime': '2018-10-22T12:12:29.206538', 'endtime': None, 'percent_complete': 40, 'job_type': 'UpdateModel', 'loss': 0.10808754317526124, 'generations': 5, 'dataset_names': ['wind_turbine.csv'], 'artifact_names': None, 'model_name': 'model-20181022120143', 'job_error': ''}\n",
      "{'status': 'Running', 'starttime': '2018-10-22T12:12:29.206538', 'endtime': None, 'percent_complete': 40, 'job_type': 'UpdateModel', 'loss': 0.10808754317526124, 'generations': 5, 'dataset_names': ['wind_turbine.csv'], 'artifact_names': None, 'model_name': 'model-20181022120143', 'job_error': ''}\n",
      "{'status': 'Running', 'starttime': '2018-10-22T12:12:29.206538', 'endtime': None, 'percent_complete': 40, 'job_type': 'UpdateModel', 'loss': 0.10808754317526124, 'generations': 5, 'dataset_names': ['wind_turbine.csv'], 'artifact_names': None, 'model_name': 'model-20181022120143', 'job_error': ''}\n",
      "{'status': 'Running', 'starttime': '2018-10-22T12:12:29.206538', 'endtime': None, 'percent_complete': 40, 'job_type': 'UpdateModel', 'loss': 0.10808754317526124, 'generations': 5, 'dataset_names': ['wind_turbine.csv'], 'artifact_names': None, 'model_name': 'model-20181022120143', 'job_error': ''}\n",
      "{'status': 'Running', 'starttime': '2018-10-22T12:12:29.206538', 'endtime': None, 'percent_complete': 60, 'job_type': 'UpdateModel', 'loss': 0.10808754317526124, 'generations': 6, 'dataset_names': ['wind_turbine.csv'], 'artifact_names': None, 'model_name': 'model-20181022120143', 'job_error': ''}\n",
      "{'status': 'Running', 'starttime': '2018-10-22T12:12:29.206538', 'endtime': None, 'percent_complete': 60, 'job_type': 'UpdateModel', 'loss': 0.10808754317526124, 'generations': 6, 'dataset_names': ['wind_turbine.csv'], 'artifact_names': None, 'model_name': 'model-20181022120143', 'job_error': ''}\n",
      "{'status': 'Running', 'starttime': '2018-10-22T12:12:29.206538', 'endtime': None, 'percent_complete': 60, 'job_type': 'UpdateModel', 'loss': 0.10808754317526124, 'generations': 6, 'dataset_names': ['wind_turbine.csv'], 'artifact_names': None, 'model_name': 'model-20181022120143', 'job_error': ''}\n",
      "{'status': 'Running', 'starttime': '2018-10-22T12:12:29.206538', 'endtime': None, 'percent_complete': 60, 'job_type': 'UpdateModel', 'loss': 0.10808754317526124, 'generations': 6, 'dataset_names': ['wind_turbine.csv'], 'artifact_names': None, 'model_name': 'model-20181022120143', 'job_error': ''}\n",
      "{'status': 'Running', 'starttime': '2018-10-22T12:12:29.206538', 'endtime': None, 'percent_complete': 60, 'job_type': 'UpdateModel', 'loss': 0.10808754317526124, 'generations': 6, 'dataset_names': ['wind_turbine.csv'], 'artifact_names': None, 'model_name': 'model-20181022120143', 'job_error': ''}\n",
      "{'status': 'Running', 'starttime': '2018-10-22T12:12:29.206538', 'endtime': None, 'percent_complete': 60, 'job_type': 'UpdateModel', 'loss': 0.10808754317526124, 'generations': 6, 'dataset_names': ['wind_turbine.csv'], 'artifact_names': None, 'model_name': 'model-20181022120143', 'job_error': ''}\n",
      "{'status': 'Complete', 'starttime': '2018-10-22T12:12:29.206538', 'endtime': '2018-10-22T12:22:56.92391', 'percent_complete': 100, 'job_type': 'UpdateModel', 'loss': 0.10808754317526124, 'generations': 6, 'dataset_names': ['wind_turbine.csv'], 'artifact_names': None, 'model_name': 'model-20181022120143', 'job_error': ''}\n"
     ]
    }
   ],
   "source": [
    "# Train some more\n",
    "status, job_id = ds.resume_training_model(dataset_names = TRAIN_DATASET,\n",
    "                                          model_name = model,\n",
    "                                          max_train_time = '00:10')\n",
    "                                          \n",
    "if status:\n",
    "    ds.wait_for_job(job_id['job_name'],time_limit=720)\n",
    "else:\n",
    "    print(job_id)"
   ]
  },
  {
   "cell_type": "markdown",
   "metadata": {},
   "source": [
    "## Analyze Model\n",
    "Analyze model provides feature importance ranked by the model. <br> It indicates a general view of which features pose a bigger impact on the model"
   ]
  },
  {
   "cell_type": "code",
   "execution_count": 20,
   "metadata": {
    "scrolled": true
   },
   "outputs": [
    {
     "name": "stdout",
     "output_type": "stream",
     "text": [
      "{'status': 'Running', 'starttime': '2018-10-22T12:23:04.742319', 'endtime': None, 'percent_complete': 0, 'job_type': 'AnalyzeModel', 'loss': 0.10808754317526124, 'generations': 6, 'dataset_names': None, 'artifact_names': ['Darwin_analyze_model_artifact-20181022120143'], 'model_name': 'model-20181022120143', 'job_error': ''}\n",
      "{'status': 'Running', 'starttime': '2018-10-22T12:23:04.742319', 'endtime': None, 'percent_complete': 0, 'job_type': 'AnalyzeModel', 'loss': 0.10808754317526124, 'generations': 6, 'dataset_names': None, 'artifact_names': ['Darwin_analyze_model_artifact-20181022120143'], 'model_name': 'model-20181022120143', 'job_error': ''}\n",
      "{'status': 'Complete', 'starttime': '2018-10-22T12:23:04.742319', 'endtime': '2018-10-22T12:23:30.972207', 'percent_complete': 100, 'job_type': 'AnalyzeModel', 'loss': 0.10808754317526124, 'generations': 6, 'dataset_names': None, 'artifact_names': ['Darwin_analyze_model_artifact-20181022120143'], 'model_name': 'model-20181022120143', 'job_error': ''}\n"
     ]
    }
   ],
   "source": [
    "# Retrieve feature importance of built model\n",
    "status, artifact = ds.analyze_model(model)\n",
    "status, analyze_id = ds.analyze_model(job_id['model_name'], \n",
    "                                      job_name='Darwin_analyze_model_job-' + ts, \n",
    "                                      artifact_name='Darwin_analyze_model_artifact-' + ts)\n",
    "sleep(1)\n",
    "if status:\n",
    "    ds.wait_for_job(analyze_id['job_name'])\n",
    "else:\n",
    "    print(analyze_id)\n",
    "status, feature_importance = ds.download_artifact(analyze_id['artifact_name'])"
   ]
  },
  {
   "cell_type": "code",
   "execution_count": 21,
   "metadata": {},
   "outputs": [],
   "source": [
    "status, feature_importance = ds.download_artifact(analyze_id['artifact_name'])"
   ]
  },
  {
   "cell_type": "code",
   "execution_count": 22,
   "metadata": {},
   "outputs": [
    {
     "data": {
      "text/plain": [
       "hydro_temp          0.095652\n",
       "yaw_direction       0.084058\n",
       "gbx_bearing_temp    0.078261\n",
       "gbx_oil_temp        0.073913\n",
       "ctrl_hub_temp       0.057971\n",
       "spinner_temp        0.049275\n",
       "blade_angle         0.044928\n",
       "ambient_temp        0.042029\n",
       "power               0.034783\n",
       "pex                 0.033333\n",
       "dtype: float64"
      ]
     },
     "execution_count": 22,
     "metadata": {},
     "output_type": "execute_result"
    }
   ],
   "source": [
    "feature_importance[:10]"
   ]
  },
  {
   "cell_type": "markdown",
   "metadata": {},
   "source": [
    "## Predictions\n",
    "**Perform model prediction on the the training dataset.**"
   ]
  },
  {
   "cell_type": "code",
   "execution_count": 23,
   "metadata": {
    "scrolled": true
   },
   "outputs": [
    {
     "name": "stdout",
     "output_type": "stream",
     "text": [
      "{'status': 'Running', 'starttime': '2018-10-22T12:23:37.456599', 'endtime': None, 'percent_complete': 0, 'job_type': 'RunModel', 'loss': 0.10808754317526124, 'generations': 6, 'dataset_names': ['wind_turbine.csv'], 'artifact_names': ['7bfc3d92943d42498e42fb5892ad21b8'], 'model_name': 'model-20181022120143', 'job_error': ''}\n",
      "{'status': 'Running', 'starttime': '2018-10-22T12:23:37.456599', 'endtime': None, 'percent_complete': 0, 'job_type': 'RunModel', 'loss': 0.10808754317526124, 'generations': 6, 'dataset_names': ['wind_turbine.csv'], 'artifact_names': ['7bfc3d92943d42498e42fb5892ad21b8'], 'model_name': 'model-20181022120143', 'job_error': ''}\n",
      "{'status': 'Complete', 'starttime': '2018-10-22T12:23:37.456599', 'endtime': '2018-10-22T12:23:55.300994', 'percent_complete': 100, 'job_type': 'RunModel', 'loss': 0.10808754317526124, 'generations': 6, 'dataset_names': ['wind_turbine.csv'], 'artifact_names': ['7bfc3d92943d42498e42fb5892ad21b8'], 'model_name': 'model-20181022120143', 'job_error': ''}\n"
     ]
    },
    {
     "data": {
      "text/plain": [
       "(True, 'Job completed')"
      ]
     },
     "execution_count": 23,
     "metadata": {},
     "output_type": "execute_result"
    }
   ],
   "source": [
    "status, artifact = ds.run_model(TRAIN_DATASET, model)\n",
    "sleep(1)\n",
    "ds.wait_for_job(artifact['job_name'])"
   ]
  },
  {
   "cell_type": "markdown",
   "metadata": {},
   "source": [
    "**Download predictions from Darwin's server.**"
   ]
  },
  {
   "cell_type": "code",
   "execution_count": 24,
   "metadata": {
    "scrolled": true
   },
   "outputs": [],
   "source": [
    "status, prediction = ds.download_artifact(artifact['artifact_name'])"
   ]
  },
  {
   "cell_type": "markdown",
   "metadata": {},
   "source": [
    "Create plots showing the risk index prediction of the model"
   ]
  },
  {
   "cell_type": "code",
   "execution_count": 25,
   "metadata": {
    "scrolled": true
   },
   "outputs": [
    {
     "data": {
      "text/plain": [
       "<matplotlib.axes._subplots.AxesSubplot at 0x11a66f588>"
      ]
     },
     "execution_count": 25,
     "metadata": {},
     "output_type": "execute_result"
    },
    {
     "data": {
      "image/png": "[encoded data removed]",
      "text/plain": [
       "<Figure size 432x288 with 1 Axes>"
      ]
     },
     "metadata": {
      "needs_background": "light"
     },
     "output_type": "display_data"
    }
   ],
   "source": [
    "#Plot the risk predictions\n",
    "prediction.set_index(pd.to_datetime(df['timestamp']), inplace=True)\n",
    "prediction.plot()"
   ]
  },
  {
   "cell_type": "markdown",
   "metadata": {},
   "source": [
    "## Find out which machine learning model did Darwin use:"
   ]
  },
  {
   "cell_type": "code",
   "execution_count": 26,
   "metadata": {},
   "outputs": [
    {
     "name": "stdout",
     "output_type": "stream",
     "text": [
      "AutoEncoderNet(\n",
      "  (encoder): layer 1: Linear(in_features=45, out_features=11, bias=True, dropout=0.50, activation=relu)\n",
      "  layer 2: Linear(in_features=11, out_features=45, bias=True, dropout=0.50, activation=identity)\n",
      ")\n"
     ]
    }
   ],
   "source": [
    "status, model_type = ds.lookup_model_name(model)\n",
    "print(model_type['description']['best_genome'])"
   ]
  },
  {
   "cell_type": "code",
   "execution_count": null,
   "metadata": {},
   "outputs": [],
   "source": []
  }
 ],
 "metadata": {
  "anaconda-cloud": {},
  "kernelspec": {
   "display_name": "Python [default]",
   "language": "python",
   "name": "python3"
  },
  "language_info": {
   "codemirror_mode": {
    "name": "ipython",
    "version": 3
   },
   "file_extension": ".py",
   "mimetype": "text/x-python",
   "name": "python",
   "nbconvert_exporter": "python",
   "pygments_lexer": "ipython3",
   "version": "3.6.6"
  }
 },
 "nbformat": 4,
 "nbformat_minor": 2
}
