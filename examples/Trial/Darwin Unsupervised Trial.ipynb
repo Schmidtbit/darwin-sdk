{
 "cells": [
  {
   "cell_type": "markdown",
   "metadata": {},
   "source": [
    "<img src=\"https://cybersecurity-excellence-awards.com/wp-content/uploads/2017/06/366812.png\">"
   ]
  },
  {
   "cell_type": "markdown",
   "metadata": {},
   "source": [
    "\n",
    "<h1><center>Darwin Unsupervised Model Building </center></h1>\n"
   ]
  },
  {
   "cell_type": "markdown",
   "metadata": {},
   "source": [
    "Prior to getting started, there are a few things you want to do:\n",
    "1. Enter your username and password to ensure that you're able to log in successfully\n",
    "2. Set the path to your dataset. If left unfilled, you will be testing an example dataset on the server. \n",
    "3. Set the dataset path for feature importance\n",
    "  - For global feature importance, the dataset path remains the same as your original dataset\n",
    "  - For individual row's feature importance, you need to specify a path to a dataset that contains no more than 500       rows.\n",
    "\n",
    "Once you're up and running, here are a few things to be mindful of:\n",
    "1. For every run, check the job status (i.e. requested, failed, running, completed) and wait for job to complete before proceeding. \n",
    "2. If you're not satisfied with your model and think that Darwin can benefit from extra training, use the resume function."
   ]
  },
  {
   "cell_type": "markdown",
   "metadata": {},
   "source": [
    "## Import libraries"
   ]
  },
  {
   "cell_type": "code",
   "execution_count": 39,
   "metadata": {},
   "outputs": [],
   "source": [
    "import warnings\n",
    "warnings.filterwarnings(\"ignore\", message=\"numpy.dtype size changed\")\n",
    "%matplotlib inline\n",
    "import matplotlib.pyplot as plt\n",
    "import pandas as pd\n",
    "from IPython.display import Image\n",
    "from time import sleep\n",
    "import os\n",
    "\n",
    "from amb_sdk.sdk import DarwinSdk\n",
    "\n",
    "# A timestamp is used to create a unique name in the event you execute the workflow multiple times or with \n",
    "# different datasets.  File names must be unique in Darwin.\n",
    "import datetime\n",
    "ts = '{:%Y%m%d%H%M%S}'.format(datetime.datetime.now())"
   ]
  },
  {
   "cell_type": "markdown",
   "metadata": {},
   "source": [
    "## Setup\n",
    "In the cell below, you need to set up the following variables:\n",
    " - path: the designated path to your dataset, default to be an example dataset \"pulsar.csv\" which you should be able to find in the Darwin SDK /sets folder\n",
    " - user, password: your credentials to log in the next time you use Darwin SDK. These should be inside of your trial email."
   ]
  },
  {
   "cell_type": "code",
   "execution_count": 40,
   "metadata": {},
   "outputs": [
    {
     "data": {
      "text/html": [
       "<div>\n",
       "<style scoped>\n",
       "    .dataframe tbody tr th:only-of-type {\n",
       "        vertical-align: middle;\n",
       "    }\n",
       "\n",
       "    .dataframe tbody tr th {\n",
       "        vertical-align: top;\n",
       "    }\n",
       "\n",
       "    .dataframe thead th {\n",
       "        text-align: right;\n",
       "    }\n",
       "</style>\n",
       "<table border=\"1\" class=\"dataframe\">\n",
       "  <thead>\n",
       "    <tr style=\"text-align: right;\">\n",
       "      <th></th>\n",
       "      <th>mean_profile</th>\n",
       "      <th>std_profile</th>\n",
       "      <th>kurt_profile</th>\n",
       "      <th>skew_profile</th>\n",
       "      <th>mean_dmsnr</th>\n",
       "      <th>std_dmsnr</th>\n",
       "      <th>kurt_dmsnr</th>\n",
       "      <th>skew_dmsnr</th>\n",
       "      <th>class</th>\n",
       "    </tr>\n",
       "  </thead>\n",
       "  <tbody>\n",
       "    <tr>\n",
       "      <th>0</th>\n",
       "      <td>111.093750</td>\n",
       "      <td>47.341089</td>\n",
       "      <td>0.435469</td>\n",
       "      <td>0.471339</td>\n",
       "      <td>2.386288</td>\n",
       "      <td>15.867173</td>\n",
       "      <td>9.327098</td>\n",
       "      <td>103.545876</td>\n",
       "      <td>0</td>\n",
       "    </tr>\n",
       "    <tr>\n",
       "      <th>1</th>\n",
       "      <td>105.000000</td>\n",
       "      <td>49.203341</td>\n",
       "      <td>0.563215</td>\n",
       "      <td>0.382150</td>\n",
       "      <td>1.601171</td>\n",
       "      <td>14.657767</td>\n",
       "      <td>11.381829</td>\n",
       "      <td>148.334350</td>\n",
       "      <td>0</td>\n",
       "    </tr>\n",
       "    <tr>\n",
       "      <th>2</th>\n",
       "      <td>115.304688</td>\n",
       "      <td>43.653207</td>\n",
       "      <td>0.448319</td>\n",
       "      <td>0.614359</td>\n",
       "      <td>3.158027</td>\n",
       "      <td>21.378754</td>\n",
       "      <td>8.347430</td>\n",
       "      <td>76.310271</td>\n",
       "      <td>0</td>\n",
       "    </tr>\n",
       "    <tr>\n",
       "      <th>3</th>\n",
       "      <td>108.554688</td>\n",
       "      <td>52.559016</td>\n",
       "      <td>0.138068</td>\n",
       "      <td>-0.442340</td>\n",
       "      <td>1.787625</td>\n",
       "      <td>12.108555</td>\n",
       "      <td>11.262459</td>\n",
       "      <td>180.074252</td>\n",
       "      <td>0</td>\n",
       "    </tr>\n",
       "    <tr>\n",
       "      <th>4</th>\n",
       "      <td>136.429688</td>\n",
       "      <td>49.552164</td>\n",
       "      <td>-0.180418</td>\n",
       "      <td>0.370338</td>\n",
       "      <td>9.066054</td>\n",
       "      <td>37.284742</td>\n",
       "      <td>4.270014</td>\n",
       "      <td>17.700441</td>\n",
       "      <td>0</td>\n",
       "    </tr>\n",
       "  </tbody>\n",
       "</table>\n",
       "</div>"
      ],
      "text/plain": [
       "   mean_profile  std_profile  kurt_profile  skew_profile  mean_dmsnr  \\\n",
       "0    111.093750    47.341089      0.435469      0.471339    2.386288   \n",
       "1    105.000000    49.203341      0.563215      0.382150    1.601171   \n",
       "2    115.304688    43.653207      0.448319      0.614359    3.158027   \n",
       "3    108.554688    52.559016      0.138068     -0.442340    1.787625   \n",
       "4    136.429688    49.552164     -0.180418      0.370338    9.066054   \n",
       "\n",
       "   std_dmsnr  kurt_dmsnr  skew_dmsnr  class  \n",
       "0  15.867173    9.327098  103.545876      0  \n",
       "1  14.657767   11.381829  148.334350      0  \n",
       "2  21.378754    8.347430   76.310271      0  \n",
       "3  12.108555   11.262459  180.074252      0  \n",
       "4  37.284742    4.270014   17.700441      0  "
      ]
     },
     "execution_count": 40,
     "metadata": {},
     "output_type": "execute_result"
    }
   ],
   "source": [
    "# set local data path to files\n",
    "path = '../../sets/'\n",
    "\n",
    "# View data snippet\n",
    "df = pd.read_csv(os.path.join(path, 'pulsars.csv'))\n",
    "df.head()"
   ]
  },
  {
   "cell_type": "markdown",
   "metadata": {},
   "source": [
    "Log in with the username and password that were attached to your trial email"
   ]
  },
  {
   "cell_type": "code",
   "execution_count": 41,
   "metadata": {},
   "outputs": [
    {
     "name": "stdout",
     "output_type": "stream",
     "text": [
      "You are now logged in!\n"
     ]
    }
   ],
   "source": [
    "ds = DarwinSdk()\n",
    "ds.set_url('https://amb-trial-api.sparkcognition.com/v1/')\n",
    "\n",
    "status, msg = ds.auth_login_user('username','password')\n",
    "\n",
    "if not status:\n",
    "    print(msg)\n",
    "else:\n",
    "    print(\"You are now logged in!\")"
   ]
  },
  {
   "cell_type": "markdown",
   "metadata": {},
   "source": [
    "## Upload Data\n",
    "After setting up the dataset path, the next step is to upload the dataset from your local device to the server. In the cell below, you need to specify the dataset_name."
   ]
  },
  {
   "cell_type": "code",
   "execution_count": 42,
   "metadata": {},
   "outputs": [
    {
     "name": "stdout",
     "output_type": "stream",
     "text": [
      "Data uploaded successfully\n"
     ]
    }
   ],
   "source": [
    "# Upload dataset\n",
    "ds.delete_all_models()\n",
    "ds.delete_all_datasets()\n",
    "dataset_name = 'pulsars'\n",
    "status, dataset = ds.upload_dataset(os.path.join(path, 'pulsars.csv'), dataset_name)\n",
    "if not status:\n",
    "    print(dataset)\n",
    "else:\n",
    "    print(\"Data uploaded successfully\")"
   ]
  },
  {
   "cell_type": "markdown",
   "metadata": {},
   "source": [
    "## Create and Train Model "
   ]
  },
  {
   "cell_type": "markdown",
   "metadata": {},
   "source": [
    "To build unsupervised models, which cluster data and perform anomaly detection, Darwin goes through the following steps:\n",
    "1. Determines an approximate number of clusters to start with using a single pass with a hierarchical method\n",
    "2. Iterates on subsets of the data using a Spectral-Net algorithm to determine the ideal number of clusters\n",
    "3. Proceeds to cluster the data using a Spectral-Net approach\n",
    "\n",
    "In the cell below, specify the parameters used to create the model:\n",
    "- model: the name of your model\n",
    "- max_epochs: the number of epochs to train the model, one epoch indicates one scan of the entire dataset\n",
    "- n_clusters: the number of clusters, either an integer or 'auto', if left with 'auto', the unsupervised algorithm will compute a number for you"
   ]
  },
  {
   "cell_type": "code",
   "execution_count": 43,
   "metadata": {
    "scrolled": false
   },
   "outputs": [
    {
     "name": "stdout",
     "output_type": "stream",
     "text": [
      "model-20181022132213\n",
      "{'status': 'Running', 'starttime': '2018-10-22T13:22:16.022224', 'endtime': None, 'percent_complete': 0, 'job_type': 'TrainModel', 'loss': None, 'generations': 0, 'dataset_names': ['pulsars'], 'artifact_names': None, 'model_name': 'model-20181022132213', 'job_error': ''}\n",
      "{'status': 'Running', 'starttime': '2018-10-22T13:22:16.022224', 'endtime': None, 'percent_complete': 0, 'job_type': 'TrainModel', 'loss': None, 'generations': 0, 'dataset_names': ['pulsars'], 'artifact_names': None, 'model_name': 'model-20181022132213', 'job_error': ''}\n",
      "{'status': 'Running', 'starttime': '2018-10-22T13:22:16.022224', 'endtime': None, 'percent_complete': 0, 'job_type': 'TrainModel', 'loss': None, 'generations': 0, 'dataset_names': ['pulsars'], 'artifact_names': None, 'model_name': 'model-20181022132213', 'job_error': ''}\n",
      "{'status': 'Running', 'starttime': '2018-10-22T13:22:16.022224', 'endtime': None, 'percent_complete': 0, 'job_type': 'TrainModel', 'loss': None, 'generations': 0, 'dataset_names': ['pulsars'], 'artifact_names': None, 'model_name': 'model-20181022132213', 'job_error': ''}\n",
      "{'status': 'Complete', 'starttime': '2018-10-22T13:22:16.022224', 'endtime': '2018-10-22T13:23:11.223161', 'percent_complete': 100, 'job_type': 'TrainModel', 'loss': None, 'generations': 0, 'dataset_names': ['pulsars'], 'artifact_names': None, 'model_name': 'model-20181022132213', 'job_error': ''}\n"
     ]
    }
   ],
   "source": [
    "# Build model\n",
    "model = \"model-\" + ts\n",
    "\n",
    "max_epochs = 20\n",
    "n_clusters = 2\n",
    "status, job_id = ds.create_model(dataset_names=dataset_name,\n",
    "                                 model_name=model,\n",
    "                                 max_epochs=max_epochs,\n",
    "                                 n_clusters=n_clusters)\n",
    "sleep(1)\n",
    "if status:\n",
    "    ds.wait_for_job(job_id['job_name'])\n",
    "else:\n",
    "    print(job_id)"
   ]
  },
  {
   "cell_type": "code",
   "execution_count": 44,
   "metadata": {},
   "outputs": [
    {
     "data": {
      "text/plain": [
       "(True,\n",
       " {'status': 'Complete',\n",
       "  'starttime': '2018-10-22T13:22:16.022224',\n",
       "  'endtime': '2018-10-22T13:23:11.223161',\n",
       "  'percent_complete': 100,\n",
       "  'job_type': 'TrainModel',\n",
       "  'loss': None,\n",
       "  'generations': 0,\n",
       "  'dataset_names': ['pulsars'],\n",
       "  'artifact_names': None,\n",
       "  'model_name': 'model-20181022132213',\n",
       "  'job_error': ''})"
      ]
     },
     "execution_count": 44,
     "metadata": {},
     "output_type": "execute_result"
    }
   ],
   "source": [
    "# look up job status\n",
    "ds.lookup_job_status_name(job_id['job_name'])"
   ]
  },
  {
   "cell_type": "code",
   "execution_count": 45,
   "metadata": {},
   "outputs": [
    {
     "data": {
      "text/plain": [
       "(True,\n",
       " {'type': 'Unsupervised',\n",
       "  'updated_at': '2018-10-22T13:23:11.215241',\n",
       "  'trained_on': ['pulsars'],\n",
       "  'loss': None,\n",
       "  'generations': 0,\n",
       "  'parameters': {'n_clusters': 2, 'max_generation': 20},\n",
       "  'description': {'model': \"UnsupervisedModel(anomaly_prior=0.05, auto_save_per=10, clustering=True,\\n         clustermethod='GaussianMixture', impute='ffill',\\n         max_generation=20, max_time=600,\\n         model_file='models/8f7a8372-52e1-11e8-b5c4-b3789b6189ff_model-20181022132213',\\n         n_clusters=2, recurrent=False, verbose=2)\"},\n",
       "  'train_time_seconds': 55,\n",
       "  'algorithm': 'NA',\n",
       "  'running_job_id': '6751073a-d627-11e8-b232-c75d47fe44df'})"
      ]
     },
     "execution_count": 45,
     "metadata": {},
     "output_type": "execute_result"
    }
   ],
   "source": [
    "# look up the model\n",
    "ds.lookup_model_name(job_id['model_name'])"
   ]
  },
  {
   "cell_type": "markdown",
   "metadata": {},
   "source": [
    "## Extra Training (Optional)\n",
    "Run the following cell for extra training, no need to specify parameters"
   ]
  },
  {
   "cell_type": "code",
   "execution_count": 46,
   "metadata": {},
   "outputs": [
    {
     "name": "stdout",
     "output_type": "stream",
     "text": [
      "{'status': 'Running', 'starttime': '2018-10-22T13:23:18.590892', 'endtime': None, 'percent_complete': 0, 'job_type': 'UpdateModel', 'loss': None, 'generations': 0, 'dataset_names': ['pulsars'], 'artifact_names': None, 'model_name': 'model-20181022132213', 'job_error': ''}\n",
      "{'status': 'Complete', 'starttime': '2018-10-22T13:23:18.590892', 'endtime': '2018-10-22T13:23:33.712502', 'percent_complete': 100, 'job_type': 'UpdateModel', 'loss': None, 'generations': 0, 'dataset_names': ['pulsars'], 'artifact_names': None, 'model_name': 'model-20181022132213', 'job_error': ''}\n"
     ]
    }
   ],
   "source": [
    "# Train some more\n",
    "extra_epochs = 10\n",
    "status, job_id = ds.resume_training_model(dataset_names=dataset_name,\n",
    "                                          model_name=model,\n",
    "                                          max_epochs=extra_epochs,\n",
    "                                          n_clusters=n_clusters)\n",
    "sleep(1)\n",
    "if status:\n",
    "    ds.wait_for_job(job_id['job_name'])\n",
    "else:\n",
    "    print(job_id)"
   ]
  },
  {
   "cell_type": "markdown",
   "metadata": {},
   "source": [
    "## Predict\n",
    "Run the following cell for prediction"
   ]
  },
  {
   "cell_type": "code",
   "execution_count": 47,
   "metadata": {},
   "outputs": [
    {
     "name": "stdout",
     "output_type": "stream",
     "text": [
      "{'status': 'Running', 'starttime': '2018-10-22T13:23:35.806026', 'endtime': None, 'percent_complete': 0, 'job_type': 'RunModel', 'loss': None, 'generations': 0, 'dataset_names': ['pulsars'], 'artifact_names': ['416377c1b0d74ec4bd5f815ad8513c7b'], 'model_name': 'model-20181022132213', 'job_error': ''}\n",
      "{'status': 'Complete', 'starttime': '2018-10-22T13:23:35.806026', 'endtime': '2018-10-22T13:23:39.337109', 'percent_complete': 100, 'job_type': 'RunModel', 'loss': None, 'generations': 0, 'dataset_names': ['pulsars'], 'artifact_names': ['416377c1b0d74ec4bd5f815ad8513c7b'], 'model_name': 'model-20181022132213', 'job_error': ''}\n"
     ]
    },
    {
     "data": {
      "text/plain": [
       "(True, 'Job completed')"
      ]
     },
     "execution_count": 47,
     "metadata": {},
     "output_type": "execute_result"
    }
   ],
   "source": [
    "# Test model\n",
    "status, artifact = ds.run_model(dataset_name, \n",
    "                                model, \n",
    "                                supervised=False)\n",
    "sleep(1)\n",
    "ds.wait_for_job(artifact['job_name'])"
   ]
  },
  {
   "cell_type": "code",
   "execution_count": 48,
   "metadata": {},
   "outputs": [],
   "source": [
    "# Get predictions\n",
    "status, pred_file = ds.download_artifact(artifact['artifact_name'])"
   ]
  },
  {
   "cell_type": "code",
   "execution_count": 49,
   "metadata": {},
   "outputs": [
    {
     "data": {
      "text/html": [
       "<div>\n",
       "<style scoped>\n",
       "    .dataframe tbody tr th:only-of-type {\n",
       "        vertical-align: middle;\n",
       "    }\n",
       "\n",
       "    .dataframe tbody tr th {\n",
       "        vertical-align: top;\n",
       "    }\n",
       "\n",
       "    .dataframe thead th {\n",
       "        text-align: right;\n",
       "    }\n",
       "</style>\n",
       "<table border=\"1\" class=\"dataframe\">\n",
       "  <thead>\n",
       "    <tr style=\"text-align: right;\">\n",
       "      <th></th>\n",
       "      <th>anomaly</th>\n",
       "      <th>predict_proba</th>\n",
       "      <th>prediction</th>\n",
       "    </tr>\n",
       "  </thead>\n",
       "  <tbody>\n",
       "    <tr>\n",
       "      <th>0</th>\n",
       "      <td>-9.613625</td>\n",
       "      <td>[0.921194873115461, 0.07880512688453897]</td>\n",
       "      <td>0</td>\n",
       "    </tr>\n",
       "    <tr>\n",
       "      <th>1</th>\n",
       "      <td>-9.613625</td>\n",
       "      <td>[0.9160670047272838, 0.08393299527271617]</td>\n",
       "      <td>0</td>\n",
       "    </tr>\n",
       "    <tr>\n",
       "      <th>2</th>\n",
       "      <td>-9.613625</td>\n",
       "      <td>[0.8731624947460095, 0.1268375052539906]</td>\n",
       "      <td>0</td>\n",
       "    </tr>\n",
       "    <tr>\n",
       "      <th>3</th>\n",
       "      <td>-9.613625</td>\n",
       "      <td>[0.909575160047408, 0.09042483995259198]</td>\n",
       "      <td>0</td>\n",
       "    </tr>\n",
       "    <tr>\n",
       "      <th>4</th>\n",
       "      <td>-9.613625</td>\n",
       "      <td>[0.8996014254411605, 0.10039857455883959]</td>\n",
       "      <td>0</td>\n",
       "    </tr>\n",
       "  </tbody>\n",
       "</table>\n",
       "</div>"
      ],
      "text/plain": [
       "    anomaly                              predict_proba  prediction\n",
       "0 -9.613625   [0.921194873115461, 0.07880512688453897]           0\n",
       "1 -9.613625  [0.9160670047272838, 0.08393299527271617]           0\n",
       "2 -9.613625   [0.8731624947460095, 0.1268375052539906]           0\n",
       "3 -9.613625   [0.909575160047408, 0.09042483995259198]           0\n",
       "4 -9.613625  [0.8996014254411605, 0.10039857455883959]           0"
      ]
     },
     "execution_count": 49,
     "metadata": {},
     "output_type": "execute_result"
    }
   ],
   "source": [
    "# View prediction\n",
    "df = pd.read_csv(pred_file['filename'])\n",
    "df.head()"
   ]
  },
  {
   "cell_type": "markdown",
   "metadata": {},
   "source": [
    "## Analyze Data"
   ]
  },
  {
   "cell_type": "code",
   "execution_count": 50,
   "metadata": {},
   "outputs": [
    {
     "name": "stdout",
     "output_type": "stream",
     "text": [
      "{'status': 'Running', 'starttime': '2018-10-22T13:23:52.59637', 'endtime': None, 'percent_complete': 0, 'job_type': 'AnalyzeData', 'loss': None, 'generations': None, 'dataset_names': ['pulsars'], 'artifact_names': ['Darwin_analyze_data_artifact-20181022132213'], 'model_name': None, 'job_error': None}\n",
      "{'status': 'Running', 'starttime': '2018-10-22T13:23:52.59637', 'endtime': None, 'percent_complete': 0, 'job_type': 'AnalyzeData', 'loss': None, 'generations': None, 'dataset_names': ['pulsars'], 'artifact_names': ['Darwin_analyze_data_artifact-20181022132213'], 'model_name': None, 'job_error': None}\n",
      "{'status': 'Running', 'starttime': '2018-10-22T13:23:52.59637', 'endtime': None, 'percent_complete': 10, 'job_type': 'AnalyzeData', 'loss': None, 'generations': None, 'dataset_names': ['pulsars'], 'artifact_names': ['Darwin_analyze_data_artifact-20181022132213'], 'model_name': None, 'job_error': None}\n",
      "{'status': 'Running', 'starttime': '2018-10-22T13:23:52.59637', 'endtime': None, 'percent_complete': 10, 'job_type': 'AnalyzeData', 'loss': None, 'generations': None, 'dataset_names': ['pulsars'], 'artifact_names': ['Darwin_analyze_data_artifact-20181022132213'], 'model_name': None, 'job_error': None}\n",
      "{'status': 'Running', 'starttime': '2018-10-22T13:23:52.59637', 'endtime': None, 'percent_complete': 10, 'job_type': 'AnalyzeData', 'loss': None, 'generations': None, 'dataset_names': ['pulsars'], 'artifact_names': ['Darwin_analyze_data_artifact-20181022132213'], 'model_name': None, 'job_error': None}\n",
      "{'status': 'Complete', 'starttime': '2018-10-22T13:23:52.59637', 'endtime': '2018-10-22T13:24:55.971', 'percent_complete': 100, 'job_type': 'AnalyzeData', 'loss': None, 'generations': None, 'dataset_names': ['pulsars'], 'artifact_names': ['Darwin_analyze_data_artifact-20181022132213'], 'model_name': None, 'job_error': None}\n"
     ]
    }
   ],
   "source": [
    "status, analyze_id = ds.analyze_data(dataset_name, \n",
    "                                     job_name = 'Darwin_analyze_data_job-' + ts, \n",
    "                                     artifact_name = 'Darwin_analyze_data_artifact-' + ts)\n",
    "sleep(1)\n",
    "if status:\n",
    "    ds.wait_for_job('Darwin_analyze_data_job-' + ts)\n",
    "else:\n",
    "    print(analyze_id)"
   ]
  },
  {
   "cell_type": "code",
   "execution_count": 51,
   "metadata": {},
   "outputs": [
    {
     "data": {
      "text/plain": [
       "(True,\n",
       " {'status': 'Complete',\n",
       "  'starttime': '2018-10-22T13:23:52.59637',\n",
       "  'endtime': '2018-10-22T13:24:55.971',\n",
       "  'percent_complete': 100,\n",
       "  'job_type': 'AnalyzeData',\n",
       "  'loss': None,\n",
       "  'generations': None,\n",
       "  'dataset_names': ['pulsars'],\n",
       "  'artifact_names': ['Darwin_analyze_data_artifact-20181022132213'],\n",
       "  'model_name': None,\n",
       "  'job_error': None})"
      ]
     },
     "execution_count": 51,
     "metadata": {},
     "output_type": "execute_result"
    }
   ],
   "source": [
    "ds.lookup_job_status_name('Darwin_analyze_data_job-' + ts)"
   ]
  },
  {
   "cell_type": "code",
   "execution_count": 52,
   "metadata": {},
   "outputs": [
    {
     "data": {
      "text/html": [
       "<div>\n",
       "<style scoped>\n",
       "    .dataframe tbody tr th:only-of-type {\n",
       "        vertical-align: middle;\n",
       "    }\n",
       "\n",
       "    .dataframe tbody tr th {\n",
       "        vertical-align: top;\n",
       "    }\n",
       "\n",
       "    .dataframe thead th {\n",
       "        text-align: right;\n",
       "    }\n",
       "</style>\n",
       "<table border=\"1\" class=\"dataframe\">\n",
       "  <thead>\n",
       "    <tr style=\"text-align: right;\">\n",
       "      <th></th>\n",
       "      <th>col_name</th>\n",
       "      <th>num_uniques</th>\n",
       "      <th>mean</th>\n",
       "      <th>stddev</th>\n",
       "      <th>min</th>\n",
       "      <th>max</th>\n",
       "      <th>col_type</th>\n",
       "      <th>uniques</th>\n",
       "      <th>missing</th>\n",
       "      <th>num_with_str_outlier</th>\n",
       "      <th>drop</th>\n",
       "      <th>is_cat</th>\n",
       "      <th>scalable</th>\n",
       "    </tr>\n",
       "  </thead>\n",
       "  <tbody>\n",
       "    <tr>\n",
       "      <th>0</th>\n",
       "      <td>mean_profile</td>\n",
       "      <td>4131</td>\n",
       "      <td>95.38687284436301</td>\n",
       "      <td>36.45879164320172</td>\n",
       "      <td>5.8125</td>\n",
       "      <td>180.21875</td>\n",
       "      <td>DoubleType</td>\n",
       "      <td>None</td>\n",
       "      <td>0.0</td>\n",
       "      <td>False</td>\n",
       "      <td>false</td>\n",
       "      <td>False</td>\n",
       "      <td>True</td>\n",
       "    </tr>\n",
       "    <tr>\n",
       "      <th>1</th>\n",
       "      <td>std_profile</td>\n",
       "      <td>4643</td>\n",
       "      <td>44.398439995345974</td>\n",
       "      <td>8.03584733035067</td>\n",
       "      <td>24.77204176</td>\n",
       "      <td>91.8086279</td>\n",
       "      <td>DoubleType</td>\n",
       "      <td>None</td>\n",
       "      <td>0.0</td>\n",
       "      <td>False</td>\n",
       "      <td>false</td>\n",
       "      <td>False</td>\n",
       "      <td>True</td>\n",
       "    </tr>\n",
       "    <tr>\n",
       "      <th>2</th>\n",
       "      <td>kurt_profile</td>\n",
       "      <td>4489</td>\n",
       "      <td>1.240831394071567</td>\n",
       "      <td>1.8062319389936874</td>\n",
       "      <td>-1.604829088</td>\n",
       "      <td>8.069522046</td>\n",
       "      <td>DoubleType</td>\n",
       "      <td>None</td>\n",
       "      <td>0.0</td>\n",
       "      <td>False</td>\n",
       "      <td>false</td>\n",
       "      <td>False</td>\n",
       "      <td>True</td>\n",
       "    </tr>\n",
       "    <tr>\n",
       "      <th>3</th>\n",
       "      <td>skew_profile</td>\n",
       "      <td>4645</td>\n",
       "      <td>5.725651713966373</td>\n",
       "      <td>11.072265713013318</td>\n",
       "      <td>-1.781888301</td>\n",
       "      <td>68.10162173</td>\n",
       "      <td>DoubleType</td>\n",
       "      <td>None</td>\n",
       "      <td>0.0</td>\n",
       "      <td>False</td>\n",
       "      <td>false</td>\n",
       "      <td>False</td>\n",
       "      <td>True</td>\n",
       "    </tr>\n",
       "    <tr>\n",
       "      <th>4</th>\n",
       "      <td>mean_dmsnr</td>\n",
       "      <td>3897</td>\n",
       "      <td>23.786014458090968</td>\n",
       "      <td>39.282155328520275</td>\n",
       "      <td>0.273411371</td>\n",
       "      <td>222.4214047</td>\n",
       "      <td>DoubleType</td>\n",
       "      <td>None</td>\n",
       "      <td>0.0</td>\n",
       "      <td>False</td>\n",
       "      <td>false</td>\n",
       "      <td>False</td>\n",
       "      <td>True</td>\n",
       "    </tr>\n",
       "    <tr>\n",
       "      <th>5</th>\n",
       "      <td>std_dmsnr</td>\n",
       "      <td>4580</td>\n",
       "      <td>35.27200189459302</td>\n",
       "      <td>23.989199233584703</td>\n",
       "      <td>7.565681088</td>\n",
       "      <td>110.64221059999998</td>\n",
       "      <td>DoubleType</td>\n",
       "      <td>None</td>\n",
       "      <td>0.0</td>\n",
       "      <td>False</td>\n",
       "      <td>false</td>\n",
       "      <td>False</td>\n",
       "      <td>True</td>\n",
       "    </tr>\n",
       "    <tr>\n",
       "      <th>6</th>\n",
       "      <td>kurt_dmsnr</td>\n",
       "      <td>4961</td>\n",
       "      <td>6.66097918719681</td>\n",
       "      <td>4.877371432518144</td>\n",
       "      <td>-3.1392696110000005</td>\n",
       "      <td>32.19858411</td>\n",
       "      <td>DoubleType</td>\n",
       "      <td>None</td>\n",
       "      <td>0.0</td>\n",
       "      <td>False</td>\n",
       "      <td>false</td>\n",
       "      <td>False</td>\n",
       "      <td>True</td>\n",
       "    </tr>\n",
       "    <tr>\n",
       "      <th>7</th>\n",
       "      <td>skew_dmsnr</td>\n",
       "      <td>4516</td>\n",
       "      <td>79.4015215256139</td>\n",
       "      <td>103.01049301033186</td>\n",
       "      <td>-1.976975603</td>\n",
       "      <td>1072.957979</td>\n",
       "      <td>DoubleType</td>\n",
       "      <td>None</td>\n",
       "      <td>0.0</td>\n",
       "      <td>False</td>\n",
       "      <td>false</td>\n",
       "      <td>False</td>\n",
       "      <td>True</td>\n",
       "    </tr>\n",
       "    <tr>\n",
       "      <th>8</th>\n",
       "      <td>class</td>\n",
       "      <td>2</td>\n",
       "      <td>0.3533089027807717</td>\n",
       "      <td>0.47804914494337736</td>\n",
       "      <td>0</td>\n",
       "      <td>1</td>\n",
       "      <td>IntegerType</td>\n",
       "      <td>['0', '1']</td>\n",
       "      <td>0.0</td>\n",
       "      <td>False</td>\n",
       "      <td>false</td>\n",
       "      <td>False</td>\n",
       "      <td>True</td>\n",
       "    </tr>\n",
       "  </tbody>\n",
       "</table>\n",
       "</div>"
      ],
      "text/plain": [
       "       col_name num_uniques                mean               stddev  \\\n",
       "0  mean_profile        4131   95.38687284436301    36.45879164320172   \n",
       "1   std_profile        4643  44.398439995345974     8.03584733035067   \n",
       "2  kurt_profile        4489   1.240831394071567   1.8062319389936874   \n",
       "3  skew_profile        4645   5.725651713966373   11.072265713013318   \n",
       "4    mean_dmsnr        3897  23.786014458090968   39.282155328520275   \n",
       "5     std_dmsnr        4580   35.27200189459302   23.989199233584703   \n",
       "6    kurt_dmsnr        4961    6.66097918719681    4.877371432518144   \n",
       "7    skew_dmsnr        4516    79.4015215256139   103.01049301033186   \n",
       "8         class           2  0.3533089027807717  0.47804914494337736   \n",
       "\n",
       "                   min                 max     col_type     uniques  missing  \\\n",
       "0               5.8125           180.21875   DoubleType        None      0.0   \n",
       "1          24.77204176          91.8086279   DoubleType        None      0.0   \n",
       "2         -1.604829088         8.069522046   DoubleType        None      0.0   \n",
       "3         -1.781888301         68.10162173   DoubleType        None      0.0   \n",
       "4          0.273411371         222.4214047   DoubleType        None      0.0   \n",
       "5          7.565681088  110.64221059999998   DoubleType        None      0.0   \n",
       "6  -3.1392696110000005         32.19858411   DoubleType        None      0.0   \n",
       "7         -1.976975603         1072.957979   DoubleType        None      0.0   \n",
       "8                    0                   1  IntegerType  ['0', '1']      0.0   \n",
       "\n",
       "  num_with_str_outlier   drop is_cat scalable  \n",
       "0                False  false  False     True  \n",
       "1                False  false  False     True  \n",
       "2                False  false  False     True  \n",
       "3                False  false  False     True  \n",
       "4                False  false  False     True  \n",
       "5                False  false  False     True  \n",
       "6                False  false  False     True  \n",
       "7                False  false  False     True  \n",
       "8                False  false  False     True  "
      ]
     },
     "execution_count": 52,
     "metadata": {},
     "output_type": "execute_result"
    }
   ],
   "source": [
    "status, analyze_results = ds.download_artifact('Darwin_analyze_data_artifact-' + ts)\n",
    "analyze_results"
   ]
  },
  {
   "cell_type": "markdown",
   "metadata": {},
   "source": [
    "## Analyze Model\n",
    "Analyze model provides feature importance ranked by the model. It indicates a general view of which features pose a bigger impact on the model"
   ]
  },
  {
   "cell_type": "code",
   "execution_count": 53,
   "metadata": {},
   "outputs": [
    {
     "name": "stdout",
     "output_type": "stream",
     "text": [
      "{'status': 'Running', 'starttime': '2018-10-22T13:25:10.852169', 'endtime': None, 'percent_complete': 0, 'job_type': 'AnalyzeModel', 'loss': None, 'generations': 0, 'dataset_names': None, 'artifact_names': ['Darwin_analyze_model_artifact-20181022132213'], 'model_name': 'model-20181022132213', 'job_error': ''}\n",
      "{'status': 'Complete', 'starttime': '2018-10-22T13:25:10.852169', 'endtime': '2018-10-22T13:25:15.167323', 'percent_complete': 100, 'job_type': 'AnalyzeModel', 'loss': None, 'generations': 0, 'dataset_names': None, 'artifact_names': ['Darwin_analyze_model_artifact-20181022132213'], 'model_name': 'model-20181022132213', 'job_error': ''}\n"
     ]
    }
   ],
   "source": [
    "status, analyze_id = ds.analyze_model(job_id['model_name'], \n",
    "                                      job_name='Darwin_analyze_model_job-' + ts, \n",
    "                                      artifact_name='Darwin_analyze_model_artifact-' + ts)\n",
    "sleep(1)\n",
    "if status:\n",
    "    ds.wait_for_job('Darwin_analyze_model_job-' + ts)\n",
    "else:\n",
    "    print(analyze_id)"
   ]
  },
  {
   "cell_type": "code",
   "execution_count": 54,
   "metadata": {},
   "outputs": [
    {
     "data": {
      "text/plain": [
       "(True,\n",
       " {'status': 'Complete',\n",
       "  'starttime': '2018-10-22T13:25:10.852169',\n",
       "  'endtime': '2018-10-22T13:25:15.167323',\n",
       "  'percent_complete': 100,\n",
       "  'job_type': 'AnalyzeModel',\n",
       "  'loss': None,\n",
       "  'generations': 0,\n",
       "  'dataset_names': None,\n",
       "  'artifact_names': ['Darwin_analyze_model_artifact-20181022132213'],\n",
       "  'model_name': 'model-20181022132213',\n",
       "  'job_error': ''})"
      ]
     },
     "execution_count": 54,
     "metadata": {},
     "output_type": "execute_result"
    }
   ],
   "source": [
    "ds.lookup_job_status_name('Darwin_analyze_model_job-' + ts)"
   ]
  },
  {
   "cell_type": "markdown",
   "metadata": {},
   "source": [
    "Download and print the top 10 features"
   ]
  },
  {
   "cell_type": "code",
   "execution_count": 55,
   "metadata": {},
   "outputs": [
    {
     "data": {
      "text/plain": [
       "skew_profile    0.279141\n",
       "kurt_dmsnr      0.131902\n",
       "std_profile     0.111963\n",
       "skew_dmsnr      0.108896\n",
       "kurt_profile    0.101227\n",
       "std_dmsnr       0.088957\n",
       "mean_dmsnr      0.072086\n",
       "mean_profile    0.062883\n",
       "class = 1       0.042945\n",
       "dtype: float64"
      ]
     },
     "execution_count": 55,
     "metadata": {},
     "output_type": "execute_result"
    }
   ],
   "source": [
    "status, feature_importance = ds.download_artifact('Darwin_analyze_model_artifact-' + ts)\n",
    "feature_importance"
   ]
  },
  {
   "cell_type": "markdown",
   "metadata": {},
   "source": [
    "## Analyze Prediction\n",
    "Different from Analyze Model, the Analyze Prediction provides a way to analyze feature importance for each data point. The output estimates how each feature added or subtracted from a known base-value to result in the overall prediction that was made. <br>\n",
    "**You need to set the path to a dataset which contains all the samples you want to analyze (max rows = 500)**"
   ]
  },
  {
   "cell_type": "code",
   "execution_count": 56,
   "metadata": {},
   "outputs": [
    {
     "name": "stdout",
     "output_type": "stream",
     "text": [
      "True\n",
      "{'dataset_name': 'pulsars_predict'}\n"
     ]
    }
   ],
   "source": [
    "# Upload the data that you are interested in feature importance (max: 500 rows)\n",
    "dataset_name = 'pulsars_predict'\n",
    "path = '../../sets/'\n",
    "status, response = ds.upload_dataset(os.path.join(path, 'pulsars_predict.csv'), dataset_name)\n",
    "print(status)\n",
    "print(response)\n",
    "if status:\n",
    "    dataset_by_row=response['dataset_name']\n",
    "else:\n",
    "    print(\"Upload data failed!\")"
   ]
  },
  {
   "cell_type": "code",
   "execution_count": 57,
   "metadata": {},
   "outputs": [
    {
     "name": "stdout",
     "output_type": "stream",
     "text": [
      "{'status': 'Running', 'starttime': '2018-10-22T13:25:29.111522', 'endtime': None, 'percent_complete': 0, 'job_type': 'AnalyzePredictions', 'loss': None, 'generations': 0, 'dataset_names': None, 'artifact_names': ['Analyze_prediction_artifact-20181022132213'], 'model_name': 'model-20181022132213', 'job_error': ''}\n",
      "{'status': 'Complete', 'starttime': '2018-10-22T13:25:29.111522', 'endtime': '2018-10-22T13:25:34.905241', 'percent_complete': 100, 'job_type': 'AnalyzePredictions', 'loss': None, 'generations': 0, 'dataset_names': None, 'artifact_names': ['Analyze_prediction_artifact-20181022132213'], 'model_name': 'model-20181022132213', 'job_error': ''}\n"
     ]
    }
   ],
   "source": [
    "status, analyze_id = ds.analyze_predictions(job_id['model_name'], \n",
    "                                            'pulsars_predict',\n",
    "                                            job_name='Analyze_prediction_job-' + ts, \n",
    "                                            artifact_name='Analyze_prediction_artifact-' + ts)\n",
    "sleep(1)\n",
    "if status:\n",
    "    ds.wait_for_job('Analyze_prediction_job-' + ts)\n",
    "else:\n",
    "    print(analyze_id)"
   ]
  },
  {
   "cell_type": "code",
   "execution_count": 58,
   "metadata": {},
   "outputs": [
    {
     "data": {
      "text/plain": [
       "(True,\n",
       " {'status': 'Complete',\n",
       "  'starttime': '2018-10-22T13:25:29.111522',\n",
       "  'endtime': '2018-10-22T13:25:34.905241',\n",
       "  'percent_complete': 100,\n",
       "  'job_type': 'AnalyzePredictions',\n",
       "  'loss': None,\n",
       "  'generations': 0,\n",
       "  'dataset_names': None,\n",
       "  'artifact_names': ['Analyze_prediction_artifact-20181022132213'],\n",
       "  'model_name': 'model-20181022132213',\n",
       "  'job_error': ''})"
      ]
     },
     "execution_count": 58,
     "metadata": {},
     "output_type": "execute_result"
    }
   ],
   "source": [
    "ds.lookup_job_status_name('Analyze_prediction_job-' + ts)"
   ]
  },
  {
   "cell_type": "markdown",
   "metadata": {},
   "source": [
    "Download and print the top 10 features"
   ]
  },
  {
   "cell_type": "code",
   "execution_count": 59,
   "metadata": {},
   "outputs": [
    {
     "data": {
      "text/html": [
       "<div>\n",
       "<style scoped>\n",
       "    .dataframe tbody tr th:only-of-type {\n",
       "        vertical-align: middle;\n",
       "    }\n",
       "\n",
       "    .dataframe tbody tr th {\n",
       "        vertical-align: top;\n",
       "    }\n",
       "\n",
       "    .dataframe thead th {\n",
       "        text-align: right;\n",
       "    }\n",
       "</style>\n",
       "<table border=\"1\" class=\"dataframe\">\n",
       "  <thead>\n",
       "    <tr style=\"text-align: right;\">\n",
       "      <th></th>\n",
       "      <th>mean_profile_shap</th>\n",
       "      <th>std_profile_shap</th>\n",
       "      <th>kurt_profile_shap</th>\n",
       "      <th>skew_profile_shap</th>\n",
       "      <th>mean_dmsnr_shap</th>\n",
       "      <th>std_dmsnr_shap</th>\n",
       "      <th>kurt_dmsnr_shap</th>\n",
       "      <th>skew_dmsnr_shap</th>\n",
       "      <th>class = 1_shap</th>\n",
       "      <th>base_value</th>\n",
       "      <th>predicted_proba</th>\n",
       "      <th>predicted_class</th>\n",
       "    </tr>\n",
       "  </thead>\n",
       "  <tbody>\n",
       "    <tr>\n",
       "      <th>0</th>\n",
       "      <td>0.070299</td>\n",
       "      <td>0.102650</td>\n",
       "      <td>0.072198</td>\n",
       "      <td>0.069924</td>\n",
       "      <td>0.007757</td>\n",
       "      <td>0.020696</td>\n",
       "      <td>0.052016</td>\n",
       "      <td>0.056087</td>\n",
       "      <td>0.019862</td>\n",
       "      <td>0.448936</td>\n",
       "      <td>0.719071</td>\n",
       "      <td>0</td>\n",
       "    </tr>\n",
       "    <tr>\n",
       "      <th>1</th>\n",
       "      <td>0.075286</td>\n",
       "      <td>0.115519</td>\n",
       "      <td>0.079864</td>\n",
       "      <td>0.079485</td>\n",
       "      <td>0.014563</td>\n",
       "      <td>0.020417</td>\n",
       "      <td>0.029793</td>\n",
       "      <td>0.027319</td>\n",
       "      <td>0.029671</td>\n",
       "      <td>0.448936</td>\n",
       "      <td>0.846829</td>\n",
       "      <td>0</td>\n",
       "    </tr>\n",
       "    <tr>\n",
       "      <th>2</th>\n",
       "      <td>-0.076678</td>\n",
       "      <td>-0.097932</td>\n",
       "      <td>-0.074503</td>\n",
       "      <td>-0.071541</td>\n",
       "      <td>-0.002461</td>\n",
       "      <td>-0.017659</td>\n",
       "      <td>-0.050975</td>\n",
       "      <td>-0.062609</td>\n",
       "      <td>-0.016513</td>\n",
       "      <td>0.551064</td>\n",
       "      <td>0.808995</td>\n",
       "      <td>1</td>\n",
       "    </tr>\n",
       "    <tr>\n",
       "      <th>3</th>\n",
       "      <td>0.071200</td>\n",
       "      <td>0.125838</td>\n",
       "      <td>0.078611</td>\n",
       "      <td>0.074969</td>\n",
       "      <td>0.019367</td>\n",
       "      <td>0.022947</td>\n",
       "      <td>0.032403</td>\n",
       "      <td>0.015530</td>\n",
       "      <td>0.031386</td>\n",
       "      <td>0.448936</td>\n",
       "      <td>0.923996</td>\n",
       "      <td>0</td>\n",
       "    </tr>\n",
       "    <tr>\n",
       "      <th>4</th>\n",
       "      <td>-0.019629</td>\n",
       "      <td>-0.090178</td>\n",
       "      <td>-0.040499</td>\n",
       "      <td>-0.067282</td>\n",
       "      <td>-0.047057</td>\n",
       "      <td>-0.035739</td>\n",
       "      <td>-0.057256</td>\n",
       "      <td>-0.057172</td>\n",
       "      <td>-0.052410</td>\n",
       "      <td>0.551064</td>\n",
       "      <td>0.947637</td>\n",
       "      <td>1</td>\n",
       "    </tr>\n",
       "  </tbody>\n",
       "</table>\n",
       "</div>"
      ],
      "text/plain": [
       "   mean_profile_shap  std_profile_shap  kurt_profile_shap  skew_profile_shap  \\\n",
       "0           0.070299          0.102650           0.072198           0.069924   \n",
       "1           0.075286          0.115519           0.079864           0.079485   \n",
       "2          -0.076678         -0.097932          -0.074503          -0.071541   \n",
       "3           0.071200          0.125838           0.078611           0.074969   \n",
       "4          -0.019629         -0.090178          -0.040499          -0.067282   \n",
       "\n",
       "   mean_dmsnr_shap  std_dmsnr_shap  kurt_dmsnr_shap  skew_dmsnr_shap  \\\n",
       "0         0.007757        0.020696         0.052016         0.056087   \n",
       "1         0.014563        0.020417         0.029793         0.027319   \n",
       "2        -0.002461       -0.017659        -0.050975        -0.062609   \n",
       "3         0.019367        0.022947         0.032403         0.015530   \n",
       "4        -0.047057       -0.035739        -0.057256        -0.057172   \n",
       "\n",
       "   class = 1_shap  base_value  predicted_proba  predicted_class  \n",
       "0        0.019862    0.448936         0.719071                0  \n",
       "1        0.029671    0.448936         0.846829                0  \n",
       "2       -0.016513    0.551064         0.808995                1  \n",
       "3        0.031386    0.448936         0.923996                0  \n",
       "4       -0.052410    0.551064         0.947637                1  "
      ]
     },
     "execution_count": 59,
     "metadata": {},
     "output_type": "execute_result"
    }
   ],
   "source": [
    "status, feature_importance = ds.download_artifact('Analyze_prediction_artifact-' + ts)\n",
    "feature_importance.head()"
   ]
  },
  {
   "cell_type": "code",
   "execution_count": null,
   "metadata": {},
   "outputs": [],
   "source": []
  }
 ],
 "metadata": {
  "anaconda-cloud": {},
  "kernelspec": {
   "display_name": "Python [default]",
   "language": "python",
   "name": "python3"
  },
  "language_info": {
   "codemirror_mode": {
    "name": "ipython",
    "version": 3
   },
   "file_extension": ".py",
   "mimetype": "text/x-python",
   "name": "python",
   "nbconvert_exporter": "python",
   "pygments_lexer": "ipython3",
   "version": "3.6.6"
  }
 },
 "nbformat": 4,
 "nbformat_minor": 2
}
