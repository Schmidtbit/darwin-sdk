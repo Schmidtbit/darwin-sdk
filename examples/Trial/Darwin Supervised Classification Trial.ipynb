{
 "cells": [
  {
   "cell_type": "markdown",
   "metadata": {},
   "source": [
    "<h1><center>Darwin Supervised Classification Model Building </center></h1>"
   ]
  },
  {
   "cell_type": "markdown",
   "metadata": {},
   "source": [
    "Prior to getting started, there are a few things you want to do:\n",
    "1. Set the dataset path.\n",
    "2. Enter your username and password to ensure that you're able to log in successfully\n",
    "\n",
    "Once you're up and running, here are a few things to be mindful of:\n",
    "1. For every run, look up the job status (i.e. requested, failed, running, completed) and wait for job to complete before proceeding. \n",
    "2. If you're not satisfied with your model and think that Darwin can do better by exploring a larger search space, use the resume function."
   ]
  },
  {
   "cell_type": "markdown",
   "metadata": {},
   "source": [
    "## Import libraries"
   ]
  },
  {
   "cell_type": "code",
   "execution_count": 2,
   "metadata": {
    "scrolled": true
   },
   "outputs": [],
   "source": [
    "# Import necessary libraries\n",
    "import warnings\n",
    "warnings.filterwarnings(\"ignore\", message=\"numpy.dtype size changed\")\n",
    "%matplotlib inline\n",
    "import matplotlib.pyplot as plt\n",
    "import pandas as pd\n",
    "from IPython.display import Image\n",
    "from time import sleep\n",
    "import os\n",
    "import numpy as np\n",
    "from sklearn.metrics import classification_report\n",
    "\n",
    "from amb_sdk.sdk import DarwinSdk"
   ]
  },
  {
   "cell_type": "markdown",
   "metadata": {},
   "source": [
    "## Setup"
   ]
  },
  {
   "cell_type": "markdown",
   "metadata": {},
   "source": [
    "**Login to Darwin**<br>\n",
    "Enter your registered username and password below to login to Darwin."
   ]
  },
  {
   "cell_type": "code",
   "execution_count": 3,
   "metadata": {},
   "outputs": [],
   "source": [
    "# Login\n",
    "ds = DarwinSdk()\n",
    "ds.set_url('https://amb-trial-api.sparkcognition.com/v1/')\n",
    "status, msg = ds.auth_login_user('username', 'password')\n",
    "\n",
    "if not status:\n",
    "    print(msg)"
   ]
  },
  {
   "cell_type": "markdown",
   "metadata": {},
   "source": [
    "**Data Path** <br>\n",
    "In the cell below, set the path to your dataset, the default is Darwin's example datasets"
   ]
  },
  {
   "cell_type": "code",
   "execution_count": 4,
   "metadata": {
    "scrolled": true
   },
   "outputs": [],
   "source": [
    "path = '../../sets/'"
   ]
  },
  {
   "cell_type": "markdown",
   "metadata": {},
   "source": [
    "## Data Upload"
   ]
  },
  {
   "cell_type": "markdown",
   "metadata": {},
   "source": [
    "**Read dataset and view a file snippet**"
   ]
  },
  {
   "cell_type": "markdown",
   "metadata": {},
   "source": [
    "After setting up the dataset path, the next step is to upload the dataset from your local device to the server. <br> In the cell below, you need to specify the dataset_name if you want to use your own data."
   ]
  },
  {
   "cell_type": "code",
   "execution_count": 5,
   "metadata": {},
   "outputs": [
    {
     "data": {
      "text/html": [
       "<div>\n",
       "<style scoped>\n",
       "    .dataframe tbody tr th:only-of-type {\n",
       "        vertical-align: middle;\n",
       "    }\n",
       "\n",
       "    .dataframe tbody tr th {\n",
       "        vertical-align: top;\n",
       "    }\n",
       "\n",
       "    .dataframe thead th {\n",
       "        text-align: right;\n",
       "    }\n",
       "</style>\n",
       "<table border=\"1\" class=\"dataframe\">\n",
       "  <thead>\n",
       "    <tr style=\"text-align: right;\">\n",
       "      <th></th>\n",
       "      <th>Code</th>\n",
       "      <th>Clump Thickness</th>\n",
       "      <th>Uniformity of Cell Size</th>\n",
       "      <th>Uniformity of Cell Shape</th>\n",
       "      <th>Marginal Adhesion</th>\n",
       "      <th>Single Epithelial Cell Size</th>\n",
       "      <th>Bare Nuclei</th>\n",
       "      <th>Bland Chromatin</th>\n",
       "      <th>Normal Nucleoli</th>\n",
       "      <th>Mitoses</th>\n",
       "      <th>Diagnosis</th>\n",
       "    </tr>\n",
       "  </thead>\n",
       "  <tbody>\n",
       "    <tr>\n",
       "      <th>0</th>\n",
       "      <td>1000025</td>\n",
       "      <td>5</td>\n",
       "      <td>1</td>\n",
       "      <td>1</td>\n",
       "      <td>1</td>\n",
       "      <td>2</td>\n",
       "      <td>1</td>\n",
       "      <td>3</td>\n",
       "      <td>1</td>\n",
       "      <td>1</td>\n",
       "      <td>BENIGN</td>\n",
       "    </tr>\n",
       "    <tr>\n",
       "      <th>1</th>\n",
       "      <td>1002945</td>\n",
       "      <td>5</td>\n",
       "      <td>4</td>\n",
       "      <td>4</td>\n",
       "      <td>5</td>\n",
       "      <td>7</td>\n",
       "      <td>10</td>\n",
       "      <td>3</td>\n",
       "      <td>2</td>\n",
       "      <td>1</td>\n",
       "      <td>BENIGN</td>\n",
       "    </tr>\n",
       "    <tr>\n",
       "      <th>2</th>\n",
       "      <td>1015425</td>\n",
       "      <td>3</td>\n",
       "      <td>1</td>\n",
       "      <td>1</td>\n",
       "      <td>1</td>\n",
       "      <td>2</td>\n",
       "      <td>2</td>\n",
       "      <td>3</td>\n",
       "      <td>1</td>\n",
       "      <td>1</td>\n",
       "      <td>BENIGN</td>\n",
       "    </tr>\n",
       "    <tr>\n",
       "      <th>3</th>\n",
       "      <td>1016277</td>\n",
       "      <td>6</td>\n",
       "      <td>8</td>\n",
       "      <td>8</td>\n",
       "      <td>1</td>\n",
       "      <td>3</td>\n",
       "      <td>4</td>\n",
       "      <td>3</td>\n",
       "      <td>7</td>\n",
       "      <td>1</td>\n",
       "      <td>BENIGN</td>\n",
       "    </tr>\n",
       "    <tr>\n",
       "      <th>4</th>\n",
       "      <td>1017023</td>\n",
       "      <td>4</td>\n",
       "      <td>1</td>\n",
       "      <td>1</td>\n",
       "      <td>3</td>\n",
       "      <td>2</td>\n",
       "      <td>1</td>\n",
       "      <td>3</td>\n",
       "      <td>1</td>\n",
       "      <td>1</td>\n",
       "      <td>BENIGN</td>\n",
       "    </tr>\n",
       "  </tbody>\n",
       "</table>\n",
       "</div>"
      ],
      "text/plain": [
       "      Code   Clump Thickness   Uniformity of Cell Size  \\\n",
       "0  1000025                 5                         1   \n",
       "1  1002945                 5                         4   \n",
       "2  1015425                 3                         1   \n",
       "3  1016277                 6                         8   \n",
       "4  1017023                 4                         1   \n",
       "\n",
       "    Uniformity of Cell Shape   Marginal Adhesion  \\\n",
       "0                          1                   1   \n",
       "1                          4                   5   \n",
       "2                          1                   1   \n",
       "3                          8                   1   \n",
       "4                          1                   3   \n",
       "\n",
       "    Single Epithelial Cell Size   Bare Nuclei   Bland Chromatin  \\\n",
       "0                             2             1                 3   \n",
       "1                             7            10                 3   \n",
       "2                             2             2                 3   \n",
       "3                             3             4                 3   \n",
       "4                             2             1                 3   \n",
       "\n",
       "    Normal Nucleoli   Mitoses Diagnosis  \n",
       "0                 1         1    BENIGN  \n",
       "1                 2         1    BENIGN  \n",
       "2                 1         1    BENIGN  \n",
       "3                 7         1    BENIGN  \n",
       "4                 1         1    BENIGN  "
      ]
     },
     "execution_count": 5,
     "metadata": {},
     "output_type": "execute_result"
    }
   ],
   "source": [
    "dataset_name = 'cancer_train.csv'\n",
    "df = pd.read_csv(os.path.join(path, dataset_name))\n",
    "df.head()"
   ]
  },
  {
   "cell_type": "markdown",
   "metadata": {},
   "source": [
    "**Upload dataset to Darwin**"
   ]
  },
  {
   "cell_type": "code",
   "execution_count": null,
   "metadata": {
    "scrolled": true
   },
   "outputs": [],
   "source": [
    "# Upload dataset\n",
    "status, dataset = ds.upload_dataset(os.path.join(path, dataset_name))\n",
    "if not status:\n",
    "    print(dataset)"
   ]
  },
  {
   "cell_type": "markdown",
   "metadata": {},
   "source": [
    "## Create and Train Model "
   ]
  },
  {
   "cell_type": "markdown",
   "metadata": {},
   "source": [
    "We will now build a model that will learn the class labels in the target column.<br> In the default cancer dataset, the target column is \"Diagnosis\". <br> You will have to specify your own target name for your custom dataset. <br> You can also increase max_train_time for longer training.\n"
   ]
  },
  {
   "cell_type": "code",
   "execution_count": 7,
   "metadata": {
    "scrolled": false
   },
   "outputs": [
    {
     "name": "stdout",
     "output_type": "stream",
     "text": [
      "{'status': 'Taken', 'starttime': '2018-10-22T14:40:48.659041', 'endtime': None, 'percent_complete': 0, 'job_type': 'TrainModel', 'loss': None, 'generations': 0, 'dataset_names': ['cancer_train.csv'], 'artifact_names': None, 'model_name': 'Diagnosis_model0', 'job_error': None}\n",
      "{'status': 'Running', 'starttime': '2018-10-22T14:40:48.659041', 'endtime': None, 'percent_complete': 8, 'job_type': 'TrainModel', 'loss': 0.41640815138816833, 'generations': 7, 'dataset_names': ['cancer_train.csv'], 'artifact_names': None, 'model_name': 'Diagnosis_model0', 'job_error': ''}\n",
      "{'status': 'Running', 'starttime': '2018-10-22T14:40:48.659041', 'endtime': None, 'percent_complete': 20, 'job_type': 'TrainModel', 'loss': 0.41640815138816833, 'generations': 10, 'dataset_names': ['cancer_train.csv'], 'artifact_names': None, 'model_name': 'Diagnosis_model0', 'job_error': ''}\n",
      "{'status': 'Running', 'starttime': '2018-10-22T14:40:48.659041', 'endtime': None, 'percent_complete': 29, 'job_type': 'TrainModel', 'loss': 0.14748258888721466, 'generations': 12, 'dataset_names': ['cancer_train.csv'], 'artifact_names': None, 'model_name': 'Diagnosis_model0', 'job_error': ''}\n",
      "{'status': 'Running', 'starttime': '2018-10-22T14:40:48.659041', 'endtime': None, 'percent_complete': 44, 'job_type': 'TrainModel', 'loss': 0.14748258888721466, 'generations': 15, 'dataset_names': ['cancer_train.csv'], 'artifact_names': None, 'model_name': 'Diagnosis_model0', 'job_error': ''}\n",
      "{'status': 'Running', 'starttime': '2018-10-22T14:40:48.659041', 'endtime': None, 'percent_complete': 54, 'job_type': 'TrainModel', 'loss': 0.1383093297481537, 'generations': 17, 'dataset_names': ['cancer_train.csv'], 'artifact_names': None, 'model_name': 'Diagnosis_model0', 'job_error': ''}\n",
      "{'status': 'Running', 'starttime': '2018-10-22T14:40:48.659041', 'endtime': None, 'percent_complete': 64, 'job_type': 'TrainModel', 'loss': 0.1383093297481537, 'generations': 19, 'dataset_names': ['cancer_train.csv'], 'artifact_names': None, 'model_name': 'Diagnosis_model0', 'job_error': ''}\n",
      "{'status': 'Running', 'starttime': '2018-10-22T14:40:48.659041', 'endtime': None, 'percent_complete': 75, 'job_type': 'TrainModel', 'loss': 0.13609464466571808, 'generations': 21, 'dataset_names': ['cancer_train.csv'], 'artifact_names': None, 'model_name': 'Diagnosis_model0', 'job_error': ''}\n",
      "{'status': 'Running', 'starttime': '2018-10-22T14:40:48.659041', 'endtime': None, 'percent_complete': 89, 'job_type': 'TrainModel', 'loss': 0.1206773892045021, 'generations': 24, 'dataset_names': ['cancer_train.csv'], 'artifact_names': None, 'model_name': 'Diagnosis_model0', 'job_error': ''}\n",
      "{'status': 'Complete', 'starttime': '2018-10-22T14:40:48.659041', 'endtime': '2018-10-22T14:43:00.097347', 'percent_complete': 100, 'job_type': 'TrainModel', 'loss': 0.1206773892045021, 'generations': 25, 'dataset_names': ['cancer_train.csv'], 'artifact_names': None, 'model_name': 'Diagnosis_model0', 'job_error': ''}\n"
     ]
    }
   ],
   "source": [
    "target = \"Diagnosis\"\n",
    "model = target + \"_model0\"\n",
    "status, job_id = ds.create_model(dataset_names = dataset_name, \\\n",
    "                                 target = target, \\\n",
    "                                 model_name =  model, \\\n",
    "                                 max_train_time = '00:02')\n",
    "if status:\n",
    "    ds.wait_for_job(job_id['job_name'])\n",
    "else:\n",
    "    print(job_id)"
   ]
  },
  {
   "cell_type": "markdown",
   "metadata": {},
   "source": [
    "## Extra Training (Optional)\n",
    "Run the following cell for extra training, no need to specify parameters"
   ]
  },
  {
   "cell_type": "code",
   "execution_count": 8,
   "metadata": {},
   "outputs": [
    {
     "name": "stdout",
     "output_type": "stream",
     "text": [
      "{'status': 'Taken', 'starttime': '2018-10-22T14:43:05.355741', 'endtime': None, 'percent_complete': 0, 'job_type': 'UpdateModel', 'loss': 0.1206773892045021, 'generations': 25, 'dataset_names': ['cancer_train.csv'], 'artifact_names': None, 'model_name': 'Diagnosis_model0', 'job_error': None}\n",
      "{'status': 'Running', 'starttime': '2018-10-22T14:43:05.355741', 'endtime': None, 'percent_complete': 2, 'job_type': 'UpdateModel', 'loss': 0.1206773892045021, 'generations': 34, 'dataset_names': ['cancer_train.csv'], 'artifact_names': None, 'model_name': 'Diagnosis_model0', 'job_error': ''}\n",
      "{'status': 'Running', 'starttime': '2018-10-22T14:43:05.355741', 'endtime': None, 'percent_complete': 6, 'job_type': 'UpdateModel', 'loss': 0.1206773892045021, 'generations': 36, 'dataset_names': ['cancer_train.csv'], 'artifact_names': None, 'model_name': 'Diagnosis_model0', 'job_error': ''}\n",
      "{'status': 'Running', 'starttime': '2018-10-22T14:43:05.355741', 'endtime': None, 'percent_complete': 11, 'job_type': 'UpdateModel', 'loss': 0.1206773892045021, 'generations': 39, 'dataset_names': ['cancer_train.csv'], 'artifact_names': None, 'model_name': 'Diagnosis_model0', 'job_error': ''}\n",
      "{'status': 'Running', 'starttime': '2018-10-22T14:43:05.355741', 'endtime': None, 'percent_complete': 16, 'job_type': 'UpdateModel', 'loss': 0.1206773892045021, 'generations': 42, 'dataset_names': ['cancer_train.csv'], 'artifact_names': None, 'model_name': 'Diagnosis_model0', 'job_error': ''}\n",
      "{'status': 'Running', 'starttime': '2018-10-22T14:43:05.355741', 'endtime': None, 'percent_complete': 21, 'job_type': 'UpdateModel', 'loss': 0.1206773892045021, 'generations': 45, 'dataset_names': ['cancer_train.csv'], 'artifact_names': None, 'model_name': 'Diagnosis_model0', 'job_error': ''}\n",
      "{'status': 'Running', 'starttime': '2018-10-22T14:43:05.355741', 'endtime': None, 'percent_complete': 27, 'job_type': 'UpdateModel', 'loss': 0.11580821871757507, 'generations': 48, 'dataset_names': ['cancer_train.csv'], 'artifact_names': None, 'model_name': 'Diagnosis_model0', 'job_error': ''}\n",
      "{'status': 'Running', 'starttime': '2018-10-22T14:43:05.355741', 'endtime': None, 'percent_complete': 31, 'job_type': 'UpdateModel', 'loss': 0.11580821871757507, 'generations': 50, 'dataset_names': ['cancer_train.csv'], 'artifact_names': None, 'model_name': 'Diagnosis_model0', 'job_error': ''}\n",
      "{'status': 'Running', 'starttime': '2018-10-22T14:43:05.355741', 'endtime': None, 'percent_complete': 36, 'job_type': 'UpdateModel', 'loss': 0.11580821871757507, 'generations': 53, 'dataset_names': ['cancer_train.csv'], 'artifact_names': None, 'model_name': 'Diagnosis_model0', 'job_error': ''}\n",
      "{'status': 'Running', 'starttime': '2018-10-22T14:43:05.355741', 'endtime': None, 'percent_complete': 41, 'job_type': 'UpdateModel', 'loss': 0.11580821871757507, 'generations': 56, 'dataset_names': ['cancer_train.csv'], 'artifact_names': None, 'model_name': 'Diagnosis_model0', 'job_error': ''}\n",
      "{'status': 'Running', 'starttime': '2018-10-22T14:43:05.355741', 'endtime': None, 'percent_complete': 45, 'job_type': 'UpdateModel', 'loss': 0.11580821871757507, 'generations': 58, 'dataset_names': ['cancer_train.csv'], 'artifact_names': None, 'model_name': 'Diagnosis_model0', 'job_error': ''}\n",
      "{'status': 'Running', 'starttime': '2018-10-22T14:43:05.355741', 'endtime': None, 'percent_complete': 52, 'job_type': 'UpdateModel', 'loss': 0.11580821871757507, 'generations': 61, 'dataset_names': ['cancer_train.csv'], 'artifact_names': None, 'model_name': 'Diagnosis_model0', 'job_error': ''}\n",
      "{'status': 'Running', 'starttime': '2018-10-22T14:43:05.355741', 'endtime': None, 'percent_complete': 56, 'job_type': 'UpdateModel', 'loss': 0.11580821871757507, 'generations': 63, 'dataset_names': ['cancer_train.csv'], 'artifact_names': None, 'model_name': 'Diagnosis_model0', 'job_error': ''}\n",
      "{'status': 'Running', 'starttime': '2018-10-22T14:43:05.355741', 'endtime': None, 'percent_complete': 60, 'job_type': 'UpdateModel', 'loss': 0.11580821871757507, 'generations': 65, 'dataset_names': ['cancer_train.csv'], 'artifact_names': None, 'model_name': 'Diagnosis_model0', 'job_error': ''}\n",
      "{'status': 'Running', 'starttime': '2018-10-22T14:43:05.355741', 'endtime': None, 'percent_complete': 66, 'job_type': 'UpdateModel', 'loss': 0.11510848999023438, 'generations': 68, 'dataset_names': ['cancer_train.csv'], 'artifact_names': None, 'model_name': 'Diagnosis_model0', 'job_error': ''}\n",
      "{'status': 'Running', 'starttime': '2018-10-22T14:43:05.355741', 'endtime': None, 'percent_complete': 70, 'job_type': 'UpdateModel', 'loss': 0.11510848999023438, 'generations': 70, 'dataset_names': ['cancer_train.csv'], 'artifact_names': None, 'model_name': 'Diagnosis_model0', 'job_error': ''}\n",
      "{'status': 'Running', 'starttime': '2018-10-22T14:43:05.355741', 'endtime': None, 'percent_complete': 75, 'job_type': 'UpdateModel', 'loss': 0.11510848999023438, 'generations': 72, 'dataset_names': ['cancer_train.csv'], 'artifact_names': None, 'model_name': 'Diagnosis_model0', 'job_error': ''}\n",
      "{'status': 'Running', 'starttime': '2018-10-22T14:43:05.355741', 'endtime': None, 'percent_complete': 78, 'job_type': 'UpdateModel', 'loss': 0.11510848999023438, 'generations': 74, 'dataset_names': ['cancer_train.csv'], 'artifact_names': None, 'model_name': 'Diagnosis_model0', 'job_error': ''}\n",
      "{'status': 'Running', 'starttime': '2018-10-22T14:43:05.355741', 'endtime': None, 'percent_complete': 86, 'job_type': 'UpdateModel', 'loss': 0.11497455090284348, 'generations': 77, 'dataset_names': ['cancer_train.csv'], 'artifact_names': None, 'model_name': 'Diagnosis_model0', 'job_error': ''}\n",
      "{'status': 'Running', 'starttime': '2018-10-22T14:43:05.355741', 'endtime': None, 'percent_complete': 89, 'job_type': 'UpdateModel', 'loss': 0.11497455090284348, 'generations': 79, 'dataset_names': ['cancer_train.csv'], 'artifact_names': None, 'model_name': 'Diagnosis_model0', 'job_error': ''}\n",
      "{'status': 'Running', 'starttime': '2018-10-22T14:43:05.355741', 'endtime': None, 'percent_complete': 96, 'job_type': 'UpdateModel', 'loss': 0.11497455090284348, 'generations': 82, 'dataset_names': ['cancer_train.csv'], 'artifact_names': None, 'model_name': 'Diagnosis_model0', 'job_error': ''}\n",
      "{'status': 'Complete', 'starttime': '2018-10-22T14:43:05.355741', 'endtime': '2018-10-22T14:48:20.374033', 'percent_complete': 100, 'job_type': 'UpdateModel', 'loss': 0.11497455090284348, 'generations': 82, 'dataset_names': ['cancer_train.csv'], 'artifact_names': None, 'model_name': 'Diagnosis_model0', 'job_error': ''}\n"
     ]
    }
   ],
   "source": [
    "# Train some more\n",
    "status, job_id = ds.resume_training_model(dataset_names = dataset_name,\n",
    "                                          model_name = model,\n",
    "                                          max_train_time = '00:05')\n",
    "                                          \n",
    "if status:\n",
    "    ds.wait_for_job(job_id['job_name'])\n",
    "else:\n",
    "    print(job_id)"
   ]
  },
  {
   "cell_type": "markdown",
   "metadata": {},
   "source": [
    "## Analyze Model\n",
    "Analyze model provides feature importance ranked by the model. <br> It indicates a general view of which features pose a bigger impact on the model"
   ]
  },
  {
   "cell_type": "code",
   "execution_count": 9,
   "metadata": {
    "scrolled": true
   },
   "outputs": [
    {
     "name": "stdout",
     "output_type": "stream",
     "text": [
      "{'status': 'Running', 'starttime': '2018-10-22T14:48:22.87383', 'endtime': None, 'percent_complete': 0, 'job_type': 'AnalyzeModel', 'loss': 0.11497455090284348, 'generations': 82, 'dataset_names': None, 'artifact_names': ['30fb8e6f087b414da68ec39cf594f2e0'], 'model_name': 'Diagnosis_model0', 'job_error': ''}\n",
      "{'status': 'Complete', 'starttime': '2018-10-22T14:48:22.87383', 'endtime': '2018-10-22T14:48:24.324178', 'percent_complete': 100, 'job_type': 'AnalyzeModel', 'loss': 0.11497455090284348, 'generations': 82, 'dataset_names': None, 'artifact_names': ['30fb8e6f087b414da68ec39cf594f2e0'], 'model_name': 'Diagnosis_model0', 'job_error': ''}\n"
     ]
    }
   ],
   "source": [
    "# Retrieve feature importance of built model\n",
    "status, artifact = ds.analyze_model(model)\n",
    "sleep(1)\n",
    "if status:\n",
    "    ds.wait_for_job(artifact['job_name'])\n",
    "else:\n",
    "    print(artifact)\n",
    "status, feature_importance = ds.download_artifact(artifact['artifact_name'])"
   ]
  },
  {
   "cell_type": "markdown",
   "metadata": {},
   "source": [
    "Show the 10 most important features of the model."
   ]
  },
  {
   "cell_type": "code",
   "execution_count": 10,
   "metadata": {},
   "outputs": [
    {
     "data": {
      "text/plain": [
       " Single Epithelial Cell Size = 2    0.122353\n",
       "Code                                0.087059\n",
       " Bare Nuclei = 1                    0.087059\n",
       " Clump Thickness = 10               0.058824\n",
       " Bare Nuclei = 10                   0.047059\n",
       " Bland Chromatin = 2                0.047059\n",
       " Uniformity of Cell Shape = 4       0.044706\n",
       " Uniformity of Cell Size = 10       0.042353\n",
       " Clump Thickness = 8                0.037647\n",
       " Marginal Adhesion = 4              0.032941\n",
       "dtype: float64"
      ]
     },
     "execution_count": 10,
     "metadata": {},
     "output_type": "execute_result"
    }
   ],
   "source": [
    "feature_importance[:10]"
   ]
  },
  {
   "cell_type": "markdown",
   "metadata": {},
   "source": [
    "## Predictions\n",
    "**Perform model prediction on the the training dataset.**"
   ]
  },
  {
   "cell_type": "code",
   "execution_count": 11,
   "metadata": {
    "scrolled": true
   },
   "outputs": [
    {
     "name": "stdout",
     "output_type": "stream",
     "text": [
      "{'status': 'Running', 'starttime': '2018-10-22T14:48:40.588206', 'endtime': None, 'percent_complete': 0, 'job_type': 'RunModel', 'loss': 0.11497455090284348, 'generations': 82, 'dataset_names': ['cancer_train.csv'], 'artifact_names': ['65b425c8a63548bf81c2359bd2ebc794'], 'model_name': 'Diagnosis_model0', 'job_error': ''}\n",
      "{'status': 'Complete', 'starttime': '2018-10-22T14:48:40.588206', 'endtime': '2018-10-22T14:48:41.876886', 'percent_complete': 100, 'job_type': 'RunModel', 'loss': 0.11497455090284348, 'generations': 82, 'dataset_names': ['cancer_train.csv'], 'artifact_names': ['65b425c8a63548bf81c2359bd2ebc794'], 'model_name': 'Diagnosis_model0', 'job_error': ''}\n"
     ]
    },
    {
     "data": {
      "text/plain": [
       "(True, 'Job completed')"
      ]
     },
     "execution_count": 11,
     "metadata": {},
     "output_type": "execute_result"
    }
   ],
   "source": [
    "status, artifact = ds.run_model(dataset_name, model)\n",
    "sleep(1)\n",
    "ds.wait_for_job(artifact['job_name'])"
   ]
  },
  {
   "cell_type": "markdown",
   "metadata": {},
   "source": [
    "Download predictions from Darwin's server."
   ]
  },
  {
   "cell_type": "code",
   "execution_count": 12,
   "metadata": {
    "scrolled": true
   },
   "outputs": [
    {
     "data": {
      "text/html": [
       "<div>\n",
       "<style scoped>\n",
       "    .dataframe tbody tr th:only-of-type {\n",
       "        vertical-align: middle;\n",
       "    }\n",
       "\n",
       "    .dataframe tbody tr th {\n",
       "        vertical-align: top;\n",
       "    }\n",
       "\n",
       "    .dataframe thead th {\n",
       "        text-align: right;\n",
       "    }\n",
       "</style>\n",
       "<table border=\"1\" class=\"dataframe\">\n",
       "  <thead>\n",
       "    <tr style=\"text-align: right;\">\n",
       "      <th></th>\n",
       "      <th>Diagnosis</th>\n",
       "      <th>prob_BENIGN</th>\n",
       "      <th>prob_MALIGNANT</th>\n",
       "    </tr>\n",
       "  </thead>\n",
       "  <tbody>\n",
       "    <tr>\n",
       "      <th>0</th>\n",
       "      <td>BENIGN</td>\n",
       "      <td>0.999826</td>\n",
       "      <td>0.000174</td>\n",
       "    </tr>\n",
       "    <tr>\n",
       "      <th>1</th>\n",
       "      <td>MALIGNANT</td>\n",
       "      <td>0.075809</td>\n",
       "      <td>0.924191</td>\n",
       "    </tr>\n",
       "    <tr>\n",
       "      <th>2</th>\n",
       "      <td>BENIGN</td>\n",
       "      <td>0.999826</td>\n",
       "      <td>0.000174</td>\n",
       "    </tr>\n",
       "    <tr>\n",
       "      <th>3</th>\n",
       "      <td>MALIGNANT</td>\n",
       "      <td>0.075805</td>\n",
       "      <td>0.924195</td>\n",
       "    </tr>\n",
       "    <tr>\n",
       "      <th>4</th>\n",
       "      <td>BENIGN</td>\n",
       "      <td>0.999826</td>\n",
       "      <td>0.000174</td>\n",
       "    </tr>\n",
       "  </tbody>\n",
       "</table>\n",
       "</div>"
      ],
      "text/plain": [
       "   Diagnosis  prob_BENIGN  prob_MALIGNANT\n",
       "0     BENIGN     0.999826        0.000174\n",
       "1  MALIGNANT     0.075809        0.924191\n",
       "2     BENIGN     0.999826        0.000174\n",
       "3  MALIGNANT     0.075805        0.924195\n",
       "4     BENIGN     0.999826        0.000174"
      ]
     },
     "execution_count": 12,
     "metadata": {},
     "output_type": "execute_result"
    }
   ],
   "source": [
    "status, prediction = ds.download_artifact(artifact['artifact_name'])\n",
    "prediction.head()"
   ]
  },
  {
   "cell_type": "markdown",
   "metadata": {},
   "source": [
    "Create plots comparing predictions with actual target"
   ]
  },
  {
   "cell_type": "code",
   "execution_count": 13,
   "metadata": {
    "scrolled": true
   },
   "outputs": [
    {
     "name": "stdout",
     "output_type": "stream",
     "text": [
      "              precision    recall  f1-score   support\n",
      "\n",
      "      BENIGN       1.00      0.97      0.98       379\n",
      "   MALIGNANT       0.95      1.00      0.97       220\n",
      "\n",
      "   micro avg       0.98      0.98      0.98       599\n",
      "   macro avg       0.97      0.98      0.98       599\n",
      "weighted avg       0.98      0.98      0.98       599\n",
      "\n"
     ]
    },
    {
     "data": {
      "image/png": "[encoded data removed]",
      "text/plain": [
       "<Figure size 432x288 with 1 Axes>"
      ]
     },
     "metadata": {
      "needs_background": "light"
     },
     "output_type": "display_data"
    }
   ],
   "source": [
    "unq = prediction[target].unique()[::-1]\n",
    "p = np.zeros((len(prediction),))\n",
    "a = np.zeros((len(prediction),))\n",
    "for i,q in enumerate(unq):\n",
    "    p += i*(prediction[target] == q).values\n",
    "    a += i*(df[target] == q).values\n",
    "#Plot predictions vs actual\n",
    "plt.plot(a)\n",
    "plt.plot(p)\n",
    "plt.legend(['Actual','Predicted'])\n",
    "plt.yticks([i for i in range(len(unq))],[q for q in unq]);\n",
    "print(classification_report(df[target], prediction[target]))"
   ]
  },
  {
   "cell_type": "markdown",
   "metadata": {},
   "source": [
    "**Perform model prediction on a test dataset that wasn't used in training.** <br>\n",
    "Upload test dataset"
   ]
  },
  {
   "cell_type": "code",
   "execution_count": null,
   "metadata": {
    "scrolled": true
   },
   "outputs": [],
   "source": [
    "test_data = 'cancer_test.csv'\n",
    "status, dataset = ds.upload_dataset(os.path.join(path, test_data))\n",
    "if not status:\n",
    "    print(dataset)"
   ]
  },
  {
   "cell_type": "markdown",
   "metadata": {},
   "source": [
    "Run model on test dataset."
   ]
  },
  {
   "cell_type": "code",
   "execution_count": 15,
   "metadata": {
    "scrolled": true
   },
   "outputs": [
    {
     "name": "stdout",
     "output_type": "stream",
     "text": [
      "{'status': 'Running', 'starttime': '2018-10-22T14:48:58.487502', 'endtime': None, 'percent_complete': 0, 'job_type': 'RunModel', 'loss': 0.11497455090284348, 'generations': 82, 'dataset_names': ['cancer_test.csv'], 'artifact_names': ['93ef5f506fd040538e96754ba5128a67'], 'model_name': 'Diagnosis_model0', 'job_error': ''}\n",
      "{'status': 'Complete', 'starttime': '2018-10-22T14:48:58.487502', 'endtime': '2018-10-22T14:49:00.46879', 'percent_complete': 100, 'job_type': 'RunModel', 'loss': 0.11497455090284348, 'generations': 82, 'dataset_names': ['cancer_test.csv'], 'artifact_names': ['93ef5f506fd040538e96754ba5128a67'], 'model_name': 'Diagnosis_model0', 'job_error': ''}\n"
     ]
    },
    {
     "data": {
      "text/plain": [
       "(True, 'Job completed')"
      ]
     },
     "execution_count": 15,
     "metadata": {},
     "output_type": "execute_result"
    }
   ],
   "source": [
    "status, artifact = ds.run_model(test_data, model)\n",
    "sleep(1)\n",
    "ds.wait_for_job(artifact['job_name'])"
   ]
  },
  {
   "cell_type": "markdown",
   "metadata": {},
   "source": [
    "Create plots comparing predictions with actual target"
   ]
  },
  {
   "cell_type": "code",
   "execution_count": 16,
   "metadata": {},
   "outputs": [
    {
     "name": "stdout",
     "output_type": "stream",
     "text": [
      "              precision    recall  f1-score   support\n",
      "\n",
      "      BENIGN       1.00      0.96      0.98        79\n",
      "   MALIGNANT       0.88      1.00      0.93        21\n",
      "\n",
      "   micro avg       0.97      0.97      0.97       100\n",
      "   macro avg       0.94      0.98      0.96       100\n",
      "weighted avg       0.97      0.97      0.97       100\n",
      "\n"
     ]
    },
    {
     "data": {
      "image/png": "[encoded data removed]",
      "text/plain": [
       "<Figure size 432x288 with 1 Axes>"
      ]
     },
     "metadata": {
      "needs_background": "light"
     },
     "output_type": "display_data"
    }
   ],
   "source": [
    "# Create plots comparing predictions with actual target\n",
    "status, prediction = ds.download_artifact(artifact['artifact_name'])\n",
    "df = pd.read_csv(os.path.join(path,test_data))\n",
    "unq = prediction[target].unique()[::-1]\n",
    "p = np.zeros((len(prediction),))\n",
    "a = np.zeros((len(prediction),))\n",
    "for i,q in enumerate(unq):\n",
    "    p += i*(prediction[target] == q).values\n",
    "    a += i*(df[target] == q).values\n",
    "#Plot predictions vs actual\n",
    "plt.plot(a)\n",
    "plt.plot(p)\n",
    "plt.legend(['Actual','Predicted'])\n",
    "plt.yticks([i for i in range(len(unq))],[q for q in unq]);\n",
    "print(classification_report(df[target], prediction[target]))"
   ]
  },
  {
   "cell_type": "markdown",
   "metadata": {},
   "source": [
    "## Find out which machine learning model did Darwin use:"
   ]
  },
  {
   "cell_type": "code",
   "execution_count": 17,
   "metadata": {},
   "outputs": [
    {
     "name": "stdout",
     "output_type": "stream",
     "text": [
      "layer 1: Linear(in_features=82, out_features=22, bias=True, dropout=0.50, activation=gauss)\n",
      "layer 2: Linear(in_features=22, out_features=76, bias=True, dropout=0.50, activation=sigmoid)\n",
      "layer 3: Linear(in_features=76, out_features=155, bias=True, dropout=0.50, activation=sigmoid)\n",
      "layer 4: Linear(in_features=155, out_features=100, bias=True, dropout=0.50, activation=sigmoid)\n",
      "layer 5: Linear(in_features=100, out_features=43, bias=True, dropout=0.50, activation=tanh)\n",
      "layer 6: Linear(in_features=43, out_features=95, bias=True, dropout=0.50, activation=tanh)\n",
      "layer 7: Linear(in_features=95, out_features=114, bias=True, dropout=0.50, activation=relu)\n",
      "layer 8: Linear(in_features=114, out_features=93, bias=True, dropout=0.50, activation=gauss)\n",
      "layer 9: Linear(in_features=93, out_features=81, bias=True, dropout=0.50, activation=relu)\n",
      "layer 10: Linear(in_features=81, out_features=79, bias=True, dropout=0.50, activation=relu)\n",
      "layer 11: Linear(in_features=79, out_features=76, bias=True, dropout=0.50, activation=identity)\n",
      "layer 12: Linear(in_features=76, out_features=2, bias=True, dropout=0.50, activation=identity)\n"
     ]
    }
   ],
   "source": [
    "status, model_type = ds.lookup_model_name(model)\n",
    "print(model_type['description']['best_genome'])"
   ]
  }
 ],
 "metadata": {
  "anaconda-cloud": {},
  "kernelspec": {
   "display_name": "Python [default]",
   "language": "python",
   "name": "python3"
  },
  "language_info": {
   "codemirror_mode": {
    "name": "ipython",
    "version": 3
   },
   "file_extension": ".py",
   "mimetype": "text/x-python",
   "name": "python",
   "nbconvert_exporter": "python",
   "pygments_lexer": "ipython3",
   "version": "3.6.6"
  }
 },
 "nbformat": 4,
 "nbformat_minor": 2
}
